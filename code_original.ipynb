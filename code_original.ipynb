{
 "cells": [
  {
   "cell_type": "code",
   "execution_count": 229,
   "metadata": {},
   "outputs": [],
   "source": [
    "import random\n",
    "import numpy as np\n",
    "import matplotlib.pyplot as plt\n",
    "import time\n",
    "import math\n",
    "import psutil\n",
    "import jdc\n",
    "from tqdm import tqdm\n",
    "np.warnings.filterwarnings('ignore', category=np.VisibleDeprecationWarning)        "
   ]
  },
  {
   "cell_type": "markdown",
   "metadata": {},
   "source": [
    "## Parameter"
   ]
  },
  {
   "cell_type": "code",
   "execution_count": 230,
   "metadata": {},
   "outputs": [],
   "source": [
    "class r0733300:\n",
    "    def __init__(self):\n",
    "        self.LAMBDA = 100  # Lambda represents the size of population\n",
    "        self.MU = 100 # Mu represents the size of offsprings\n",
    "        self.distanceMatrix = []  # distanceMatrix saves the cost between each two places\n",
    "        self.K_TOURNAMENT_SIZE = 3  # this is the size of selection\n",
    "        self.K_TOURNAMENT_SIZE_elimination = 10  # this is the size of selection\n",
    "        self.alpha = 0.05  # alpha is the mutation rate\n",
    "        self.iteration = 0  # iteration number\n",
    "        self.converge = 0.018  # difference between mean and best evalue. If (mean- best)/best < converge, it converges.\n",
    "        self.rank = 50\n",
    "        self.rank_list = []\n",
    "        self.s = 0.99999\n",
    "        self.lsp_size = 1\n",
    "        self.selectiveIni = 50\n",
    "        self.alphaDiversity = 0.2\n",
    "        self.K_TOURNAMENT_Size_Diversify = 3\n",
    "        self.K_TOURNAMENT_SIZE_elimination_Diversify = 3\n",
    "        self.LAMBDA_Diversify = 100\n",
    "        self.selective_Diversify = 50\n",
    "        self.EliteNumber = 3"
   ]
  },
  {
   "cell_type": "markdown",
   "metadata": {},
   "source": [
    "## Initialization\n",
    "###  Random Initialization"
   ]
  },
  {
   "cell_type": "code",
   "execution_count": 231,
   "metadata": {},
   "outputs": [],
   "source": [
    "class r0733300(r0733300):\n",
    "    def initialize(self, matrix, lamda):\n",
    "        print(random)\n",
    "        initialization = []\n",
    "        n = len(matrix)\n",
    "        for i in range(0, lamda):  # generate population of LAMBDA\n",
    "            candidate = np.random.permutation(n)\n",
    "            candidate2 = np.ndarray.tolist(candidate)\n",
    "            initialization.append([candidate2, self.calculate_distance(candidate2 ,self.distanceMatrix)])\n",
    "            \n",
    "        return initialization\n"
   ]
  },
  {
   "cell_type": "markdown",
   "metadata": {},
   "source": [
    "### Selective Initialization"
   ]
  },
  {
   "cell_type": "code",
   "execution_count": 232,
   "metadata": {},
   "outputs": [],
   "source": [
    "from typing import DefaultDict\n",
    "import random\n",
    "class r0733300(r0733300):\n",
    "    def selectiveInialization(self, k):\n",
    "        cost = 0\n",
    "        cityNumber = len(self.distanceMatrix)\n",
    "        route = [0] * cityNumber\n",
    "        unvisited = np.arange(cityNumber)\n",
    "        front = random.randrange(0, cityNumber)\n",
    "        # front = 0\n",
    "        route[0] = front\n",
    "        unvisited = np.delete(unvisited, front)\n",
    "        counter = 1\n",
    "        while(len(unvisited) > 0):\n",
    "            # print(len(unvisited))\n",
    "            distance = self.distanceMatrix[front]\n",
    "            distance = np.argsort(distance)\n",
    "            candidates = distance[1:1+k]\n",
    "            \n",
    "            candidates_unvisited = []\n",
    "            for i in candidates:\n",
    "                if i in unvisited:\n",
    "                    candidates_unvisited.append(i)\n",
    "\n",
    "\n",
    "            if(len(candidates_unvisited) != 0):\n",
    "                next = candidates_unvisited[random.randrange(0, len(candidates_unvisited))]\n",
    "                route[counter] = next\n",
    "                unvisited = np.delete(unvisited, np.where(unvisited == next))\n",
    "                cost += self.distanceMatrix[front][next]\n",
    "                front = next\n",
    "                counter +=1\n",
    "                # print('k')\n",
    "            else:\n",
    "                next = unvisited[random.randrange(0, len(unvisited))]\n",
    "                route[counter] = next\n",
    "                unvisited = np.delete(unvisited, np.where(unvisited == next))\n",
    "                cost += self.distanceMatrix[front][next]\n",
    "                front = next\n",
    "                counter +=1\n",
    "                # print('not K')\n",
    "\n",
    "        cost += self.distanceMatrix[route[0]][route[-1]]\n",
    "        # print(cost)\n",
    "        # print(route)\n",
    "        \n",
    "        return [route,cost]\n",
    "\n",
    "class r0733300(r0733300):\n",
    "    def selectiveInializationBatch(self, k, lamda):\n",
    "        parents = []\n",
    "        for i in tqdm(range(0, lamda)):\n",
    "        # for i in range(0, self.LAMBDA):\n",
    "            # print(i) \n",
    "            parents.append(self.selectiveInialization(k))\n",
    "        \n",
    "        return parents"
   ]
  },
  {
   "cell_type": "markdown",
   "metadata": {},
   "source": [
    "### Greedy Initialization"
   ]
  },
  {
   "cell_type": "code",
   "execution_count": 233,
   "metadata": {},
   "outputs": [],
   "source": [
    "# Python3 program for the above approach\n",
    "\n",
    "from typing import DefaultDict\n",
    "\n",
    "\n",
    "INT_MAX = float(\"inf\")\t\n",
    "\n",
    "# Function to find the minimum\n",
    "# cost path for all the paths\n",
    "class r0733300(r0733300):\n",
    "\tdef findMinRoute(self, tsp,k):\n",
    "\t\tsum = 0\n",
    "\t\tcounter = 0\n",
    "\t\tj = 0\n",
    "\t\ti = k\n",
    "\t\tmin = INT_MAX\n",
    "\t\tmin_city = 0\n",
    "\t\tvisitedRouteList = DefaultDict(int)\n",
    "\n",
    "\t\t# Starting from the 0th indexed\n",
    "\t\t# city i.e., the first city\n",
    "\t\tvisitedRouteList[i] = 1\n",
    "\t\troute = [0] * len(tsp)\n",
    "\t\troute[0] = i\n",
    "\t\tcounter += 1\n",
    "\n",
    "\t\t# Traverse the adjacency\n",
    "\t\t# matrix tsp[][]\n",
    "\t\twhile(True):\n",
    "\n",
    "\t\t\t# Corner of the Matrix\n",
    "\t\t\tif counter >= len(tsp[i])  :\n",
    "\t\t\t\tbreak\n",
    "\n",
    "\t\t\t# If this path is unvisited then\n",
    "\t\t\t# and if the cost is less then\n",
    "\t\t\t# update the cost\n",
    "\t\t\tif (j != i and (visitedRouteList[j] == 0)):\n",
    "\t\t\t\tif tsp[i][j] <= min:\n",
    "\t\t\t\t\tmin = tsp[i][j]\n",
    "\t\t\t\t\tmin_city = j\n",
    "\n",
    "\t\t\tj += 1\n",
    "\n",
    "\t\t\t# Check all paths from the\n",
    "\t\t\t# ith indexed city\n",
    "\t\t\tif j == len(tsp[i]):\n",
    "\t\t\t\tmin = INT_MAX\n",
    "\t\t\t\tvisitedRouteList[min_city] = 1\n",
    "\t\t\t\troute[counter] = min_city\n",
    "\t\t\t\tj = 0\n",
    "\t\t\t\ti = route[counter]\n",
    "\t\t\t\tcounter += 1\n",
    "\t\t\t\tmin_city=0\n",
    "       \n",
    "       \n",
    "       \n",
    "\n",
    "\n",
    "\t\t# Update the ending city in array\n",
    "\t\t# from city which was last visited\n",
    "\t\t# i = route[counter - 1]\n",
    "\n",
    "\t\t# for j in range(len(tsp)):\n",
    "\n",
    "\t\t# \tif (i != j) and tsp[i][j] < min:\n",
    "\t\t# \t\tmin = tsp[i][j]\n",
    "\t\t# \t\troute[counter] = j\n",
    "\n",
    "\t\tsum =0\n",
    "\t\tfor i in range(len(route)-1):\n",
    "\t\t\tsum += tsp[route[i]][route[i+1]]\n",
    "\t\tsum += tsp[route[len(route)-1]][route[0]]\n",
    "\n",
    "\t\t# Started from the node where\n",
    "\t\t# we finished as well.\n",
    "\t\t# print(\"Minimum Cost is :\", sum)\n",
    "\t\t# print(route)\n",
    "\t\t# print(np.sort(route))\n",
    "\t\treturn [route,sum]\n",
    "\n",
    "class r0733300(r0733300):\n",
    "    def greedyInializationBatch(self, distanceMatrix, lamda):\n",
    "        parents = []\n",
    "        for i in tqdm(range(0, lamda)):\n",
    "            # print(i) \n",
    "            k = random.randrange(0,len(distanceMatrix))\n",
    "            parents.append(self.findMinRoute(distanceMatrix,k))\n",
    "        \n",
    "        return parents\n",
    "\t# # Driver Code\n",
    "\t# file = open(\"tour1000(1).csv\")\n",
    "\t# tsp = np.loadtxt(file, delimiter=\",\")\n",
    "\t# findMinRoute(tsp,20)\n"
   ]
  },
  {
   "cell_type": "markdown",
   "metadata": {},
   "source": [
    "## Calculate Distance"
   ]
  },
  {
   "cell_type": "code",
   "execution_count": 234,
   "metadata": {},
   "outputs": [],
   "source": [
    "class r0733300(r0733300):\n",
    "        def calculate_distance(self, permutation, distanceMatrix):\n",
    "            # print(permutation_mu[0])\n",
    "            total = 0\n",
    "            length = len(permutation) - 1\n",
    "\n",
    "            index_last = permutation[length]\n",
    "            index_ini = permutation[0]\n",
    "            # print(index_last)\n",
    "            # print(index_ini)\n",
    "            total += self.distanceMatrix[index_last][index_ini]\n",
    "\n",
    "            for i in range(0, length):\n",
    "                index1 = permutation[i]\n",
    "                index2 = permutation[i + 1]\n",
    "                # print(self.distanceMatrix[index1][index2])\n",
    "                if distanceMatrix[index1][index2] == float('inf'):\n",
    "                    total += 1000000000\n",
    "                    # break\n",
    "                else:\n",
    "                    total += self.distanceMatrix[index1][index2]\n",
    "            return total"
   ]
  },
  {
   "cell_type": "markdown",
   "metadata": {},
   "source": [
    "## Selection"
   ]
  },
  {
   "cell_type": "code",
   "execution_count": 235,
   "metadata": {},
   "outputs": [],
   "source": [
    "class r0733300(r0733300):\n",
    "    def k_tournament_selection(self, solutions, k):  # select K_TOURNAMENT random and select the best within\n",
    "        random_list = random.sample(range(0,len(solutions)),k)\n",
    "        # print(random_list)\n",
    "        best = solutions[random_list[0]]\n",
    "\n",
    "        for i in random_list:\n",
    "            if solutions[i][1]< best[1]:\n",
    "                best = solutions[i]\n",
    "        return best\n",
    "    \n",
    "    def calculate_rank_list(self,iteration ):\n",
    "        self.rank_list = []\n",
    "        if(self.s >=1.551282966377186e-220):\n",
    "            self.s = self.s ** 2    \n",
    "        # a =  (1-self.s)/((1-self.rank)**2)\n",
    "        a =  math.log(self.s)/(self.rank-1)\n",
    "        # print(a)\n",
    "        q_list = []\n",
    "        for i in range(1,self.rank+1):\n",
    "            # q = a* ((i-self.rank)**2) + self.s\n",
    "            q =  math.exp(a * (i-1))\n",
    "            q_list.append(q)\n",
    "\n",
    "        rank_sum = sum(q_list)\n",
    "\n",
    "        for i in range(1,self.rank+1):\n",
    "            self.rank_list.append(sum(q_list[:i])/rank_sum)\n",
    "    \n",
    "        # print(self.rank_list)\n",
    "        return 0\n",
    "    \n",
    "    def ranking_selection(self,solutions, fitnesses):\n",
    "\n",
    "        popu_fit = zip(fitnesses,solutions)\n",
    "        popu_fit_sorted = sorted(popu_fit)\n",
    "        sort_popu = [element for _, element in popu_fit_sorted]\n",
    "\n",
    "        a= np.random.random()\n",
    "        for i in range(self.rank):\n",
    "            if(a<self.rank_list[i]):\n",
    "                return sort_popu[i]\n",
    "    \n",
    "    \n",
    "    "
   ]
  },
  {
   "cell_type": "markdown",
   "metadata": {},
   "source": [
    "## Mutation"
   ]
  },
  {
   "cell_type": "code",
   "execution_count": 236,
   "metadata": {},
   "outputs": [],
   "source": [
    "class r0733300(r0733300):\n",
    "    def mutation_swap(self, individual, alpha):\n",
    "        permutation = individual[0]\n",
    "\n",
    "        length = len(permutation)\n",
    "        random_list = random.sample(range(0, length -1),2)\n",
    "        index1 = np.min(random_list)\n",
    "        index2 = np.max(random_list)\n",
    "\n",
    "        if (np.random.random() < alpha):\n",
    "            temp = permutation[index1]\n",
    "            permutation[index1] = permutation[index2]\n",
    "            permutation[index2] = temp\n",
    "\n",
    "        return [permutation, self.calculate_distance(permutation, self.distanceMatrix)]\n",
    "\n",
    "    def mutation_insert(self, individual, alpha):\n",
    "        permutation = individual[0]\n",
    "        length = len(permutation)\n",
    "        random_list = random.sample(range(0, length -1),2)\n",
    "        index1 = np.min(random_list)\n",
    "        index2 = np.max(random_list)\n",
    "\n",
    "        if (np.random.random() < alpha):\n",
    "            later = permutation[index2]\n",
    "            permutation.pop(index2)\n",
    "            permutation.insert(index1,later)\n",
    "\n",
    "        return [permutation, self.calculate_distance(permutation, self.distanceMatrix)]\n",
    "\n",
    "    \n",
    "    def mutation_scramble(self, permutation_mu):\n",
    "        permutation = permutation_mu\n",
    "\n",
    "        permutation_new = permutation\n",
    "        length = len(permutation)\n",
    "        random_list = random.sample(range(0, length -1),2)\n",
    "        index1 = np.min(random_list)\n",
    "        index2 = index1 +5\n",
    "        if (np.random.random() < permutation_mu[1]):\n",
    "            begin = permutation[0:index1]\n",
    "            middle = permutation[index1:index2]\n",
    "            end = permutation[index2:]\n",
    "            random.shuffle(middle)\n",
    "            permutation_new = begin+middle+end\n",
    "        \n",
    "\n",
    "        return permutation_new"
   ]
  },
  {
   "cell_type": "markdown",
   "metadata": {},
   "source": [
    "## Recombination"
   ]
  },
  {
   "cell_type": "code",
   "execution_count": 237,
   "metadata": {},
   "outputs": [],
   "source": [
    "class r0733300(r0733300):\n",
    "    #order crossover\n",
    "    def orderCrossover(self, individual1, individual2):\n",
    "        permutation1 = individual1[0]\n",
    "        permutation2 = individual2[0]\n",
    "        \n",
    "        length = len(permutation2)\n",
    "        # print(\"length1 \" + str(len(permutation1)))\n",
    "        # print(\"length2 \" + str(len(permutation2)))\n",
    "        random_list = random.sample(range(0, length -1),2)\n",
    "        index1 = np.min(random_list)\n",
    "        index2 = np.max(random_list)\n",
    "\n",
    "        offspring = permutation1[index1:index2+1]\n",
    "        for i in range(length):\n",
    "            newcity = permutation2[i]\n",
    "            if(newcity not in offspring):\n",
    "                offspring.append(newcity)\n",
    "                \n",
    "        # if(len(offspring) == 99):\n",
    "        #     print(np.sort(permutation1))\n",
    "        #     print(np.sort(permutation2))\n",
    "        # print(\"offspring \" + str(len(offspring)))\n",
    "        return [offspring, self.calculate_distance(offspring, self.distanceMatrix)]\n",
    "   \n",
    "    def recominbation_crossover(self, individual1, individual2):\n",
    "        permutation1 = individual1[0]\n",
    "        permutation2 = individual2[0]\n",
    "\n",
    "        length = len(permutation1)\n",
    "        random_list = random.sample(range(0, length -1),2)\n",
    "        index1 = np.min(random_list)\n",
    "        index2 = np.max(random_list)\n",
    "        # index1 = 0\n",
    "        # index2 = int(length/2)\n",
    "\n",
    "        offspring = []\n",
    "        not_yet_used = []\n",
    "        for i in range(0, length):\n",
    "            offspring.append(-1)\n",
    "        for i in range(index1, index2 + 1):\n",
    "            offspring[i] = permutation1[i]\n",
    "        for i in range(index2 + 1, length):\n",
    "            if permutation2[i] in offspring:\n",
    "                continue\n",
    "            else:\n",
    "                not_yet_used.append(permutation2[i])\n",
    "        for i in range(0, index2 + 1):\n",
    "            if permutation2[i] in offspring:\n",
    "                continue\n",
    "            else:\n",
    "                not_yet_used.append(permutation2[i])\n",
    "        j = 0\n",
    "        for i in range(index2 + 1, length):\n",
    "            offspring[i] = not_yet_used[j]\n",
    "            j += 1\n",
    "        for i in range(0, index1):\n",
    "            offspring[i] = not_yet_used[j]\n",
    "            j += 1\n",
    "\n",
    "\n",
    "        # beta = random.random()/10\n",
    "        # alpha = max(0,permutation_mu1[1] + beta* (permutation_mu1[1]-permutation_mu2[1]))\n",
    "        # print(alpha)\n",
    "        # print(alpha)\n",
    "\n",
    "        return [offspring, self.calculate_distance(offspring, self.distanceMatrix)]\n",
    "        # return [offspring, 0]\n",
    "\n",
    "    def pmx_crossover(self,permutation1, permutation2):\n",
    "        length = len(permutation1)\n",
    "        random_list = random.sample(range(0, length -1),2)\n",
    "        index1 = np.min(random_list)\n",
    "        index2 = np.max(random_list)\n",
    "\n",
    "        # print(index1,index2)\n",
    "\n",
    "        parent1_middle = permutation1[index1:index2]\n",
    "        parent2_middle = permutation2[index1:index2]\n",
    "\n",
    "        temp_child1 = permutation1[:index1] + parent2_middle + permutation1[index2:]\n",
    "        temp_child2 = permutation2[:index1] + parent1_middle + permutation2[index2:]\n",
    "        # print(temp_child2)\n",
    "        relations = []\n",
    "        for i in range(len(parent1_middle)):\n",
    "            relations.append([parent2_middle[i], parent1_middle[i]])\n",
    "\n",
    "        # print(relations)\n",
    "\n",
    "        child1 = self.recursion1(temp_child1, index1, index2,parent1_middle,parent2_middle,relations)\n",
    "        child2 = self.recursion2(temp_child2, index1, index2,parent1_middle,parent2_middle,relations)\n",
    "\n",
    "        child1 = np.ndarray.tolist(child1)\n",
    "        child2 = np.ndarray.tolist(child2)\n",
    "\n",
    "        \n",
    "        # print(child1)\n",
    "        # print(child2)\n",
    "        \n",
    "        return child1, child2\n",
    "\n",
    "    def recursion1(self,temp_child1, index1, index2,parent1_middle,parent2_middle,relations):\n",
    "        child = np.array([0 for i in range(len(temp_child1))])\n",
    "        for i,j in enumerate(temp_child1[:index1]):\n",
    "            c=0\n",
    "            for x in relations:\n",
    "                if j == x[0]:\n",
    "                    child[i]=x[1]\n",
    "                    c=1\n",
    "                    break\n",
    "            if c==0:\n",
    "                child[i]=j\n",
    "        j=0\n",
    "        for i in range(index1,index2):\n",
    "            child[i]=parent2_middle[j]\n",
    "            j+=1\n",
    "\n",
    "        for i,j in enumerate(temp_child1[index2:]):\n",
    "            c=0\n",
    "            for x in relations:\n",
    "                if j == x[0]:\n",
    "                    child[i+index2]=x[1]\n",
    "                    c=1\n",
    "                    break\n",
    "            if c==0:\n",
    "                child[i+index2]=j\n",
    "        child_unique=np.unique(child)\n",
    "        if len(child)>len(child_unique):\n",
    "            child=self.recursion1(child, index1, index2,parent1_middle,parent2_middle,relations)\n",
    "        return(child)\n",
    "\n",
    "    def recursion2(self, temp_child2, index1, index2,parent1_middle,parent2_middle,relations):\n",
    "        child = np.array([0 for i in range(len(temp_child2))])\n",
    "        for i,j in enumerate(temp_child2[:index1]):\n",
    "            c=0\n",
    "            for x in relations:\n",
    "                if j == x[1]:\n",
    "                    child[i]=x[0]\n",
    "                    c=1\n",
    "                    break\n",
    "            if c==0:\n",
    "                child[i]=j\n",
    "        j=0\n",
    "        for i in range(index1,index2):\n",
    "            child[i]=parent1_middle[j]\n",
    "            j+=1\n",
    "\n",
    "        for i,j in enumerate(temp_child2[index2:]):\n",
    "            c=0\n",
    "            for x in relations:\n",
    "                if j == x[1]:\n",
    "                    child[i+index2]=x[0]\n",
    "                    c=1\n",
    "                    break\n",
    "            if c==0:\n",
    "                child[i+index2]=j\n",
    "        child_unique=np.unique(child)\n",
    "        # print(child)\n",
    "        if len(child)>len(child_unique):\n",
    "            child=self.recursion2(child, index1, index2,parent1_middle,parent2_middle,relations)\n",
    "        return(child)\n",
    "\n",
    "    # def eliminate(self, solutions1, offspring,fitnesses):\n",
    "    #     return sorted(solutions1 + offspring, key=lambda permutation: self.calculate_distance(permutation))[\n",
    "    #             :self.LAMBDA]"
   ]
  },
  {
   "cell_type": "markdown",
   "metadata": {},
   "source": [
    "## Elimination"
   ]
  },
  {
   "cell_type": "code",
   "execution_count": 238,
   "metadata": {},
   "outputs": [],
   "source": [
    "class r0733300(r0733300):\n",
    "    def eliminate_lamda_mu(self, population):\n",
    "\n",
    "        objectives = []\n",
    "        for individual in population:\n",
    "            objectives.append(self.calculate_distance(individual))\n",
    "\n",
    "        popu_fit = zip(objectives,population)\n",
    "        popu_fit_sorted = sorted(popu_fit)\n",
    "        sort_popu = [element for _, element in popu_fit_sorted]\n",
    "\n",
    "        return sort_popu[0:self.land_size], objectives[0:self.land_size]\n",
    "\n",
    "    def eliminate_k_turnament(self, population,k):\n",
    "        population_new = []\n",
    "        # fitnesses_new = []\n",
    "\n",
    "\n",
    "        # objectives = []\n",
    "        # for individual in population:\n",
    "        #     objectives.append(self.calculate_distance(individual))\n",
    "\n",
    "        # # objectives_weight = objectives.copy()\n",
    "\n",
    "        length = len(population)\n",
    "        for i in range(self.LAMBDA):\n",
    "            random_list = random.sample(range(0, length),k)\n",
    "            best = population[random_list[0]]\n",
    "            \n",
    "            for j in random_list:\n",
    "                if (population[j][1] < best[1]):\n",
    "                    best = population[j]\n",
    "\n",
    "            population_new.append(best)\n",
    "            \n",
    "        \n",
    "        return population_new"
   ]
  },
  {
   "cell_type": "markdown",
   "metadata": {},
   "source": [
    "## LSP"
   ]
  },
  {
   "cell_type": "code",
   "execution_count": 239,
   "metadata": {},
   "outputs": [],
   "source": [
    "class r0733300(r0733300):\n",
    "    def lsp_2_opt(self, permutation):\n",
    "\n",
    "        best_fitness = self.calculate_distance(permutation)\n",
    "        best_permutation = permutation\n",
    "\n",
    "        # print('ini' + str(permutation))\n",
    "        # print(best_fitness)\n",
    "        length = len(permutation)\n",
    "        for i in range(length-3):\n",
    "            for j in range(i+2, length-1):\n",
    "                copy1 = permutation.copy()\n",
    "                # print('copy1' + str(permutation))\n",
    "                a = permutation[i]\n",
    "                b = permutation[i+1]\n",
    "                c = permutation[j]\n",
    "                d = permutation[j+1]\n",
    "\n",
    "                a_copy = a\n",
    "                b_copy = b\n",
    "\n",
    "                copy1[i] = c\n",
    "                copy1[i+1] = d\n",
    "                copy1[j] = a_copy\n",
    "                copy1[j+1] = b_copy\n",
    "\n",
    "                \n",
    "\n",
    "                copy_fitness = self.calculate_distance(copy1)\n",
    "                if(copy_fitness<best_fitness):\n",
    "                    best_fitness = copy_fitness\n",
    "                    best_permutation = copy1\n",
    "\n",
    "                    # print('modified    ' + str(best_permutation))\n",
    "                    # print(best_fitness)\n",
    "\n",
    "\n",
    "        # print('mod' + str(best_permutation))\n",
    "        # print(best_fitness)\n",
    "        return best_permutation\n",
    "\n",
    "\n",
    "    def lsp_2_opt_symmetry(self, permutation):\n",
    "\n",
    "        best_fitness = self.calculate_distance(permutation)\n",
    "        best_permutation = permutation\n",
    "\n",
    "        # print('ini' + str(permutation))\n",
    "        # print(best_fitness)\n",
    "        length = len(permutation)\n",
    "        for i in range(int(length/2)-1):\n",
    "            copy1 = permutation.copy()\n",
    "            # print('copy1' + str(permutation))\n",
    "            a = permutation[i]\n",
    "            b = permutation[i+1]\n",
    "            c = permutation[length -i-2]\n",
    "            d = permutation[length -i -1]\n",
    "\n",
    "            a_copy = a\n",
    "            b_copy = b\n",
    "\n",
    "            copy1[i] = c\n",
    "            copy1[i+1] = d\n",
    "            copy1[length -i-2] = a_copy\n",
    "            copy1[length-i - 1] = b_copy\n",
    "\n",
    "            \n",
    "\n",
    "            copy_fitness = self.calculate_distance(copy1)\n",
    "            if(copy_fitness<best_fitness):\n",
    "                best_fitness = copy_fitness\n",
    "                best_permutation = copy1\n",
    "\n",
    "                # print('modified    ' + str(best_permutation))\n",
    "                # print(best_fitness)\n",
    "\n",
    "\n",
    "        # print('mod' + str(best_permutation))\n",
    "        # print(best_fitness)\n",
    "        return best_permutation"
   ]
  },
  {
   "cell_type": "markdown",
   "metadata": {},
   "source": [
    "## Plot"
   ]
  },
  {
   "cell_type": "code",
   "execution_count": 240,
   "metadata": {},
   "outputs": [],
   "source": [
    "class r0733300(r0733300):\n",
    "    def plotFitness(self, meanfitnesses, bestfitnesses):\n",
    "        plt.figure()\n",
    "        plt.plot(range(len(meanfitnesses)), meanfitnesses)\n",
    "        plt.plot(range(len(meanfitnesses)), bestfitnesses)\n",
    "        plt.legend(['Mean Fitness','Best Fitness'],loc = 'upper left')\n",
    "        plt.show()"
   ]
  },
  {
   "cell_type": "markdown",
   "metadata": {},
   "source": [
    "## Diversify"
   ]
  },
  {
   "cell_type": "markdown",
   "metadata": {},
   "source": [
    "### Diversity Matrix"
   ]
  },
  {
   "cell_type": "code",
   "execution_count": 241,
   "metadata": {},
   "outputs": [],
   "source": [
    "class r0733300(r0733300):\n",
    "    def calculateDiveristy(self, population):\n",
    "        P = len(population)\n",
    "        L = len(population[0][0])\n",
    "        # print(P)\n",
    "        # print(L)\n",
    "        permutations = np.asarray(population)[:,0]\n",
    "        # average = np.mean(permutations,axis=0)\n",
    "        permutationsArray = []\n",
    "        for i in permutations:\n",
    "            permutationsArray.append(np.array(i))\n",
    "        \n",
    "        adjacencyMatrix = np.zeros((L,L))\n",
    "        for i in permutationsArray:\n",
    "            for j in range(L-1):\n",
    "                adjacencyMatrix[i[j]][i[j+1]] += 1\n",
    "            adjacencyMatrix[i[L-1]][i[0]] +=1\n",
    "        \n",
    "        # print(adjacencyMatrix)\n",
    "        \n",
    "        # print(np.shape(permutationsArray))\n",
    "        # average = np.mean(permutationsArray, axis=0)\n",
    "        # print(average)\n",
    "        variance = np.std(adjacencyMatrix, axis= 0)\n",
    "        # variance = np.var(adjacencyMatrix, axis= 0)\n",
    "        # print(np.shape(variance))\n",
    "        return sum(variance)/(L*P)\n",
    "    \n",
    "    \n",
    "        \n",
    "        \n",
    "\n",
    "# algo = r0733300();\n",
    "# algo.LAMBDA = 100\n",
    "# file = open(\"tour100(1).csv\")\n",
    "# algo.K_TOURNAMENT_SIZE = 3\n",
    "# algo.K_TOURNAMENT_SIZE_elimination = 3\n",
    "# algo.alpha = 0.5\n",
    "# distanceMatrix = np.loadtxt(file, delimiter=\",\")\n",
    "# algo.distanceMatrix = distanceMatrix\n",
    "# pop1 = algo.initialize(distanceMatrix)\n",
    "# print(algo.calculateDiveristy(pop1))\n",
    "# randomDiversity = algo.calculateDiveristy(pop1)\n",
    "# pop2 = algo.selectiveInializationBatch(10)\n",
    "# print(algo.calculateDiveristy(pop2))\n",
    "# selectiveDiversity = algo.calculateDiveristy(pop2)\n",
    "# while(selectiveDiversity >= 2 * randomDiversity):\n",
    "#     newPopulation = algo.selectiveInializationBatch(20)\n",
    "#     pop2 += newPopulation\n",
    "#     newOffsprings = []\n",
    "#     for i in tqdm(range(algo.MU)):\n",
    "#     # for i in range(self.MU):\n",
    "#         p1 = algo.k_tournament_selection(pop2)\n",
    "#         p2 = algo.k_tournament_selection(pop2)\n",
    "        \n",
    "#         offspring1 = algo.orderCrossover(p1, p2)\n",
    "#         offspring2 = algo.orderCrossover(p2, p1)\n",
    "\n",
    "#         offspring1 = algo.mutation_swap(offspring1)\n",
    "#         offspring2 = algo.mutation_swap(offspring2)\n",
    "\n",
    "#         offspring1 = algo.mutation_insert(offspring1)\n",
    "#         offspring2 = algo.mutation_insert(offspring2)\n",
    "\n",
    "#         newOffsprings.append(offspring1)\n",
    "#         newOffsprings.append(offspring2)\n",
    "    \n",
    "#     pop2 += newOffsprings\n",
    "#     pop2= algo.eliminate_k_turnament(pop2)\n",
    "#     selectiveDiversity = algo.calculateDiveristy(pop2)\n",
    "#     print(selectiveDiversity)\n",
    "    \n"
   ]
  },
  {
   "cell_type": "code",
   "execution_count": 242,
   "metadata": {},
   "outputs": [
    {
     "name": "stderr",
     "output_type": "stream",
     "text": [
      "100%|██████████| 100/100 [00:00<00:00, 151.24it/s]\n"
     ]
    }
   ],
   "source": [
    "algo = r0733300();\n",
    "file = open(\"tour100(1).csv\")\n",
    "distanceMatrix = np.loadtxt(file, delimiter=\",\")\n",
    "algo.distanceMatrix = distanceMatrix\n",
    "# pop = algo.selectiveInializationBatch(5)\n",
    "# pop2 = algo.initialize(distanceMatrix)\n",
    "pop3 = algo.greedyInializationBatch(distanceMatrix, algo.LAMBDA)\n",
    "\n",
    "# print(np.shape(pop3[0][0]))\n",
    "# algo.orderCrossover(pop2[0], pop2[1])\n",
    "# algo.calculateDiveristy(pop)"
   ]
  },
  {
   "cell_type": "markdown",
   "metadata": {},
   "source": [
    "### Diversify Elimination"
   ]
  },
  {
   "cell_type": "code",
   "execution_count": 243,
   "metadata": {},
   "outputs": [],
   "source": [
    "# class r0733300(r0733300):\n",
    "#     def elimination_diversify(self, diversityAverge, population, lamba):\n",
    "        \n",
    "        "
   ]
  },
  {
   "cell_type": "markdown",
   "metadata": {},
   "source": [
    "### DiversifyArchive Generation\n"
   ]
  },
  {
   "cell_type": "code",
   "execution_count": 244,
   "metadata": {},
   "outputs": [],
   "source": [
    "class r0733300(r0733300):\n",
    "    def archiveGeneration(self, k, threshold, size, archiveSize):\n",
    "        # archive = []\n",
    "        randomInitialization = self.initialize(self.distanceMatrix, size)\n",
    "        randomDiversity = self.calculateDiveristy(randomInitialization)\n",
    "        \n",
    "        candidates = self.selectiveInializationBatch(k,size)\n",
    "        # candidates = self.initialize(self.distanceMatrix, size)\n",
    "        # candidates = self.greedyInializationBatch(self.distanceMatrix, size)\n",
    "        \n",
    "        P = len(candidates)\n",
    "        L = len(candidates[0][0])\n",
    "        permutations = np.asarray(candidates)[:,0]\n",
    "        # average = np.mean(permutations,axis=0)\n",
    "        permutationsArray = []\n",
    "        for i in permutations:\n",
    "            permutationsArray.append(np.array(i))\n",
    "        \n",
    "        adjacencyMatrix = np.zeros((L,L))\n",
    "\n",
    "        for i in permutationsArray:\n",
    "            for j in range(L-1):\n",
    "                adjacencyMatrix[i[j]][i[j+1]] += 1\n",
    "            adjacencyMatrix[i[L-1]][i[0]] +=1\n",
    "        # print(np.shape(adjacencyMatrix))\n",
    "        # print(adjacencyMatrix[:,0])\n",
    "        meanAdjacency = []\n",
    "        for i in range(L):\n",
    "            meanAdjacency.append(np.average(range(L), weights = adjacencyMatrix[i,:]))\n",
    "\n",
    "        print(meanAdjacency)\n",
    "        \n",
    "        AdjacencyRoute = np.zeros((P,L))\n",
    "        for i in range(P):\n",
    "            for j in range(L-1):\n",
    "                AdjacencyRoute[i][permutationsArray[i][j]] = permutationsArray[i][j+1]\n",
    "            AdjacencyRoute[i][permutationsArray[i][-1]] = permutationsArray[i][0]\n",
    "        print(permutationsArray[0])\n",
    "        print(AdjacencyRoute[0])\n",
    "        \n",
    "        diversifyList = []\n",
    "        for i in AdjacencyRoute:\n",
    "            diver = np.sum(np.std(meanAdjacency  + i, axis = 0))\n",
    "            diversifyList.append(diver)\n",
    "        \n",
    "        # print(diversifyList)\n",
    "        # print(np.argsort(diversifyList))\n",
    "        # print(np.argsort((diversifyList))[-11:-1])\n",
    "        archiveIndex = np.argsort((diversifyList))[-1-archiveSize:-1]\n",
    "        archive = np.array(permutationsArray)[archiveIndex]\n",
    "        archiveWithDistance = []\n",
    "        for i in range(len(archive)):\n",
    "            # print(self.calculate_distance(i,self.distanceMatrix))\n",
    "            archiveWithDistance.append([archive[i], self.calculate_distance(archive[i],self.distanceMatrix)])\n",
    "        # print(archiveWithDistance[0])\n",
    "        # archive = permutationsArray[]\n",
    "        # print(len(archive))\n",
    "        print(self.calculateDiveristy(archiveWithDistance))\n",
    "\n",
    "\n",
    "# algo = r0733300();\n",
    "# file = open(\"tour29(1).csv\")\n",
    "# distanceMatrix = np.loadtxt(file, delimiter=\",\")\n",
    "# algo.distanceMatrix = distanceMatrix\n",
    "# algo.archiveGeneration(20,0.5,200,50)\n",
    "\n"
   ]
  },
  {
   "cell_type": "code",
   "execution_count": 245,
   "metadata": {},
   "outputs": [
    {
     "name": "stderr",
     "output_type": "stream",
     "text": [
      "100%|██████████| 50/50 [00:00<00:00, 396.68it/s]\n"
     ]
    }
   ],
   "source": [
    "algo = r0733300();\n",
    "file = open(\"tour29(1).csv\")\n",
    "distanceMatrix = np.loadtxt(file, delimiter=\",\")\n",
    "algo.distanceMatrix = distanceMatrix\n",
    "pop = algo.selectiveInializationBatch(20,50)\n",
    "# print(algo.calculateDiveristy(pop))"
   ]
  },
  {
   "cell_type": "code",
   "execution_count": 253,
   "metadata": {},
   "outputs": [],
   "source": [
    "popSort = np.argsort(pop,axis = 0 )[:,1]\n",
    "elites = np.array(pop)[popSort][:3]\n",
    "elitesNotChosen = []\n",
    "for i in elites:\n",
    "    if(i.tolist() in pop):\n",
    "        elitesNotChosen.append(i.tolist())\n",
    "pop += elitesNotChosen\n"
   ]
  },
  {
   "cell_type": "code",
   "execution_count": 254,
   "metadata": {},
   "outputs": [
    {
     "data": {
      "text/plain": [
       "array([list([5, 15, 4, 7, 19, 13, 27, 3, 14, 18, 11, 0, 12, 10, 25, 23, 26, 17, 20, 21, 22, 28, 6, 1, 24, 2, 8, 9, 16]),\n",
       "       334387.57], dtype=object)"
      ]
     },
     "execution_count": 254,
     "metadata": {},
     "output_type": "execute_result"
    }
   ],
   "source": [
    "elites[-1]"
   ]
  },
  {
   "cell_type": "code",
   "execution_count": 255,
   "metadata": {},
   "outputs": [
    {
     "data": {
      "text/plain": [
       "[[9,\n",
       "  13,\n",
       "  28,\n",
       "  27,\n",
       "  23,\n",
       "  10,\n",
       "  21,\n",
       "  18,\n",
       "  12,\n",
       "  0,\n",
       "  3,\n",
       "  4,\n",
       "  8,\n",
       "  24,\n",
       "  19,\n",
       "  1,\n",
       "  22,\n",
       "  25,\n",
       "  11,\n",
       "  6,\n",
       "  7,\n",
       "  15,\n",
       "  16,\n",
       "  14,\n",
       "  20,\n",
       "  17,\n",
       "  26,\n",
       "  5,\n",
       "  2],\n",
       " 481906.91]"
      ]
     },
     "execution_count": 255,
     "metadata": {},
     "output_type": "execute_result"
    }
   ],
   "source": [
    "pop[0]"
   ]
  },
  {
   "cell_type": "markdown",
   "metadata": {},
   "source": [
    "## Elitism"
   ]
  },
  {
   "cell_type": "markdown",
   "metadata": {},
   "source": [
    "### Elitism Main Loop"
   ]
  },
  {
   "cell_type": "code",
   "execution_count": 261,
   "metadata": {},
   "outputs": [],
   "source": [
    "class r0733300(r0733300):\n",
    "    def optimizeElitism(self, filename, initializaMethod):\n",
    "        # Read distance matrix from file.\n",
    "        file = open(filename)\n",
    "        distanceMatrix = np.loadtxt(file, delimiter=\",\")\n",
    "        self.distanceMatrix = distanceMatrix\n",
    "        file.close()\n",
    "        if(initializaMethod == 0):\n",
    "            population = self.initialize(self.distanceMatrix, self.LAMBDA)\n",
    "        elif(initializaMethod == 1):\n",
    "            population  = self.selectiveInializationBatch(self.selectiveIni, self.LAMBDA) \n",
    "        elif (initializaMethod ==2):\n",
    "            population = self.greedyInializationBatch(self.distanceMatrix, self.LAMBDA)\n",
    "\n",
    "        population += self.greedyInializationBatch(self.distanceMatrix, 10)\n",
    "\n",
    "        meanFitnesses = []\n",
    "        bestFitnesses = []\n",
    "\n",
    "        meanObjective = np.mean(np.asarray(population)[:,1])\n",
    "        bestObjective = np.min(population,axis=0)[1]\n",
    "        initialDiversity = self.calculateDiveristy(population)\n",
    "\n",
    "        meanFitnesses.append((meanObjective))\n",
    "        bestFitnesses.append(bestObjective)\n",
    "\n",
    "        print(\" Inital Mean Objectives : \" + str(meanObjective))\n",
    "        print(\" Inital Best Objectives : \" + str(bestObjective))\n",
    "        print(\" diversity         : \" + str(self.calculateDiveristy(population)))\n",
    "        \n",
    "        start = time.time()\n",
    "        while (time.time()-start <= 300):\n",
    "            self.iteration += 1\n",
    "\n",
    "            newOffsprings = []\n",
    "\n",
    "            popSort = np.argsort(population,axis = 0 )[:,1]\n",
    "            elites = np.array(population)[popSort][:4]\n",
    "\n",
    "            for i in tqdm(range(self.EliteNumber)):\n",
    "                p1 = elites[i]\n",
    "                p2 = self.k_tournament_selection(population, self.K_TOURNAMENT_SIZE)\n",
    "                offspring1 = self.orderCrossover(p1, p2)\n",
    "                offspring2 = self.orderCrossover(p2, p1)\n",
    "\n",
    "                offspring1 = self.mutation_swap(offspring1, self.alpha)\n",
    "                offspring2 = self.mutation_swap(offspring2, self.alpha)\n",
    "\n",
    "                offspring1 = self.mutation_insert(offspring1, self.alpha)\n",
    "                offspring2 = self.mutation_insert(offspring2, self.alpha)\n",
    "\n",
    "                newOffsprings.append(offspring1)\n",
    "                newOffsprings.append(offspring2)\n",
    "\n",
    "            \n",
    "            for i in tqdm(range(self.MU)):\n",
    "            # for i in range(self.MU):\n",
    "                p1 = self.k_tournament_selection(population,self.K_TOURNAMENT_SIZE)\n",
    "                p2 = self.k_tournament_selection(population, self.K_TOURNAMENT_SIZE)\n",
    "                # p1 = population[0]\n",
    "                # p2 = population[1]\n",
    "                while(True ): \n",
    "                    offspring1 = self.orderCrossover(p1, p2)\n",
    "                    offspring2 = self.orderCrossover(p2, p1)\n",
    "                    # offspring1 = self.recominbation_crossover(p1,p2)\n",
    "                    # offspring2 = self.recominbation_crossover(p2, p1)\n",
    "\n",
    "                    offspring1 = self.mutation_swap(offspring1, self.alpha)\n",
    "                    offspring2 = self.mutation_swap(offspring2, self.alpha)\n",
    "\n",
    "                    offspring1 = self.mutation_insert(offspring1, self.alpha)\n",
    "                    offspring2 = self.mutation_insert(offspring2, self.alpha)\n",
    "\n",
    "                    newOffsprings.append(offspring1)\n",
    "                    newOffsprings.append(offspring2)\n",
    "                    \n",
    "                    if(offspring1[1] < min(p1[1], p2[1]) or offspring2[1] <= min(p1[1], p2[1]) or random.random() < self.alpha):\n",
    "                        break\n",
    "                \n",
    "            # for i in population:\n",
    "            #     i = self.mutation_swap(i, self.alpha)\n",
    "            #     i = self.mutation_insert(i, self.alpha)\n",
    "\n",
    "\n",
    "            population += newOffsprings\n",
    "            population= self.eliminate_k_turnament(population,self.K_TOURNAMENT_SIZE_elimination)\n",
    "            \n",
    "            # add elites to population\n",
    "            elitesNotChosen = []\n",
    "            for i in elites:\n",
    "                # print(i)\n",
    "                if i.tolist() not in population:\n",
    "                    # print(\"elites chosen\")\n",
    "                    elitesNotChosen.append(i.tolist())\n",
    "            population += elitesNotChosen\n",
    "\n",
    "            print(np.shape(population))\n",
    "\n",
    "        \n",
    "            meanObjective = np.mean(np.asarray(population)[:,1])\n",
    "            bestObjective = np.min(population,axis=0)[1]\n",
    "            # bestSolution = population[np.argmin(objectives)]\n",
    "\n",
    "            meanFitnesses.append((meanObjective))\n",
    "            bestFitnesses.append(bestObjective)\n",
    "\n",
    "            diversify = self.calculateDiveristy(population)\n",
    "            \n",
    "            print(self.iteration)\n",
    "            print(\" Mean Objectives : \" + str(meanObjective))\n",
    "            print(\" Best Objectives : \" + str(bestObjective))\n",
    "            print(\" diversity         : \" + str(self.calculateDiveristy(population)))\n",
    "            print(\"Time: \" + str(time.time()-start))\n",
    "            \n",
    "            if(diversify >= 3* initialDiversity):\n",
    "                print(\"  start diversifying\")\n",
    "            while(diversify >= 3 * initialDiversity):\n",
    "                newPopulation = self.selectiveInializationBatch(self.selective_Diversify, self.LAMBDA_Diversify)\n",
    "                newPopulation += self.initialize(self.distanceMatrix,self.LAMBDA_Diversify)\n",
    "                # print(\"new Population\" + str(self.calculateDiveristy(newPopulation)))\n",
    "                \n",
    "                # population += newPopulation\n",
    "                newOffsprings = []\n",
    "                \n",
    "                for i in tqdm(range(self.MU)):\n",
    "                    p1 = self.k_tournament_selection(population,self.K_TOURNAMENT_Size_Diversify)\n",
    "                    p2 = self.k_tournament_selection(newPopulation, self.K_TOURNAMENT_Size_Diversify)\n",
    "                    offspring1 = self.orderCrossover(p1, p2)\n",
    "                    offspring2 = self.orderCrossover(p2, p1)\n",
    "\n",
    "                    offspring1 = self.mutation_swap(offspring1, self.alphaDiversity)\n",
    "                    offspring2 = self.mutation_swap(offspring2, self.alphaDiversity)\n",
    "\n",
    "                    offspring1 = self.mutation_insert(offspring1, self.alphaDiversity)\n",
    "                    offspring2 = self.mutation_insert(offspring2, self.alphaDiversity)\n",
    "\n",
    "                    newOffsprings.append(offspring1)\n",
    "                    newOffsprings.append(offspring2)\n",
    "                \n",
    "                population += newOffsprings\n",
    "                # print(\"population size \" + str(len(population)))\n",
    "                population= self.eliminate_k_turnament(population,self.K_TOURNAMENT_SIZE_elimination_Diversify)\n",
    "                # print(\"population size \" + str(len(population)))\n",
    "                diversify = self.calculateDiveristy(population)\n",
    "                print(\"New diverisity:    \" + str(diversify))\n",
    "\n",
    "\n",
    "        self.plotFitness(meanFitnesses, bestFitnesses)"
   ]
  },
  {
   "cell_type": "markdown",
   "metadata": {},
   "source": [
    "### Elitism Process"
   ]
  },
  {
   "cell_type": "code",
   "execution_count": 265,
   "metadata": {},
   "outputs": [
    {
     "name": "stderr",
     "output_type": "stream",
     "text": [
      "100%|██████████| 200/200 [00:26<00:00,  7.46it/s]\n",
      "100%|██████████| 10/10 [00:06<00:00,  1.50it/s]\n"
     ]
    },
    {
     "name": "stdout",
     "output_type": "stream",
     "text": [
      " Inital Mean Objectives : 912935.0574530952\n",
      " Inital Best Objectives : 236596.48654999977\n",
      " diversity         : 0.009865235784779783\n"
     ]
    },
    {
     "name": "stderr",
     "output_type": "stream",
     "text": [
      "100%|██████████| 3/3 [00:00<00:00, 45.28it/s]\n",
      "100%|██████████| 200/200 [01:28<00:00,  2.27it/s]\n"
     ]
    },
    {
     "name": "stdout",
     "output_type": "stream",
     "text": [
      "(202, 2)\n",
      "1\n",
      " Mean Objectives : 245494.3379287128\n",
      " Best Objectives : 236572.66654999973\n",
      " diversity         : 0.029858459181173212\n",
      "Time: 88.57653570175171\n",
      "  start diversifying\n"
     ]
    },
    {
     "name": "stderr",
     "output_type": "stream",
     "text": [
      "100%|██████████| 300/300 [00:39<00:00,  7.58it/s]\n"
     ]
    },
    {
     "name": "stdout",
     "output_type": "stream",
     "text": [
      "<module 'random' from '/usr/lib/python3.8/random.py'>\n"
     ]
    },
    {
     "name": "stderr",
     "output_type": "stream",
     "text": [
      "100%|██████████| 200/200 [00:06<00:00, 32.05it/s]\n"
     ]
    },
    {
     "name": "stdout",
     "output_type": "stream",
     "text": [
      "New diverisity:    0.02519986697028563\n"
     ]
    },
    {
     "name": "stderr",
     "output_type": "stream",
     "text": [
      "100%|██████████| 3/3 [00:00<00:00, 45.00it/s]\n",
      "100%|██████████| 200/200 [01:02<00:00,  3.21it/s]\n"
     ]
    },
    {
     "name": "stdout",
     "output_type": "stream",
     "text": [
      "(202, 2)\n",
      "2\n",
      " Mean Objectives : 241209.32079702924\n",
      " Best Objectives : 235927.8405499998\n",
      " diversity         : 0.03035420505994321\n",
      "Time: 197.4403269290924\n",
      "  start diversifying\n"
     ]
    },
    {
     "name": "stderr",
     "output_type": "stream",
     "text": [
      "100%|██████████| 300/300 [00:36<00:00,  8.26it/s]\n"
     ]
    },
    {
     "name": "stdout",
     "output_type": "stream",
     "text": [
      "<module 'random' from '/usr/lib/python3.8/random.py'>\n"
     ]
    },
    {
     "name": "stderr",
     "output_type": "stream",
     "text": [
      "100%|██████████| 200/200 [00:06<00:00, 32.77it/s]\n"
     ]
    },
    {
     "name": "stdout",
     "output_type": "stream",
     "text": [
      "New diverisity:    0.025741908506602244\n"
     ]
    },
    {
     "name": "stderr",
     "output_type": "stream",
     "text": [
      "100%|██████████| 3/3 [00:00<00:00, 50.81it/s]\n",
      "100%|██████████| 200/200 [00:50<00:00,  3.96it/s]\n"
     ]
    },
    {
     "name": "stdout",
     "output_type": "stream",
     "text": [
      "(200, 2)\n",
      "3\n",
      " Mean Objectives : 239472.2698999998\n",
      " Best Objectives : 233976.81054999982\n",
      " diversity         : 0.030950188865458923\n",
      "Time: 291.1544740200043\n",
      "  start diversifying\n"
     ]
    },
    {
     "name": "stderr",
     "output_type": "stream",
     "text": [
      "100%|██████████| 300/300 [00:37<00:00,  7.96it/s]\n"
     ]
    },
    {
     "name": "stdout",
     "output_type": "stream",
     "text": [
      "<module 'random' from '/usr/lib/python3.8/random.py'>\n"
     ]
    },
    {
     "name": "stderr",
     "output_type": "stream",
     "text": [
      "100%|██████████| 200/200 [00:06<00:00, 32.75it/s]\n"
     ]
    },
    {
     "name": "stdout",
     "output_type": "stream",
     "text": [
      "New diverisity:    0.02570309425000294\n"
     ]
    },
    {
     "data": {
      "image/png": "[encoded data removed]",
      "text/plain": [
       "<Figure size 432x288 with 1 Axes>"
      ]
     },
     "metadata": {
      "needs_background": "light"
     },
     "output_type": "display_data"
    }
   ],
   "source": [
    "algo = r0733300()\n",
    "\n",
    "algo.LAMBDA = 200  # Lambda represents the size of population\n",
    "algo.MU = 200 # Mu represents the size of offsprings\n",
    "algo.distanceMatrix = []  # distanceMatrix saves the cost between each two places\n",
    "algo.K_TOURNAMENT_SIZE = 20  # this is the size of selection\n",
    "algo.K_TOURNAMENT_SIZE_elimination = 20  # this is the size of selection\n",
    "algo.alpha = 0.05  # alpha is the mutation rate\n",
    "algo.iteration = 0  # iteration number\n",
    "algo.converge = 0.018  # difference between mean and best evalue. If (mean- best)/best < converge, it converges.\n",
    "algo.rank = 50\n",
    "algo.rank_list = []\n",
    "algo.s = 0.99999\n",
    "algo.lsp_size = 1\n",
    "algo.selectiveIni = 10\n",
    "\n",
    "algo.selective_Diversify = 10\n",
    "algo.alphaDiversity = 0.2\n",
    "algo.K_TOURNAMENT_Size_Diversify = 5\n",
    "algo.K_TOURNAMENT_SIZE_elimination_Diversify = 2\n",
    "algo.LAMBDA_Diversify = 300\n",
    "\n",
    "algo.optimizeElitism(\"tour1000(1).csv\", initializaMethod=1)\n",
    "\n"
   ]
  },
  {
   "cell_type": "markdown",
   "metadata": {},
   "source": [
    "## Diversity Main Loop"
   ]
  },
  {
   "cell_type": "code",
   "execution_count": 19,
   "metadata": {},
   "outputs": [],
   "source": [
    "class r0733300(r0733300):\n",
    "    def optimizeDiverisify(self, filename, initializaMethod):\n",
    "        # Read distance matrix from file.\n",
    "        file = open(filename)\n",
    "        distanceMatrix = np.loadtxt(file, delimiter=\",\")\n",
    "        self.distanceMatrix = distanceMatrix\n",
    "        file.close()\n",
    "        if(initializaMethod == 0):\n",
    "            population = self.initialize(self.distanceMatrix, self.LAMBDA)\n",
    "        elif(initializaMethod == 1):\n",
    "            population  = self.selectiveInializationBatch(self.selectiveIni, self.LAMBDA) \n",
    "        elif (initializaMethod ==2):\n",
    "            population = self.greedyInializationBatch(self.distanceMatrix, self.LAMBDA)\n",
    "\n",
    "        population += self.greedyInializationBatch(self.distanceMatrix, 10)\n",
    "\n",
    "        meanFitnesses = []\n",
    "        bestFitnesses = []\n",
    "\n",
    "        meanObjective = np.mean(np.asarray(population)[:,1])\n",
    "        bestObjective = np.min(population,axis=0)[1]\n",
    "        initialDiversity = self.calculateDiveristy(population)\n",
    "\n",
    "        meanFitnesses.append((meanObjective))\n",
    "        bestFitnesses.append(bestObjective)\n",
    "\n",
    "        print(\" Inital Mean Objectives : \" + str(meanObjective))\n",
    "        print(\" Inital Best Objectives : \" + str(bestObjective))\n",
    "        print(\" diversity         : \" + str(self.calculateDiveristy(population)))\n",
    "        \n",
    "        start = time.time()\n",
    "        while (time.time()-start <= 300):\n",
    "            self.iteration += 1\n",
    "\n",
    "            newOffsprings = []\n",
    "\n",
    "\n",
    "            \n",
    "            for i in tqdm(range(self.MU)):\n",
    "            # for i in range(self.MU):\n",
    "                p1 = self.k_tournament_selection(population,self.K_TOURNAMENT_SIZE)\n",
    "                p2 = self.k_tournament_selection(population, self.K_TOURNAMENT_SIZE)\n",
    "                # p1 = population[0]\n",
    "                # p2 = population[1]\n",
    "                while(True ): \n",
    "                    offspring1 = self.orderCrossover(p1, p2)\n",
    "                    offspring2 = self.orderCrossover(p2, p1)\n",
    "                    # offspring1 = self.recominbation_crossover(p1,p2)\n",
    "                    # offspring2 = self.recominbation_crossover(p2, p1)\n",
    "\n",
    "                    offspring1 = self.mutation_swap(offspring1, self.alpha)\n",
    "                    offspring2 = self.mutation_swap(offspring2, self.alpha)\n",
    "\n",
    "                    offspring1 = self.mutation_insert(offspring1, self.alpha)\n",
    "                    offspring2 = self.mutation_insert(offspring2, self.alpha)\n",
    "\n",
    "                    newOffsprings.append(offspring1)\n",
    "                    newOffsprings.append(offspring2)\n",
    "                    \n",
    "                    if(offspring1[1] < min(p1[1], p2[1]) or offspring2[1] <= min(p1[1], p2[1]) or random.random() < self.alpha):\n",
    "                        break\n",
    "\n",
    "            \n",
    "            # for i in population:\n",
    "            #     i = self.mutation_swap(i, self.alpha)\n",
    "            #     i = self.mutation_insert(i, self.alpha)\n",
    "\n",
    "\n",
    "            population += newOffsprings\n",
    "            population= self.eliminate_k_turnament(population,self.K_TOURNAMENT_SIZE_elimination)\n",
    "        \n",
    "            meanObjective = np.mean(np.asarray(population)[:,1])\n",
    "            bestObjective = np.min(population,axis=0)[1]\n",
    "            # bestSolution = population[np.argmin(objectives)]\n",
    "\n",
    "            meanFitnesses.append((meanObjective))\n",
    "            bestFitnesses.append(bestObjective)\n",
    "            diversify = self.calculateDiveristy(population)\n",
    "            \n",
    "            print(self.iteration)\n",
    "            print(\" Mean Objectives : \" + str(meanObjective))\n",
    "            print(\" Best Objectives : \" + str(bestObjective))\n",
    "            print(\" diversity         : \" + str(self.calculateDiveristy(population)))\n",
    "            print(\"Time: \" + str(time.time()-start))\n",
    "            \n",
    "            if(diversify >= 3* initialDiversity):\n",
    "                print(\"  start diversifying\")\n",
    "            while(diversify >= 3 * initialDiversity):\n",
    "                newPopulation = self.selectiveInializationBatch(self.selective_Diversify, self.LAMBDA_Diversify)\n",
    "                newPopulation += self.initialize(self.distanceMatrix,self.LAMBDA_Diversify)\n",
    "                # print(\"new Population\" + str(self.calculateDiveristy(newPopulation)))\n",
    "                \n",
    "                # population += newPopulation\n",
    "                newOffsprings = []\n",
    "                \n",
    "                for i in tqdm(range(self.MU)):\n",
    "                    p1 = self.k_tournament_selection(population,self.K_TOURNAMENT_Size_Diversify)\n",
    "                    p2 = self.k_tournament_selection(newPopulation, self.K_TOURNAMENT_Size_Diversify)\n",
    "                    offspring1 = self.orderCrossover(p1, p2)\n",
    "                    offspring2 = self.orderCrossover(p2, p1)\n",
    "\n",
    "                    offspring1 = self.mutation_swap(offspring1, self.alphaDiversity)\n",
    "                    offspring2 = self.mutation_swap(offspring2, self.alphaDiversity)\n",
    "\n",
    "                    offspring1 = self.mutation_insert(offspring1, self.alphaDiversity)\n",
    "                    offspring2 = self.mutation_insert(offspring2, self.alphaDiversity)\n",
    "\n",
    "                    newOffsprings.append(offspring1)\n",
    "                    newOffsprings.append(offspring2)\n",
    "                \n",
    "                population += newOffsprings\n",
    "                # print(\"population size \" + str(len(population)))\n",
    "                population= self.eliminate_k_turnament(population,self.K_TOURNAMENT_SIZE_elimination_Diversify)\n",
    "                # print(\"population size \" + str(len(population)))\n",
    "                diversify = self.calculateDiveristy(population)\n",
    "                print(\"New diverisity:    \" + str(diversify))\n",
    "\n",
    "\n",
    "        self.plotFitness(meanFitnesses, bestFitnesses)"
   ]
  },
  {
   "cell_type": "markdown",
   "metadata": {},
   "source": [
    "### Diversify Process"
   ]
  },
  {
   "cell_type": "code",
   "execution_count": 20,
   "metadata": {},
   "outputs": [
    {
     "name": "stderr",
     "output_type": "stream",
     "text": [
      "100%|██████████| 200/200 [00:08<00:00, 23.87it/s]\n",
      "100%|██████████| 10/10 [00:01<00:00,  6.07it/s]\n",
      "/tmp/ipykernel_77666/3663839432.py:20: VisibleDeprecationWarning: Creating an ndarray from ragged nested sequences (which is a list-or-tuple of lists-or-tuples-or ndarrays with different lengths or shapes) is deprecated. If you meant to do this, you must specify 'dtype=object' when creating the ndarray.\n",
      "  meanObjective = np.mean(np.asarray(population)[:,1])\n",
      "/usr/local/lib/python3.8/dist-packages/numpy/core/fromnumeric.py:86: VisibleDeprecationWarning: Creating an ndarray from ragged nested sequences (which is a list-or-tuple of lists-or-tuples-or ndarrays with different lengths or shapes) is deprecated. If you meant to do this, you must specify 'dtype=object' when creating the ndarray.\n",
      "  return ufunc.reduce(obj, axis, dtype, out, **passkwargs)\n",
      "/tmp/ipykernel_77666/2574736038.py:7: VisibleDeprecationWarning: Creating an ndarray from ragged nested sequences (which is a list-or-tuple of lists-or-tuples-or ndarrays with different lengths or shapes) is deprecated. If you meant to do this, you must specify 'dtype=object' when creating the ndarray.\n",
      "  permutations = np.asarray(population)[:,0]\n"
     ]
    },
    {
     "name": "stdout",
     "output_type": "stream",
     "text": [
      " Inital Mean Objectives : inf\n",
      " Inital Best Objectives : 109810.01350000002\n",
      " diversity         : 0.01386127577234694\n"
     ]
    },
    {
     "name": "stderr",
     "output_type": "stream",
     "text": [
      " 34%|███▎      | 67/200 [00:11<00:22,  6.00it/s]\n"
     ]
    },
    {
     "ename": "KeyboardInterrupt",
     "evalue": "",
     "output_type": "error",
     "traceback": [
      "\u001b[0;31m---------------------------------------------------------------------------\u001b[0m",
      "\u001b[0;31mKeyboardInterrupt\u001b[0m                         Traceback (most recent call last)",
      "\u001b[1;32m/root/study/ga/code_original.ipynb Cell 37\u001b[0m in \u001b[0;36m<cell line: 23>\u001b[0;34m()\u001b[0m\n\u001b[1;32m     <a href='vscode-notebook-cell://ssh-remote%2B119.13.78.144/root/study/ga/code_original.ipynb#ch0000036vscode-remote?line=19'>20</a>\u001b[0m algo\u001b[39m.\u001b[39mK_TOURNAMENT_SIZE_elimination_Diversify \u001b[39m=\u001b[39m \u001b[39m2\u001b[39m\n\u001b[1;32m     <a href='vscode-notebook-cell://ssh-remote%2B119.13.78.144/root/study/ga/code_original.ipynb#ch0000036vscode-remote?line=20'>21</a>\u001b[0m algo\u001b[39m.\u001b[39mLAMBDA_Diversify \u001b[39m=\u001b[39m \u001b[39m300\u001b[39m\n\u001b[0;32m---> <a href='vscode-notebook-cell://ssh-remote%2B119.13.78.144/root/study/ga/code_original.ipynb#ch0000036vscode-remote?line=22'>23</a>\u001b[0m algo\u001b[39m.\u001b[39;49moptimizeDiverisify(\u001b[39m\"\u001b[39;49m\u001b[39mtour500(1).csv\u001b[39;49m\u001b[39m\"\u001b[39;49m, initializaMethod\u001b[39m=\u001b[39;49m\u001b[39m1\u001b[39;49m)\n",
      "\u001b[1;32m/root/study/ga/code_original.ipynb Cell 37\u001b[0m in \u001b[0;36mr0733300.optimizeDiverisify\u001b[0;34m(self, filename, initializaMethod)\u001b[0m\n\u001b[1;32m     <a href='vscode-notebook-cell://ssh-remote%2B119.13.78.144/root/study/ga/code_original.ipynb#ch0000036vscode-remote?line=44'>45</a>\u001b[0m \u001b[39mwhile\u001b[39;00m(\u001b[39mTrue\u001b[39;00m ): \n\u001b[1;32m     <a href='vscode-notebook-cell://ssh-remote%2B119.13.78.144/root/study/ga/code_original.ipynb#ch0000036vscode-remote?line=45'>46</a>\u001b[0m     offspring1 \u001b[39m=\u001b[39m \u001b[39mself\u001b[39m\u001b[39m.\u001b[39morderCrossover(p1, p2)\n\u001b[0;32m---> <a href='vscode-notebook-cell://ssh-remote%2B119.13.78.144/root/study/ga/code_original.ipynb#ch0000036vscode-remote?line=46'>47</a>\u001b[0m     offspring2 \u001b[39m=\u001b[39m \u001b[39mself\u001b[39;49m\u001b[39m.\u001b[39;49morderCrossover(p2, p1)\n\u001b[1;32m     <a href='vscode-notebook-cell://ssh-remote%2B119.13.78.144/root/study/ga/code_original.ipynb#ch0000036vscode-remote?line=47'>48</a>\u001b[0m     \u001b[39m# offspring1 = self.recominbation_crossover(p1,p2)\u001b[39;00m\n\u001b[1;32m     <a href='vscode-notebook-cell://ssh-remote%2B119.13.78.144/root/study/ga/code_original.ipynb#ch0000036vscode-remote?line=48'>49</a>\u001b[0m     \u001b[39m# offspring2 = self.recominbation_crossover(p2, p1)\u001b[39;00m\n\u001b[1;32m     <a href='vscode-notebook-cell://ssh-remote%2B119.13.78.144/root/study/ga/code_original.ipynb#ch0000036vscode-remote?line=50'>51</a>\u001b[0m     offspring1 \u001b[39m=\u001b[39m \u001b[39mself\u001b[39m\u001b[39m.\u001b[39mmutation_swap(offspring1, \u001b[39mself\u001b[39m\u001b[39m.\u001b[39malpha)\n",
      "\u001b[1;32m/root/study/ga/code_original.ipynb Cell 37\u001b[0m in \u001b[0;36mr0733300.orderCrossover\u001b[0;34m(self, individual1, individual2)\u001b[0m\n\u001b[1;32m     <a href='vscode-notebook-cell://ssh-remote%2B119.13.78.144/root/study/ga/code_original.ipynb#ch0000036vscode-remote?line=17'>18</a>\u001b[0m         offspring\u001b[39m.\u001b[39mappend(newcity)\n\u001b[1;32m     <a href='vscode-notebook-cell://ssh-remote%2B119.13.78.144/root/study/ga/code_original.ipynb#ch0000036vscode-remote?line=19'>20</a>\u001b[0m \u001b[39m# if(len(offspring) == 99):\u001b[39;00m\n\u001b[1;32m     <a href='vscode-notebook-cell://ssh-remote%2B119.13.78.144/root/study/ga/code_original.ipynb#ch0000036vscode-remote?line=20'>21</a>\u001b[0m \u001b[39m#     print(np.sort(permutation1))\u001b[39;00m\n\u001b[1;32m     <a href='vscode-notebook-cell://ssh-remote%2B119.13.78.144/root/study/ga/code_original.ipynb#ch0000036vscode-remote?line=21'>22</a>\u001b[0m \u001b[39m#     print(np.sort(permutation2))\u001b[39;00m\n\u001b[1;32m     <a href='vscode-notebook-cell://ssh-remote%2B119.13.78.144/root/study/ga/code_original.ipynb#ch0000036vscode-remote?line=22'>23</a>\u001b[0m \u001b[39m# print(\"offspring \" + str(len(offspring)))\u001b[39;00m\n\u001b[0;32m---> <a href='vscode-notebook-cell://ssh-remote%2B119.13.78.144/root/study/ga/code_original.ipynb#ch0000036vscode-remote?line=23'>24</a>\u001b[0m \u001b[39mreturn\u001b[39;00m [offspring, \u001b[39mself\u001b[39;49m\u001b[39m.\u001b[39;49mcalculate_distance(offspring, \u001b[39mself\u001b[39;49m\u001b[39m.\u001b[39;49mdistanceMatrix)]\n",
      "\u001b[1;32m/root/study/ga/code_original.ipynb Cell 37\u001b[0m in \u001b[0;36mr0733300.calculate_distance\u001b[0;34m(self, permutation, distanceMatrix)\u001b[0m\n\u001b[1;32m     <a href='vscode-notebook-cell://ssh-remote%2B119.13.78.144/root/study/ga/code_original.ipynb#ch0000036vscode-remote?line=12'>13</a>\u001b[0m \u001b[39mfor\u001b[39;00m i \u001b[39min\u001b[39;00m \u001b[39mrange\u001b[39m(\u001b[39m0\u001b[39m, length):\n\u001b[1;32m     <a href='vscode-notebook-cell://ssh-remote%2B119.13.78.144/root/study/ga/code_original.ipynb#ch0000036vscode-remote?line=13'>14</a>\u001b[0m     index1 \u001b[39m=\u001b[39m permutation[i]\n\u001b[0;32m---> <a href='vscode-notebook-cell://ssh-remote%2B119.13.78.144/root/study/ga/code_original.ipynb#ch0000036vscode-remote?line=14'>15</a>\u001b[0m     index2 \u001b[39m=\u001b[39m permutation[i \u001b[39m+\u001b[39;49m \u001b[39m1\u001b[39;49m]\n\u001b[1;32m     <a href='vscode-notebook-cell://ssh-remote%2B119.13.78.144/root/study/ga/code_original.ipynb#ch0000036vscode-remote?line=15'>16</a>\u001b[0m     \u001b[39m# print(self.distanceMatrix[index1][index2])\u001b[39;00m\n\u001b[1;32m     <a href='vscode-notebook-cell://ssh-remote%2B119.13.78.144/root/study/ga/code_original.ipynb#ch0000036vscode-remote?line=16'>17</a>\u001b[0m     \u001b[39mif\u001b[39;00m distanceMatrix[index1][index2] \u001b[39m==\u001b[39m \u001b[39mfloat\u001b[39m(\u001b[39m'\u001b[39m\u001b[39minf\u001b[39m\u001b[39m'\u001b[39m):\n",
      "\u001b[0;31mKeyboardInterrupt\u001b[0m: "
     ]
    }
   ],
   "source": [
    "algo = r0733300()\n",
    "\n",
    "algo.LAMBDA = 200  # Lambda represents the size of population\n",
    "algo.MU = 200 # Mu represents the size of offsprings\n",
    "algo.distanceMatrix = []  # distanceMatrix saves the cost between each two places\n",
    "algo.K_TOURNAMENT_SIZE = 20  # this is the size of selection\n",
    "algo.K_TOURNAMENT_SIZE_elimination = 20  # this is the size of selection\n",
    "algo.alpha = 0.05  # alpha is the mutation rate\n",
    "algo.iteration = 0  # iteration number\n",
    "algo.converge = 0.018  # difference between mean and best evalue. If (mean- best)/best < converge, it converges.\n",
    "algo.rank = 50\n",
    "algo.rank_list = []\n",
    "algo.s = 0.99999\n",
    "algo.lsp_size = 1\n",
    "algo.selectiveIni = 10\n",
    "\n",
    "algo.selective_Diversify = 10\n",
    "algo.alphaDiversity = 0.2\n",
    "algo.K_TOURNAMENT_Size_Diversify = 5\n",
    "algo.K_TOURNAMENT_SIZE_elimination_Diversify = 2\n",
    "algo.LAMBDA_Diversify = 300\n",
    "\n",
    "algo.optimizeDiverisify(\"tour500(1).csv\", initializaMethod=1)\n",
    "\n"
   ]
  },
  {
   "cell_type": "markdown",
   "metadata": {},
   "source": [
    "## Original"
   ]
  },
  {
   "cell_type": "markdown",
   "metadata": {},
   "source": [
    "### Oringal Main Loop"
   ]
  },
  {
   "cell_type": "code",
   "execution_count": 25,
   "metadata": {},
   "outputs": [],
   "source": [
    "class r0733300(r0733300):\n",
    "    def optimize(self, filename, initializaMethod):\n",
    "        # Read distance matrix from file.\n",
    "        file = open(filename)\n",
    "        distanceMatrix = np.loadtxt(file, delimiter=\",\")\n",
    "        self.distanceMatrix = distanceMatrix\n",
    "        file.close()\n",
    "        if(initializaMethod == 0):\n",
    "            population = self.initialize(self.distanceMatrix, self.LAMBDA)\n",
    "        elif(initializaMethod == 1):\n",
    "            population  = self.selectiveInializationBatch(self.selectiveIni, self.LAMBDA) \n",
    "        elif (initializaMethod ==2):\n",
    "            population = self.greedyInializationBatch(distanceMatrix, self.LAMBDA)\n",
    "        \n",
    "        # population += self.greedyInializationBatch(distanceMatrix)\n",
    "        # elif (initializaMethod ==3) :\n",
    "            # print(np.shape(population))\n",
    "\n",
    "        # objectives = []\n",
    "\n",
    "        # for individual in population:\n",
    "        #     objectives.append(self.calculate_distance(individual))\n",
    "\n",
    "        meanFitnesses = []\n",
    "        bestFitnesses = []\n",
    "\n",
    "        # meanObjective = np.mean(population,axis=0)[1]\n",
    "        meanObjective = np.mean(np.asarray(population)[:,1])\n",
    "        bestObjective = np.min(population,axis=0)[1]\n",
    "        initialDiversity = self.calculateDiveristy(population)\n",
    "\n",
    "        meanFitnesses.append((meanObjective))\n",
    "        bestFitnesses.append(bestObjective)\n",
    "\n",
    "        print(\" Inital Mean Objectives : \" + str(meanObjective))\n",
    "        print(\" Inital Best Objectives : \" + str(bestObjective))\n",
    "        print(\" diversity         : \" + str(initialDiversity))\n",
    "        # print(\" Initial Best Solution : \" + str(bestSolution))\n",
    "        \n",
    "        start = time.time()\n",
    "        while (time.time()-start <= 300):\n",
    "            self.iteration += 1\n",
    "            newOffsprings = []\n",
    "            for i in tqdm(range(self.MU)):\n",
    "                p1 = self.k_tournament_selection(population,self.K_TOURNAMENT_SIZE)\n",
    "                p2 = self.k_tournament_selection(population, self.K_TOURNAMENT_SIZE)\n",
    "                while(True ): \n",
    "                    offspring1 = self.orderCrossover(p1, p2)\n",
    "                    offspring2 = self.orderCrossover(p2, p1)\n",
    "\n",
    "                    offspring1 = self.mutation_swap(offspring1, self.alpha)\n",
    "                    offspring2 = self.mutation_swap(offspring2, self.alpha)\n",
    "\n",
    "                    offspring1 = self.mutation_insert(offspring1, self.alpha)\n",
    "                    offspring2 = self.mutation_insert(offspring2, self.alpha)\n",
    "\n",
    "                    newOffsprings.append(offspring1)\n",
    "                    newOffsprings.append(offspring2)\n",
    "                    \n",
    "                    if(offspring1[1] < min(p1[1], p2[1]) or offspring2[1] <= min(p1[1], p2[1]) or random.random() < self.alpha):\n",
    "                        break\n",
    "\n",
    "            \n",
    "            for i in population:\n",
    "                i = self.mutation_swap(i, self.alpha)\n",
    "                i = self.mutation_insert(i, self.alpha)\n",
    "\n",
    "\n",
    "            population += newOffsprings\n",
    "            population= self.eliminate_k_turnament(population,self.K_TOURNAMENT_SIZE_elimination)\n",
    "        \n",
    "            meanObjective = np.mean(np.asarray(population)[:,1])\n",
    "            bestObjective = np.min(population,axis=0)[1]\n",
    "            diversity = self.calculateDiveristy(population)\n",
    "            # bestSolution = population[np.argmin(objectives)]\n",
    "\n",
    "            meanFitnesses.append((meanObjective))\n",
    "            bestFitnesses.append(bestObjective)\n",
    "            \n",
    "            \n",
    "            print(self.iteration)\n",
    "            print(\" Mean Objectives : \" + str(meanObjective))\n",
    "            print(\" Best Objectives : \" + str(bestObjective))\n",
    "            print(\" diversity         : \" + str(diversity))\n",
    "            print(\"Time: \" + str(time.time()-start))\n",
    "\n",
    "\n",
    "\n",
    "        self.plotFitness(meanObjective, bestObjective)"
   ]
  },
  {
   "cell_type": "code",
   "execution_count": 122,
   "metadata": {},
   "outputs": [],
   "source": [
    "# algo = r0733300();\n",
    "# file = open(\"tour500(1).csv\")\n",
    "# distanceMatrix = np.loadtxt(file, delimiter=\",\")\n",
    "# algo.distanceMatrix = distanceMatrix\n",
    "# # pop = algo.selectiveInializationBatch(5)\n",
    "# pop2 = algo.initialize(distanceMatrix)\n",
    "# algo.orderCrossover(pop2[0], pop2[1])"
   ]
  },
  {
   "cell_type": "markdown",
   "metadata": {},
   "source": [
    "### Original Process"
   ]
  },
  {
   "cell_type": "code",
   "execution_count": 23,
   "metadata": {},
   "outputs": [],
   "source": [
    "np.warnings.filterwarnings('ignore', category=np.VisibleDeprecationWarning)        "
   ]
  },
  {
   "cell_type": "code",
   "execution_count": 47,
   "metadata": {},
   "outputs": [
    {
     "name": "stderr",
     "output_type": "stream",
     "text": [
      "100%|██████████| 200/200 [00:07<00:00, 25.32it/s]\n"
     ]
    },
    {
     "name": "stdout",
     "output_type": "stream",
     "text": [
      " Inital Mean Objectives : inf\n",
      " Inital Best Objectives : 263981.2789999999\n",
      " diversity         : 0.01379848575135023\n"
     ]
    },
    {
     "name": "stderr",
     "output_type": "stream",
     "text": [
      "100%|██████████| 200/200 [00:05<00:00, 33.56it/s]\n"
     ]
    },
    {
     "name": "stdout",
     "output_type": "stream",
     "text": [
      "1\n",
      " Mean Objectives : 1235266835.2118123\n",
      " Best Objectives : 243596.3169999999\n",
      " diversity         : 0.03490295157317172\n",
      "Time: 6.279402017593384\n"
     ]
    },
    {
     "name": "stderr",
     "output_type": "stream",
     "text": [
      "100%|██████████| 200/200 [00:21<00:00,  9.34it/s]\n"
     ]
    },
    {
     "name": "stdout",
     "output_type": "stream",
     "text": [
      "2\n",
      " Mean Objectives : 249638.20473499986\n",
      " Best Objectives : 238056.1519999999\n",
      " diversity         : 0.041785978857320036\n",
      "Time: 27.99173402786255\n"
     ]
    },
    {
     "name": "stderr",
     "output_type": "stream",
     "text": [
      "100%|██████████| 200/200 [00:16<00:00, 12.20it/s]\n"
     ]
    },
    {
     "name": "stdout",
     "output_type": "stream",
     "text": [
      "3\n",
      " Mean Objectives : 240628.51277499995\n",
      " Best Objectives : 233627.96899999992\n",
      " diversity         : 0.04249565917543176\n",
      "Time: 44.66198921203613\n"
     ]
    },
    {
     "name": "stderr",
     "output_type": "stream",
     "text": [
      "100%|██████████| 200/200 [00:23<00:00,  8.43it/s]\n"
     ]
    },
    {
     "name": "stdout",
     "output_type": "stream",
     "text": [
      "4\n",
      " Mean Objectives : 235297.1174\n",
      " Best Objectives : 227736.28199999977\n",
      " diversity         : 0.04360059919961916\n",
      "Time: 68.7079610824585\n"
     ]
    },
    {
     "name": "stderr",
     "output_type": "stream",
     "text": [
      "100%|██████████| 200/200 [00:16<00:00, 11.89it/s]\n"
     ]
    },
    {
     "name": "stdout",
     "output_type": "stream",
     "text": [
      "5\n",
      " Mean Objectives : 230832.8511799998\n",
      " Best Objectives : 224494.1219999999\n",
      " diversity         : 0.04359239821041055\n",
      "Time: 85.81514596939087\n"
     ]
    },
    {
     "name": "stderr",
     "output_type": "stream",
     "text": [
      "100%|██████████| 200/200 [00:20<00:00,  9.83it/s]\n"
     ]
    },
    {
     "name": "stdout",
     "output_type": "stream",
     "text": [
      "6\n",
      " Mean Objectives : 227000.36192999984\n",
      " Best Objectives : 222654.40199999994\n",
      " diversity         : 0.0436816673094646\n",
      "Time: 106.45884013175964\n"
     ]
    },
    {
     "name": "stderr",
     "output_type": "stream",
     "text": [
      "100%|██████████| 200/200 [00:19<00:00, 10.25it/s]\n"
     ]
    },
    {
     "name": "stdout",
     "output_type": "stream",
     "text": [
      "7\n",
      " Mean Objectives : 224229.47229999982\n",
      " Best Objectives : 215964.92199999993\n",
      " diversity         : 0.04394610327283761\n",
      "Time: 126.25204420089722\n"
     ]
    },
    {
     "name": "stderr",
     "output_type": "stream",
     "text": [
      "100%|██████████| 200/200 [00:21<00:00,  9.45it/s]\n"
     ]
    },
    {
     "name": "stdout",
     "output_type": "stream",
     "text": [
      "8\n",
      " Mean Objectives : 219302.48535499992\n",
      " Best Objectives : 214269.44199999992\n",
      " diversity         : 0.04409008793298677\n",
      "Time: 147.69816613197327\n"
     ]
    },
    {
     "name": "stderr",
     "output_type": "stream",
     "text": [
      "100%|██████████| 200/200 [00:21<00:00,  9.40it/s]\n"
     ]
    },
    {
     "name": "stdout",
     "output_type": "stream",
     "text": [
      "9\n",
      " Mean Objectives : 215965.18912\n",
      " Best Objectives : 212784.40699999992\n",
      " diversity         : 0.044206572137853416\n",
      "Time: 169.28549027442932\n"
     ]
    },
    {
     "name": "stderr",
     "output_type": "stream",
     "text": [
      "100%|██████████| 200/200 [00:18<00:00, 10.61it/s]\n"
     ]
    },
    {
     "name": "stdout",
     "output_type": "stream",
     "text": [
      "10\n",
      " Mean Objectives : 214244.84426499993\n",
      " Best Objectives : 210429.4719999999\n",
      " diversity         : 0.044173072528785294\n",
      "Time: 188.4154770374298\n"
     ]
    },
    {
     "name": "stderr",
     "output_type": "stream",
     "text": [
      "100%|██████████| 200/200 [00:20<00:00,  9.55it/s]\n"
     ]
    },
    {
     "name": "stdout",
     "output_type": "stream",
     "text": [
      "11\n",
      " Mean Objectives : 212153.7103400001\n",
      " Best Objectives : 208073.36200000002\n",
      " diversity         : 0.044215463684024105\n",
      "Time: 209.65127825737\n"
     ]
    },
    {
     "name": "stderr",
     "output_type": "stream",
     "text": [
      "100%|██████████| 200/200 [00:21<00:00,  9.23it/s]\n"
     ]
    },
    {
     "name": "stdout",
     "output_type": "stream",
     "text": [
      "12\n",
      " Mean Objectives : 209590.53237000006\n",
      " Best Objectives : 205796.592\n",
      " diversity         : 0.044231569843321085\n",
      "Time: 231.6218192577362\n"
     ]
    },
    {
     "name": "stderr",
     "output_type": "stream",
     "text": [
      "100%|██████████| 200/200 [00:28<00:00,  7.10it/s]\n"
     ]
    },
    {
     "name": "stdout",
     "output_type": "stream",
     "text": [
      "13\n",
      " Mean Objectives : 207663.03921999998\n",
      " Best Objectives : 205506.602\n",
      " diversity         : 0.04429758542918923\n",
      "Time: 260.06076312065125\n"
     ]
    },
    {
     "name": "stderr",
     "output_type": "stream",
     "text": [
      "100%|██████████| 200/200 [00:28<00:00,  7.07it/s]\n"
     ]
    },
    {
     "name": "stdout",
     "output_type": "stream",
     "text": [
      "14\n",
      " Mean Objectives : 207180.74673000007\n",
      " Best Objectives : 205096.066\n",
      " diversity         : 0.04436492963785442\n",
      "Time: 288.6556873321533\n"
     ]
    },
    {
     "name": "stderr",
     "output_type": "stream",
     "text": [
      "100%|██████████| 200/200 [00:25<00:00,  7.81it/s]\n"
     ]
    },
    {
     "name": "stdout",
     "output_type": "stream",
     "text": [
      "15\n",
      " Mean Objectives : 206542.24215000003\n",
      " Best Objectives : 204806.076\n",
      " diversity         : 0.044311587144067244\n",
      "Time: 314.54817628860474\n"
     ]
    },
    {
     "ename": "TypeError",
     "evalue": "object of type 'numpy.float64' has no len()",
     "output_type": "error",
     "traceback": [
      "\u001b[0;31m---------------------------------------------------------------------------\u001b[0m",
      "\u001b[0;31mTypeError\u001b[0m                                 Traceback (most recent call last)",
      "\u001b[1;32m/Users/yifan_li/Documents/CS/Course/GeneticAlgorithm/code_original.ipynb Cell 40\u001b[0m in \u001b[0;36m<module>\u001b[0;34m\u001b[0m\n\u001b[1;32m     <a href='vscode-notebook-cell:/Users/yifan_li/Documents/CS/Course/GeneticAlgorithm/code_original.ipynb#ch0000035?line=13'>14</a>\u001b[0m algo\u001b[39m.\u001b[39mlsp_size \u001b[39m=\u001b[39m \u001b[39m1\u001b[39m\n\u001b[1;32m     <a href='vscode-notebook-cell:/Users/yifan_li/Documents/CS/Course/GeneticAlgorithm/code_original.ipynb#ch0000035?line=14'>15</a>\u001b[0m algo\u001b[39m.\u001b[39mselectiveIni \u001b[39m=\u001b[39m \u001b[39m10\u001b[39m\n\u001b[0;32m---> <a href='vscode-notebook-cell:/Users/yifan_li/Documents/CS/Course/GeneticAlgorithm/code_original.ipynb#ch0000035?line=16'>17</a>\u001b[0m algo\u001b[39m.\u001b[39;49moptimize(\u001b[39m\"\u001b[39;49m\u001b[39mtour500(1).csv\u001b[39;49m\u001b[39m\"\u001b[39;49m, initializaMethod\u001b[39m=\u001b[39;49m\u001b[39m1\u001b[39;49m)\n",
      "\u001b[1;32m/Users/yifan_li/Documents/CS/Course/GeneticAlgorithm/code_original.ipynb Cell 40\u001b[0m in \u001b[0;36mr0733300.optimize\u001b[0;34m(self, filename, initializaMethod)\u001b[0m\n\u001b[1;32m     <a href='vscode-notebook-cell:/Users/yifan_li/Documents/CS/Course/GeneticAlgorithm/code_original.ipynb#ch0000035?line=83'>84</a>\u001b[0m     \u001b[39mprint\u001b[39m(\u001b[39m\"\u001b[39m\u001b[39m diversity         : \u001b[39m\u001b[39m\"\u001b[39m \u001b[39m+\u001b[39m \u001b[39mstr\u001b[39m(diversity))\n\u001b[1;32m     <a href='vscode-notebook-cell:/Users/yifan_li/Documents/CS/Course/GeneticAlgorithm/code_original.ipynb#ch0000035?line=84'>85</a>\u001b[0m     \u001b[39mprint\u001b[39m(\u001b[39m\"\u001b[39m\u001b[39mTime: \u001b[39m\u001b[39m\"\u001b[39m \u001b[39m+\u001b[39m \u001b[39mstr\u001b[39m(time\u001b[39m.\u001b[39mtime()\u001b[39m-\u001b[39mstart))\n\u001b[0;32m---> <a href='vscode-notebook-cell:/Users/yifan_li/Documents/CS/Course/GeneticAlgorithm/code_original.ipynb#ch0000035?line=88'>89</a>\u001b[0m \u001b[39mself\u001b[39;49m\u001b[39m.\u001b[39;49mplotFitness(meanObjective, bestObjective)\n",
      "\u001b[1;32m/Users/yifan_li/Documents/CS/Course/GeneticAlgorithm/code_original.ipynb Cell 40\u001b[0m in \u001b[0;36mr0733300.plotFitness\u001b[0;34m(self, meanfitnesses, bestfitnesses)\u001b[0m\n\u001b[1;32m      <a href='vscode-notebook-cell:/Users/yifan_li/Documents/CS/Course/GeneticAlgorithm/code_original.ipynb#ch0000035?line=1'>2</a>\u001b[0m \u001b[39mdef\u001b[39;00m \u001b[39mplotFitness\u001b[39m(\u001b[39mself\u001b[39m, meanfitnesses, bestfitnesses):\n\u001b[1;32m      <a href='vscode-notebook-cell:/Users/yifan_li/Documents/CS/Course/GeneticAlgorithm/code_original.ipynb#ch0000035?line=2'>3</a>\u001b[0m     plt\u001b[39m.\u001b[39mfigure()\n\u001b[0;32m----> <a href='vscode-notebook-cell:/Users/yifan_li/Documents/CS/Course/GeneticAlgorithm/code_original.ipynb#ch0000035?line=3'>4</a>\u001b[0m     plt\u001b[39m.\u001b[39mplot(\u001b[39mrange\u001b[39m(\u001b[39mlen\u001b[39;49m(meanfitnesses)), meanfitnesses)\n\u001b[1;32m      <a href='vscode-notebook-cell:/Users/yifan_li/Documents/CS/Course/GeneticAlgorithm/code_original.ipynb#ch0000035?line=4'>5</a>\u001b[0m     plt\u001b[39m.\u001b[39mplot(\u001b[39mrange\u001b[39m(\u001b[39mlen\u001b[39m(meanfitnesses)), bestfitnesses)\n\u001b[1;32m      <a href='vscode-notebook-cell:/Users/yifan_li/Documents/CS/Course/GeneticAlgorithm/code_original.ipynb#ch0000035?line=5'>6</a>\u001b[0m     plt\u001b[39m.\u001b[39mlegend([\u001b[39m'\u001b[39m\u001b[39mMean Fitness\u001b[39m\u001b[39m'\u001b[39m,\u001b[39m'\u001b[39m\u001b[39mBest Fitness\u001b[39m\u001b[39m'\u001b[39m],loc \u001b[39m=\u001b[39m \u001b[39m'\u001b[39m\u001b[39mupper left\u001b[39m\u001b[39m'\u001b[39m)\n",
      "\u001b[0;31mTypeError\u001b[0m: object of type 'numpy.float64' has no len()"
     ]
    },
    {
     "data": {
      "text/plain": [
       "<Figure size 432x288 with 0 Axes>"
      ]
     },
     "metadata": {},
     "output_type": "display_data"
    }
   ],
   "source": [
    "algo = r0733300()\n",
    "\n",
    "algo.LAMBDA = 200  # Lambda represents the size of population\n",
    "algo.MU = 200 # Mu represents the size of offsprings\n",
    "algo.distanceMatrix = []  # distanceMatrix saves the cost between each two places\n",
    "algo.K_TOURNAMENT_SIZE = 20  # this is the size of selection\n",
    "algo.K_TOURNAMENT_SIZE_elimination = 20  # this is the size of selection\n",
    "algo.alpha = 0.05  # alpha is the mutation rate\n",
    "algo.iteration = 0  # iteration number\n",
    "algo.converge = 0.018  # difference between mean and best evalue. If (mean- best)/best < converge, it converges.\n",
    "algo.rank = 50\n",
    "algo.rank_list = []\n",
    "algo.s = 0.99999\n",
    "algo.lsp_size = 1\n",
    "algo.selectiveIni = 10\n",
    "\n",
    "algo.optimize(\"tour500(1).csv\", initializaMethod=1)"
   ]
  },
  {
   "cell_type": "markdown",
   "metadata": {},
   "source": [
    "## Greedy Search"
   ]
  },
  {
   "cell_type": "code",
   "execution_count": 804,
   "metadata": {},
   "outputs": [
    {
     "name": "stdout",
     "output_type": "stream",
     "text": [
      "Minimum Cost is : inf\n",
      "[9, 4, 18, 48, 72, 42, 71, 54, 6, 97, 40, 34, 64, 24, 80, 91, 2, 53, 87, 13, 50, 3, 68, 16, 62, 63, 83, 96, 21, 26, 98, 39, 79, 0, 81, 29, 19, 22, 95, 37, 51, 92, 43, 59, 78, 93, 89, 41, 75, 90, 7, 76, 23, 35, 88, 45, 44, 57, 99, 65, 14, 5, 61, 74, 1, 70, 30, 60, 55, 85, 12, 94, 17, 69, 73, 58, 38, 10, 15, 28, 56, 82, 36, 20, 66, 31, 46, 33, 25, 52, 8, 32, 49, 11, 27, 86, 67, 77, 47, 84]\n",
      "[ 0  1  2  3  4  5  6  7  8  9 10 11 12 13 14 15 16 17 18 19 20 21 22 23\n",
      " 24 25 26 27 28 29 30 31 32 33 34 35 36 37 38 39 40 41 42 43 44 45 46 47\n",
      " 48 49 50 51 52 53 54 55 56 57 58 59 60 61 62 63 64 65 66 67 68 69 70 71\n",
      " 72 73 74 75 76 77 78 79 80 81 82 83 84 85 86 87 88 89 90 91 92 93 94 95\n",
      " 96 97 98 99]\n"
     ]
    }
   ],
   "source": [
    "# Python3 program for the above approach\n",
    "\n",
    "from typing import DefaultDict\n",
    "\n",
    "\n",
    "INT_MAX = float(\"inf\")\t\n",
    "\n",
    "\n",
    "# Function to find the minimum\n",
    "# cost path for all the paths\n",
    "def findMinRoute(tsp,k):\n",
    "\tlength = len(tsp)\n",
    "\t# sum = 0\n",
    "\tcounter = 0\n",
    "\tj = 0\n",
    "\ti = random.randrange(length)\n",
    "\t# i = random.randrange(length)\n",
    "\tmin = INT_MAX\n",
    "\tmin_city = 0\n",
    "\tvisitedRouteList = DefaultDict(int)\n",
    "\n",
    "\t# Starting from the 0th indexed\n",
    "\t# city i.e., the first city\n",
    "\tvisitedRouteList[i] = 1\n",
    "\troute = [0] * len(tsp)\n",
    "\troute[0] = i\n",
    "\tcounter += 1\n",
    "\n",
    "\t# Traverse the adjacency\n",
    "\t# matrix tsp[][]\n",
    "\t# while i < len(tsp) and j < len(tsp[i]):\n",
    "\twhile(counter <= length):\n",
    "\n",
    "\t\t# Corner of the Matrix\n",
    "\t\tif counter >= len(tsp[i])  :\n",
    "\t\t\tbreak\n",
    "\n",
    "\t\t# If this path is unvisited then\n",
    "\t\t# and if the cost is less then\n",
    "\t\t# update the cost\n",
    "\t\tif j != i and (visitedRouteList[j] == 0):\n",
    "\t\t\t# if tsp[i][j] < min and tsp[i][j] != float(\"inf\"):\n",
    "\t\t\tif tsp[i][j] <= min:\t\n",
    "\t\t\t\t# print(min)\n",
    "\t\t\t\tmin = tsp[i][j]\n",
    "\t\t\t\tmin_city = j\n",
    "\t\t\t\t# route[counter] = j\n",
    "\n",
    "\t\tj += 1\n",
    "\n",
    "\t\t# Check all paths from the\n",
    "\t\t# ith indexed city\n",
    "\t\tif j == len(tsp[i]):\n",
    "\t\t\t# sum += min\n",
    "\t\t\tmin = INT_MAX\n",
    "\t\t\tvisitedRouteList[min_city] = 1\n",
    "\t\t\troute[counter] = min_city\n",
    "\t\t\tj = 0\n",
    "\t\t\ti = route[counter]\n",
    "\t\t\tcounter += 1\n",
    "\t\t\tmin_city=0\n",
    "\n",
    "\t# Update the ending city in array\n",
    "\t# from city which was last visited\n",
    "\t# i = route[counter - 1]\n",
    "\n",
    "\t# for j in range(len(tsp)):\n",
    "\n",
    "\t# \tif (i != j) and tsp[i][j] < min:\n",
    "\t# \t\tmin = tsp[i][j]\n",
    "\t# \t\troute[counter] = j\n",
    "\n",
    "\t# sum += tsp[route[0]][route[counter-1]]\n",
    "\tsum =0\n",
    "\tfor i in range(len(route)-1):\n",
    "\t\tsum += tsp[route[i]][route[i+1]]\n",
    "\tsum += tsp[route[len(route)-1]][route[0]]\n",
    "\n",
    "\t# Started from the node where\n",
    "\t# we finished as well.\n",
    "\tprint(\"Minimum Cost is :\", sum)\n",
    "\tprint(route)\n",
    "\tprint(np.sort(route))\n",
    "\n",
    "\n",
    "# Driver Code\n",
    "file = open(\"tour100(1).csv\")\n",
    "tsp = np.loadtxt(file, delimiter=\",\")\n",
    "findMinRoute(tsp,len(tsp))\n"
   ]
  },
  {
   "cell_type": "code",
   "execution_count": null,
   "metadata": {},
   "outputs": [],
   "source": []
  },
  {
   "cell_type": "code",
   "execution_count": null,
   "metadata": {},
   "outputs": [],
   "source": [
    "file = open(\"tour29(1).csv\")\n",
    "tsp = np.loadtxt(file, delimiter=\",\")\n",
    "route = [2, 24, 15, 16, 9, 5, 8, 4, 0, 7, 27, 19, 3, 13, 14, 18, 12, 1, 23, 6, 10, 25, 28, 11, 20, 17, 21, 22, 26]\n",
    "cost = 0\n",
    "\n",
    "for i in range(0,len(route)-1):\n",
    "    cost += tsp[route[i]][route[i+1]]\n",
    "\n",
    "cost +=tsp[route[0]][route[-1]]\n",
    "print(cost)"
   ]
  },
  {
   "cell_type": "code",
   "execution_count": null,
   "metadata": {},
   "outputs": [],
   "source": [
    "file = open(\"tour1000(1).csv\")\n",
    "cost = 0\n",
    "distanceMatrix = np.loadtxt(file, delimiter=\",\")\n",
    "algo = r0733300()\n",
    "random = algo.selectiveInialization(distanceMatrix, 20)\n",
    "for i in range(len(random)-1):\n",
    "    cost += distanceMatrix[random[i]][random[i+1]]\n",
    "cost += distanceMatrix[random[0]][random[-1]]\n",
    "print(cost)"
   ]
  }
 ],
 "metadata": {
  "kernelspec": {
   "display_name": "TravelSalesman",
   "language": "python",
   "name": "tsp"
  },
  "language_info": {
   "codemirror_mode": {
    "name": "ipython",
    "version": 3
   },
   "file_extension": ".py",
   "mimetype": "text/x-python",
   "name": "python",
   "nbconvert_exporter": "python",
   "pygments_lexer": "ipython3",
   "version": "3.8.10"
  },
  "orig_nbformat": 4,
  "vscode": {
   "interpreter": {
    "hash": "31f2aee4e71d21fbe5cf8b01ff0e069b9275f58929596ceb00d14d90e3e16cd6"
   }
  }
 },
 "nbformat": 4,
 "nbformat_minor": 2
}
