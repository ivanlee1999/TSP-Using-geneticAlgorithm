{
 "cells": [
  {
   "cell_type": "code",
   "execution_count": 26,
   "metadata": {},
   "outputs": [],
   "source": [
    "import random\n",
    "import numpy as np\n",
    "import matplotlib.pyplot as plt\n",
    "import time\n",
    "import math\n",
    "import psutil\n",
    "import jdc\n",
    "from tqdm import tqdm\n",
    "np.warnings.filterwarnings('ignore', category=np.VisibleDeprecationWarning)        "
   ]
  },
  {
   "cell_type": "markdown",
   "metadata": {},
   "source": [
    "## Parameter"
   ]
  },
  {
   "cell_type": "code",
   "execution_count": 27,
   "metadata": {},
   "outputs": [],
   "source": [
    "class r0733300:\n",
    "    def __init__(self):\n",
    "        self.LAMBDA = 100  # Lambda represents the size of population\n",
    "        self.MU = 100 # Mu represents the size of offsprings\n",
    "        self.distanceMatrix = []  # distanceMatrix saves the cost between each two places\n",
    "        self.K_TOURNAMENT_SIZE = 3  # this is the size of selection\n",
    "        self.K_TOURNAMENT_SIZE_elimination = 10  # this is the size of selection\n",
    "        self.alpha = 0.05  # alpha is the mutation rate\n",
    "        self.iteration = 0  # iteration number\n",
    "        self.converge = 0.018  # difference between mean and best evalue. If (mean- best)/best < converge, it converges.\n",
    "        self.rank = 50\n",
    "        self.rank_list = []\n",
    "        self.s = 0.99999\n",
    "        self.lsp_size = 1\n",
    "        self.selectiveIni = 50\n",
    "        self.alphaDiversity = 0.2\n",
    "        self.K_TOURNAMENT_Size_Diversify = 3\n",
    "        self.K_TOURNAMENT_SIZE_elimination_Diversify = 3\n",
    "        self.LAMBDA_Diversify = 100\n",
    "        self.selective_Diversify = 50\n",
    "        self.EliteNumber = 3"
   ]
  },
  {
   "cell_type": "markdown",
   "metadata": {},
   "source": [
    "## Initialization\n",
    "###  Random Initialization"
   ]
  },
  {
   "cell_type": "code",
   "execution_count": 28,
   "metadata": {},
   "outputs": [],
   "source": [
    "class r0733300(r0733300):\n",
    "    def initialize(self, matrix, lamda):\n",
    "        print(random)\n",
    "        initialization = []\n",
    "        n = len(matrix)\n",
    "        for i in range(0, lamda):  # generate population of LAMBDA\n",
    "            candidate = np.random.permutation(n)\n",
    "            candidate2 = np.ndarray.tolist(candidate)\n",
    "            initialization.append([candidate2, self.calculate_distance(candidate2 ,self.distanceMatrix)])\n",
    "            \n",
    "        return initialization\n"
   ]
  },
  {
   "cell_type": "markdown",
   "metadata": {},
   "source": [
    "### Selective Initialization"
   ]
  },
  {
   "cell_type": "code",
   "execution_count": 29,
   "metadata": {},
   "outputs": [],
   "source": [
    "from typing import DefaultDict\n",
    "import random\n",
    "class r0733300(r0733300):\n",
    "    def selectiveInialization(self, k):\n",
    "        cost = 0\n",
    "        cityNumber = len(self.distanceMatrix)\n",
    "        route = [0] * cityNumber\n",
    "        unvisited = np.arange(cityNumber)\n",
    "        front = random.randrange(0, cityNumber)\n",
    "        # front = 0\n",
    "        route[0] = front\n",
    "        unvisited = np.delete(unvisited, front)\n",
    "        counter = 1\n",
    "        while(len(unvisited) > 0):\n",
    "            # print(len(unvisited))\n",
    "            distance = self.distanceMatrix[front]\n",
    "            distance = np.argsort(distance)\n",
    "            candidates = distance[1:1+k]\n",
    "            \n",
    "            candidates_unvisited = []\n",
    "            for i in candidates:\n",
    "                if i in unvisited:\n",
    "                    candidates_unvisited.append(i)\n",
    "\n",
    "\n",
    "            if(len(candidates_unvisited) != 0):\n",
    "                next = candidates_unvisited[random.randrange(0, len(candidates_unvisited))]\n",
    "                route[counter] = next\n",
    "                unvisited = np.delete(unvisited, np.where(unvisited == next))\n",
    "                cost += self.distanceMatrix[front][next]\n",
    "                front = next\n",
    "                counter +=1\n",
    "                # print('k')\n",
    "            else:\n",
    "                next = unvisited[random.randrange(0, len(unvisited))]\n",
    "                route[counter] = next\n",
    "                unvisited = np.delete(unvisited, np.where(unvisited == next))\n",
    "                cost += self.distanceMatrix[front][next]\n",
    "                front = next\n",
    "                counter +=1\n",
    "                # print('not K')\n",
    "\n",
    "        cost += self.distanceMatrix[route[0]][route[-1]]\n",
    "        # print(cost)\n",
    "        # print(route)\n",
    "        \n",
    "        return [route,cost]\n",
    "\n",
    "class r0733300(r0733300):\n",
    "    def selectiveInializationBatch(self, k, lamda):\n",
    "        parents = []\n",
    "        for i in tqdm(range(0, lamda)):\n",
    "        # for i in range(0, self.LAMBDA):\n",
    "            # print(i) \n",
    "            parents.append(self.selectiveInialization(k))\n",
    "        \n",
    "        return parents"
   ]
  },
  {
   "cell_type": "markdown",
   "metadata": {},
   "source": [
    "### Greedy Initialization"
   ]
  },
  {
   "cell_type": "code",
   "execution_count": 30,
   "metadata": {},
   "outputs": [],
   "source": [
    "# Python3 program for the above approach\n",
    "\n",
    "from typing import DefaultDict\n",
    "\n",
    "\n",
    "INT_MAX = float(\"inf\")\t\n",
    "\n",
    "# Function to find the minimum\n",
    "# cost path for all the paths\n",
    "class r0733300(r0733300):\n",
    "\tdef findMinRoute(self, tsp,k):\n",
    "\t\tsum = 0\n",
    "\t\tcounter = 0\n",
    "\t\tj = 0\n",
    "\t\ti = k\n",
    "\t\tmin = INT_MAX\n",
    "\t\tmin_city = 0\n",
    "\t\tvisitedRouteList = DefaultDict(int)\n",
    "\n",
    "\t\t# Starting from the 0th indexed\n",
    "\t\t# city i.e., the first city\n",
    "\t\tvisitedRouteList[i] = 1\n",
    "\t\troute = [0] * len(tsp)\n",
    "\t\troute[0] = i\n",
    "\t\tcounter += 1\n",
    "\n",
    "\t\t# Traverse the adjacency\n",
    "\t\t# matrix tsp[][]\n",
    "\t\twhile(True):\n",
    "\n",
    "\t\t\t# Corner of the Matrix\n",
    "\t\t\tif counter >= len(tsp[i])  :\n",
    "\t\t\t\tbreak\n",
    "\n",
    "\t\t\t# If this path is unvisited then\n",
    "\t\t\t# and if the cost is less then\n",
    "\t\t\t# update the cost\n",
    "\t\t\tif (j != i and (visitedRouteList[j] == 0)):\n",
    "\t\t\t\tif tsp[i][j] <= min:\n",
    "\t\t\t\t\tmin = tsp[i][j]\n",
    "\t\t\t\t\tmin_city = j\n",
    "\n",
    "\t\t\tj += 1\n",
    "\n",
    "\t\t\t# Check all paths from the\n",
    "\t\t\t# ith indexed city\n",
    "\t\t\tif j == len(tsp[i]):\n",
    "\t\t\t\tmin = INT_MAX\n",
    "\t\t\t\tvisitedRouteList[min_city] = 1\n",
    "\t\t\t\troute[counter] = min_city\n",
    "\t\t\t\tj = 0\n",
    "\t\t\t\ti = route[counter]\n",
    "\t\t\t\tcounter += 1\n",
    "\t\t\t\tmin_city=0\n",
    "       \n",
    "       \n",
    "       \n",
    "\n",
    "\n",
    "\t\t# Update the ending city in array\n",
    "\t\t# from city which was last visited\n",
    "\t\t# i = route[counter - 1]\n",
    "\n",
    "\t\t# for j in range(len(tsp)):\n",
    "\n",
    "\t\t# \tif (i != j) and tsp[i][j] < min:\n",
    "\t\t# \t\tmin = tsp[i][j]\n",
    "\t\t# \t\troute[counter] = j\n",
    "\n",
    "\t\tsum =0\n",
    "\t\tfor i in range(len(route)-1):\n",
    "\t\t\tsum += tsp[route[i]][route[i+1]]\n",
    "\t\tsum += tsp[route[len(route)-1]][route[0]]\n",
    "\n",
    "\t\t# Started from the node where\n",
    "\t\t# we finished as well.\n",
    "\t\t# print(\"Minimum Cost is :\", sum)\n",
    "\t\t# print(route)\n",
    "\t\t# print(np.sort(route))\n",
    "\t\treturn [route,sum]\n",
    "\n",
    "class r0733300(r0733300):\n",
    "    def greedyInializationBatch(self, distanceMatrix, lamda):\n",
    "        parents = []\n",
    "        for i in tqdm(range(0, lamda)):\n",
    "            # print(i) \n",
    "            k = random.randrange(0,len(distanceMatrix))\n",
    "            parents.append(self.findMinRoute(distanceMatrix,k))\n",
    "        \n",
    "        return parents\n",
    "\t# # Driver Code\n",
    "\t# file = open(\"tour1000(1).csv\")\n",
    "\t# tsp = np.loadtxt(file, delimiter=\",\")\n",
    "\t# findMinRoute(tsp,20)\n"
   ]
  },
  {
   "cell_type": "markdown",
   "metadata": {},
   "source": [
    "## Calculate Distance"
   ]
  },
  {
   "cell_type": "code",
   "execution_count": 31,
   "metadata": {},
   "outputs": [],
   "source": [
    "class r0733300(r0733300):\n",
    "        def calculate_distance(self, permutation, distanceMatrix):\n",
    "            # print(permutation_mu[0])\n",
    "            total = 0\n",
    "            length = len(permutation) - 1\n",
    "\n",
    "            index_last = permutation[length]\n",
    "            index_ini = permutation[0]\n",
    "            # print(index_last)\n",
    "            # print(index_ini)\n",
    "            total += self.distanceMatrix[index_last][index_ini]\n",
    "\n",
    "            for i in range(0, length):\n",
    "                index1 = permutation[i]\n",
    "                index2 = permutation[i + 1]\n",
    "                # print(self.distanceMatrix[index1][index2])\n",
    "                if distanceMatrix[index1][index2] == float('inf'):\n",
    "                    total += 1000000000\n",
    "                    # break\n",
    "                else:\n",
    "                    total += self.distanceMatrix[index1][index2]\n",
    "            return total"
   ]
  },
  {
   "cell_type": "markdown",
   "metadata": {},
   "source": [
    "## Selection"
   ]
  },
  {
   "cell_type": "code",
   "execution_count": 32,
   "metadata": {},
   "outputs": [],
   "source": [
    "class r0733300(r0733300):\n",
    "    def k_tournament_selection(self, solutions, k):  # select K_TOURNAMENT random and select the best within\n",
    "        random_list = random.sample(range(0,len(solutions)),k)\n",
    "        # print(random_list)\n",
    "        best = solutions[random_list[0]]\n",
    "\n",
    "        for i in random_list:\n",
    "            if solutions[i][1]< best[1]:\n",
    "                best = solutions[i]\n",
    "        return best\n",
    "    \n",
    "    def calculate_rank_list(self,iteration ):\n",
    "        self.rank_list = []\n",
    "        if(self.s >=1.551282966377186e-220):\n",
    "            self.s = self.s ** 2    \n",
    "        # a =  (1-self.s)/((1-self.rank)**2)\n",
    "        a =  math.log(self.s)/(self.rank-1)\n",
    "        # print(a)\n",
    "        q_list = []\n",
    "        for i in range(1,self.rank+1):\n",
    "            # q = a* ((i-self.rank)**2) + self.s\n",
    "            q =  math.exp(a * (i-1))\n",
    "            q_list.append(q)\n",
    "\n",
    "        rank_sum = sum(q_list)\n",
    "\n",
    "        for i in range(1,self.rank+1):\n",
    "            self.rank_list.append(sum(q_list[:i])/rank_sum)\n",
    "    \n",
    "        # print(self.rank_list)\n",
    "        return 0\n",
    "    \n",
    "    def ranking_selection(self,solutions, fitnesses):\n",
    "\n",
    "        popu_fit = zip(fitnesses,solutions)\n",
    "        popu_fit_sorted = sorted(popu_fit)\n",
    "        sort_popu = [element for _, element in popu_fit_sorted]\n",
    "\n",
    "        a= np.random.random()\n",
    "        for i in range(self.rank):\n",
    "            if(a<self.rank_list[i]):\n",
    "                return sort_popu[i]\n",
    "    \n",
    "    \n",
    "    "
   ]
  },
  {
   "cell_type": "markdown",
   "metadata": {},
   "source": [
    "## Mutation"
   ]
  },
  {
   "cell_type": "code",
   "execution_count": 33,
   "metadata": {},
   "outputs": [],
   "source": [
    "class r0733300(r0733300):\n",
    "    def mutation_swap(self, individual, alpha):\n",
    "        permutation = individual[0]\n",
    "\n",
    "        length = len(permutation)\n",
    "        random_list = random.sample(range(0, length -1),2)\n",
    "        index1 = np.min(random_list)\n",
    "        index2 = np.max(random_list)\n",
    "\n",
    "        if (np.random.random() < alpha):\n",
    "            temp = permutation[index1]\n",
    "            permutation[index1] = permutation[index2]\n",
    "            permutation[index2] = temp\n",
    "\n",
    "        return [permutation, self.calculate_distance(permutation, self.distanceMatrix)]\n",
    "\n",
    "    def mutation_insert(self, individual, alpha):\n",
    "        permutation = individual[0]\n",
    "        length = len(permutation)\n",
    "        random_list = random.sample(range(0, length -1),2)\n",
    "        index1 = np.min(random_list)\n",
    "        index2 = np.max(random_list)\n",
    "\n",
    "        if (np.random.random() < alpha):\n",
    "            later = permutation[index2]\n",
    "            permutation.pop(index2)\n",
    "            permutation.insert(index1,later)\n",
    "\n",
    "        return [permutation, self.calculate_distance(permutation, self.distanceMatrix)]\n",
    "\n",
    "    \n",
    "    def mutation_scramble(self, permutation_mu):\n",
    "        permutation = permutation_mu\n",
    "\n",
    "        permutation_new = permutation\n",
    "        length = len(permutation)\n",
    "        random_list = random.sample(range(0, length -1),2)\n",
    "        index1 = np.min(random_list)\n",
    "        index2 = index1 +5\n",
    "        if (np.random.random() < permutation_mu[1]):\n",
    "            begin = permutation[0:index1]\n",
    "            middle = permutation[index1:index2]\n",
    "            end = permutation[index2:]\n",
    "            random.shuffle(middle)\n",
    "            permutation_new = begin+middle+end\n",
    "        \n",
    "\n",
    "        return permutation_new"
   ]
  },
  {
   "cell_type": "markdown",
   "metadata": {},
   "source": [
    "## Recombination"
   ]
  },
  {
   "cell_type": "code",
   "execution_count": 34,
   "metadata": {},
   "outputs": [],
   "source": [
    "class r0733300(r0733300):\n",
    "    #order crossover\n",
    "    def orderCrossover(self, individual1, individual2):\n",
    "        permutation1 = individual1[0]\n",
    "        permutation2 = individual2[0]\n",
    "        \n",
    "        length = len(permutation2)\n",
    "        # print(\"length1 \" + str(len(permutation1)))\n",
    "        # print(\"length2 \" + str(len(permutation2)))\n",
    "        random_list = random.sample(range(0, length -1),2)\n",
    "        index1 = np.min(random_list)\n",
    "        index2 = np.max(random_list)\n",
    "\n",
    "        offspring = permutation1[index1:index2+1]\n",
    "        for i in range(length):\n",
    "            newcity = permutation2[i]\n",
    "            if(newcity not in offspring):\n",
    "                offspring.append(newcity)\n",
    "                \n",
    "        # if(len(offspring) == 99):\n",
    "        #     print(np.sort(permutation1))\n",
    "        #     print(np.sort(permutation2))\n",
    "        # print(\"offspring \" + str(len(offspring)))\n",
    "        return [offspring, self.calculate_distance(offspring, self.distanceMatrix)]\n",
    "   \n",
    "    def recominbation_crossover(self, individual1, individual2):\n",
    "        permutation1 = individual1[0]\n",
    "        permutation2 = individual2[0]\n",
    "\n",
    "        length = len(permutation1)\n",
    "        random_list = random.sample(range(0, length -1),2)\n",
    "        index1 = np.min(random_list)\n",
    "        index2 = np.max(random_list)\n",
    "        # index1 = 0\n",
    "        # index2 = int(length/2)\n",
    "\n",
    "        offspring = []\n",
    "        not_yet_used = []\n",
    "        for i in range(0, length):\n",
    "            offspring.append(-1)\n",
    "        for i in range(index1, index2 + 1):\n",
    "            offspring[i] = permutation1[i]\n",
    "        for i in range(index2 + 1, length):\n",
    "            if permutation2[i] in offspring:\n",
    "                continue\n",
    "            else:\n",
    "                not_yet_used.append(permutation2[i])\n",
    "        for i in range(0, index2 + 1):\n",
    "            if permutation2[i] in offspring:\n",
    "                continue\n",
    "            else:\n",
    "                not_yet_used.append(permutation2[i])\n",
    "        j = 0\n",
    "        for i in range(index2 + 1, length):\n",
    "            offspring[i] = not_yet_used[j]\n",
    "            j += 1\n",
    "        for i in range(0, index1):\n",
    "            offspring[i] = not_yet_used[j]\n",
    "            j += 1\n",
    "\n",
    "\n",
    "        # beta = random.random()/10\n",
    "        # alpha = max(0,permutation_mu1[1] + beta* (permutation_mu1[1]-permutation_mu2[1]))\n",
    "        # print(alpha)\n",
    "        # print(alpha)\n",
    "\n",
    "        return [offspring, self.calculate_distance(offspring, self.distanceMatrix)]\n",
    "        # return [offspring, 0]\n",
    "\n",
    "    def pmx_crossover(self,permutation1, permutation2):\n",
    "        length = len(permutation1)\n",
    "        random_list = random.sample(range(0, length -1),2)\n",
    "        index1 = np.min(random_list)\n",
    "        index2 = np.max(random_list)\n",
    "\n",
    "        # print(index1,index2)\n",
    "\n",
    "        parent1_middle = permutation1[index1:index2]\n",
    "        parent2_middle = permutation2[index1:index2]\n",
    "\n",
    "        temp_child1 = permutation1[:index1] + parent2_middle + permutation1[index2:]\n",
    "        temp_child2 = permutation2[:index1] + parent1_middle + permutation2[index2:]\n",
    "        # print(temp_child2)\n",
    "        relations = []\n",
    "        for i in range(len(parent1_middle)):\n",
    "            relations.append([parent2_middle[i], parent1_middle[i]])\n",
    "\n",
    "        # print(relations)\n",
    "\n",
    "        child1 = self.recursion1(temp_child1, index1, index2,parent1_middle,parent2_middle,relations)\n",
    "        child2 = self.recursion2(temp_child2, index1, index2,parent1_middle,parent2_middle,relations)\n",
    "\n",
    "        child1 = np.ndarray.tolist(child1)\n",
    "        child2 = np.ndarray.tolist(child2)\n",
    "\n",
    "        \n",
    "        # print(child1)\n",
    "        # print(child2)\n",
    "        \n",
    "        return child1, child2\n",
    "\n",
    "    def recursion1(self,temp_child1, index1, index2,parent1_middle,parent2_middle,relations):\n",
    "        child = np.array([0 for i in range(len(temp_child1))])\n",
    "        for i,j in enumerate(temp_child1[:index1]):\n",
    "            c=0\n",
    "            for x in relations:\n",
    "                if j == x[0]:\n",
    "                    child[i]=x[1]\n",
    "                    c=1\n",
    "                    break\n",
    "            if c==0:\n",
    "                child[i]=j\n",
    "        j=0\n",
    "        for i in range(index1,index2):\n",
    "            child[i]=parent2_middle[j]\n",
    "            j+=1\n",
    "\n",
    "        for i,j in enumerate(temp_child1[index2:]):\n",
    "            c=0\n",
    "            for x in relations:\n",
    "                if j == x[0]:\n",
    "                    child[i+index2]=x[1]\n",
    "                    c=1\n",
    "                    break\n",
    "            if c==0:\n",
    "                child[i+index2]=j\n",
    "        child_unique=np.unique(child)\n",
    "        if len(child)>len(child_unique):\n",
    "            child=self.recursion1(child, index1, index2,parent1_middle,parent2_middle,relations)\n",
    "        return(child)\n",
    "\n",
    "    def recursion2(self, temp_child2, index1, index2,parent1_middle,parent2_middle,relations):\n",
    "        child = np.array([0 for i in range(len(temp_child2))])\n",
    "        for i,j in enumerate(temp_child2[:index1]):\n",
    "            c=0\n",
    "            for x in relations:\n",
    "                if j == x[1]:\n",
    "                    child[i]=x[0]\n",
    "                    c=1\n",
    "                    break\n",
    "            if c==0:\n",
    "                child[i]=j\n",
    "        j=0\n",
    "        for i in range(index1,index2):\n",
    "            child[i]=parent1_middle[j]\n",
    "            j+=1\n",
    "\n",
    "        for i,j in enumerate(temp_child2[index2:]):\n",
    "            c=0\n",
    "            for x in relations:\n",
    "                if j == x[1]:\n",
    "                    child[i+index2]=x[0]\n",
    "                    c=1\n",
    "                    break\n",
    "            if c==0:\n",
    "                child[i+index2]=j\n",
    "        child_unique=np.unique(child)\n",
    "        # print(child)\n",
    "        if len(child)>len(child_unique):\n",
    "            child=self.recursion2(child, index1, index2,parent1_middle,parent2_middle,relations)\n",
    "        return(child)\n",
    "\n",
    "    # def eliminate(self, solutions1, offspring,fitnesses):\n",
    "    #     return sorted(solutions1 + offspring, key=lambda permutation: self.calculate_distance(permutation))[\n",
    "    #             :self.LAMBDA]"
   ]
  },
  {
   "cell_type": "markdown",
   "metadata": {},
   "source": [
    "## Elimination"
   ]
  },
  {
   "cell_type": "code",
   "execution_count": 35,
   "metadata": {},
   "outputs": [],
   "source": [
    "class r0733300(r0733300):\n",
    "    def eliminate_lamda_mu(self, population):\n",
    "\n",
    "        objectives = []\n",
    "        for individual in population:\n",
    "            objectives.append(self.calculate_distance(individual))\n",
    "\n",
    "        popu_fit = zip(objectives,population)\n",
    "        popu_fit_sorted = sorted(popu_fit)\n",
    "        sort_popu = [element for _, element in popu_fit_sorted]\n",
    "\n",
    "        return sort_popu[0:self.land_size], objectives[0:self.land_size]\n",
    "\n",
    "    def eliminate_k_turnament(self, population,k):\n",
    "        population_new = []\n",
    "        # fitnesses_new = []\n",
    "\n",
    "\n",
    "        # objectives = []\n",
    "        # for individual in population:\n",
    "        #     objectives.append(self.calculate_distance(individual))\n",
    "\n",
    "        # # objectives_weight = objectives.copy()\n",
    "\n",
    "        length = len(population)\n",
    "        for i in range(self.LAMBDA):\n",
    "            random_list = random.sample(range(0, length),k)\n",
    "            best = population[random_list[0]]\n",
    "            \n",
    "            for j in random_list:\n",
    "                if (population[j][1] < best[1]):\n",
    "                    best = population[j]\n",
    "\n",
    "            population_new.append(best)\n",
    "            \n",
    "        \n",
    "        return population_new"
   ]
  },
  {
   "cell_type": "markdown",
   "metadata": {},
   "source": [
    "## LSP"
   ]
  },
  {
   "cell_type": "code",
   "execution_count": 36,
   "metadata": {},
   "outputs": [],
   "source": [
    "class r0733300(r0733300):\n",
    "    def lsp_2_opt(self, permutation):\n",
    "\n",
    "        best_fitness = self.calculate_distance(permutation)\n",
    "        best_permutation = permutation\n",
    "\n",
    "        # print('ini' + str(permutation))\n",
    "        # print(best_fitness)\n",
    "        length = len(permutation)\n",
    "        for i in range(length-3):\n",
    "            for j in range(i+2, length-1):\n",
    "                copy1 = permutation.copy()\n",
    "                # print('copy1' + str(permutation))\n",
    "                a = permutation[i]\n",
    "                b = permutation[i+1]\n",
    "                c = permutation[j]\n",
    "                d = permutation[j+1]\n",
    "\n",
    "                a_copy = a\n",
    "                b_copy = b\n",
    "\n",
    "                copy1[i] = c\n",
    "                copy1[i+1] = d\n",
    "                copy1[j] = a_copy\n",
    "                copy1[j+1] = b_copy\n",
    "\n",
    "                \n",
    "\n",
    "                copy_fitness = self.calculate_distance(copy1)\n",
    "                if(copy_fitness<best_fitness):\n",
    "                    best_fitness = copy_fitness\n",
    "                    best_permutation = copy1\n",
    "\n",
    "                    # print('modified    ' + str(best_permutation))\n",
    "                    # print(best_fitness)\n",
    "\n",
    "\n",
    "        # print('mod' + str(best_permutation))\n",
    "        # print(best_fitness)\n",
    "        return best_permutation\n",
    "\n",
    "\n",
    "    def lsp_2_opt_symmetry(self, permutation):\n",
    "\n",
    "        best_fitness = self.calculate_distance(permutation)\n",
    "        best_permutation = permutation\n",
    "\n",
    "        # print('ini' + str(permutation))\n",
    "        # print(best_fitness)\n",
    "        length = len(permutation)\n",
    "        for i in range(int(length/2)-1):\n",
    "            copy1 = permutation.copy()\n",
    "            # print('copy1' + str(permutation))\n",
    "            a = permutation[i]\n",
    "            b = permutation[i+1]\n",
    "            c = permutation[length -i-2]\n",
    "            d = permutation[length -i -1]\n",
    "\n",
    "            a_copy = a\n",
    "            b_copy = b\n",
    "\n",
    "            copy1[i] = c\n",
    "            copy1[i+1] = d\n",
    "            copy1[length -i-2] = a_copy\n",
    "            copy1[length-i - 1] = b_copy\n",
    "\n",
    "            \n",
    "\n",
    "            copy_fitness = self.calculate_distance(copy1)\n",
    "            if(copy_fitness<best_fitness):\n",
    "                best_fitness = copy_fitness\n",
    "                best_permutation = copy1\n",
    "\n",
    "                # print('modified    ' + str(best_permutation))\n",
    "                # print(best_fitness)\n",
    "\n",
    "\n",
    "        # print('mod' + str(best_permutation))\n",
    "        # print(best_fitness)\n",
    "        return best_permutation"
   ]
  },
  {
   "cell_type": "markdown",
   "metadata": {},
   "source": [
    "## Plot"
   ]
  },
  {
   "cell_type": "code",
   "execution_count": 37,
   "metadata": {},
   "outputs": [],
   "source": [
    "class r0733300(r0733300):\n",
    "    def plotFitness(self, meanfitnesses, bestfitnesses):\n",
    "        plt.figure()\n",
    "        plt.plot(range(len(meanfitnesses)), meanfitnesses)\n",
    "        plt.plot(range(len(meanfitnesses)), bestfitnesses)\n",
    "        plt.legend(['Mean Fitness','Best Fitness'],loc = 'upper left')\n",
    "        plt.show()"
   ]
  },
  {
   "cell_type": "markdown",
   "metadata": {},
   "source": [
    "## Diversify"
   ]
  },
  {
   "cell_type": "markdown",
   "metadata": {},
   "source": [
    "### Diversity Matrix"
   ]
  },
  {
   "cell_type": "code",
   "execution_count": 38,
   "metadata": {},
   "outputs": [],
   "source": [
    "class r0733300(r0733300):\n",
    "    def calculateDiveristy(self, population):\n",
    "        P = len(population)\n",
    "        L = len(population[0][0])\n",
    "        # print(P)\n",
    "        # print(L)\n",
    "        permutations = np.asarray(population)[:,0]\n",
    "        # average = np.mean(permutations,axis=0)\n",
    "        permutationsArray = []\n",
    "        for i in permutations:\n",
    "            permutationsArray.append(np.array(i))\n",
    "        \n",
    "        adjacencyMatrix = np.zeros((L,L))\n",
    "        for i in permutationsArray:\n",
    "            for j in range(L-1):\n",
    "                adjacencyMatrix[i[j]][i[j+1]] += 1\n",
    "            adjacencyMatrix[i[L-1]][i[0]] +=1\n",
    "        \n",
    "        # print(adjacencyMatrix)\n",
    "        \n",
    "        # print(np.shape(permutationsArray))\n",
    "        # average = np.mean(permutationsArray, axis=0)\n",
    "        # print(average)\n",
    "        variance = np.std(adjacencyMatrix, axis= 0)\n",
    "        # variance = np.var(adjacencyMatrix, axis= 0)\n",
    "        # print(np.shape(variance))\n",
    "        return sum(variance)/(L*P)\n",
    "    \n",
    "    \n",
    "        \n",
    "        \n",
    "\n",
    "# algo = r0733300();\n",
    "# algo.LAMBDA = 100\n",
    "# file = open(\"tour100(1).csv\")\n",
    "# algo.K_TOURNAMENT_SIZE = 3\n",
    "# algo.K_TOURNAMENT_SIZE_elimination = 3\n",
    "# algo.alpha = 0.5\n",
    "# distanceMatrix = np.loadtxt(file, delimiter=\",\")\n",
    "# algo.distanceMatrix = distanceMatrix\n",
    "# pop1 = algo.initialize(distanceMatrix)\n",
    "# print(algo.calculateDiveristy(pop1))\n",
    "# randomDiversity = algo.calculateDiveristy(pop1)\n",
    "# pop2 = algo.selectiveInializationBatch(10)\n",
    "# print(algo.calculateDiveristy(pop2))\n",
    "# selectiveDiversity = algo.calculateDiveristy(pop2)\n",
    "# while(selectiveDiversity >= 2 * randomDiversity):\n",
    "#     newPopulation = algo.selectiveInializationBatch(20)\n",
    "#     pop2 += newPopulation\n",
    "#     newOffsprings = []\n",
    "#     for i in tqdm(range(algo.MU)):\n",
    "#     # for i in range(self.MU):\n",
    "#         p1 = algo.k_tournament_selection(pop2)\n",
    "#         p2 = algo.k_tournament_selection(pop2)\n",
    "        \n",
    "#         offspring1 = algo.orderCrossover(p1, p2)\n",
    "#         offspring2 = algo.orderCrossover(p2, p1)\n",
    "\n",
    "#         offspring1 = algo.mutation_swap(offspring1)\n",
    "#         offspring2 = algo.mutation_swap(offspring2)\n",
    "\n",
    "#         offspring1 = algo.mutation_insert(offspring1)\n",
    "#         offspring2 = algo.mutation_insert(offspring2)\n",
    "\n",
    "#         newOffsprings.append(offspring1)\n",
    "#         newOffsprings.append(offspring2)\n",
    "    \n",
    "#     pop2 += newOffsprings\n",
    "#     pop2= algo.eliminate_k_turnament(pop2)\n",
    "#     selectiveDiversity = algo.calculateDiveristy(pop2)\n",
    "#     print(selectiveDiversity)\n",
    "    \n"
   ]
  },
  {
   "cell_type": "code",
   "execution_count": 39,
   "metadata": {},
   "outputs": [
    {
     "name": "stderr",
     "output_type": "stream",
     "text": [
      "100%|██████████| 100/100 [00:00<00:00, 160.32it/s]\n"
     ]
    }
   ],
   "source": [
    "algo = r0733300();\n",
    "file = open(\"tour100(1).csv\")\n",
    "distanceMatrix = np.loadtxt(file, delimiter=\",\")\n",
    "algo.distanceMatrix = distanceMatrix\n",
    "# pop = algo.selectiveInializationBatch(5)\n",
    "# pop2 = algo.initialize(distanceMatrix)\n",
    "pop3 = algo.greedyInializationBatch(distanceMatrix, algo.LAMBDA)\n",
    "\n",
    "# print(np.shape(pop3[0][0]))\n",
    "# algo.orderCrossover(pop2[0], pop2[1])\n",
    "# algo.calculateDiveristy(pop)"
   ]
  },
  {
   "cell_type": "markdown",
   "metadata": {},
   "source": [
    "### Diversify Elimination"
   ]
  },
  {
   "cell_type": "code",
   "execution_count": 40,
   "metadata": {},
   "outputs": [],
   "source": [
    "# class r0733300(r0733300):\n",
    "#     def elimination_diversify(self, diversityAverge, population, lamba):\n",
    "        \n",
    "        "
   ]
  },
  {
   "cell_type": "markdown",
   "metadata": {},
   "source": [
    "### DiversifyArchive Generation\n"
   ]
  },
  {
   "cell_type": "code",
   "execution_count": 41,
   "metadata": {},
   "outputs": [],
   "source": [
    "class r0733300(r0733300):\n",
    "    def archiveGeneration(self, k, threshold, size, archiveSize):\n",
    "        # archive = []\n",
    "        randomInitialization = self.initialize(self.distanceMatrix, size)\n",
    "        randomDiversity = self.calculateDiveristy(randomInitialization)\n",
    "        \n",
    "        candidates = self.selectiveInializationBatch(k,size)\n",
    "        # candidates = self.initialize(self.distanceMatrix, size)\n",
    "        # candidates = self.greedyInializationBatch(self.distanceMatrix, size)\n",
    "        \n",
    "        P = len(candidates)\n",
    "        L = len(candidates[0][0])\n",
    "        permutations = np.asarray(candidates)[:,0]\n",
    "        # average = np.mean(permutations,axis=0)\n",
    "        permutationsArray = []\n",
    "        for i in permutations:\n",
    "            permutationsArray.append(np.array(i))\n",
    "        \n",
    "        adjacencyMatrix = np.zeros((L,L))\n",
    "\n",
    "        for i in permutationsArray:\n",
    "            for j in range(L-1):\n",
    "                adjacencyMatrix[i[j]][i[j+1]] += 1\n",
    "            adjacencyMatrix[i[L-1]][i[0]] +=1\n",
    "        # print(np.shape(adjacencyMatrix))\n",
    "        # print(adjacencyMatrix[:,0])\n",
    "        meanAdjacency = []\n",
    "        for i in range(L):\n",
    "            meanAdjacency.append(np.average(range(L), weights = adjacencyMatrix[i,:]))\n",
    "\n",
    "        print(meanAdjacency)\n",
    "        \n",
    "        AdjacencyRoute = np.zeros((P,L))\n",
    "        for i in range(P):\n",
    "            for j in range(L-1):\n",
    "                AdjacencyRoute[i][permutationsArray[i][j]] = permutationsArray[i][j+1]\n",
    "            AdjacencyRoute[i][permutationsArray[i][-1]] = permutationsArray[i][0]\n",
    "        print(permutationsArray[0])\n",
    "        print(AdjacencyRoute[0])\n",
    "        \n",
    "        diversifyList = []\n",
    "        for i in AdjacencyRoute:\n",
    "            diver = np.sum(np.std(meanAdjacency  + i, axis = 0))\n",
    "            diversifyList.append(diver)\n",
    "        \n",
    "        # print(diversifyList)\n",
    "        # print(np.argsort(diversifyList))\n",
    "        # print(np.argsort((diversifyList))[-11:-1])\n",
    "        archiveIndex = np.argsort((diversifyList))[-1-archiveSize:-1]\n",
    "        archive = np.array(permutationsArray)[archiveIndex]\n",
    "        archiveWithDistance = []\n",
    "        for i in range(len(archive)):\n",
    "            # print(self.calculate_distance(i,self.distanceMatrix))\n",
    "            archiveWithDistance.append([archive[i], self.calculate_distance(archive[i],self.distanceMatrix)])\n",
    "        # print(archiveWithDistance[0])\n",
    "        # archive = permutationsArray[]\n",
    "        # print(len(archive))\n",
    "        print(self.calculateDiveristy(archiveWithDistance))\n",
    "\n",
    "\n",
    "# algo = r0733300();\n",
    "# file = open(\"tour29(1).csv\")\n",
    "# distanceMatrix = np.loadtxt(file, delimiter=\",\")\n",
    "# algo.distanceMatrix = distanceMatrix\n",
    "# algo.archiveGeneration(20,0.5,200,50)\n",
    "\n"
   ]
  },
  {
   "cell_type": "code",
   "execution_count": 42,
   "metadata": {},
   "outputs": [
    {
     "name": "stderr",
     "output_type": "stream",
     "text": [
      "100%|██████████| 50/50 [00:00<00:00, 294.96it/s]\n"
     ]
    }
   ],
   "source": [
    "algo = r0733300();\n",
    "file = open(\"tour29(1).csv\")\n",
    "distanceMatrix = np.loadtxt(file, delimiter=\",\")\n",
    "algo.distanceMatrix = distanceMatrix\n",
    "pop = algo.selectiveInializationBatch(20,50)\n",
    "# print(algo.calculateDiveristy(pop))"
   ]
  },
  {
   "cell_type": "code",
   "execution_count": 43,
   "metadata": {},
   "outputs": [],
   "source": [
    "popSort = np.argsort(pop,axis = 0 )[:,1]\n",
    "elites = np.array(pop)[popSort][:3]\n",
    "elitesNotChosen = []\n",
    "for i in elites:\n",
    "    if(i.tolist() in pop):\n",
    "        elitesNotChosen.append(i.tolist())\n",
    "pop += elitesNotChosen\n"
   ]
  },
  {
   "cell_type": "code",
   "execution_count": 44,
   "metadata": {},
   "outputs": [
    {
     "data": {
      "text/plain": [
       "array([list([4, 0, 23, 22, 7, 27, 14, 10, 26, 25, 6, 12, 19, 16, 8, 18, 1, 20, 17, 11, 21, 28, 13, 3, 5, 15, 2, 9, 24]),\n",
       "       405782.30000000005], dtype=object)"
      ]
     },
     "execution_count": 44,
     "metadata": {},
     "output_type": "execute_result"
    }
   ],
   "source": [
    "elites[-1]"
   ]
  },
  {
   "cell_type": "code",
   "execution_count": 45,
   "metadata": {},
   "outputs": [
    {
     "data": {
      "text/plain": [
       "[[12,\n",
       "  21,\n",
       "  17,\n",
       "  4,\n",
       "  19,\n",
       "  28,\n",
       "  11,\n",
       "  6,\n",
       "  27,\n",
       "  23,\n",
       "  13,\n",
       "  7,\n",
       "  5,\n",
       "  15,\n",
       "  2,\n",
       "  18,\n",
       "  14,\n",
       "  0,\n",
       "  8,\n",
       "  10,\n",
       "  25,\n",
       "  20,\n",
       "  26,\n",
       "  22,\n",
       "  1,\n",
       "  16,\n",
       "  3,\n",
       "  24,\n",
       "  9],\n",
       " 486615.67000000004]"
      ]
     },
     "execution_count": 45,
     "metadata": {},
     "output_type": "execute_result"
    }
   ],
   "source": [
    "pop[0]"
   ]
  },
  {
   "cell_type": "markdown",
   "metadata": {},
   "source": [
    "## Elitism"
   ]
  },
  {
   "cell_type": "markdown",
   "metadata": {},
   "source": [
    "### Elitism Main Loop"
   ]
  },
  {
   "cell_type": "code",
   "execution_count": 46,
   "metadata": {},
   "outputs": [],
   "source": [
    "class r0733300(r0733300):\n",
    "    def optimizeElitism(self, filename, initializaMethod):\n",
    "        # Read distance matrix from file.\n",
    "        file = open(filename)\n",
    "        distanceMatrix = np.loadtxt(file, delimiter=\",\")\n",
    "        self.distanceMatrix = distanceMatrix\n",
    "        file.close()\n",
    "        if(initializaMethod == 0):\n",
    "            population = self.initialize(self.distanceMatrix, self.LAMBDA)\n",
    "        elif(initializaMethod == 1):\n",
    "            population  = self.selectiveInializationBatch(self.selectiveIni, self.LAMBDA) \n",
    "        elif (initializaMethod ==2):\n",
    "            population = self.greedyInializationBatch(self.distanceMatrix, self.LAMBDA)\n",
    "\n",
    "        population += self.greedyInializationBatch(self.distanceMatrix, 10)\n",
    "\n",
    "        meanFitnesses = []\n",
    "        bestFitnesses = []\n",
    "\n",
    "        meanObjective = np.mean(np.asarray(population)[:,1])\n",
    "        bestObjective = np.min(population,axis=0)[1]\n",
    "        initialDiversity = self.calculateDiveristy(population)\n",
    "\n",
    "        meanFitnesses.append((meanObjective))\n",
    "        bestFitnesses.append(bestObjective)\n",
    "\n",
    "        print(\" Inital Mean Objectives : \" + str(meanObjective))\n",
    "        print(\" Inital Best Objectives : \" + str(bestObjective))\n",
    "        print(\" diversity         : \" + str(self.calculateDiveristy(population)))\n",
    "        \n",
    "        start = time.time()\n",
    "        while (time.time()-start <= 300):\n",
    "            self.iteration += 1\n",
    "\n",
    "            newOffsprings = []\n",
    "\n",
    "            popSort = np.argsort(population,axis = 0 )[:,1]\n",
    "            elites = np.array(population)[popSort][:4]\n",
    "\n",
    "            for i in tqdm(range(self.EliteNumber)):\n",
    "                p1 = elites[i]\n",
    "                p2 = self.k_tournament_selection(population, self.K_TOURNAMENT_SIZE)\n",
    "                offspring1 = self.orderCrossover(p1, p2)\n",
    "                offspring2 = self.orderCrossover(p2, p1)\n",
    "\n",
    "                offspring1 = self.mutation_swap(offspring1, self.alpha)\n",
    "                offspring2 = self.mutation_swap(offspring2, self.alpha)\n",
    "\n",
    "                offspring1 = self.mutation_insert(offspring1, self.alpha)\n",
    "                offspring2 = self.mutation_insert(offspring2, self.alpha)\n",
    "\n",
    "                newOffsprings.append(offspring1)\n",
    "                newOffsprings.append(offspring2)\n",
    "\n",
    "            \n",
    "            for i in tqdm(range(self.MU)):\n",
    "            # for i in range(self.MU):\n",
    "                p1 = self.k_tournament_selection(population,self.K_TOURNAMENT_SIZE)\n",
    "                p2 = self.k_tournament_selection(population, self.K_TOURNAMENT_SIZE)\n",
    "                # p1 = population[0]\n",
    "                # p2 = population[1]\n",
    "                while(True ): \n",
    "                    offspring1 = self.orderCrossover(p1, p2)\n",
    "                    offspring2 = self.orderCrossover(p2, p1)\n",
    "                    # offspring1 = self.recominbation_crossover(p1,p2)\n",
    "                    # offspring2 = self.recominbation_crossover(p2, p1)\n",
    "\n",
    "                    offspring1 = self.mutation_swap(offspring1, self.alpha)\n",
    "                    offspring2 = self.mutation_swap(offspring2, self.alpha)\n",
    "\n",
    "                    offspring1 = self.mutation_insert(offspring1, self.alpha)\n",
    "                    offspring2 = self.mutation_insert(offspring2, self.alpha)\n",
    "\n",
    "                    newOffsprings.append(offspring1)\n",
    "                    newOffsprings.append(offspring2)\n",
    "                    \n",
    "                    if(offspring1[1] < min(p1[1], p2[1]) or offspring2[1] <= min(p1[1], p2[1]) or random.random() < self.alpha):\n",
    "                        break\n",
    "                \n",
    "            # for i in population:\n",
    "            #     i = self.mutation_swap(i, self.alpha)\n",
    "            #     i = self.mutation_insert(i, self.alpha)\n",
    "\n",
    "\n",
    "            population += newOffsprings\n",
    "            population= self.eliminate_k_turnament(population,self.K_TOURNAMENT_SIZE_elimination)\n",
    "            \n",
    "            # add elites to population\n",
    "            elitesNotChosen = []\n",
    "            for i in elites:\n",
    "                # print(i)\n",
    "                if i.tolist() not in population:\n",
    "                    # print(\"elites chosen\")\n",
    "                    elitesNotChosen.append(i.tolist())\n",
    "            population += elitesNotChosen\n",
    "\n",
    "            print(np.shape(population))\n",
    "\n",
    "        \n",
    "            meanObjective = np.mean(np.asarray(population)[:,1])\n",
    "            bestObjective = np.min(population,axis=0)[1]\n",
    "            # bestSolution = population[np.argmin(objectives)]\n",
    "\n",
    "            meanFitnesses.append((meanObjective))\n",
    "            bestFitnesses.append(bestObjective)\n",
    "\n",
    "            diversify = self.calculateDiveristy(population)\n",
    "            \n",
    "            print(self.iteration)\n",
    "            print(\" Mean Objectives : \" + str(meanObjective))\n",
    "            print(\" Best Objectives : \" + str(bestObjective))\n",
    "            print(\" diversity         : \" + str(self.calculateDiveristy(population)))\n",
    "            print(\"Time: \" + str(time.time()-start))\n",
    "            \n",
    "            if(diversify >= 3* initialDiversity):\n",
    "                print(\"  start diversifying\")\n",
    "            while(diversify >= 3 * initialDiversity):\n",
    "                newPopulation = self.selectiveInializationBatch(self.selective_Diversify, self.LAMBDA_Diversify)\n",
    "                newPopulation += self.initialize(self.distanceMatrix,self.LAMBDA_Diversify)\n",
    "                # print(\"new Population\" + str(self.calculateDiveristy(newPopulation)))\n",
    "                \n",
    "                # population += newPopulation\n",
    "                newOffsprings = []\n",
    "                \n",
    "                for i in tqdm(range(self.MU)):\n",
    "                    p1 = self.k_tournament_selection(population,self.K_TOURNAMENT_Size_Diversify)\n",
    "                    p2 = self.k_tournament_selection(newPopulation, self.K_TOURNAMENT_Size_Diversify)\n",
    "                    offspring1 = self.orderCrossover(p1, p2)\n",
    "                    offspring2 = self.orderCrossover(p2, p1)\n",
    "\n",
    "                    offspring1 = self.mutation_swap(offspring1, self.alphaDiversity)\n",
    "                    offspring2 = self.mutation_swap(offspring2, self.alphaDiversity)\n",
    "\n",
    "                    offspring1 = self.mutation_insert(offspring1, self.alphaDiversity)\n",
    "                    offspring2 = self.mutation_insert(offspring2, self.alphaDiversity)\n",
    "\n",
    "                    newOffsprings.append(offspring1)\n",
    "                    newOffsprings.append(offspring2)\n",
    "                \n",
    "                population += newOffsprings\n",
    "                # print(\"population size \" + str(len(population)))\n",
    "                population= self.eliminate_k_turnament(population,self.K_TOURNAMENT_SIZE_elimination_Diversify)\n",
    "                # print(\"population size \" + str(len(population)))\n",
    "                diversify = self.calculateDiveristy(population)\n",
    "                print(\"New diverisity:    \" + str(diversify))\n",
    "\n",
    "\n",
    "        self.plotFitness(meanFitnesses, bestFitnesses)"
   ]
  },
  {
   "cell_type": "markdown",
   "metadata": {},
   "source": [
    "### Elitism Process"
   ]
  },
  {
   "cell_type": "code",
   "execution_count": 47,
   "metadata": {},
   "outputs": [
    {
     "name": "stderr",
     "output_type": "stream",
     "text": [
      "100%|██████████| 200/200 [00:00<00:00, 515.97it/s]\n",
      "100%|██████████| 10/10 [00:00<00:00, 1591.89it/s]\n"
     ]
    },
    {
     "name": "stdout",
     "output_type": "stream",
     "text": [
      " Inital Mean Objectives : 56005.71048845004\n",
      " Inital Best Objectives : 30786.287230082078\n",
      " diversity         : 0.04734366490183867\n"
     ]
    },
    {
     "name": "stderr",
     "output_type": "stream",
     "text": [
      "100%|██████████| 3/3 [00:00<00:00, 2475.98it/s]\n",
      "100%|██████████| 200/200 [00:00<00:00, 267.35it/s]\n"
     ]
    },
    {
     "name": "stdout",
     "output_type": "stream",
     "text": [
      "(200, 2)\n",
      "1\n",
      " Mean Objectives : 32223.070557764782\n",
      " Best Objectives : 29625.24241290765\n",
      " diversity         : 0.137045749741396\n",
      "Time: 0.7702755928039551\n"
     ]
    },
    {
     "name": "stderr",
     "output_type": "stream",
     "text": [
      "100%|██████████| 3/3 [00:00<00:00, 2270.87it/s]\n",
      "100%|██████████| 200/200 [00:00<00:00, 256.41it/s]\n"
     ]
    },
    {
     "name": "stdout",
     "output_type": "stream",
     "text": [
      "(200, 2)\n",
      "2\n",
      " Mean Objectives : 30076.654832844284\n",
      " Best Objectives : 28995.235353721142\n",
      " diversity         : 0.15456645838239305\n",
      "Time: 1.5739994049072266\n",
      "  start diversifying\n"
     ]
    },
    {
     "name": "stderr",
     "output_type": "stream",
     "text": [
      "100%|██████████| 300/300 [00:00<00:00, 560.33it/s]\n"
     ]
    },
    {
     "name": "stdout",
     "output_type": "stream",
     "text": [
      "<module 'random' from '/usr/lib/python3.8/random.py'>\n"
     ]
    },
    {
     "name": "stderr",
     "output_type": "stream",
     "text": [
      "100%|██████████| 200/200 [00:00<00:00, 1379.11it/s]\n"
     ]
    },
    {
     "name": "stdout",
     "output_type": "stream",
     "text": [
      "New diverisity:    0.12553335435674443\n"
     ]
    },
    {
     "name": "stderr",
     "output_type": "stream",
     "text": [
      "100%|██████████| 3/3 [00:00<00:00, 1704.77it/s]\n",
      "100%|██████████| 200/200 [00:00<00:00, 292.31it/s]\n"
     ]
    },
    {
     "name": "stdout",
     "output_type": "stream",
     "text": [
      "(200, 2)\n",
      "3\n",
      " Mean Objectives : 29387.96471441802\n",
      " Best Objectives : 28778.560777468996\n",
      " diversity         : 0.16120819471066594\n",
      "Time: 2.9839351177215576\n",
      "  start diversifying\n"
     ]
    },
    {
     "name": "stderr",
     "output_type": "stream",
     "text": [
      "100%|██████████| 300/300 [00:00<00:00, 521.79it/s]\n"
     ]
    },
    {
     "name": "stdout",
     "output_type": "stream",
     "text": [
      "<module 'random' from '/usr/lib/python3.8/random.py'>\n"
     ]
    },
    {
     "name": "stderr",
     "output_type": "stream",
     "text": [
      "100%|██████████| 200/200 [00:00<00:00, 2631.05it/s]\n"
     ]
    },
    {
     "name": "stdout",
     "output_type": "stream",
     "text": [
      "New diverisity:    0.13246082548908428\n"
     ]
    },
    {
     "name": "stderr",
     "output_type": "stream",
     "text": [
      "100%|██████████| 3/3 [00:00<00:00, 2538.92it/s]\n",
      "100%|██████████| 200/200 [00:00<00:00, 235.59it/s]\n"
     ]
    },
    {
     "name": "stdout",
     "output_type": "stream",
     "text": [
      "(200, 2)\n",
      "4\n",
      " Mean Objectives : 29030.672409776365\n",
      " Best Objectives : 28778.560777468996\n",
      " diversity         : 0.17153273363335636\n",
      "Time: 4.532723665237427\n",
      "  start diversifying\n"
     ]
    },
    {
     "name": "stderr",
     "output_type": "stream",
     "text": [
      "100%|██████████| 300/300 [00:00<00:00, 580.33it/s]\n"
     ]
    },
    {
     "name": "stdout",
     "output_type": "stream",
     "text": [
      "<module 'random' from '/usr/lib/python3.8/random.py'>\n"
     ]
    },
    {
     "name": "stderr",
     "output_type": "stream",
     "text": [
      "100%|██████████| 200/200 [00:00<00:00, 1804.94it/s]\n"
     ]
    },
    {
     "name": "stdout",
     "output_type": "stream",
     "text": [
      "New diverisity:    0.13992724052666247\n"
     ]
    },
    {
     "name": "stderr",
     "output_type": "stream",
     "text": [
      "100%|██████████| 3/3 [00:00<00:00, 2414.68it/s]\n",
      "100%|██████████| 200/200 [00:00<00:00, 359.17it/s]\n"
     ]
    },
    {
     "name": "stdout",
     "output_type": "stream",
     "text": [
      "(200, 2)\n",
      "5\n",
      " Mean Objectives : 29206.430616825364\n",
      " Best Objectives : 28778.560777468996\n",
      " diversity         : 0.1769757350210088\n",
      "Time: 5.767865180969238\n",
      "  start diversifying\n"
     ]
    },
    {
     "name": "stderr",
     "output_type": "stream",
     "text": [
      "100%|██████████| 300/300 [00:00<00:00, 511.54it/s]\n"
     ]
    },
    {
     "name": "stdout",
     "output_type": "stream",
     "text": [
      "<module 'random' from '/usr/lib/python3.8/random.py'>\n"
     ]
    },
    {
     "name": "stderr",
     "output_type": "stream",
     "text": [
      "100%|██████████| 200/200 [00:00<00:00, 2204.11it/s]\n"
     ]
    },
    {
     "name": "stdout",
     "output_type": "stream",
     "text": [
      "New diverisity:    0.14212960171568045\n"
     ]
    },
    {
     "name": "stderr",
     "output_type": "stream",
     "text": [
      "100%|██████████| 300/300 [00:00<00:00, 586.10it/s]\n"
     ]
    },
    {
     "name": "stdout",
     "output_type": "stream",
     "text": [
      "<module 'random' from '/usr/lib/python3.8/random.py'>\n"
     ]
    },
    {
     "name": "stderr",
     "output_type": "stream",
     "text": [
      "100%|██████████| 200/200 [00:00<00:00, 2496.87it/s]\n"
     ]
    },
    {
     "name": "stdout",
     "output_type": "stream",
     "text": [
      "New diverisity:    0.1251170721892732\n"
     ]
    },
    {
     "name": "stderr",
     "output_type": "stream",
     "text": [
      "100%|██████████| 3/3 [00:00<00:00, 1949.93it/s]\n",
      "100%|██████████| 200/200 [00:00<00:00, 353.67it/s]\n"
     ]
    },
    {
     "name": "stdout",
     "output_type": "stream",
     "text": [
      "(200, 2)\n",
      "6\n",
      " Mean Objectives : 29356.570262178037\n",
      " Best Objectives : 28764.35577325832\n",
      " diversity         : 0.17388048435186707\n",
      "Time: 7.669944763183594\n",
      "  start diversifying\n"
     ]
    },
    {
     "name": "stderr",
     "output_type": "stream",
     "text": [
      "100%|██████████| 300/300 [00:00<00:00, 579.75it/s]\n"
     ]
    },
    {
     "name": "stdout",
     "output_type": "stream",
     "text": [
      "<module 'random' from '/usr/lib/python3.8/random.py'>\n"
     ]
    },
    {
     "name": "stderr",
     "output_type": "stream",
     "text": [
      "100%|██████████| 200/200 [00:00<00:00, 2751.27it/s]\n"
     ]
    },
    {
     "name": "stdout",
     "output_type": "stream",
     "text": [
      "New diverisity:    0.13249852430600706\n"
     ]
    },
    {
     "name": "stderr",
     "output_type": "stream",
     "text": [
      "100%|██████████| 3/3 [00:00<00:00, 2200.19it/s]\n",
      "100%|██████████| 200/200 [00:00<00:00, 375.55it/s]\n"
     ]
    },
    {
     "name": "stdout",
     "output_type": "stream",
     "text": [
      "(200, 2)\n",
      "7\n",
      " Mean Objectives : 28883.5996039035\n",
      " Best Objectives : 28764.35577325832\n",
      " diversity         : 0.18069317035434468\n",
      "Time: 8.836947202682495\n",
      "  start diversifying\n"
     ]
    },
    {
     "name": "stderr",
     "output_type": "stream",
     "text": [
      "100%|██████████| 300/300 [00:00<00:00, 607.68it/s]\n"
     ]
    },
    {
     "name": "stdout",
     "output_type": "stream",
     "text": [
      "<module 'random' from '/usr/lib/python3.8/random.py'>\n"
     ]
    },
    {
     "name": "stderr",
     "output_type": "stream",
     "text": [
      "100%|██████████| 200/200 [00:00<00:00, 2834.03it/s]\n"
     ]
    },
    {
     "name": "stdout",
     "output_type": "stream",
     "text": [
      "New diverisity:    0.14112962287624575\n"
     ]
    },
    {
     "name": "stderr",
     "output_type": "stream",
     "text": [
      "100%|██████████| 3/3 [00:00<00:00, 2185.29it/s]\n",
      "100%|██████████| 200/200 [00:00<00:00, 255.17it/s]\n"
     ]
    },
    {
     "name": "stdout",
     "output_type": "stream",
     "text": [
      "(200, 2)\n",
      "8\n",
      " Mean Objectives : 28868.518659565827\n",
      " Best Objectives : 28764.35577325832\n",
      " diversity         : 0.18178310346177348\n",
      "Time: 10.226720094680786\n",
      "  start diversifying\n"
     ]
    },
    {
     "name": "stderr",
     "output_type": "stream",
     "text": [
      "100%|██████████| 300/300 [00:00<00:00, 574.17it/s]\n"
     ]
    },
    {
     "name": "stdout",
     "output_type": "stream",
     "text": [
      "<module 'random' from '/usr/lib/python3.8/random.py'>\n"
     ]
    },
    {
     "name": "stderr",
     "output_type": "stream",
     "text": [
      "100%|██████████| 200/200 [00:00<00:00, 2719.06it/s]\n"
     ]
    },
    {
     "name": "stdout",
     "output_type": "stream",
     "text": [
      "New diverisity:    0.143881827500135\n"
     ]
    },
    {
     "name": "stderr",
     "output_type": "stream",
     "text": [
      "100%|██████████| 300/300 [00:00<00:00, 577.80it/s]\n"
     ]
    },
    {
     "name": "stdout",
     "output_type": "stream",
     "text": [
      "<module 'random' from '/usr/lib/python3.8/random.py'>\n"
     ]
    },
    {
     "name": "stderr",
     "output_type": "stream",
     "text": [
      "100%|██████████| 200/200 [00:00<00:00, 2642.77it/s]\n"
     ]
    },
    {
     "name": "stdout",
     "output_type": "stream",
     "text": [
      "New diverisity:    0.12306970451726314\n"
     ]
    },
    {
     "name": "stderr",
     "output_type": "stream",
     "text": [
      "100%|██████████| 3/3 [00:00<00:00, 2457.12it/s]\n",
      "100%|██████████| 200/200 [00:00<00:00, 279.97it/s]\n"
     ]
    },
    {
     "name": "stdout",
     "output_type": "stream",
     "text": [
      "(200, 2)\n",
      "9\n",
      " Mean Objectives : 29395.202441839123\n",
      " Best Objectives : 28764.35577325832\n",
      " diversity         : 0.17766491377764934\n",
      "Time: 12.201415300369263\n",
      "  start diversifying\n"
     ]
    },
    {
     "name": "stderr",
     "output_type": "stream",
     "text": [
      "100%|██████████| 300/300 [00:00<00:00, 548.54it/s]\n"
     ]
    },
    {
     "name": "stdout",
     "output_type": "stream",
     "text": [
      "<module 'random' from '/usr/lib/python3.8/random.py'>\n"
     ]
    },
    {
     "name": "stderr",
     "output_type": "stream",
     "text": [
      "100%|██████████| 200/200 [00:00<00:00, 2835.94it/s]\n"
     ]
    },
    {
     "name": "stdout",
     "output_type": "stream",
     "text": [
      "New diverisity:    0.140096263473804\n"
     ]
    },
    {
     "name": "stderr",
     "output_type": "stream",
     "text": [
      "100%|██████████| 3/3 [00:00<00:00, 2499.09it/s]\n",
      "100%|██████████| 200/200 [00:00<00:00, 337.92it/s]\n"
     ]
    },
    {
     "name": "stdout",
     "output_type": "stream",
     "text": [
      "(200, 2)\n",
      "10\n",
      " Mean Objectives : 29169.131129922032\n",
      " Best Objectives : 28457.95861986554\n",
      " diversity         : 0.1793944187265534\n",
      "Time: 13.472095489501953\n",
      "  start diversifying\n"
     ]
    },
    {
     "name": "stderr",
     "output_type": "stream",
     "text": [
      "100%|██████████| 300/300 [00:00<00:00, 649.50it/s]\n"
     ]
    },
    {
     "name": "stdout",
     "output_type": "stream",
     "text": [
      "<module 'random' from '/usr/lib/python3.8/random.py'>\n"
     ]
    },
    {
     "name": "stderr",
     "output_type": "stream",
     "text": [
      "100%|██████████| 200/200 [00:00<00:00, 2618.28it/s]\n"
     ]
    },
    {
     "name": "stdout",
     "output_type": "stream",
     "text": [
      "New diverisity:    0.14635967301012542\n"
     ]
    },
    {
     "name": "stderr",
     "output_type": "stream",
     "text": [
      "100%|██████████| 300/300 [00:00<00:00, 579.96it/s]\n"
     ]
    },
    {
     "name": "stdout",
     "output_type": "stream",
     "text": [
      "<module 'random' from '/usr/lib/python3.8/random.py'>\n"
     ]
    },
    {
     "name": "stderr",
     "output_type": "stream",
     "text": [
      "100%|██████████| 200/200 [00:00<00:00, 2742.32it/s]\n"
     ]
    },
    {
     "name": "stdout",
     "output_type": "stream",
     "text": [
      "New diverisity:    0.1255818075730931\n"
     ]
    },
    {
     "name": "stderr",
     "output_type": "stream",
     "text": [
      "100%|██████████| 3/3 [00:00<00:00, 2251.37it/s]\n",
      "100%|██████████| 200/200 [00:00<00:00, 245.18it/s]\n"
     ]
    },
    {
     "name": "stdout",
     "output_type": "stream",
     "text": [
      "(200, 2)\n",
      "11\n",
      " Mean Objectives : 29258.662481908876\n",
      " Best Objectives : 28457.95861986554\n",
      " diversity         : 0.17314867492125882\n",
      "Time: 15.485973119735718\n",
      "  start diversifying\n"
     ]
    },
    {
     "name": "stderr",
     "output_type": "stream",
     "text": [
      "100%|██████████| 300/300 [00:00<00:00, 535.71it/s]\n"
     ]
    },
    {
     "name": "stdout",
     "output_type": "stream",
     "text": [
      "<module 'random' from '/usr/lib/python3.8/random.py'>\n"
     ]
    },
    {
     "name": "stderr",
     "output_type": "stream",
     "text": [
      "100%|██████████| 200/200 [00:00<00:00, 2805.49it/s]\n"
     ]
    },
    {
     "name": "stdout",
     "output_type": "stream",
     "text": [
      "New diverisity:    0.141907202177477\n"
     ]
    },
    {
     "name": "stderr",
     "output_type": "stream",
     "text": [
      "100%|██████████| 3/3 [00:00<00:00, 2492.16it/s]\n",
      "100%|██████████| 200/200 [00:00<00:00, 346.13it/s]\n"
     ]
    },
    {
     "name": "stdout",
     "output_type": "stream",
     "text": [
      "(200, 2)\n",
      "12\n",
      " Mean Objectives : 28813.734436845905\n",
      " Best Objectives : 28457.95861986554\n",
      " diversity         : 0.17892366106672727\n",
      "Time: 16.743412971496582\n",
      "  start diversifying\n"
     ]
    },
    {
     "name": "stderr",
     "output_type": "stream",
     "text": [
      "100%|██████████| 300/300 [00:00<00:00, 518.75it/s]\n"
     ]
    },
    {
     "name": "stdout",
     "output_type": "stream",
     "text": [
      "<module 'random' from '/usr/lib/python3.8/random.py'>\n"
     ]
    },
    {
     "name": "stderr",
     "output_type": "stream",
     "text": [
      "100%|██████████| 200/200 [00:00<00:00, 2656.82it/s]\n"
     ]
    },
    {
     "name": "stdout",
     "output_type": "stream",
     "text": [
      "New diverisity:    0.13984128824233102\n"
     ]
    },
    {
     "name": "stderr",
     "output_type": "stream",
     "text": [
      "100%|██████████| 3/3 [00:00<00:00, 1665.07it/s]\n",
      "100%|██████████| 200/200 [00:00<00:00, 310.43it/s]\n"
     ]
    },
    {
     "name": "stdout",
     "output_type": "stream",
     "text": [
      "(200, 2)\n",
      "13\n",
      " Mean Objectives : 28929.7744107577\n",
      " Best Objectives : 28457.95861986554\n",
      " diversity         : 0.1794619531583041\n",
      "Time: 18.088778734207153\n",
      "  start diversifying\n"
     ]
    },
    {
     "name": "stderr",
     "output_type": "stream",
     "text": [
      "100%|██████████| 300/300 [00:00<00:00, 665.24it/s]\n"
     ]
    },
    {
     "name": "stdout",
     "output_type": "stream",
     "text": [
      "<module 'random' from '/usr/lib/python3.8/random.py'>\n"
     ]
    },
    {
     "name": "stderr",
     "output_type": "stream",
     "text": [
      "100%|██████████| 200/200 [00:00<00:00, 2597.48it/s]\n"
     ]
    },
    {
     "name": "stdout",
     "output_type": "stream",
     "text": [
      "New diverisity:    0.14004505315854712\n"
     ]
    },
    {
     "name": "stderr",
     "output_type": "stream",
     "text": [
      "100%|██████████| 3/3 [00:00<00:00, 2450.90it/s]\n",
      "100%|██████████| 200/200 [00:00<00:00, 342.53it/s]\n"
     ]
    },
    {
     "name": "stdout",
     "output_type": "stream",
     "text": [
      "(200, 2)\n",
      "14\n",
      " Mean Objectives : 28955.79782891694\n",
      " Best Objectives : 28457.95861986554\n",
      " diversity         : 0.17898406432422634\n",
      "Time: 19.243612051010132\n",
      "  start diversifying\n"
     ]
    },
    {
     "name": "stderr",
     "output_type": "stream",
     "text": [
      "100%|██████████| 300/300 [00:00<00:00, 536.13it/s]\n"
     ]
    },
    {
     "name": "stdout",
     "output_type": "stream",
     "text": [
      "<module 'random' from '/usr/lib/python3.8/random.py'>\n"
     ]
    },
    {
     "name": "stderr",
     "output_type": "stream",
     "text": [
      "100%|██████████| 200/200 [00:00<00:00, 2844.80it/s]\n"
     ]
    },
    {
     "name": "stdout",
     "output_type": "stream",
     "text": [
      "New diverisity:    0.1466325879273638\n"
     ]
    },
    {
     "name": "stderr",
     "output_type": "stream",
     "text": [
      "100%|██████████| 300/300 [00:00<00:00, 672.61it/s]\n"
     ]
    },
    {
     "name": "stdout",
     "output_type": "stream",
     "text": [
      "<module 'random' from '/usr/lib/python3.8/random.py'>\n"
     ]
    },
    {
     "name": "stderr",
     "output_type": "stream",
     "text": [
      "100%|██████████| 200/200 [00:00<00:00, 2834.89it/s]\n"
     ]
    },
    {
     "name": "stdout",
     "output_type": "stream",
     "text": [
      "New diverisity:    0.126443058680481\n"
     ]
    },
    {
     "name": "stderr",
     "output_type": "stream",
     "text": [
      "100%|██████████| 3/3 [00:00<00:00, 2404.53it/s]\n",
      "100%|██████████| 200/200 [00:00<00:00, 401.16it/s]\n"
     ]
    },
    {
     "name": "stdout",
     "output_type": "stream",
     "text": [
      "(200, 2)\n",
      "15\n",
      " Mean Objectives : 28934.060823979056\n",
      " Best Objectives : 28457.95861986554\n",
      " diversity         : 0.1795589476573633\n",
      "Time: 20.95383930206299\n",
      "  start diversifying\n"
     ]
    },
    {
     "name": "stderr",
     "output_type": "stream",
     "text": [
      "100%|██████████| 300/300 [00:00<00:00, 654.95it/s]\n"
     ]
    },
    {
     "name": "stdout",
     "output_type": "stream",
     "text": [
      "<module 'random' from '/usr/lib/python3.8/random.py'>\n"
     ]
    },
    {
     "name": "stderr",
     "output_type": "stream",
     "text": [
      "100%|██████████| 200/200 [00:00<00:00, 2377.46it/s]\n"
     ]
    },
    {
     "name": "stdout",
     "output_type": "stream",
     "text": [
      "New diverisity:    0.14336886811705934\n"
     ]
    },
    {
     "name": "stderr",
     "output_type": "stream",
     "text": [
      "100%|██████████| 300/300 [00:00<00:00, 624.32it/s]\n"
     ]
    },
    {
     "name": "stdout",
     "output_type": "stream",
     "text": [
      "<module 'random' from '/usr/lib/python3.8/random.py'>\n"
     ]
    },
    {
     "name": "stderr",
     "output_type": "stream",
     "text": [
      "100%|██████████| 200/200 [00:00<00:00, 2728.60it/s]\n"
     ]
    },
    {
     "name": "stdout",
     "output_type": "stream",
     "text": [
      "New diverisity:    0.12559435801777907\n"
     ]
    },
    {
     "name": "stderr",
     "output_type": "stream",
     "text": [
      "100%|██████████| 3/3 [00:00<00:00, 2377.72it/s]\n",
      "100%|██████████| 200/200 [00:00<00:00, 325.38it/s]\n"
     ]
    },
    {
     "name": "stdout",
     "output_type": "stream",
     "text": [
      "(200, 2)\n",
      "16\n",
      " Mean Objectives : 28976.896386636858\n",
      " Best Objectives : 28457.95861986554\n",
      " diversity         : 0.17914077881353077\n",
      "Time: 22.73882818222046\n",
      "  start diversifying\n"
     ]
    },
    {
     "name": "stderr",
     "output_type": "stream",
     "text": [
      "100%|██████████| 300/300 [00:00<00:00, 542.28it/s]\n"
     ]
    },
    {
     "name": "stdout",
     "output_type": "stream",
     "text": [
      "<module 'random' from '/usr/lib/python3.8/random.py'>\n"
     ]
    },
    {
     "name": "stderr",
     "output_type": "stream",
     "text": [
      "100%|██████████| 200/200 [00:00<00:00, 2636.00it/s]\n"
     ]
    },
    {
     "name": "stdout",
     "output_type": "stream",
     "text": [
      "New diverisity:    0.14041762937905508\n"
     ]
    },
    {
     "name": "stderr",
     "output_type": "stream",
     "text": [
      "100%|██████████| 3/3 [00:00<00:00, 2162.01it/s]\n",
      "100%|██████████| 200/200 [00:00<00:00, 356.04it/s]\n"
     ]
    },
    {
     "name": "stdout",
     "output_type": "stream",
     "text": [
      "(200, 2)\n",
      "17\n",
      " Mean Objectives : 28938.40353881267\n",
      " Best Objectives : 28457.95861986554\n",
      " diversity         : 0.17920073590519164\n",
      "Time: 23.97460699081421\n",
      "  start diversifying\n"
     ]
    },
    {
     "name": "stderr",
     "output_type": "stream",
     "text": [
      "100%|██████████| 300/300 [00:00<00:00, 518.78it/s]\n"
     ]
    },
    {
     "name": "stdout",
     "output_type": "stream",
     "text": [
      "<module 'random' from '/usr/lib/python3.8/random.py'>\n"
     ]
    },
    {
     "name": "stderr",
     "output_type": "stream",
     "text": [
      "100%|██████████| 200/200 [00:00<00:00, 2672.48it/s]\n"
     ]
    },
    {
     "name": "stdout",
     "output_type": "stream",
     "text": [
      "New diverisity:    0.14348467086162794\n"
     ]
    },
    {
     "name": "stderr",
     "output_type": "stream",
     "text": [
      "100%|██████████| 300/300 [00:00<00:00, 508.14it/s]\n"
     ]
    },
    {
     "name": "stdout",
     "output_type": "stream",
     "text": [
      "<module 'random' from '/usr/lib/python3.8/random.py'>\n"
     ]
    },
    {
     "name": "stderr",
     "output_type": "stream",
     "text": [
      "100%|██████████| 200/200 [00:00<00:00, 2571.35it/s]\n"
     ]
    },
    {
     "name": "stdout",
     "output_type": "stream",
     "text": [
      "New diverisity:    0.12513871698770668\n"
     ]
    },
    {
     "name": "stderr",
     "output_type": "stream",
     "text": [
      "100%|██████████| 3/3 [00:00<00:00, 1352.86it/s]\n",
      "100%|██████████| 200/200 [00:00<00:00, 306.46it/s]\n"
     ]
    },
    {
     "name": "stdout",
     "output_type": "stream",
     "text": [
      "(200, 2)\n",
      "18\n",
      " Mean Objectives : 29140.73375684421\n",
      " Best Objectives : 28457.95861986554\n",
      " diversity         : 0.17821399004847965\n",
      "Time: 26.020404815673828\n",
      "  start diversifying\n"
     ]
    },
    {
     "name": "stderr",
     "output_type": "stream",
     "text": [
      "100%|██████████| 300/300 [00:00<00:00, 521.59it/s]\n"
     ]
    },
    {
     "name": "stdout",
     "output_type": "stream",
     "text": [
      "<module 'random' from '/usr/lib/python3.8/random.py'>\n"
     ]
    },
    {
     "name": "stderr",
     "output_type": "stream",
     "text": [
      "100%|██████████| 200/200 [00:00<00:00, 2589.58it/s]\n"
     ]
    },
    {
     "name": "stdout",
     "output_type": "stream",
     "text": [
      "New diverisity:    0.14701298278073727\n"
     ]
    },
    {
     "name": "stderr",
     "output_type": "stream",
     "text": [
      "100%|██████████| 300/300 [00:00<00:00, 537.81it/s]\n"
     ]
    },
    {
     "name": "stdout",
     "output_type": "stream",
     "text": [
      "<module 'random' from '/usr/lib/python3.8/random.py'>\n"
     ]
    },
    {
     "name": "stderr",
     "output_type": "stream",
     "text": [
      "100%|██████████| 200/200 [00:00<00:00, 2709.66it/s]\n"
     ]
    },
    {
     "name": "stdout",
     "output_type": "stream",
     "text": [
      "New diverisity:    0.1284739155024091\n"
     ]
    },
    {
     "name": "stderr",
     "output_type": "stream",
     "text": [
      "100%|██████████| 3/3 [00:00<00:00, 2537.90it/s]\n",
      "100%|██████████| 200/200 [00:00<00:00, 329.52it/s]\n"
     ]
    },
    {
     "name": "stdout",
     "output_type": "stream",
     "text": [
      "(200, 2)\n",
      "19\n",
      " Mean Objectives : 29076.716615882076\n",
      " Best Objectives : 28457.95861986554\n",
      " diversity         : 0.1784168588718526\n",
      "Time: 27.98011016845703\n",
      "  start diversifying\n"
     ]
    },
    {
     "name": "stderr",
     "output_type": "stream",
     "text": [
      "100%|██████████| 300/300 [00:00<00:00, 589.84it/s]\n"
     ]
    },
    {
     "name": "stdout",
     "output_type": "stream",
     "text": [
      "<module 'random' from '/usr/lib/python3.8/random.py'>\n"
     ]
    },
    {
     "name": "stderr",
     "output_type": "stream",
     "text": [
      "100%|██████████| 200/200 [00:00<00:00, 2392.18it/s]\n"
     ]
    },
    {
     "name": "stdout",
     "output_type": "stream",
     "text": [
      "New diverisity:    0.14656357224234803\n"
     ]
    },
    {
     "name": "stderr",
     "output_type": "stream",
     "text": [
      "100%|██████████| 300/300 [00:00<00:00, 536.94it/s]\n"
     ]
    },
    {
     "name": "stdout",
     "output_type": "stream",
     "text": [
      "<module 'random' from '/usr/lib/python3.8/random.py'>\n"
     ]
    },
    {
     "name": "stderr",
     "output_type": "stream",
     "text": [
      "100%|██████████| 200/200 [00:00<00:00, 2694.37it/s]\n"
     ]
    },
    {
     "name": "stdout",
     "output_type": "stream",
     "text": [
      "New diverisity:    0.1297014422195872\n"
     ]
    },
    {
     "name": "stderr",
     "output_type": "stream",
     "text": [
      "100%|██████████| 3/3 [00:00<00:00, 2284.89it/s]\n",
      "100%|██████████| 200/200 [00:00<00:00, 333.87it/s]\n"
     ]
    },
    {
     "name": "stdout",
     "output_type": "stream",
     "text": [
      "(200, 2)\n",
      "20\n",
      " Mean Objectives : 28983.691784176277\n",
      " Best Objectives : 28457.95861986554\n",
      " diversity         : 0.17872064837395582\n",
      "Time: 29.873628616333008\n",
      "  start diversifying\n"
     ]
    },
    {
     "name": "stderr",
     "output_type": "stream",
     "text": [
      "100%|██████████| 300/300 [00:00<00:00, 661.64it/s]\n"
     ]
    },
    {
     "name": "stdout",
     "output_type": "stream",
     "text": [
      "<module 'random' from '/usr/lib/python3.8/random.py'>\n"
     ]
    },
    {
     "name": "stderr",
     "output_type": "stream",
     "text": [
      "100%|██████████| 200/200 [00:00<00:00, 2818.98it/s]\n"
     ]
    },
    {
     "name": "stdout",
     "output_type": "stream",
     "text": [
      "New diverisity:    0.14360381998387675\n"
     ]
    },
    {
     "name": "stderr",
     "output_type": "stream",
     "text": [
      "100%|██████████| 300/300 [00:00<00:00, 584.94it/s]\n"
     ]
    },
    {
     "name": "stdout",
     "output_type": "stream",
     "text": [
      "<module 'random' from '/usr/lib/python3.8/random.py'>\n"
     ]
    },
    {
     "name": "stderr",
     "output_type": "stream",
     "text": [
      "100%|██████████| 200/200 [00:00<00:00, 2781.23it/s]\n"
     ]
    },
    {
     "name": "stdout",
     "output_type": "stream",
     "text": [
      "New diverisity:    0.13312103823735516\n"
     ]
    },
    {
     "name": "stderr",
     "output_type": "stream",
     "text": [
      "100%|██████████| 3/3 [00:00<00:00, 2529.74it/s]\n",
      "100%|██████████| 200/200 [00:00<00:00, 335.39it/s]\n"
     ]
    },
    {
     "name": "stdout",
     "output_type": "stream",
     "text": [
      "(200, 2)\n",
      "21\n",
      " Mean Objectives : 28990.779882433628\n",
      " Best Objectives : 28457.95861986554\n",
      " diversity         : 0.17907171981468306\n",
      "Time: 31.645427465438843\n",
      "  start diversifying\n"
     ]
    },
    {
     "name": "stderr",
     "output_type": "stream",
     "text": [
      "100%|██████████| 300/300 [00:00<00:00, 524.44it/s]\n"
     ]
    },
    {
     "name": "stdout",
     "output_type": "stream",
     "text": [
      "<module 'random' from '/usr/lib/python3.8/random.py'>\n"
     ]
    },
    {
     "name": "stderr",
     "output_type": "stream",
     "text": [
      "100%|██████████| 200/200 [00:00<00:00, 2797.70it/s]\n"
     ]
    },
    {
     "name": "stdout",
     "output_type": "stream",
     "text": [
      "New diverisity:    0.14199491541845508\n"
     ]
    },
    {
     "name": "stderr",
     "output_type": "stream",
     "text": [
      "100%|██████████| 3/3 [00:00<00:00, 1893.88it/s]\n",
      "100%|██████████| 200/200 [00:00<00:00, 310.38it/s]\n"
     ]
    },
    {
     "name": "stdout",
     "output_type": "stream",
     "text": [
      "(200, 2)\n",
      "22\n",
      " Mean Objectives : 29005.20519856972\n",
      " Best Objectives : 28457.95861986554\n",
      " diversity         : 0.17857078771541712\n",
      "Time: 32.98016595840454\n",
      "  start diversifying\n"
     ]
    },
    {
     "name": "stderr",
     "output_type": "stream",
     "text": [
      "100%|██████████| 300/300 [00:00<00:00, 494.90it/s]\n"
     ]
    },
    {
     "name": "stdout",
     "output_type": "stream",
     "text": [
      "<module 'random' from '/usr/lib/python3.8/random.py'>\n"
     ]
    },
    {
     "name": "stderr",
     "output_type": "stream",
     "text": [
      "100%|██████████| 200/200 [00:00<00:00, 2804.11it/s]\n"
     ]
    },
    {
     "name": "stdout",
     "output_type": "stream",
     "text": [
      "New diverisity:    0.13856787983162633\n"
     ]
    },
    {
     "name": "stderr",
     "output_type": "stream",
     "text": [
      "100%|██████████| 3/3 [00:00<00:00, 2090.18it/s]\n",
      "100%|██████████| 200/200 [00:00<00:00, 341.29it/s]\n"
     ]
    },
    {
     "name": "stdout",
     "output_type": "stream",
     "text": [
      "(200, 2)\n",
      "23\n",
      " Mean Objectives : 28980.446712500816\n",
      " Best Objectives : 28457.95861986554\n",
      " diversity         : 0.1788218061339385\n",
      "Time: 34.289682149887085\n",
      "  start diversifying\n"
     ]
    },
    {
     "name": "stderr",
     "output_type": "stream",
     "text": [
      "100%|██████████| 300/300 [00:00<00:00, 536.06it/s]\n"
     ]
    },
    {
     "name": "stdout",
     "output_type": "stream",
     "text": [
      "<module 'random' from '/usr/lib/python3.8/random.py'>\n"
     ]
    },
    {
     "name": "stderr",
     "output_type": "stream",
     "text": [
      "100%|██████████| 200/200 [00:00<00:00, 2108.17it/s]\n"
     ]
    },
    {
     "name": "stdout",
     "output_type": "stream",
     "text": [
      "New diverisity:    0.14089289257560073\n"
     ]
    },
    {
     "name": "stderr",
     "output_type": "stream",
     "text": [
      "100%|██████████| 3/3 [00:00<00:00, 1265.00it/s]\n",
      "100%|██████████| 200/200 [00:00<00:00, 282.57it/s]\n"
     ]
    },
    {
     "name": "stdout",
     "output_type": "stream",
     "text": [
      "(200, 2)\n",
      "24\n",
      " Mean Objectives : 29079.076057472837\n",
      " Best Objectives : 28457.95861986554\n",
      " diversity         : 0.17856053165489777\n",
      "Time: 35.702600717544556\n",
      "  start diversifying\n"
     ]
    },
    {
     "name": "stderr",
     "output_type": "stream",
     "text": [
      "100%|██████████| 300/300 [00:00<00:00, 536.97it/s]\n"
     ]
    },
    {
     "name": "stdout",
     "output_type": "stream",
     "text": [
      "<module 'random' from '/usr/lib/python3.8/random.py'>\n"
     ]
    },
    {
     "name": "stderr",
     "output_type": "stream",
     "text": [
      "100%|██████████| 200/200 [00:00<00:00, 2706.59it/s]\n"
     ]
    },
    {
     "name": "stdout",
     "output_type": "stream",
     "text": [
      "New diverisity:    0.13797270276336968\n"
     ]
    },
    {
     "name": "stderr",
     "output_type": "stream",
     "text": [
      "100%|██████████| 3/3 [00:00<00:00, 2450.90it/s]\n",
      "100%|██████████| 200/200 [00:00<00:00, 347.90it/s]\n"
     ]
    },
    {
     "name": "stdout",
     "output_type": "stream",
     "text": [
      "(200, 2)\n",
      "25\n",
      " Mean Objectives : 28793.46458339733\n",
      " Best Objectives : 28457.95861986554\n",
      " diversity         : 0.17991268881559652\n",
      "Time: 36.954349994659424\n",
      "  start diversifying\n"
     ]
    },
    {
     "name": "stderr",
     "output_type": "stream",
     "text": [
      "100%|██████████| 300/300 [00:00<00:00, 518.53it/s]\n"
     ]
    },
    {
     "name": "stdout",
     "output_type": "stream",
     "text": [
      "<module 'random' from '/usr/lib/python3.8/random.py'>\n"
     ]
    },
    {
     "name": "stderr",
     "output_type": "stream",
     "text": [
      "100%|██████████| 200/200 [00:00<00:00, 2642.85it/s]\n"
     ]
    },
    {
     "name": "stdout",
     "output_type": "stream",
     "text": [
      "New diverisity:    0.14272592794877045\n"
     ]
    },
    {
     "name": "stderr",
     "output_type": "stream",
     "text": [
      "100%|██████████| 300/300 [00:00<00:00, 597.50it/s]\n"
     ]
    },
    {
     "name": "stdout",
     "output_type": "stream",
     "text": [
      "<module 'random' from '/usr/lib/python3.8/random.py'>\n"
     ]
    },
    {
     "name": "stderr",
     "output_type": "stream",
     "text": [
      "100%|██████████| 200/200 [00:00<00:00, 2569.52it/s]\n"
     ]
    },
    {
     "name": "stdout",
     "output_type": "stream",
     "text": [
      "New diverisity:    0.1275256560224939\n"
     ]
    },
    {
     "name": "stderr",
     "output_type": "stream",
     "text": [
      "100%|██████████| 3/3 [00:00<00:00, 2211.41it/s]\n",
      "100%|██████████| 200/200 [00:00<00:00, 288.06it/s]\n"
     ]
    },
    {
     "name": "stdout",
     "output_type": "stream",
     "text": [
      "(200, 2)\n",
      "26\n",
      " Mean Objectives : 29109.742984495548\n",
      " Best Objectives : 28457.95861986554\n",
      " diversity         : 0.1773633462856123\n",
      "Time: 38.95524001121521\n",
      "  start diversifying\n"
     ]
    },
    {
     "name": "stderr",
     "output_type": "stream",
     "text": [
      "100%|██████████| 300/300 [00:00<00:00, 566.76it/s]\n"
     ]
    },
    {
     "name": "stdout",
     "output_type": "stream",
     "text": [
      "<module 'random' from '/usr/lib/python3.8/random.py'>\n"
     ]
    },
    {
     "name": "stderr",
     "output_type": "stream",
     "text": [
      "100%|██████████| 200/200 [00:00<00:00, 2680.42it/s]\n"
     ]
    },
    {
     "name": "stdout",
     "output_type": "stream",
     "text": [
      "New diverisity:    0.1401616882872696\n"
     ]
    },
    {
     "name": "stderr",
     "output_type": "stream",
     "text": [
      "100%|██████████| 3/3 [00:00<00:00, 2316.02it/s]\n",
      "100%|██████████| 200/200 [00:00<00:00, 314.25it/s]\n"
     ]
    },
    {
     "name": "stdout",
     "output_type": "stream",
     "text": [
      "(200, 2)\n",
      "27\n",
      " Mean Objectives : 28872.8931484096\n",
      " Best Objectives : 28457.95861986554\n",
      " diversity         : 0.17927975023265338\n",
      "Time: 40.24356961250305\n",
      "  start diversifying\n"
     ]
    },
    {
     "name": "stderr",
     "output_type": "stream",
     "text": [
      "100%|██████████| 300/300 [00:00<00:00, 666.36it/s]\n"
     ]
    },
    {
     "name": "stdout",
     "output_type": "stream",
     "text": [
      "<module 'random' from '/usr/lib/python3.8/random.py'>\n"
     ]
    },
    {
     "name": "stderr",
     "output_type": "stream",
     "text": [
      "100%|██████████| 200/200 [00:00<00:00, 2762.71it/s]\n"
     ]
    },
    {
     "name": "stdout",
     "output_type": "stream",
     "text": [
      "New diverisity:    0.14355225195191043\n"
     ]
    },
    {
     "name": "stderr",
     "output_type": "stream",
     "text": [
      "100%|██████████| 300/300 [00:00<00:00, 667.40it/s]\n"
     ]
    },
    {
     "name": "stdout",
     "output_type": "stream",
     "text": [
      "<module 'random' from '/usr/lib/python3.8/random.py'>\n"
     ]
    },
    {
     "name": "stderr",
     "output_type": "stream",
     "text": [
      "100%|██████████| 200/200 [00:00<00:00, 2799.75it/s]\n"
     ]
    },
    {
     "name": "stdout",
     "output_type": "stream",
     "text": [
      "New diverisity:    0.1245393872296099\n"
     ]
    },
    {
     "name": "stderr",
     "output_type": "stream",
     "text": [
      "100%|██████████| 3/3 [00:00<00:00, 2547.66it/s]\n",
      "100%|██████████| 200/200 [00:00<00:00, 333.18it/s]\n"
     ]
    },
    {
     "name": "stdout",
     "output_type": "stream",
     "text": [
      "(200, 2)\n",
      "28\n",
      " Mean Objectives : 29058.61239388816\n",
      " Best Objectives : 28457.95861986554\n",
      " diversity         : 0.17850279674137623\n",
      "Time: 41.951709032058716\n",
      "  start diversifying\n"
     ]
    },
    {
     "name": "stderr",
     "output_type": "stream",
     "text": [
      "100%|██████████| 300/300 [00:00<00:00, 662.87it/s]\n"
     ]
    },
    {
     "name": "stdout",
     "output_type": "stream",
     "text": [
      "<module 'random' from '/usr/lib/python3.8/random.py'>\n"
     ]
    },
    {
     "name": "stderr",
     "output_type": "stream",
     "text": [
      "100%|██████████| 200/200 [00:00<00:00, 2746.03it/s]\n"
     ]
    },
    {
     "name": "stdout",
     "output_type": "stream",
     "text": [
      "New diverisity:    0.13667847224602045\n"
     ]
    },
    {
     "name": "stderr",
     "output_type": "stream",
     "text": [
      "100%|██████████| 3/3 [00:00<00:00, 2337.53it/s]\n",
      "100%|██████████| 200/200 [00:00<00:00, 330.87it/s]\n"
     ]
    },
    {
     "name": "stdout",
     "output_type": "stream",
     "text": [
      "(200, 2)\n",
      "29\n",
      " Mean Objectives : 28854.48734168115\n",
      " Best Objectives : 28457.95861986554\n",
      " diversity         : 0.17952321418714112\n",
      "Time: 43.125962257385254\n",
      "  start diversifying\n"
     ]
    },
    {
     "name": "stderr",
     "output_type": "stream",
     "text": [
      "100%|██████████| 300/300 [00:00<00:00, 654.83it/s]\n"
     ]
    },
    {
     "name": "stdout",
     "output_type": "stream",
     "text": [
      "<module 'random' from '/usr/lib/python3.8/random.py'>\n"
     ]
    },
    {
     "name": "stderr",
     "output_type": "stream",
     "text": [
      "100%|██████████| 200/200 [00:00<00:00, 2791.10it/s]\n"
     ]
    },
    {
     "name": "stdout",
     "output_type": "stream",
     "text": [
      "New diverisity:    0.13976104122365182\n"
     ]
    },
    {
     "name": "stderr",
     "output_type": "stream",
     "text": [
      "100%|██████████| 3/3 [00:00<00:00, 2308.79it/s]\n",
      "100%|██████████| 200/200 [00:00<00:00, 361.22it/s]\n"
     ]
    },
    {
     "name": "stdout",
     "output_type": "stream",
     "text": [
      "(200, 2)\n",
      "30\n",
      " Mean Objectives : 29063.587385748146\n",
      " Best Objectives : 28457.95861986554\n",
      " diversity         : 0.17822947047710613\n",
      "Time: 44.25334310531616\n",
      "  start diversifying\n"
     ]
    },
    {
     "name": "stderr",
     "output_type": "stream",
     "text": [
      "100%|██████████| 300/300 [00:00<00:00, 542.54it/s]\n"
     ]
    },
    {
     "name": "stdout",
     "output_type": "stream",
     "text": [
      "<module 'random' from '/usr/lib/python3.8/random.py'>\n"
     ]
    },
    {
     "name": "stderr",
     "output_type": "stream",
     "text": [
      "100%|██████████| 200/200 [00:00<00:00, 2545.63it/s]\n"
     ]
    },
    {
     "name": "stdout",
     "output_type": "stream",
     "text": [
      "New diverisity:    0.14465622960969887\n"
     ]
    },
    {
     "name": "stderr",
     "output_type": "stream",
     "text": [
      "100%|██████████| 300/300 [00:00<00:00, 529.36it/s]\n"
     ]
    },
    {
     "name": "stdout",
     "output_type": "stream",
     "text": [
      "<module 'random' from '/usr/lib/python3.8/random.py'>\n"
     ]
    },
    {
     "name": "stderr",
     "output_type": "stream",
     "text": [
      "100%|██████████| 200/200 [00:00<00:00, 2602.09it/s]\n"
     ]
    },
    {
     "name": "stdout",
     "output_type": "stream",
     "text": [
      "New diverisity:    0.1229759411418896\n"
     ]
    },
    {
     "name": "stderr",
     "output_type": "stream",
     "text": [
      "100%|██████████| 3/3 [00:00<00:00, 1656.74it/s]\n",
      "100%|██████████| 200/200 [00:00<00:00, 316.57it/s]\n"
     ]
    },
    {
     "name": "stdout",
     "output_type": "stream",
     "text": [
      "(200, 2)\n",
      "31\n",
      " Mean Objectives : 29121.231764300293\n",
      " Best Objectives : 28457.95861986554\n",
      " diversity         : 0.17783567402725084\n",
      "Time: 46.23505902290344\n",
      "  start diversifying\n"
     ]
    },
    {
     "name": "stderr",
     "output_type": "stream",
     "text": [
      "100%|██████████| 300/300 [00:00<00:00, 591.81it/s]\n"
     ]
    },
    {
     "name": "stdout",
     "output_type": "stream",
     "text": [
      "<module 'random' from '/usr/lib/python3.8/random.py'>\n"
     ]
    },
    {
     "name": "stderr",
     "output_type": "stream",
     "text": [
      "100%|██████████| 200/200 [00:00<00:00, 2575.37it/s]\n"
     ]
    },
    {
     "name": "stdout",
     "output_type": "stream",
     "text": [
      "New diverisity:    0.1390301592993154\n"
     ]
    },
    {
     "name": "stderr",
     "output_type": "stream",
     "text": [
      "100%|██████████| 3/3 [00:00<00:00, 2261.89it/s]\n",
      "100%|██████████| 200/200 [00:00<00:00, 365.09it/s]\n"
     ]
    },
    {
     "name": "stdout",
     "output_type": "stream",
     "text": [
      "(200, 2)\n",
      "32\n",
      " Mean Objectives : 29022.811524436194\n",
      " Best Objectives : 28457.95861986554\n",
      " diversity         : 0.1787867929864952\n",
      "Time: 47.411638498306274\n",
      "  start diversifying\n"
     ]
    },
    {
     "name": "stderr",
     "output_type": "stream",
     "text": [
      "100%|██████████| 300/300 [00:00<00:00, 531.18it/s]\n"
     ]
    },
    {
     "name": "stdout",
     "output_type": "stream",
     "text": [
      "<module 'random' from '/usr/lib/python3.8/random.py'>\n"
     ]
    },
    {
     "name": "stderr",
     "output_type": "stream",
     "text": [
      "100%|██████████| 200/200 [00:00<00:00, 2671.19it/s]\n"
     ]
    },
    {
     "name": "stdout",
     "output_type": "stream",
     "text": [
      "New diverisity:    0.13905882200173217\n"
     ]
    },
    {
     "name": "stderr",
     "output_type": "stream",
     "text": [
      "100%|██████████| 3/3 [00:00<00:00, 2411.91it/s]\n",
      "100%|██████████| 200/200 [00:00<00:00, 394.72it/s]\n"
     ]
    },
    {
     "name": "stdout",
     "output_type": "stream",
     "text": [
      "(200, 2)\n",
      "33\n",
      " Mean Objectives : 28900.479975484228\n",
      " Best Objectives : 28457.95861986554\n",
      " diversity         : 0.17942896624781207\n",
      "Time: 48.60836696624756\n",
      "  start diversifying\n"
     ]
    },
    {
     "name": "stderr",
     "output_type": "stream",
     "text": [
      "100%|██████████| 300/300 [00:00<00:00, 561.01it/s]\n"
     ]
    },
    {
     "name": "stdout",
     "output_type": "stream",
     "text": [
      "<module 'random' from '/usr/lib/python3.8/random.py'>\n"
     ]
    },
    {
     "name": "stderr",
     "output_type": "stream",
     "text": [
      "100%|██████████| 200/200 [00:00<00:00, 2685.94it/s]\n"
     ]
    },
    {
     "name": "stdout",
     "output_type": "stream",
     "text": [
      "New diverisity:    0.14936797676395208\n"
     ]
    },
    {
     "name": "stderr",
     "output_type": "stream",
     "text": [
      "100%|██████████| 300/300 [00:00<00:00, 512.96it/s]\n"
     ]
    },
    {
     "name": "stdout",
     "output_type": "stream",
     "text": [
      "<module 'random' from '/usr/lib/python3.8/random.py'>\n"
     ]
    },
    {
     "name": "stderr",
     "output_type": "stream",
     "text": [
      "100%|██████████| 200/200 [00:00<00:00, 2766.05it/s]\n"
     ]
    },
    {
     "name": "stdout",
     "output_type": "stream",
     "text": [
      "New diverisity:    0.13010149067634058\n"
     ]
    },
    {
     "name": "stderr",
     "output_type": "stream",
     "text": [
      "100%|██████████| 3/3 [00:00<00:00, 2493.15it/s]\n",
      "100%|██████████| 200/200 [00:00<00:00, 359.00it/s]\n"
     ]
    },
    {
     "name": "stdout",
     "output_type": "stream",
     "text": [
      "(200, 2)\n",
      "34\n",
      " Mean Objectives : 28852.817078681397\n",
      " Best Objectives : 28457.95861986554\n",
      " diversity         : 0.17927949502424612\n",
      "Time: 50.5026319026947\n",
      "  start diversifying\n"
     ]
    },
    {
     "name": "stderr",
     "output_type": "stream",
     "text": [
      "100%|██████████| 300/300 [00:00<00:00, 557.22it/s]\n"
     ]
    },
    {
     "name": "stdout",
     "output_type": "stream",
     "text": [
      "<module 'random' from '/usr/lib/python3.8/random.py'>\n"
     ]
    },
    {
     "name": "stderr",
     "output_type": "stream",
     "text": [
      "100%|██████████| 200/200 [00:00<00:00, 2710.01it/s]\n"
     ]
    },
    {
     "name": "stdout",
     "output_type": "stream",
     "text": [
      "New diverisity:    0.1408403664925189\n"
     ]
    },
    {
     "name": "stderr",
     "output_type": "stream",
     "text": [
      "100%|██████████| 3/3 [00:00<00:00, 2373.69it/s]\n",
      "100%|██████████| 200/200 [00:00<00:00, 353.59it/s]\n"
     ]
    },
    {
     "name": "stdout",
     "output_type": "stream",
     "text": [
      "(200, 2)\n",
      "35\n",
      " Mean Objectives : 28815.22961931438\n",
      " Best Objectives : 28457.95861986554\n",
      " diversity         : 0.17971585766989137\n",
      "Time: 51.72603678703308\n",
      "  start diversifying\n"
     ]
    },
    {
     "name": "stderr",
     "output_type": "stream",
     "text": [
      "100%|██████████| 300/300 [00:00<00:00, 499.32it/s]\n"
     ]
    },
    {
     "name": "stdout",
     "output_type": "stream",
     "text": [
      "<module 'random' from '/usr/lib/python3.8/random.py'>\n"
     ]
    },
    {
     "name": "stderr",
     "output_type": "stream",
     "text": [
      "100%|██████████| 200/200 [00:00<00:00, 2790.22it/s]\n"
     ]
    },
    {
     "name": "stdout",
     "output_type": "stream",
     "text": [
      "New diverisity:    0.13873291648655986\n"
     ]
    },
    {
     "name": "stderr",
     "output_type": "stream",
     "text": [
      "100%|██████████| 3/3 [00:00<00:00, 2342.31it/s]\n",
      "100%|██████████| 200/200 [00:00<00:00, 303.57it/s]\n"
     ]
    },
    {
     "name": "stdout",
     "output_type": "stream",
     "text": [
      "(200, 2)\n",
      "36\n",
      " Mean Objectives : 28783.55928748133\n",
      " Best Objectives : 28457.95861986554\n",
      " diversity         : 0.1799149351598046\n",
      "Time: 53.10358381271362\n",
      "  start diversifying\n"
     ]
    },
    {
     "name": "stderr",
     "output_type": "stream",
     "text": [
      "100%|██████████| 300/300 [00:00<00:00, 540.00it/s]\n"
     ]
    },
    {
     "name": "stdout",
     "output_type": "stream",
     "text": [
      "<module 'random' from '/usr/lib/python3.8/random.py'>\n"
     ]
    },
    {
     "name": "stderr",
     "output_type": "stream",
     "text": [
      "100%|██████████| 200/200 [00:00<00:00, 2707.34it/s]\n"
     ]
    },
    {
     "name": "stdout",
     "output_type": "stream",
     "text": [
      "New diverisity:    0.13636565559835823\n"
     ]
    },
    {
     "name": "stderr",
     "output_type": "stream",
     "text": [
      "100%|██████████| 3/3 [00:00<00:00, 2179.24it/s]\n",
      "100%|██████████| 200/200 [00:00<00:00, 322.54it/s]\n"
     ]
    },
    {
     "name": "stdout",
     "output_type": "stream",
     "text": [
      "(200, 2)\n",
      "37\n",
      " Mean Objectives : 29117.976522831832\n",
      " Best Objectives : 28457.95861986554\n",
      " diversity         : 0.17821282603732055\n",
      "Time: 54.403165102005005\n",
      "  start diversifying\n"
     ]
    },
    {
     "name": "stderr",
     "output_type": "stream",
     "text": [
      "100%|██████████| 300/300 [00:00<00:00, 493.82it/s]\n"
     ]
    },
    {
     "name": "stdout",
     "output_type": "stream",
     "text": [
      "<module 'random' from '/usr/lib/python3.8/random.py'>\n"
     ]
    },
    {
     "name": "stderr",
     "output_type": "stream",
     "text": [
      "100%|██████████| 200/200 [00:00<00:00, 2785.26it/s]\n"
     ]
    },
    {
     "name": "stdout",
     "output_type": "stream",
     "text": [
      "New diverisity:    0.1452302584306452\n"
     ]
    },
    {
     "name": "stderr",
     "output_type": "stream",
     "text": [
      "100%|██████████| 300/300 [00:00<00:00, 555.79it/s]\n"
     ]
    },
    {
     "name": "stdout",
     "output_type": "stream",
     "text": [
      "<module 'random' from '/usr/lib/python3.8/random.py'>\n"
     ]
    },
    {
     "name": "stderr",
     "output_type": "stream",
     "text": [
      "100%|██████████| 200/200 [00:00<00:00, 2786.02it/s]\n"
     ]
    },
    {
     "name": "stdout",
     "output_type": "stream",
     "text": [
      "New diverisity:    0.12513423628266013\n"
     ]
    },
    {
     "name": "stderr",
     "output_type": "stream",
     "text": [
      "100%|██████████| 3/3 [00:00<00:00, 2583.76it/s]\n",
      "100%|██████████| 200/200 [00:00<00:00, 365.69it/s]\n"
     ]
    },
    {
     "name": "stdout",
     "output_type": "stream",
     "text": [
      "(200, 2)\n",
      "38\n",
      " Mean Objectives : 29046.331652728495\n",
      " Best Objectives : 28457.95861986554\n",
      " diversity         : 0.1784347505667763\n",
      "Time: 56.3115394115448\n",
      "  start diversifying\n"
     ]
    },
    {
     "name": "stderr",
     "output_type": "stream",
     "text": [
      "100%|██████████| 300/300 [00:00<00:00, 549.72it/s]\n"
     ]
    },
    {
     "name": "stdout",
     "output_type": "stream",
     "text": [
      "<module 'random' from '/usr/lib/python3.8/random.py'>\n"
     ]
    },
    {
     "name": "stderr",
     "output_type": "stream",
     "text": [
      "100%|██████████| 200/200 [00:00<00:00, 2827.01it/s]\n"
     ]
    },
    {
     "name": "stdout",
     "output_type": "stream",
     "text": [
      "New diverisity:    0.14326603492790196\n"
     ]
    },
    {
     "name": "stderr",
     "output_type": "stream",
     "text": [
      "100%|██████████| 300/300 [00:00<00:00, 657.17it/s]\n"
     ]
    },
    {
     "name": "stdout",
     "output_type": "stream",
     "text": [
      "<module 'random' from '/usr/lib/python3.8/random.py'>\n"
     ]
    },
    {
     "name": "stderr",
     "output_type": "stream",
     "text": [
      "100%|██████████| 200/200 [00:00<00:00, 2373.53it/s]\n"
     ]
    },
    {
     "name": "stdout",
     "output_type": "stream",
     "text": [
      "New diverisity:    0.12512372949238346\n"
     ]
    },
    {
     "name": "stderr",
     "output_type": "stream",
     "text": [
      "100%|██████████| 3/3 [00:00<00:00, 1639.25it/s]\n",
      "100%|██████████| 200/200 [00:00<00:00, 297.47it/s]\n"
     ]
    },
    {
     "name": "stdout",
     "output_type": "stream",
     "text": [
      "(200, 2)\n",
      "39\n",
      " Mean Objectives : 28872.15197464503\n",
      " Best Objectives : 28457.95861986554\n",
      " diversity         : 0.1793954648693667\n",
      "Time: 58.21864104270935\n",
      "  start diversifying\n"
     ]
    },
    {
     "name": "stderr",
     "output_type": "stream",
     "text": [
      "100%|██████████| 300/300 [00:00<00:00, 513.33it/s]\n"
     ]
    },
    {
     "name": "stdout",
     "output_type": "stream",
     "text": [
      "<module 'random' from '/usr/lib/python3.8/random.py'>\n"
     ]
    },
    {
     "name": "stderr",
     "output_type": "stream",
     "text": [
      "100%|██████████| 200/200 [00:00<00:00, 2769.08it/s]\n"
     ]
    },
    {
     "name": "stdout",
     "output_type": "stream",
     "text": [
      "New diverisity:    0.14525529859656447\n"
     ]
    },
    {
     "name": "stderr",
     "output_type": "stream",
     "text": [
      "100%|██████████| 300/300 [00:00<00:00, 530.11it/s]\n"
     ]
    },
    {
     "name": "stdout",
     "output_type": "stream",
     "text": [
      "<module 'random' from '/usr/lib/python3.8/random.py'>\n"
     ]
    },
    {
     "name": "stderr",
     "output_type": "stream",
     "text": [
      "100%|██████████| 200/200 [00:00<00:00, 2757.11it/s]\n"
     ]
    },
    {
     "name": "stdout",
     "output_type": "stream",
     "text": [
      "New diverisity:    0.1300652885342998\n"
     ]
    },
    {
     "name": "stderr",
     "output_type": "stream",
     "text": [
      "100%|██████████| 3/3 [00:00<00:00, 2117.62it/s]\n",
      "100%|██████████| 200/200 [00:00<00:00, 352.70it/s]\n"
     ]
    },
    {
     "name": "stdout",
     "output_type": "stream",
     "text": [
      "(200, 2)\n",
      "40\n",
      " Mean Objectives : 28951.213688584397\n",
      " Best Objectives : 28457.95861986554\n",
      " diversity         : 0.17933460910595134\n",
      "Time: 60.14748001098633\n",
      "  start diversifying\n"
     ]
    },
    {
     "name": "stderr",
     "output_type": "stream",
     "text": [
      "100%|██████████| 300/300 [00:00<00:00, 526.08it/s]\n"
     ]
    },
    {
     "name": "stdout",
     "output_type": "stream",
     "text": [
      "<module 'random' from '/usr/lib/python3.8/random.py'>\n"
     ]
    },
    {
     "name": "stderr",
     "output_type": "stream",
     "text": [
      "100%|██████████| 200/200 [00:00<00:00, 2739.07it/s]\n"
     ]
    },
    {
     "name": "stdout",
     "output_type": "stream",
     "text": [
      "New diverisity:    0.14139492383673155\n"
     ]
    },
    {
     "name": "stderr",
     "output_type": "stream",
     "text": [
      "100%|██████████| 3/3 [00:00<00:00, 2202.12it/s]\n",
      "100%|██████████| 200/200 [00:00<00:00, 316.96it/s]\n"
     ]
    },
    {
     "name": "stdout",
     "output_type": "stream",
     "text": [
      "(200, 2)\n",
      "41\n",
      " Mean Objectives : 29113.129796655154\n",
      " Best Objectives : 28457.95861986554\n",
      " diversity         : 0.17819803749644036\n",
      "Time: 61.46756029129028\n",
      "  start diversifying\n"
     ]
    },
    {
     "name": "stderr",
     "output_type": "stream",
     "text": [
      "100%|██████████| 300/300 [00:00<00:00, 533.40it/s]\n"
     ]
    },
    {
     "name": "stdout",
     "output_type": "stream",
     "text": [
      "<module 'random' from '/usr/lib/python3.8/random.py'>\n"
     ]
    },
    {
     "name": "stderr",
     "output_type": "stream",
     "text": [
      "100%|██████████| 200/200 [00:00<00:00, 2549.58it/s]\n"
     ]
    },
    {
     "name": "stdout",
     "output_type": "stream",
     "text": [
      "New diverisity:    0.13927367783672795\n"
     ]
    },
    {
     "name": "stderr",
     "output_type": "stream",
     "text": [
      "100%|██████████| 3/3 [00:00<00:00, 2417.00it/s]\n",
      "100%|██████████| 200/200 [00:00<00:00, 305.32it/s]\n"
     ]
    },
    {
     "name": "stdout",
     "output_type": "stream",
     "text": [
      "(200, 2)\n",
      "42\n",
      " Mean Objectives : 29042.750510995338\n",
      " Best Objectives : 28457.95861986554\n",
      " diversity         : 0.1784791911071563\n",
      "Time: 62.81445813179016\n",
      "  start diversifying\n"
     ]
    },
    {
     "name": "stderr",
     "output_type": "stream",
     "text": [
      "100%|██████████| 300/300 [00:00<00:00, 665.53it/s]\n"
     ]
    },
    {
     "name": "stdout",
     "output_type": "stream",
     "text": [
      "<module 'random' from '/usr/lib/python3.8/random.py'>\n"
     ]
    },
    {
     "name": "stderr",
     "output_type": "stream",
     "text": [
      "100%|██████████| 200/200 [00:00<00:00, 2822.30it/s]\n"
     ]
    },
    {
     "name": "stdout",
     "output_type": "stream",
     "text": [
      "New diverisity:    0.14750727738952704\n"
     ]
    },
    {
     "name": "stderr",
     "output_type": "stream",
     "text": [
      "100%|██████████| 300/300 [00:00<00:00, 637.00it/s]\n"
     ]
    },
    {
     "name": "stdout",
     "output_type": "stream",
     "text": [
      "<module 'random' from '/usr/lib/python3.8/random.py'>\n"
     ]
    },
    {
     "name": "stderr",
     "output_type": "stream",
     "text": [
      "100%|██████████| 200/200 [00:00<00:00, 2764.77it/s]\n"
     ]
    },
    {
     "name": "stdout",
     "output_type": "stream",
     "text": [
      "New diverisity:    0.13468942777299814\n"
     ]
    },
    {
     "name": "stderr",
     "output_type": "stream",
     "text": [
      "100%|██████████| 3/3 [00:00<00:00, 2521.63it/s]\n",
      "100%|██████████| 200/200 [00:00<00:00, 309.79it/s]\n"
     ]
    },
    {
     "name": "stdout",
     "output_type": "stream",
     "text": [
      "(200, 2)\n",
      "43\n",
      " Mean Objectives : 29188.037052361866\n",
      " Best Objectives : 28457.95861986554\n",
      " diversity         : 0.17805369207576083\n",
      "Time: 64.5974850654602\n",
      "  start diversifying\n"
     ]
    },
    {
     "name": "stderr",
     "output_type": "stream",
     "text": [
      "100%|██████████| 300/300 [00:00<00:00, 507.97it/s]\n"
     ]
    },
    {
     "name": "stdout",
     "output_type": "stream",
     "text": [
      "<module 'random' from '/usr/lib/python3.8/random.py'>\n"
     ]
    },
    {
     "name": "stderr",
     "output_type": "stream",
     "text": [
      "100%|██████████| 200/200 [00:00<00:00, 2429.39it/s]\n"
     ]
    },
    {
     "name": "stdout",
     "output_type": "stream",
     "text": [
      "New diverisity:    0.13756023287798433\n"
     ]
    },
    {
     "name": "stderr",
     "output_type": "stream",
     "text": [
      "100%|██████████| 3/3 [00:00<00:00, 2238.16it/s]\n",
      "100%|██████████| 200/200 [00:00<00:00, 361.98it/s]\n"
     ]
    },
    {
     "name": "stdout",
     "output_type": "stream",
     "text": [
      "(200, 2)\n",
      "44\n",
      " Mean Objectives : 29105.892351928636\n",
      " Best Objectives : 28457.95861986554\n",
      " diversity         : 0.1785117099558058\n",
      "Time: 65.877596616745\n",
      "  start diversifying\n"
     ]
    },
    {
     "name": "stderr",
     "output_type": "stream",
     "text": [
      "100%|██████████| 300/300 [00:00<00:00, 589.53it/s]\n"
     ]
    },
    {
     "name": "stdout",
     "output_type": "stream",
     "text": [
      "<module 'random' from '/usr/lib/python3.8/random.py'>\n"
     ]
    },
    {
     "name": "stderr",
     "output_type": "stream",
     "text": [
      "100%|██████████| 200/200 [00:00<00:00, 2811.10it/s]\n"
     ]
    },
    {
     "name": "stdout",
     "output_type": "stream",
     "text": [
      "New diverisity:    0.13986802114014715\n"
     ]
    },
    {
     "name": "stderr",
     "output_type": "stream",
     "text": [
      "100%|██████████| 3/3 [00:00<00:00, 2440.44it/s]\n",
      "100%|██████████| 200/200 [00:00<00:00, 309.28it/s]\n"
     ]
    },
    {
     "name": "stdout",
     "output_type": "stream",
     "text": [
      "(200, 2)\n",
      "45\n",
      " Mean Objectives : 29090.873512030525\n",
      " Best Objectives : 28457.95861986554\n",
      " diversity         : 0.17841382157414795\n",
      "Time: 67.14836168289185\n",
      "  start diversifying\n"
     ]
    },
    {
     "name": "stderr",
     "output_type": "stream",
     "text": [
      "100%|██████████| 300/300 [00:00<00:00, 527.37it/s]\n"
     ]
    },
    {
     "name": "stdout",
     "output_type": "stream",
     "text": [
      "<module 'random' from '/usr/lib/python3.8/random.py'>\n"
     ]
    },
    {
     "name": "stderr",
     "output_type": "stream",
     "text": [
      "100%|██████████| 200/200 [00:00<00:00, 1896.36it/s]\n"
     ]
    },
    {
     "name": "stdout",
     "output_type": "stream",
     "text": [
      "New diverisity:    0.14085745561915147\n"
     ]
    },
    {
     "name": "stderr",
     "output_type": "stream",
     "text": [
      "100%|██████████| 3/3 [00:00<00:00, 2554.91it/s]\n",
      "100%|██████████| 200/200 [00:00<00:00, 343.89it/s]\n"
     ]
    },
    {
     "name": "stdout",
     "output_type": "stream",
     "text": [
      "(200, 2)\n",
      "46\n",
      " Mean Objectives : 29036.49720822815\n",
      " Best Objectives : 28457.95861986554\n",
      " diversity         : 0.1786063375609068\n",
      "Time: 68.45727872848511\n",
      "  start diversifying\n"
     ]
    },
    {
     "name": "stderr",
     "output_type": "stream",
     "text": [
      "100%|██████████| 300/300 [00:00<00:00, 543.44it/s]\n"
     ]
    },
    {
     "name": "stdout",
     "output_type": "stream",
     "text": [
      "<module 'random' from '/usr/lib/python3.8/random.py'>\n"
     ]
    },
    {
     "name": "stderr",
     "output_type": "stream",
     "text": [
      "100%|██████████| 200/200 [00:00<00:00, 2836.69it/s]\n"
     ]
    },
    {
     "name": "stdout",
     "output_type": "stream",
     "text": [
      "New diverisity:    0.13855440051152634\n"
     ]
    },
    {
     "name": "stderr",
     "output_type": "stream",
     "text": [
      "100%|██████████| 3/3 [00:00<00:00, 2203.66it/s]\n",
      "100%|██████████| 200/200 [00:00<00:00, 334.33it/s]\n"
     ]
    },
    {
     "name": "stdout",
     "output_type": "stream",
     "text": [
      "(200, 2)\n",
      "47\n",
      " Mean Objectives : 28903.075173823127\n",
      " Best Objectives : 28457.95861986554\n",
      " diversity         : 0.17869993215366117\n",
      "Time: 69.72461557388306\n",
      "  start diversifying\n"
     ]
    },
    {
     "name": "stderr",
     "output_type": "stream",
     "text": [
      "100%|██████████| 300/300 [00:00<00:00, 612.90it/s]\n"
     ]
    },
    {
     "name": "stdout",
     "output_type": "stream",
     "text": [
      "<module 'random' from '/usr/lib/python3.8/random.py'>\n"
     ]
    },
    {
     "name": "stderr",
     "output_type": "stream",
     "text": [
      "100%|██████████| 200/200 [00:00<00:00, 2822.53it/s]\n"
     ]
    },
    {
     "name": "stdout",
     "output_type": "stream",
     "text": [
      "New diverisity:    0.14268909984598532\n"
     ]
    },
    {
     "name": "stderr",
     "output_type": "stream",
     "text": [
      "100%|██████████| 300/300 [00:00<00:00, 669.87it/s]\n"
     ]
    },
    {
     "name": "stdout",
     "output_type": "stream",
     "text": [
      "<module 'random' from '/usr/lib/python3.8/random.py'>\n"
     ]
    },
    {
     "name": "stderr",
     "output_type": "stream",
     "text": [
      "100%|██████████| 200/200 [00:00<00:00, 2823.41it/s]\n"
     ]
    },
    {
     "name": "stdout",
     "output_type": "stream",
     "text": [
      "New diverisity:    0.12711421781940274\n"
     ]
    },
    {
     "name": "stderr",
     "output_type": "stream",
     "text": [
      "100%|██████████| 3/3 [00:00<00:00, 2563.23it/s]\n",
      "100%|██████████| 200/200 [00:00<00:00, 357.55it/s]\n"
     ]
    },
    {
     "name": "stdout",
     "output_type": "stream",
     "text": [
      "(200, 2)\n",
      "48\n",
      " Mean Objectives : 28960.16832742532\n",
      " Best Objectives : 28457.95861986554\n",
      " diversity         : 0.1791709752703497\n",
      "Time: 71.42691111564636\n",
      "  start diversifying\n"
     ]
    },
    {
     "name": "stderr",
     "output_type": "stream",
     "text": [
      "100%|██████████| 300/300 [00:00<00:00, 658.69it/s]\n"
     ]
    },
    {
     "name": "stdout",
     "output_type": "stream",
     "text": [
      "<module 'random' from '/usr/lib/python3.8/random.py'>\n"
     ]
    },
    {
     "name": "stderr",
     "output_type": "stream",
     "text": [
      "100%|██████████| 200/200 [00:00<00:00, 2759.25it/s]\n"
     ]
    },
    {
     "name": "stdout",
     "output_type": "stream",
     "text": [
      "New diverisity:    0.1450425208965639\n"
     ]
    },
    {
     "name": "stderr",
     "output_type": "stream",
     "text": [
      "100%|██████████| 300/300 [00:00<00:00, 671.49it/s]\n"
     ]
    },
    {
     "name": "stdout",
     "output_type": "stream",
     "text": [
      "<module 'random' from '/usr/lib/python3.8/random.py'>\n"
     ]
    },
    {
     "name": "stderr",
     "output_type": "stream",
     "text": [
      "100%|██████████| 200/200 [00:00<00:00, 2836.95it/s]\n"
     ]
    },
    {
     "name": "stdout",
     "output_type": "stream",
     "text": [
      "New diverisity:    0.12911734852207257\n"
     ]
    },
    {
     "name": "stderr",
     "output_type": "stream",
     "text": [
      "100%|██████████| 3/3 [00:00<00:00, 2539.95it/s]\n",
      "100%|██████████| 200/200 [00:00<00:00, 348.71it/s]\n"
     ]
    },
    {
     "name": "stdout",
     "output_type": "stream",
     "text": [
      "(200, 2)\n",
      "49\n",
      " Mean Objectives : 29008.62180240752\n",
      " Best Objectives : 28457.95861986554\n",
      " diversity         : 0.17897533731147594\n",
      "Time: 73.11615037918091\n",
      "  start diversifying\n"
     ]
    },
    {
     "name": "stderr",
     "output_type": "stream",
     "text": [
      "100%|██████████| 300/300 [00:00<00:00, 480.90it/s]\n"
     ]
    },
    {
     "name": "stdout",
     "output_type": "stream",
     "text": [
      "<module 'random' from '/usr/lib/python3.8/random.py'>\n"
     ]
    },
    {
     "name": "stderr",
     "output_type": "stream",
     "text": [
      "100%|██████████| 200/200 [00:00<00:00, 2683.14it/s]\n"
     ]
    },
    {
     "name": "stdout",
     "output_type": "stream",
     "text": [
      "New diverisity:    0.13997904918939127\n"
     ]
    },
    {
     "name": "stderr",
     "output_type": "stream",
     "text": [
      "100%|██████████| 3/3 [00:00<00:00, 2164.99it/s]\n",
      "100%|██████████| 200/200 [00:00<00:00, 335.76it/s]\n"
     ]
    },
    {
     "name": "stdout",
     "output_type": "stream",
     "text": [
      "(200, 2)\n",
      "50\n",
      " Mean Objectives : 28866.445231756756\n",
      " Best Objectives : 28457.95861986554\n",
      " diversity         : 0.17945845455310594\n",
      "Time: 74.45570373535156\n",
      "  start diversifying\n"
     ]
    },
    {
     "name": "stderr",
     "output_type": "stream",
     "text": [
      "100%|██████████| 300/300 [00:00<00:00, 522.66it/s]\n"
     ]
    },
    {
     "name": "stdout",
     "output_type": "stream",
     "text": [
      "<module 'random' from '/usr/lib/python3.8/random.py'>\n"
     ]
    },
    {
     "name": "stderr",
     "output_type": "stream",
     "text": [
      "100%|██████████| 200/200 [00:00<00:00, 2322.44it/s]\n"
     ]
    },
    {
     "name": "stdout",
     "output_type": "stream",
     "text": [
      "New diverisity:    0.14147158022183326\n"
     ]
    },
    {
     "name": "stderr",
     "output_type": "stream",
     "text": [
      "100%|██████████| 3/3 [00:00<00:00, 1876.37it/s]\n",
      "100%|██████████| 200/200 [00:00<00:00, 304.22it/s]\n"
     ]
    },
    {
     "name": "stdout",
     "output_type": "stream",
     "text": [
      "(200, 2)\n",
      "51\n",
      " Mean Objectives : 28875.71046545999\n",
      " Best Objectives : 28457.95861986554\n",
      " diversity         : 0.17965402928405147\n",
      "Time: 75.81938052177429\n",
      "  start diversifying\n"
     ]
    },
    {
     "name": "stderr",
     "output_type": "stream",
     "text": [
      "100%|██████████| 300/300 [00:00<00:00, 535.55it/s]\n"
     ]
    },
    {
     "name": "stdout",
     "output_type": "stream",
     "text": [
      "<module 'random' from '/usr/lib/python3.8/random.py'>\n"
     ]
    },
    {
     "name": "stderr",
     "output_type": "stream",
     "text": [
      "100%|██████████| 200/200 [00:00<00:00, 2684.20it/s]\n"
     ]
    },
    {
     "name": "stdout",
     "output_type": "stream",
     "text": [
      "New diverisity:    0.1420657437188497\n"
     ]
    },
    {
     "name": "stderr",
     "output_type": "stream",
     "text": [
      "100%|██████████| 300/300 [00:00<00:00, 652.30it/s]\n"
     ]
    },
    {
     "name": "stdout",
     "output_type": "stream",
     "text": [
      "<module 'random' from '/usr/lib/python3.8/random.py'>\n"
     ]
    },
    {
     "name": "stderr",
     "output_type": "stream",
     "text": [
      "100%|██████████| 200/200 [00:00<00:00, 2752.61it/s]\n"
     ]
    },
    {
     "name": "stdout",
     "output_type": "stream",
     "text": [
      "New diverisity:    0.1283678555455119\n"
     ]
    },
    {
     "name": "stderr",
     "output_type": "stream",
     "text": [
      "100%|██████████| 3/3 [00:00<00:00, 2101.35it/s]\n",
      "100%|██████████| 200/200 [00:00<00:00, 284.79it/s]\n"
     ]
    },
    {
     "name": "stdout",
     "output_type": "stream",
     "text": [
      "(200, 2)\n",
      "52\n",
      " Mean Objectives : 29025.91438194176\n",
      " Best Objectives : 28457.95861986554\n",
      " diversity         : 0.17856608163852294\n",
      "Time: 77.7586600780487\n",
      "  start diversifying\n"
     ]
    },
    {
     "name": "stderr",
     "output_type": "stream",
     "text": [
      "100%|██████████| 300/300 [00:00<00:00, 658.08it/s]\n"
     ]
    },
    {
     "name": "stdout",
     "output_type": "stream",
     "text": [
      "<module 'random' from '/usr/lib/python3.8/random.py'>\n"
     ]
    },
    {
     "name": "stderr",
     "output_type": "stream",
     "text": [
      "100%|██████████| 200/200 [00:00<00:00, 2771.67it/s]\n"
     ]
    },
    {
     "name": "stdout",
     "output_type": "stream",
     "text": [
      "New diverisity:    0.14266759694178272\n"
     ]
    },
    {
     "name": "stderr",
     "output_type": "stream",
     "text": [
      "100%|██████████| 300/300 [00:00<00:00, 665.42it/s]\n"
     ]
    },
    {
     "name": "stdout",
     "output_type": "stream",
     "text": [
      "<module 'random' from '/usr/lib/python3.8/random.py'>\n"
     ]
    },
    {
     "name": "stderr",
     "output_type": "stream",
     "text": [
      "100%|██████████| 200/200 [00:00<00:00, 2800.42it/s]\n"
     ]
    },
    {
     "name": "stdout",
     "output_type": "stream",
     "text": [
      "New diverisity:    0.1293743301566091\n"
     ]
    },
    {
     "name": "stderr",
     "output_type": "stream",
     "text": [
      "100%|██████████| 3/3 [00:00<00:00, 2505.56it/s]\n",
      "100%|██████████| 200/200 [00:00<00:00, 372.91it/s]\n"
     ]
    },
    {
     "name": "stdout",
     "output_type": "stream",
     "text": [
      "(200, 2)\n",
      "53\n",
      " Mean Objectives : 28965.54469141196\n",
      " Best Objectives : 28457.95861986554\n",
      " diversity         : 0.17917465858634474\n",
      "Time: 79.40879249572754\n",
      "  start diversifying\n"
     ]
    },
    {
     "name": "stderr",
     "output_type": "stream",
     "text": [
      "100%|██████████| 300/300 [00:00<00:00, 499.06it/s]\n"
     ]
    },
    {
     "name": "stdout",
     "output_type": "stream",
     "text": [
      "<module 'random' from '/usr/lib/python3.8/random.py'>\n"
     ]
    },
    {
     "name": "stderr",
     "output_type": "stream",
     "text": [
      "100%|██████████| 200/200 [00:00<00:00, 2776.54it/s]\n"
     ]
    },
    {
     "name": "stdout",
     "output_type": "stream",
     "text": [
      "New diverisity:    0.1436032165461817\n"
     ]
    },
    {
     "name": "stderr",
     "output_type": "stream",
     "text": [
      "100%|██████████| 300/300 [00:00<00:00, 665.32it/s]\n"
     ]
    },
    {
     "name": "stdout",
     "output_type": "stream",
     "text": [
      "<module 'random' from '/usr/lib/python3.8/random.py'>\n"
     ]
    },
    {
     "name": "stderr",
     "output_type": "stream",
     "text": [
      "100%|██████████| 200/200 [00:00<00:00, 2744.09it/s]\n"
     ]
    },
    {
     "name": "stdout",
     "output_type": "stream",
     "text": [
      "New diverisity:    0.12909421745721195\n"
     ]
    },
    {
     "name": "stderr",
     "output_type": "stream",
     "text": [
      "100%|██████████| 3/3 [00:00<00:00, 2356.79it/s]\n",
      "100%|██████████| 200/200 [00:00<00:00, 347.04it/s]\n"
     ]
    },
    {
     "name": "stdout",
     "output_type": "stream",
     "text": [
      "(200, 2)\n",
      "54\n",
      " Mean Objectives : 29006.896028069958\n",
      " Best Objectives : 28457.95861986554\n",
      " diversity         : 0.17856549750510387\n",
      "Time: 81.24794483184814\n",
      "  start diversifying\n"
     ]
    },
    {
     "name": "stderr",
     "output_type": "stream",
     "text": [
      "100%|██████████| 300/300 [00:00<00:00, 539.85it/s]\n"
     ]
    },
    {
     "name": "stdout",
     "output_type": "stream",
     "text": [
      "<module 'random' from '/usr/lib/python3.8/random.py'>\n"
     ]
    },
    {
     "name": "stderr",
     "output_type": "stream",
     "text": [
      "100%|██████████| 200/200 [00:00<00:00, 2754.78it/s]\n"
     ]
    },
    {
     "name": "stdout",
     "output_type": "stream",
     "text": [
      "New diverisity:    0.13943256528570958\n"
     ]
    },
    {
     "name": "stderr",
     "output_type": "stream",
     "text": [
      "100%|██████████| 3/3 [00:00<00:00, 2364.76it/s]\n",
      "100%|██████████| 200/200 [00:00<00:00, 308.65it/s]\n"
     ]
    },
    {
     "name": "stdout",
     "output_type": "stream",
     "text": [
      "(200, 2)\n",
      "55\n",
      " Mean Objectives : 28927.43841757832\n",
      " Best Objectives : 28457.95861986554\n",
      " diversity         : 0.17917042033610506\n",
      "Time: 82.57121419906616\n",
      "  start diversifying\n"
     ]
    },
    {
     "name": "stderr",
     "output_type": "stream",
     "text": [
      "100%|██████████| 300/300 [00:00<00:00, 518.02it/s]\n"
     ]
    },
    {
     "name": "stdout",
     "output_type": "stream",
     "text": [
      "<module 'random' from '/usr/lib/python3.8/random.py'>\n"
     ]
    },
    {
     "name": "stderr",
     "output_type": "stream",
     "text": [
      "100%|██████████| 200/200 [00:00<00:00, 2778.70it/s]\n"
     ]
    },
    {
     "name": "stdout",
     "output_type": "stream",
     "text": [
      "New diverisity:    0.1418404977685362\n"
     ]
    },
    {
     "name": "stderr",
     "output_type": "stream",
     "text": [
      "100%|██████████| 3/3 [00:00<00:00, 2304.56it/s]\n",
      "100%|██████████| 200/200 [00:00<00:00, 356.43it/s]\n"
     ]
    },
    {
     "name": "stdout",
     "output_type": "stream",
     "text": [
      "(200, 2)\n",
      "56\n",
      " Mean Objectives : 29044.61609333364\n",
      " Best Objectives : 28457.95861986554\n",
      " diversity         : 0.17846925543560516\n",
      "Time: 83.82525134086609\n",
      "  start diversifying\n"
     ]
    },
    {
     "name": "stderr",
     "output_type": "stream",
     "text": [
      "100%|██████████| 300/300 [00:00<00:00, 651.68it/s]\n"
     ]
    },
    {
     "name": "stdout",
     "output_type": "stream",
     "text": [
      "<module 'random' from '/usr/lib/python3.8/random.py'>\n"
     ]
    },
    {
     "name": "stderr",
     "output_type": "stream",
     "text": [
      "100%|██████████| 200/200 [00:00<00:00, 2759.24it/s]\n"
     ]
    },
    {
     "name": "stdout",
     "output_type": "stream",
     "text": [
      "New diverisity:    0.1426256760481687\n"
     ]
    },
    {
     "name": "stderr",
     "output_type": "stream",
     "text": [
      "100%|██████████| 300/300 [00:00<00:00, 509.30it/s]\n"
     ]
    },
    {
     "name": "stdout",
     "output_type": "stream",
     "text": [
      "<module 'random' from '/usr/lib/python3.8/random.py'>\n"
     ]
    },
    {
     "name": "stderr",
     "output_type": "stream",
     "text": [
      "100%|██████████| 200/200 [00:00<00:00, 2707.26it/s]\n"
     ]
    },
    {
     "name": "stdout",
     "output_type": "stream",
     "text": [
      "New diverisity:    0.1282529324788165\n"
     ]
    },
    {
     "name": "stderr",
     "output_type": "stream",
     "text": [
      "100%|██████████| 3/3 [00:00<00:00, 2447.09it/s]\n",
      "100%|██████████| 200/200 [00:00<00:00, 253.07it/s]\n"
     ]
    },
    {
     "name": "stdout",
     "output_type": "stream",
     "text": [
      "(200, 2)\n",
      "57\n",
      " Mean Objectives : 28920.710460428\n",
      " Best Objectives : 28457.95861986554\n",
      " diversity         : 0.17924021337765217\n",
      "Time: 85.88015222549438\n",
      "  start diversifying\n"
     ]
    },
    {
     "name": "stderr",
     "output_type": "stream",
     "text": [
      "100%|██████████| 300/300 [00:00<00:00, 543.68it/s]\n"
     ]
    },
    {
     "name": "stdout",
     "output_type": "stream",
     "text": [
      "<module 'random' from '/usr/lib/python3.8/random.py'>\n"
     ]
    },
    {
     "name": "stderr",
     "output_type": "stream",
     "text": [
      "100%|██████████| 200/200 [00:00<00:00, 2752.91it/s]\n"
     ]
    },
    {
     "name": "stdout",
     "output_type": "stream",
     "text": [
      "New diverisity:    0.14773885213056592\n"
     ]
    },
    {
     "name": "stderr",
     "output_type": "stream",
     "text": [
      "100%|██████████| 300/300 [00:00<00:00, 527.81it/s]\n"
     ]
    },
    {
     "name": "stdout",
     "output_type": "stream",
     "text": [
      "<module 'random' from '/usr/lib/python3.8/random.py'>\n"
     ]
    },
    {
     "name": "stderr",
     "output_type": "stream",
     "text": [
      "100%|██████████| 200/200 [00:00<00:00, 2780.88it/s]\n"
     ]
    },
    {
     "name": "stdout",
     "output_type": "stream",
     "text": [
      "New diverisity:    0.12986553924165184\n"
     ]
    },
    {
     "name": "stderr",
     "output_type": "stream",
     "text": [
      "100%|██████████| 3/3 [00:00<00:00, 2305.83it/s]\n",
      "100%|██████████| 200/200 [00:00<00:00, 356.16it/s]\n"
     ]
    },
    {
     "name": "stdout",
     "output_type": "stream",
     "text": [
      "(200, 2)\n",
      "58\n",
      " Mean Objectives : 28985.700896176408\n",
      " Best Objectives : 28457.95861986554\n",
      " diversity         : 0.1787210628599049\n",
      "Time: 87.77733516693115\n",
      "  start diversifying\n"
     ]
    },
    {
     "name": "stderr",
     "output_type": "stream",
     "text": [
      "100%|██████████| 300/300 [00:00<00:00, 544.19it/s]\n"
     ]
    },
    {
     "name": "stdout",
     "output_type": "stream",
     "text": [
      "<module 'random' from '/usr/lib/python3.8/random.py'>\n"
     ]
    },
    {
     "name": "stderr",
     "output_type": "stream",
     "text": [
      "100%|██████████| 200/200 [00:00<00:00, 2718.11it/s]\n"
     ]
    },
    {
     "name": "stdout",
     "output_type": "stream",
     "text": [
      "New diverisity:    0.13977942097233345\n"
     ]
    },
    {
     "name": "stderr",
     "output_type": "stream",
     "text": [
      "100%|██████████| 3/3 [00:00<00:00, 2098.20it/s]\n",
      "100%|██████████| 200/200 [00:00<00:00, 334.28it/s]\n"
     ]
    },
    {
     "name": "stdout",
     "output_type": "stream",
     "text": [
      "(200, 2)\n",
      "59\n",
      " Mean Objectives : 28988.52078415255\n",
      " Best Objectives : 28457.95861986554\n",
      " diversity         : 0.17876410965169176\n",
      "Time: 89.04308819770813\n",
      "  start diversifying\n"
     ]
    },
    {
     "name": "stderr",
     "output_type": "stream",
     "text": [
      "100%|██████████| 300/300 [00:00<00:00, 522.46it/s]\n"
     ]
    },
    {
     "name": "stdout",
     "output_type": "stream",
     "text": [
      "<module 'random' from '/usr/lib/python3.8/random.py'>\n"
     ]
    },
    {
     "name": "stderr",
     "output_type": "stream",
     "text": [
      "100%|██████████| 200/200 [00:00<00:00, 2702.66it/s]\n"
     ]
    },
    {
     "name": "stdout",
     "output_type": "stream",
     "text": [
      "New diverisity:    0.1428454948867457\n"
     ]
    },
    {
     "name": "stderr",
     "output_type": "stream",
     "text": [
      "100%|██████████| 300/300 [00:00<00:00, 550.28it/s]\n"
     ]
    },
    {
     "name": "stdout",
     "output_type": "stream",
     "text": [
      "<module 'random' from '/usr/lib/python3.8/random.py'>\n"
     ]
    },
    {
     "name": "stderr",
     "output_type": "stream",
     "text": [
      "100%|██████████| 200/200 [00:00<00:00, 2667.59it/s]\n"
     ]
    },
    {
     "name": "stdout",
     "output_type": "stream",
     "text": [
      "New diverisity:    0.13213788068597834\n"
     ]
    },
    {
     "name": "stderr",
     "output_type": "stream",
     "text": [
      "100%|██████████| 3/3 [00:00<00:00, 2569.51it/s]\n",
      "100%|██████████| 200/200 [00:00<00:00, 374.30it/s]\n"
     ]
    },
    {
     "name": "stdout",
     "output_type": "stream",
     "text": [
      "(200, 2)\n",
      "60\n",
      " Mean Objectives : 28925.87147103569\n",
      " Best Objectives : 28457.95861986554\n",
      " diversity         : 0.17906252355372745\n",
      "Time: 90.921715259552\n",
      "  start diversifying\n"
     ]
    },
    {
     "name": "stderr",
     "output_type": "stream",
     "text": [
      "100%|██████████| 300/300 [00:00<00:00, 519.34it/s]\n"
     ]
    },
    {
     "name": "stdout",
     "output_type": "stream",
     "text": [
      "<module 'random' from '/usr/lib/python3.8/random.py'>\n"
     ]
    },
    {
     "name": "stderr",
     "output_type": "stream",
     "text": [
      "100%|██████████| 200/200 [00:00<00:00, 2556.29it/s]\n"
     ]
    },
    {
     "name": "stdout",
     "output_type": "stream",
     "text": [
      "New diverisity:    0.14372301919498026\n"
     ]
    },
    {
     "name": "stderr",
     "output_type": "stream",
     "text": [
      "100%|██████████| 300/300 [00:00<00:00, 528.47it/s]\n"
     ]
    },
    {
     "name": "stdout",
     "output_type": "stream",
     "text": [
      "<module 'random' from '/usr/lib/python3.8/random.py'>\n"
     ]
    },
    {
     "name": "stderr",
     "output_type": "stream",
     "text": [
      "100%|██████████| 200/200 [00:00<00:00, 2768.76it/s]\n"
     ]
    },
    {
     "name": "stdout",
     "output_type": "stream",
     "text": [
      "New diverisity:    0.12674295006948397\n"
     ]
    },
    {
     "name": "stderr",
     "output_type": "stream",
     "text": [
      "100%|██████████| 3/3 [00:00<00:00, 2361.66it/s]\n",
      "100%|██████████| 200/200 [00:00<00:00, 326.83it/s]\n"
     ]
    },
    {
     "name": "stdout",
     "output_type": "stream",
     "text": [
      "(200, 2)\n",
      "61\n",
      " Mean Objectives : 29132.005185280465\n",
      " Best Objectives : 28457.95861986554\n",
      " diversity         : 0.17810949233783357\n",
      "Time: 92.8985104560852\n",
      "  start diversifying\n"
     ]
    },
    {
     "name": "stderr",
     "output_type": "stream",
     "text": [
      "100%|██████████| 300/300 [00:00<00:00, 548.92it/s]\n"
     ]
    },
    {
     "name": "stdout",
     "output_type": "stream",
     "text": [
      "<module 'random' from '/usr/lib/python3.8/random.py'>\n"
     ]
    },
    {
     "name": "stderr",
     "output_type": "stream",
     "text": [
      "100%|██████████| 200/200 [00:00<00:00, 2395.88it/s]\n"
     ]
    },
    {
     "name": "stdout",
     "output_type": "stream",
     "text": [
      "New diverisity:    0.14269462768403016\n"
     ]
    },
    {
     "name": "stderr",
     "output_type": "stream",
     "text": [
      "100%|██████████| 300/300 [00:00<00:00, 659.13it/s]\n"
     ]
    },
    {
     "name": "stdout",
     "output_type": "stream",
     "text": [
      "<module 'random' from '/usr/lib/python3.8/random.py'>\n"
     ]
    },
    {
     "name": "stderr",
     "output_type": "stream",
     "text": [
      "100%|██████████| 200/200 [00:00<00:00, 2767.97it/s]\n"
     ]
    },
    {
     "name": "stdout",
     "output_type": "stream",
     "text": [
      "New diverisity:    0.13339271024480778\n"
     ]
    },
    {
     "name": "stderr",
     "output_type": "stream",
     "text": [
      "100%|██████████| 3/3 [00:00<00:00, 2308.37it/s]\n",
      "100%|██████████| 200/200 [00:00<00:00, 297.55it/s]\n"
     ]
    },
    {
     "name": "stdout",
     "output_type": "stream",
     "text": [
      "(200, 2)\n",
      "62\n",
      " Mean Objectives : 29100.306774448618\n",
      " Best Objectives : 28457.95861986554\n",
      " diversity         : 0.17783397784429444\n",
      "Time: 94.79430675506592\n",
      "  start diversifying\n"
     ]
    },
    {
     "name": "stderr",
     "output_type": "stream",
     "text": [
      "100%|██████████| 300/300 [00:00<00:00, 531.38it/s]\n"
     ]
    },
    {
     "name": "stdout",
     "output_type": "stream",
     "text": [
      "<module 'random' from '/usr/lib/python3.8/random.py'>\n"
     ]
    },
    {
     "name": "stderr",
     "output_type": "stream",
     "text": [
      "100%|██████████| 200/200 [00:00<00:00, 2777.96it/s]\n"
     ]
    },
    {
     "name": "stdout",
     "output_type": "stream",
     "text": [
      "New diverisity:    0.14226521031427705\n"
     ]
    },
    {
     "name": "stderr",
     "output_type": "stream",
     "text": [
      "100%|██████████| 300/300 [00:00<00:00, 660.18it/s]\n"
     ]
    },
    {
     "name": "stdout",
     "output_type": "stream",
     "text": [
      "<module 'random' from '/usr/lib/python3.8/random.py'>\n"
     ]
    },
    {
     "name": "stderr",
     "output_type": "stream",
     "text": [
      "100%|██████████| 200/200 [00:00<00:00, 2767.61it/s]\n"
     ]
    },
    {
     "name": "stdout",
     "output_type": "stream",
     "text": [
      "New diverisity:    0.130619137210542\n"
     ]
    },
    {
     "name": "stderr",
     "output_type": "stream",
     "text": [
      "100%|██████████| 3/3 [00:00<00:00, 2014.56it/s]\n",
      "100%|██████████| 200/200 [00:00<00:00, 316.08it/s]\n"
     ]
    },
    {
     "name": "stdout",
     "output_type": "stream",
     "text": [
      "(200, 2)\n",
      "63\n",
      " Mean Objectives : 28906.982121975627\n",
      " Best Objectives : 28457.95861986554\n",
      " diversity         : 0.17907894834840732\n",
      "Time: 96.65655088424683\n",
      "  start diversifying\n"
     ]
    },
    {
     "name": "stderr",
     "output_type": "stream",
     "text": [
      "100%|██████████| 300/300 [00:00<00:00, 538.17it/s]\n"
     ]
    },
    {
     "name": "stdout",
     "output_type": "stream",
     "text": [
      "<module 'random' from '/usr/lib/python3.8/random.py'>\n"
     ]
    },
    {
     "name": "stderr",
     "output_type": "stream",
     "text": [
      "100%|██████████| 200/200 [00:00<00:00, 2752.48it/s]\n"
     ]
    },
    {
     "name": "stdout",
     "output_type": "stream",
     "text": [
      "New diverisity:    0.14016903464689545\n"
     ]
    },
    {
     "name": "stderr",
     "output_type": "stream",
     "text": [
      "100%|██████████| 3/3 [00:00<00:00, 2194.06it/s]\n",
      "100%|██████████| 200/200 [00:00<00:00, 297.81it/s]\n"
     ]
    },
    {
     "name": "stdout",
     "output_type": "stream",
     "text": [
      "(200, 2)\n",
      "64\n",
      " Mean Objectives : 29022.09920095167\n",
      " Best Objectives : 28457.95861986554\n",
      " diversity         : 0.17894855796980852\n",
      "Time: 98.00987362861633\n",
      "  start diversifying\n"
     ]
    },
    {
     "name": "stderr",
     "output_type": "stream",
     "text": [
      "100%|██████████| 300/300 [00:00<00:00, 591.22it/s]\n"
     ]
    },
    {
     "name": "stdout",
     "output_type": "stream",
     "text": [
      "<module 'random' from '/usr/lib/python3.8/random.py'>\n"
     ]
    },
    {
     "name": "stderr",
     "output_type": "stream",
     "text": [
      "100%|██████████| 200/200 [00:00<00:00, 2772.84it/s]\n"
     ]
    },
    {
     "name": "stdout",
     "output_type": "stream",
     "text": [
      "New diverisity:    0.14113376551167967\n"
     ]
    },
    {
     "name": "stderr",
     "output_type": "stream",
     "text": [
      "100%|██████████| 3/3 [00:00<00:00, 2439.49it/s]\n",
      "100%|██████████| 200/200 [00:00<00:00, 357.81it/s]\n"
     ]
    },
    {
     "name": "stdout",
     "output_type": "stream",
     "text": [
      "(200, 2)\n",
      "65\n",
      " Mean Objectives : 28830.286455354108\n",
      " Best Objectives : 28457.95861986554\n",
      " diversity         : 0.1798104240070703\n",
      "Time: 99.19452166557312\n",
      "  start diversifying\n"
     ]
    },
    {
     "name": "stderr",
     "output_type": "stream",
     "text": [
      "100%|██████████| 300/300 [00:00<00:00, 543.69it/s]\n"
     ]
    },
    {
     "name": "stdout",
     "output_type": "stream",
     "text": [
      "<module 'random' from '/usr/lib/python3.8/random.py'>\n"
     ]
    },
    {
     "name": "stderr",
     "output_type": "stream",
     "text": [
      "100%|██████████| 200/200 [00:00<00:00, 1892.11it/s]\n"
     ]
    },
    {
     "name": "stdout",
     "output_type": "stream",
     "text": [
      "New diverisity:    0.14379312627546995\n"
     ]
    },
    {
     "name": "stderr",
     "output_type": "stream",
     "text": [
      "100%|██████████| 300/300 [00:00<00:00, 511.86it/s]\n"
     ]
    },
    {
     "name": "stdout",
     "output_type": "stream",
     "text": [
      "<module 'random' from '/usr/lib/python3.8/random.py'>\n"
     ]
    },
    {
     "name": "stderr",
     "output_type": "stream",
     "text": [
      "100%|██████████| 200/200 [00:00<00:00, 2580.20it/s]\n"
     ]
    },
    {
     "name": "stdout",
     "output_type": "stream",
     "text": [
      "New diverisity:    0.12046978160984154\n"
     ]
    },
    {
     "name": "stderr",
     "output_type": "stream",
     "text": [
      "100%|██████████| 3/3 [00:00<00:00, 2391.73it/s]\n",
      "100%|██████████| 200/200 [00:00<00:00, 288.10it/s]\n"
     ]
    },
    {
     "name": "stdout",
     "output_type": "stream",
     "text": [
      "(200, 2)\n",
      "66\n",
      " Mean Objectives : 29101.430684699164\n",
      " Best Objectives : 28457.95861986554\n",
      " diversity         : 0.17809399975342616\n",
      "Time: 101.28145623207092\n",
      "  start diversifying\n"
     ]
    },
    {
     "name": "stderr",
     "output_type": "stream",
     "text": [
      "100%|██████████| 300/300 [00:00<00:00, 509.30it/s]\n"
     ]
    },
    {
     "name": "stdout",
     "output_type": "stream",
     "text": [
      "<module 'random' from '/usr/lib/python3.8/random.py'>\n"
     ]
    },
    {
     "name": "stderr",
     "output_type": "stream",
     "text": [
      "100%|██████████| 200/200 [00:00<00:00, 2569.45it/s]\n"
     ]
    },
    {
     "name": "stdout",
     "output_type": "stream",
     "text": [
      "New diverisity:    0.141553863526944\n"
     ]
    },
    {
     "name": "stderr",
     "output_type": "stream",
     "text": [
      "100%|██████████| 3/3 [00:00<00:00, 2476.95it/s]\n",
      "100%|██████████| 200/200 [00:00<00:00, 310.48it/s]\n"
     ]
    },
    {
     "name": "stdout",
     "output_type": "stream",
     "text": [
      "(200, 2)\n",
      "67\n",
      " Mean Objectives : 28883.367694022694\n",
      " Best Objectives : 28457.95861986554\n",
      " diversity         : 0.1792998306228234\n",
      "Time: 102.64346885681152\n",
      "  start diversifying\n"
     ]
    },
    {
     "name": "stderr",
     "output_type": "stream",
     "text": [
      "100%|██████████| 300/300 [00:00<00:00, 509.16it/s]\n"
     ]
    },
    {
     "name": "stdout",
     "output_type": "stream",
     "text": [
      "<module 'random' from '/usr/lib/python3.8/random.py'>\n"
     ]
    },
    {
     "name": "stderr",
     "output_type": "stream",
     "text": [
      "100%|██████████| 200/200 [00:00<00:00, 1848.45it/s]\n"
     ]
    },
    {
     "name": "stdout",
     "output_type": "stream",
     "text": [
      "New diverisity:    0.14256264847261121\n"
     ]
    },
    {
     "name": "stderr",
     "output_type": "stream",
     "text": [
      "100%|██████████| 300/300 [00:00<00:00, 477.59it/s]\n"
     ]
    },
    {
     "name": "stdout",
     "output_type": "stream",
     "text": [
      "<module 'random' from '/usr/lib/python3.8/random.py'>\n"
     ]
    },
    {
     "name": "stderr",
     "output_type": "stream",
     "text": [
      "100%|██████████| 200/200 [00:00<00:00, 2805.68it/s]\n"
     ]
    },
    {
     "name": "stdout",
     "output_type": "stream",
     "text": [
      "New diverisity:    0.12289935671158354\n"
     ]
    },
    {
     "name": "stderr",
     "output_type": "stream",
     "text": [
      "100%|██████████| 3/3 [00:00<00:00, 2531.26it/s]\n",
      "100%|██████████| 200/200 [00:00<00:00, 300.88it/s]\n"
     ]
    },
    {
     "name": "stdout",
     "output_type": "stream",
     "text": [
      "(200, 2)\n",
      "68\n",
      " Mean Objectives : 29005.567473679468\n",
      " Best Objectives : 28457.95861986554\n",
      " diversity         : 0.17822641880280235\n",
      "Time: 104.80287265777588\n",
      "  start diversifying\n"
     ]
    },
    {
     "name": "stderr",
     "output_type": "stream",
     "text": [
      "100%|██████████| 300/300 [00:00<00:00, 604.13it/s]\n"
     ]
    },
    {
     "name": "stdout",
     "output_type": "stream",
     "text": [
      "<module 'random' from '/usr/lib/python3.8/random.py'>\n"
     ]
    },
    {
     "name": "stderr",
     "output_type": "stream",
     "text": [
      "100%|██████████| 200/200 [00:00<00:00, 2842.36it/s]\n"
     ]
    },
    {
     "name": "stdout",
     "output_type": "stream",
     "text": [
      "New diverisity:    0.14454541523077125\n"
     ]
    },
    {
     "name": "stderr",
     "output_type": "stream",
     "text": [
      "100%|██████████| 300/300 [00:00<00:00, 668.25it/s]\n"
     ]
    },
    {
     "name": "stdout",
     "output_type": "stream",
     "text": [
      "<module 'random' from '/usr/lib/python3.8/random.py'>\n"
     ]
    },
    {
     "name": "stderr",
     "output_type": "stream",
     "text": [
      "100%|██████████| 200/200 [00:00<00:00, 2056.60it/s]\n"
     ]
    },
    {
     "name": "stdout",
     "output_type": "stream",
     "text": [
      "New diverisity:    0.1232731861154241\n"
     ]
    },
    {
     "name": "stderr",
     "output_type": "stream",
     "text": [
      "100%|██████████| 3/3 [00:00<00:00, 1488.05it/s]\n",
      "100%|██████████| 200/200 [00:00<00:00, 292.11it/s]\n"
     ]
    },
    {
     "name": "stdout",
     "output_type": "stream",
     "text": [
      "(200, 2)\n",
      "69\n",
      " Mean Objectives : 29041.29342638798\n",
      " Best Objectives : 28457.95861986554\n",
      " diversity         : 0.17855715405118813\n",
      "Time: 106.6686315536499\n",
      "  start diversifying\n"
     ]
    },
    {
     "name": "stderr",
     "output_type": "stream",
     "text": [
      "100%|██████████| 300/300 [00:00<00:00, 544.49it/s]\n"
     ]
    },
    {
     "name": "stdout",
     "output_type": "stream",
     "text": [
      "<module 'random' from '/usr/lib/python3.8/random.py'>\n"
     ]
    },
    {
     "name": "stderr",
     "output_type": "stream",
     "text": [
      "100%|██████████| 200/200 [00:00<00:00, 2766.78it/s]\n"
     ]
    },
    {
     "name": "stdout",
     "output_type": "stream",
     "text": [
      "New diverisity:    0.14210292202665106\n"
     ]
    },
    {
     "name": "stderr",
     "output_type": "stream",
     "text": [
      "100%|██████████| 300/300 [00:00<00:00, 529.35it/s]\n"
     ]
    },
    {
     "name": "stdout",
     "output_type": "stream",
     "text": [
      "<module 'random' from '/usr/lib/python3.8/random.py'>\n"
     ]
    },
    {
     "name": "stderr",
     "output_type": "stream",
     "text": [
      "100%|██████████| 200/200 [00:00<00:00, 2537.89it/s]\n"
     ]
    },
    {
     "name": "stdout",
     "output_type": "stream",
     "text": [
      "New diverisity:    0.12871578365201922\n"
     ]
    },
    {
     "name": "stderr",
     "output_type": "stream",
     "text": [
      "100%|██████████| 3/3 [00:00<00:00, 2113.35it/s]\n",
      "100%|██████████| 200/200 [00:00<00:00, 325.88it/s]\n"
     ]
    },
    {
     "name": "stdout",
     "output_type": "stream",
     "text": [
      "(200, 2)\n",
      "70\n",
      " Mean Objectives : 28985.895614718276\n",
      " Best Objectives : 28457.95861986554\n",
      " diversity         : 0.17898678360746711\n",
      "Time: 108.6251769065857\n",
      "  start diversifying\n"
     ]
    },
    {
     "name": "stderr",
     "output_type": "stream",
     "text": [
      "100%|██████████| 300/300 [00:00<00:00, 624.51it/s]\n"
     ]
    },
    {
     "name": "stdout",
     "output_type": "stream",
     "text": [
      "<module 'random' from '/usr/lib/python3.8/random.py'>\n"
     ]
    },
    {
     "name": "stderr",
     "output_type": "stream",
     "text": [
      "100%|██████████| 200/200 [00:00<00:00, 2816.14it/s]\n"
     ]
    },
    {
     "name": "stdout",
     "output_type": "stream",
     "text": [
      "New diverisity:    0.14272768580442863\n"
     ]
    },
    {
     "name": "stderr",
     "output_type": "stream",
     "text": [
      "100%|██████████| 300/300 [00:00<00:00, 652.13it/s]\n"
     ]
    },
    {
     "name": "stdout",
     "output_type": "stream",
     "text": [
      "<module 'random' from '/usr/lib/python3.8/random.py'>\n"
     ]
    },
    {
     "name": "stderr",
     "output_type": "stream",
     "text": [
      "100%|██████████| 200/200 [00:00<00:00, 2638.88it/s]\n"
     ]
    },
    {
     "name": "stdout",
     "output_type": "stream",
     "text": [
      "New diverisity:    0.1314664980998225\n"
     ]
    },
    {
     "name": "stderr",
     "output_type": "stream",
     "text": [
      "100%|██████████| 3/3 [00:00<00:00, 2234.58it/s]\n",
      "100%|██████████| 200/200 [00:00<00:00, 366.82it/s]\n"
     ]
    },
    {
     "name": "stdout",
     "output_type": "stream",
     "text": [
      "(200, 2)\n",
      "71\n",
      " Mean Objectives : 29048.608492907937\n",
      " Best Objectives : 28457.95861986554\n",
      " diversity         : 0.17853650415533207\n",
      "Time: 110.327321767807\n",
      "  start diversifying\n"
     ]
    },
    {
     "name": "stderr",
     "output_type": "stream",
     "text": [
      "100%|██████████| 300/300 [00:00<00:00, 537.88it/s]\n"
     ]
    },
    {
     "name": "stdout",
     "output_type": "stream",
     "text": [
      "<module 'random' from '/usr/lib/python3.8/random.py'>\n"
     ]
    },
    {
     "name": "stderr",
     "output_type": "stream",
     "text": [
      "100%|██████████| 200/200 [00:00<00:00, 2803.91it/s]\n"
     ]
    },
    {
     "name": "stdout",
     "output_type": "stream",
     "text": [
      "New diverisity:    0.14574525668295904\n"
     ]
    },
    {
     "name": "stderr",
     "output_type": "stream",
     "text": [
      "100%|██████████| 300/300 [00:00<00:00, 670.72it/s]\n"
     ]
    },
    {
     "name": "stdout",
     "output_type": "stream",
     "text": [
      "<module 'random' from '/usr/lib/python3.8/random.py'>\n"
     ]
    },
    {
     "name": "stderr",
     "output_type": "stream",
     "text": [
      "100%|██████████| 200/200 [00:00<00:00, 2755.25it/s]\n"
     ]
    },
    {
     "name": "stdout",
     "output_type": "stream",
     "text": [
      "New diverisity:    0.1266522836244422\n"
     ]
    },
    {
     "name": "stderr",
     "output_type": "stream",
     "text": [
      "100%|██████████| 3/3 [00:00<00:00, 2433.36it/s]\n",
      "100%|██████████| 200/200 [00:00<00:00, 337.09it/s]\n"
     ]
    },
    {
     "name": "stdout",
     "output_type": "stream",
     "text": [
      "(200, 2)\n",
      "72\n",
      " Mean Objectives : 29159.050947492266\n",
      " Best Objectives : 28457.95861986554\n",
      " diversity         : 0.17801810118438585\n",
      "Time: 112.13717603683472\n",
      "  start diversifying\n"
     ]
    },
    {
     "name": "stderr",
     "output_type": "stream",
     "text": [
      "100%|██████████| 300/300 [00:00<00:00, 583.95it/s]\n"
     ]
    },
    {
     "name": "stdout",
     "output_type": "stream",
     "text": [
      "<module 'random' from '/usr/lib/python3.8/random.py'>\n"
     ]
    },
    {
     "name": "stderr",
     "output_type": "stream",
     "text": [
      "100%|██████████| 200/200 [00:00<00:00, 2800.78it/s]\n"
     ]
    },
    {
     "name": "stdout",
     "output_type": "stream",
     "text": [
      "New diverisity:    0.13915897658913579\n"
     ]
    },
    {
     "name": "stderr",
     "output_type": "stream",
     "text": [
      "100%|██████████| 3/3 [00:00<00:00, 2526.69it/s]\n",
      "100%|██████████| 200/200 [00:00<00:00, 319.75it/s]\n"
     ]
    },
    {
     "name": "stdout",
     "output_type": "stream",
     "text": [
      "(200, 2)\n",
      "73\n",
      " Mean Objectives : 28995.676794094994\n",
      " Best Objectives : 28457.95861986554\n",
      " diversity         : 0.178887947762892\n",
      "Time: 113.39580249786377\n",
      "  start diversifying\n"
     ]
    },
    {
     "name": "stderr",
     "output_type": "stream",
     "text": [
      "100%|██████████| 300/300 [00:00<00:00, 510.26it/s]\n"
     ]
    },
    {
     "name": "stdout",
     "output_type": "stream",
     "text": [
      "<module 'random' from '/usr/lib/python3.8/random.py'>\n"
     ]
    },
    {
     "name": "stderr",
     "output_type": "stream",
     "text": [
      "100%|██████████| 200/200 [00:00<00:00, 2366.96it/s]\n"
     ]
    },
    {
     "name": "stdout",
     "output_type": "stream",
     "text": [
      "New diverisity:    0.14386351352499735\n"
     ]
    },
    {
     "name": "stderr",
     "output_type": "stream",
     "text": [
      "100%|██████████| 300/300 [00:00<00:00, 451.84it/s]\n"
     ]
    },
    {
     "name": "stdout",
     "output_type": "stream",
     "text": [
      "<module 'random' from '/usr/lib/python3.8/random.py'>\n"
     ]
    },
    {
     "name": "stderr",
     "output_type": "stream",
     "text": [
      "100%|██████████| 200/200 [00:00<00:00, 1904.99it/s]\n"
     ]
    },
    {
     "name": "stdout",
     "output_type": "stream",
     "text": [
      "New diverisity:    0.12021200711709436\n"
     ]
    },
    {
     "name": "stderr",
     "output_type": "stream",
     "text": [
      "100%|██████████| 3/3 [00:00<00:00, 1382.89it/s]\n",
      "100%|██████████| 200/200 [00:00<00:00, 292.82it/s]\n"
     ]
    },
    {
     "name": "stdout",
     "output_type": "stream",
     "text": [
      "(200, 2)\n",
      "74\n",
      " Mean Objectives : 29086.801496213255\n",
      " Best Objectives : 28457.95861986554\n",
      " diversity         : 0.17806270442340905\n",
      "Time: 115.61250019073486\n",
      "  start diversifying\n"
     ]
    },
    {
     "name": "stderr",
     "output_type": "stream",
     "text": [
      "100%|██████████| 300/300 [00:00<00:00, 524.62it/s]\n"
     ]
    },
    {
     "name": "stdout",
     "output_type": "stream",
     "text": [
      "<module 'random' from '/usr/lib/python3.8/random.py'>\n"
     ]
    },
    {
     "name": "stderr",
     "output_type": "stream",
     "text": [
      "100%|██████████| 200/200 [00:00<00:00, 2779.55it/s]\n"
     ]
    },
    {
     "name": "stdout",
     "output_type": "stream",
     "text": [
      "New diverisity:    0.14736333008719463\n"
     ]
    },
    {
     "name": "stderr",
     "output_type": "stream",
     "text": [
      "100%|██████████| 300/300 [00:00<00:00, 669.24it/s]\n"
     ]
    },
    {
     "name": "stdout",
     "output_type": "stream",
     "text": [
      "<module 'random' from '/usr/lib/python3.8/random.py'>\n"
     ]
    },
    {
     "name": "stderr",
     "output_type": "stream",
     "text": [
      "100%|██████████| 200/200 [00:00<00:00, 2802.95it/s]\n"
     ]
    },
    {
     "name": "stdout",
     "output_type": "stream",
     "text": [
      "New diverisity:    0.1368167412883584\n"
     ]
    },
    {
     "name": "stderr",
     "output_type": "stream",
     "text": [
      "100%|██████████| 3/3 [00:00<00:00, 1399.19it/s]\n",
      "100%|██████████| 200/200 [00:00<00:00, 316.70it/s]\n"
     ]
    },
    {
     "name": "stdout",
     "output_type": "stream",
     "text": [
      "(200, 2)\n",
      "75\n",
      " Mean Objectives : 29065.374165159283\n",
      " Best Objectives : 28457.95861986554\n",
      " diversity         : 0.1781765665197754\n",
      "Time: 117.47672080993652\n",
      "  start diversifying\n"
     ]
    },
    {
     "name": "stderr",
     "output_type": "stream",
     "text": [
      "100%|██████████| 300/300 [00:00<00:00, 541.58it/s]\n"
     ]
    },
    {
     "name": "stdout",
     "output_type": "stream",
     "text": [
      "<module 'random' from '/usr/lib/python3.8/random.py'>\n"
     ]
    },
    {
     "name": "stderr",
     "output_type": "stream",
     "text": [
      "100%|██████████| 200/200 [00:00<00:00, 2764.43it/s]\n"
     ]
    },
    {
     "name": "stdout",
     "output_type": "stream",
     "text": [
      "New diverisity:    0.13722643489896771\n"
     ]
    },
    {
     "name": "stderr",
     "output_type": "stream",
     "text": [
      "100%|██████████| 3/3 [00:00<00:00, 2520.62it/s]\n",
      "100%|██████████| 200/200 [00:00<00:00, 343.92it/s]\n"
     ]
    },
    {
     "name": "stdout",
     "output_type": "stream",
     "text": [
      "(200, 2)\n",
      "76\n",
      " Mean Objectives : 28970.45017287822\n",
      " Best Objectives : 28457.95861986554\n",
      " diversity         : 0.17888930341775497\n",
      "Time: 118.72909450531006\n",
      "  start diversifying\n"
     ]
    },
    {
     "name": "stderr",
     "output_type": "stream",
     "text": [
      "100%|██████████| 300/300 [00:00<00:00, 536.03it/s]\n"
     ]
    },
    {
     "name": "stdout",
     "output_type": "stream",
     "text": [
      "<module 'random' from '/usr/lib/python3.8/random.py'>\n"
     ]
    },
    {
     "name": "stderr",
     "output_type": "stream",
     "text": [
      "100%|██████████| 200/200 [00:00<00:00, 2735.58it/s]\n"
     ]
    },
    {
     "name": "stdout",
     "output_type": "stream",
     "text": [
      "New diverisity:    0.14245137739127955\n"
     ]
    },
    {
     "name": "stderr",
     "output_type": "stream",
     "text": [
      "100%|██████████| 300/300 [00:00<00:00, 553.82it/s]\n"
     ]
    },
    {
     "name": "stdout",
     "output_type": "stream",
     "text": [
      "<module 'random' from '/usr/lib/python3.8/random.py'>\n"
     ]
    },
    {
     "name": "stderr",
     "output_type": "stream",
     "text": [
      "100%|██████████| 200/200 [00:00<00:00, 2745.51it/s]\n"
     ]
    },
    {
     "name": "stdout",
     "output_type": "stream",
     "text": [
      "New diverisity:    0.12890252817884285\n"
     ]
    },
    {
     "name": "stderr",
     "output_type": "stream",
     "text": [
      "100%|██████████| 3/3 [00:00<00:00, 2339.70it/s]\n",
      "100%|██████████| 200/200 [00:00<00:00, 327.41it/s]\n"
     ]
    },
    {
     "name": "stdout",
     "output_type": "stream",
     "text": [
      "(200, 2)\n",
      "77\n",
      " Mean Objectives : 28926.184492930406\n",
      " Best Objectives : 28457.95861986554\n",
      " diversity         : 0.17895018713396738\n",
      "Time: 120.65946125984192\n",
      "  start diversifying\n"
     ]
    },
    {
     "name": "stderr",
     "output_type": "stream",
     "text": [
      "100%|██████████| 300/300 [00:00<00:00, 545.74it/s]\n"
     ]
    },
    {
     "name": "stdout",
     "output_type": "stream",
     "text": [
      "<module 'random' from '/usr/lib/python3.8/random.py'>\n"
     ]
    },
    {
     "name": "stderr",
     "output_type": "stream",
     "text": [
      "100%|██████████| 200/200 [00:00<00:00, 2779.96it/s]\n"
     ]
    },
    {
     "name": "stdout",
     "output_type": "stream",
     "text": [
      "New diverisity:    0.13589615881241227\n"
     ]
    },
    {
     "name": "stderr",
     "output_type": "stream",
     "text": [
      "100%|██████████| 3/3 [00:00<00:00, 2357.23it/s]\n",
      "100%|██████████| 200/200 [00:00<00:00, 317.78it/s]\n"
     ]
    },
    {
     "name": "stdout",
     "output_type": "stream",
     "text": [
      "(200, 2)\n",
      "78\n",
      " Mean Objectives : 28944.088147430615\n",
      " Best Objectives : 28457.95861986554\n",
      " diversity         : 0.1793673967996931\n",
      "Time: 121.95244526863098\n",
      "  start diversifying\n"
     ]
    },
    {
     "name": "stderr",
     "output_type": "stream",
     "text": [
      "100%|██████████| 300/300 [00:00<00:00, 672.18it/s]\n"
     ]
    },
    {
     "name": "stdout",
     "output_type": "stream",
     "text": [
      "<module 'random' from '/usr/lib/python3.8/random.py'>\n"
     ]
    },
    {
     "name": "stderr",
     "output_type": "stream",
     "text": [
      "100%|██████████| 200/200 [00:00<00:00, 2815.33it/s]\n"
     ]
    },
    {
     "name": "stdout",
     "output_type": "stream",
     "text": [
      "New diverisity:    0.14261083976716363\n"
     ]
    },
    {
     "name": "stderr",
     "output_type": "stream",
     "text": [
      "100%|██████████| 300/300 [00:00<00:00, 675.43it/s]\n"
     ]
    },
    {
     "name": "stdout",
     "output_type": "stream",
     "text": [
      "<module 'random' from '/usr/lib/python3.8/random.py'>\n"
     ]
    },
    {
     "name": "stderr",
     "output_type": "stream",
     "text": [
      "100%|██████████| 200/200 [00:00<00:00, 2815.10it/s]\n"
     ]
    },
    {
     "name": "stdout",
     "output_type": "stream",
     "text": [
      "New diverisity:    0.12347264591765\n"
     ]
    },
    {
     "name": "stderr",
     "output_type": "stream",
     "text": [
      "100%|██████████| 3/3 [00:00<00:00, 1891.31it/s]\n",
      "100%|██████████| 200/200 [00:00<00:00, 355.50it/s]\n"
     ]
    },
    {
     "name": "stdout",
     "output_type": "stream",
     "text": [
      "(200, 2)\n",
      "79\n",
      " Mean Objectives : 29133.342617385973\n",
      " Best Objectives : 28457.95861986554\n",
      " diversity         : 0.1773935847419703\n",
      "Time: 123.61175608634949\n",
      "  start diversifying\n"
     ]
    },
    {
     "name": "stderr",
     "output_type": "stream",
     "text": [
      "100%|██████████| 300/300 [00:00<00:00, 655.53it/s]\n"
     ]
    },
    {
     "name": "stdout",
     "output_type": "stream",
     "text": [
      "<module 'random' from '/usr/lib/python3.8/random.py'>\n"
     ]
    },
    {
     "name": "stderr",
     "output_type": "stream",
     "text": [
      "100%|██████████| 200/200 [00:00<00:00, 2766.41it/s]\n"
     ]
    },
    {
     "name": "stdout",
     "output_type": "stream",
     "text": [
      "New diverisity:    0.13829161146308086\n"
     ]
    },
    {
     "name": "stderr",
     "output_type": "stream",
     "text": [
      "100%|██████████| 3/3 [00:00<00:00, 2481.35it/s]\n",
      "100%|██████████| 200/200 [00:00<00:00, 366.60it/s]\n"
     ]
    },
    {
     "name": "stdout",
     "output_type": "stream",
     "text": [
      "(200, 2)\n",
      "80\n",
      " Mean Objectives : 29070.305585501563\n",
      " Best Objectives : 28457.95861986554\n",
      " diversity         : 0.17789438485307524\n",
      "Time: 124.72981452941895\n",
      "  start diversifying\n"
     ]
    },
    {
     "name": "stderr",
     "output_type": "stream",
     "text": [
      "100%|██████████| 300/300 [00:00<00:00, 664.32it/s]\n"
     ]
    },
    {
     "name": "stdout",
     "output_type": "stream",
     "text": [
      "<module 'random' from '/usr/lib/python3.8/random.py'>\n"
     ]
    },
    {
     "name": "stderr",
     "output_type": "stream",
     "text": [
      "100%|██████████| 200/200 [00:00<00:00, 2806.77it/s]\n"
     ]
    },
    {
     "name": "stdout",
     "output_type": "stream",
     "text": [
      "New diverisity:    0.14756923514344403\n"
     ]
    },
    {
     "name": "stderr",
     "output_type": "stream",
     "text": [
      "100%|██████████| 300/300 [00:00<00:00, 673.57it/s]\n"
     ]
    },
    {
     "name": "stdout",
     "output_type": "stream",
     "text": [
      "<module 'random' from '/usr/lib/python3.8/random.py'>\n"
     ]
    },
    {
     "name": "stderr",
     "output_type": "stream",
     "text": [
      "100%|██████████| 200/200 [00:00<00:00, 2821.59it/s]\n"
     ]
    },
    {
     "name": "stdout",
     "output_type": "stream",
     "text": [
      "New diverisity:    0.13057369394060894\n"
     ]
    },
    {
     "name": "stderr",
     "output_type": "stream",
     "text": [
      "100%|██████████| 3/3 [00:00<00:00, 2440.91it/s]\n",
      "100%|██████████| 200/200 [00:00<00:00, 379.91it/s]\n"
     ]
    },
    {
     "name": "stdout",
     "output_type": "stream",
     "text": [
      "(200, 2)\n",
      "81\n",
      " Mean Objectives : 28909.83372041776\n",
      " Best Objectives : 28457.95861986554\n",
      " diversity         : 0.17965262541928265\n",
      "Time: 126.35963582992554\n",
      "  start diversifying\n"
     ]
    },
    {
     "name": "stderr",
     "output_type": "stream",
     "text": [
      "100%|██████████| 300/300 [00:00<00:00, 540.30it/s]\n"
     ]
    },
    {
     "name": "stdout",
     "output_type": "stream",
     "text": [
      "<module 'random' from '/usr/lib/python3.8/random.py'>\n"
     ]
    },
    {
     "name": "stderr",
     "output_type": "stream",
     "text": [
      "100%|██████████| 200/200 [00:00<00:00, 2809.05it/s]\n"
     ]
    },
    {
     "name": "stdout",
     "output_type": "stream",
     "text": [
      "New diverisity:    0.14363519665697919\n"
     ]
    },
    {
     "name": "stderr",
     "output_type": "stream",
     "text": [
      "100%|██████████| 300/300 [00:00<00:00, 565.80it/s]\n"
     ]
    },
    {
     "name": "stdout",
     "output_type": "stream",
     "text": [
      "<module 'random' from '/usr/lib/python3.8/random.py'>\n"
     ]
    },
    {
     "name": "stderr",
     "output_type": "stream",
     "text": [
      "100%|██████████| 200/200 [00:00<00:00, 2806.04it/s]\n"
     ]
    },
    {
     "name": "stdout",
     "output_type": "stream",
     "text": [
      "New diverisity:    0.13035537473484327\n"
     ]
    },
    {
     "name": "stderr",
     "output_type": "stream",
     "text": [
      "100%|██████████| 3/3 [00:00<00:00, 2466.75it/s]\n",
      "100%|██████████| 200/200 [00:00<00:00, 296.34it/s]\n"
     ]
    },
    {
     "name": "stdout",
     "output_type": "stream",
     "text": [
      "(200, 2)\n",
      "82\n",
      " Mean Objectives : 29019.69709837298\n",
      " Best Objectives : 28457.95861986554\n",
      " diversity         : 0.1784083786383136\n",
      "Time: 128.3309609889984\n",
      "  start diversifying\n"
     ]
    },
    {
     "name": "stderr",
     "output_type": "stream",
     "text": [
      "100%|██████████| 300/300 [00:00<00:00, 534.46it/s]\n"
     ]
    },
    {
     "name": "stdout",
     "output_type": "stream",
     "text": [
      "<module 'random' from '/usr/lib/python3.8/random.py'>\n"
     ]
    },
    {
     "name": "stderr",
     "output_type": "stream",
     "text": [
      "100%|██████████| 200/200 [00:00<00:00, 2648.89it/s]\n"
     ]
    },
    {
     "name": "stdout",
     "output_type": "stream",
     "text": [
      "New diverisity:    0.1426097952081395\n"
     ]
    },
    {
     "name": "stderr",
     "output_type": "stream",
     "text": [
      "100%|██████████| 300/300 [00:00<00:00, 658.35it/s]\n"
     ]
    },
    {
     "name": "stdout",
     "output_type": "stream",
     "text": [
      "<module 'random' from '/usr/lib/python3.8/random.py'>\n"
     ]
    },
    {
     "name": "stderr",
     "output_type": "stream",
     "text": [
      "100%|██████████| 200/200 [00:00<00:00, 2741.50it/s]\n"
     ]
    },
    {
     "name": "stdout",
     "output_type": "stream",
     "text": [
      "New diverisity:    0.13228248669913195\n"
     ]
    },
    {
     "name": "stderr",
     "output_type": "stream",
     "text": [
      "100%|██████████| 3/3 [00:00<00:00, 2495.62it/s]\n",
      "100%|██████████| 200/200 [00:00<00:00, 322.58it/s]\n"
     ]
    },
    {
     "name": "stdout",
     "output_type": "stream",
     "text": [
      "(200, 2)\n",
      "83\n",
      " Mean Objectives : 29212.286905302153\n",
      " Best Objectives : 28457.95861986554\n",
      " diversity         : 0.17735992806683187\n",
      "Time: 130.18268871307373\n",
      "  start diversifying\n"
     ]
    },
    {
     "name": "stderr",
     "output_type": "stream",
     "text": [
      "100%|██████████| 300/300 [00:00<00:00, 538.59it/s]\n"
     ]
    },
    {
     "name": "stdout",
     "output_type": "stream",
     "text": [
      "<module 'random' from '/usr/lib/python3.8/random.py'>\n"
     ]
    },
    {
     "name": "stderr",
     "output_type": "stream",
     "text": [
      "100%|██████████| 200/200 [00:00<00:00, 2773.07it/s]\n"
     ]
    },
    {
     "name": "stdout",
     "output_type": "stream",
     "text": [
      "New diverisity:    0.1406922110091312\n"
     ]
    },
    {
     "name": "stderr",
     "output_type": "stream",
     "text": [
      "100%|██████████| 3/3 [00:00<00:00, 2066.50it/s]\n",
      "100%|██████████| 200/200 [00:00<00:00, 325.95it/s]\n"
     ]
    },
    {
     "name": "stdout",
     "output_type": "stream",
     "text": [
      "(200, 2)\n",
      "84\n",
      " Mean Objectives : 29062.419974420536\n",
      " Best Objectives : 28457.95861986554\n",
      " diversity         : 0.17869025846985861\n",
      "Time: 131.47583937644958\n",
      "  start diversifying\n"
     ]
    },
    {
     "name": "stderr",
     "output_type": "stream",
     "text": [
      "100%|██████████| 300/300 [00:00<00:00, 544.15it/s]\n"
     ]
    },
    {
     "name": "stdout",
     "output_type": "stream",
     "text": [
      "<module 'random' from '/usr/lib/python3.8/random.py'>\n"
     ]
    },
    {
     "name": "stderr",
     "output_type": "stream",
     "text": [
      "100%|██████████| 200/200 [00:00<00:00, 2740.51it/s]\n"
     ]
    },
    {
     "name": "stdout",
     "output_type": "stream",
     "text": [
      "New diverisity:    0.1420976268468165\n"
     ]
    },
    {
     "name": "stderr",
     "output_type": "stream",
     "text": [
      "100%|██████████| 300/300 [00:00<00:00, 548.49it/s]\n"
     ]
    },
    {
     "name": "stdout",
     "output_type": "stream",
     "text": [
      "<module 'random' from '/usr/lib/python3.8/random.py'>\n"
     ]
    },
    {
     "name": "stderr",
     "output_type": "stream",
     "text": [
      "100%|██████████| 200/200 [00:00<00:00, 2789.73it/s]\n"
     ]
    },
    {
     "name": "stdout",
     "output_type": "stream",
     "text": [
      "New diverisity:    0.1303093937487509\n"
     ]
    },
    {
     "name": "stderr",
     "output_type": "stream",
     "text": [
      "100%|██████████| 3/3 [00:00<00:00, 2458.56it/s]\n",
      "100%|██████████| 200/200 [00:00<00:00, 331.87it/s]\n"
     ]
    },
    {
     "name": "stdout",
     "output_type": "stream",
     "text": [
      "(200, 2)\n",
      "85\n",
      " Mean Objectives : 29096.084964993195\n",
      " Best Objectives : 28457.95861986554\n",
      " diversity         : 0.17821396473957848\n",
      "Time: 133.39267826080322\n",
      "  start diversifying\n"
     ]
    },
    {
     "name": "stderr",
     "output_type": "stream",
     "text": [
      "100%|██████████| 300/300 [00:00<00:00, 475.70it/s]\n"
     ]
    },
    {
     "name": "stdout",
     "output_type": "stream",
     "text": [
      "<module 'random' from '/usr/lib/python3.8/random.py'>\n"
     ]
    },
    {
     "name": "stderr",
     "output_type": "stream",
     "text": [
      "100%|██████████| 200/200 [00:00<00:00, 2752.17it/s]\n"
     ]
    },
    {
     "name": "stdout",
     "output_type": "stream",
     "text": [
      "New diverisity:    0.13349111204985525\n"
     ]
    },
    {
     "name": "stderr",
     "output_type": "stream",
     "text": [
      "100%|██████████| 3/3 [00:00<00:00, 1835.31it/s]\n",
      "100%|██████████| 200/200 [00:00<00:00, 336.90it/s]\n"
     ]
    },
    {
     "name": "stdout",
     "output_type": "stream",
     "text": [
      "(200, 2)\n",
      "86\n",
      " Mean Objectives : 28960.750318603812\n",
      " Best Objectives : 28457.95861986554\n",
      " diversity         : 0.17898081906575578\n",
      "Time: 134.7365367412567\n",
      "  start diversifying\n"
     ]
    },
    {
     "name": "stderr",
     "output_type": "stream",
     "text": [
      "100%|██████████| 300/300 [00:00<00:00, 538.31it/s]\n"
     ]
    },
    {
     "name": "stdout",
     "output_type": "stream",
     "text": [
      "<module 'random' from '/usr/lib/python3.8/random.py'>\n"
     ]
    },
    {
     "name": "stderr",
     "output_type": "stream",
     "text": [
      "100%|██████████| 200/200 [00:00<00:00, 2797.94it/s]\n"
     ]
    },
    {
     "name": "stdout",
     "output_type": "stream",
     "text": [
      "New diverisity:    0.13806497531482914\n"
     ]
    },
    {
     "name": "stderr",
     "output_type": "stream",
     "text": [
      "100%|██████████| 3/3 [00:00<00:00, 2348.87it/s]\n",
      "100%|██████████| 200/200 [00:00<00:00, 284.50it/s]\n"
     ]
    },
    {
     "name": "stdout",
     "output_type": "stream",
     "text": [
      "(200, 2)\n",
      "87\n",
      " Mean Objectives : 28953.168215113372\n",
      " Best Objectives : 28457.95861986554\n",
      " diversity         : 0.1790086564702022\n",
      "Time: 136.1158413887024\n",
      "  start diversifying\n"
     ]
    },
    {
     "name": "stderr",
     "output_type": "stream",
     "text": [
      "100%|██████████| 300/300 [00:00<00:00, 527.51it/s]\n"
     ]
    },
    {
     "name": "stdout",
     "output_type": "stream",
     "text": [
      "<module 'random' from '/usr/lib/python3.8/random.py'>\n"
     ]
    },
    {
     "name": "stderr",
     "output_type": "stream",
     "text": [
      "100%|██████████| 200/200 [00:00<00:00, 2803.45it/s]\n"
     ]
    },
    {
     "name": "stdout",
     "output_type": "stream",
     "text": [
      "New diverisity:    0.14334272782621996\n"
     ]
    },
    {
     "name": "stderr",
     "output_type": "stream",
     "text": [
      "100%|██████████| 300/300 [00:00<00:00, 637.64it/s]\n"
     ]
    },
    {
     "name": "stdout",
     "output_type": "stream",
     "text": [
      "<module 'random' from '/usr/lib/python3.8/random.py'>\n"
     ]
    },
    {
     "name": "stderr",
     "output_type": "stream",
     "text": [
      "100%|██████████| 200/200 [00:00<00:00, 2724.73it/s]\n"
     ]
    },
    {
     "name": "stdout",
     "output_type": "stream",
     "text": [
      "New diverisity:    0.1285224978040697\n"
     ]
    },
    {
     "name": "stderr",
     "output_type": "stream",
     "text": [
      "100%|██████████| 3/3 [00:00<00:00, 2361.21it/s]\n",
      "100%|██████████| 200/200 [00:00<00:00, 333.41it/s]\n"
     ]
    },
    {
     "name": "stdout",
     "output_type": "stream",
     "text": [
      "(200, 2)\n",
      "88\n",
      " Mean Objectives : 28967.40536492167\n",
      " Best Objectives : 28457.95861986554\n",
      " diversity         : 0.17923122712540696\n",
      "Time: 137.96720671653748\n",
      "  start diversifying\n"
     ]
    },
    {
     "name": "stderr",
     "output_type": "stream",
     "text": [
      "100%|██████████| 300/300 [00:00<00:00, 585.01it/s]\n"
     ]
    },
    {
     "name": "stdout",
     "output_type": "stream",
     "text": [
      "<module 'random' from '/usr/lib/python3.8/random.py'>\n"
     ]
    },
    {
     "name": "stderr",
     "output_type": "stream",
     "text": [
      "100%|██████████| 200/200 [00:00<00:00, 2783.56it/s]\n"
     ]
    },
    {
     "name": "stdout",
     "output_type": "stream",
     "text": [
      "New diverisity:    0.14288699139068384\n"
     ]
    },
    {
     "name": "stderr",
     "output_type": "stream",
     "text": [
      "100%|██████████| 300/300 [00:00<00:00, 665.09it/s]\n"
     ]
    },
    {
     "name": "stdout",
     "output_type": "stream",
     "text": [
      "<module 'random' from '/usr/lib/python3.8/random.py'>\n"
     ]
    },
    {
     "name": "stderr",
     "output_type": "stream",
     "text": [
      "100%|██████████| 200/200 [00:00<00:00, 1926.04it/s]\n"
     ]
    },
    {
     "name": "stdout",
     "output_type": "stream",
     "text": [
      "New diverisity:    0.12222730607195764\n"
     ]
    },
    {
     "name": "stderr",
     "output_type": "stream",
     "text": [
      "100%|██████████| 3/3 [00:00<00:00, 2296.57it/s]\n",
      "100%|██████████| 200/200 [00:00<00:00, 306.29it/s]\n"
     ]
    },
    {
     "name": "stdout",
     "output_type": "stream",
     "text": [
      "(200, 2)\n",
      "89\n",
      " Mean Objectives : 28843.834181243285\n",
      " Best Objectives : 28457.95861986554\n",
      " diversity         : 0.179663474170005\n",
      "Time: 139.83137464523315\n",
      "  start diversifying\n"
     ]
    },
    {
     "name": "stderr",
     "output_type": "stream",
     "text": [
      "100%|██████████| 300/300 [00:00<00:00, 629.94it/s]\n"
     ]
    },
    {
     "name": "stdout",
     "output_type": "stream",
     "text": [
      "<module 'random' from '/usr/lib/python3.8/random.py'>\n"
     ]
    },
    {
     "name": "stderr",
     "output_type": "stream",
     "text": [
      "100%|██████████| 200/200 [00:00<00:00, 2625.90it/s]\n"
     ]
    },
    {
     "name": "stdout",
     "output_type": "stream",
     "text": [
      "New diverisity:    0.14506407547008401\n"
     ]
    },
    {
     "name": "stderr",
     "output_type": "stream",
     "text": [
      "100%|██████████| 300/300 [00:00<00:00, 601.70it/s]\n"
     ]
    },
    {
     "name": "stdout",
     "output_type": "stream",
     "text": [
      "<module 'random' from '/usr/lib/python3.8/random.py'>\n"
     ]
    },
    {
     "name": "stderr",
     "output_type": "stream",
     "text": [
      "100%|██████████| 200/200 [00:00<00:00, 2809.15it/s]\n"
     ]
    },
    {
     "name": "stdout",
     "output_type": "stream",
     "text": [
      "New diverisity:    0.12787573701206364\n"
     ]
    },
    {
     "name": "stderr",
     "output_type": "stream",
     "text": [
      "100%|██████████| 3/3 [00:00<00:00, 1842.30it/s]\n",
      "100%|██████████| 200/200 [00:00<00:00, 325.28it/s]\n"
     ]
    },
    {
     "name": "stdout",
     "output_type": "stream",
     "text": [
      "(200, 2)\n",
      "90\n",
      " Mean Objectives : 29040.162150034543\n",
      " Best Objectives : 28457.95861986554\n",
      " diversity         : 0.1786159151877353\n",
      "Time: 141.6394078731537\n",
      "  start diversifying\n"
     ]
    },
    {
     "name": "stderr",
     "output_type": "stream",
     "text": [
      "100%|██████████| 300/300 [00:00<00:00, 431.32it/s]\n"
     ]
    },
    {
     "name": "stdout",
     "output_type": "stream",
     "text": [
      "<module 'random' from '/usr/lib/python3.8/random.py'>\n"
     ]
    },
    {
     "name": "stderr",
     "output_type": "stream",
     "text": [
      "100%|██████████| 200/200 [00:00<00:00, 2301.14it/s]\n"
     ]
    },
    {
     "name": "stdout",
     "output_type": "stream",
     "text": [
      "New diverisity:    0.14184998863718026\n"
     ]
    },
    {
     "name": "stderr",
     "output_type": "stream",
     "text": [
      "100%|██████████| 3/3 [00:00<00:00, 2308.79it/s]\n",
      "100%|██████████| 200/200 [00:00<00:00, 320.48it/s]\n"
     ]
    },
    {
     "name": "stdout",
     "output_type": "stream",
     "text": [
      "(200, 2)\n",
      "91\n",
      " Mean Objectives : 28923.10251194957\n",
      " Best Objectives : 28457.95861986554\n",
      " diversity         : 0.17945891345876736\n",
      "Time: 143.0971438884735\n",
      "  start diversifying\n"
     ]
    },
    {
     "name": "stderr",
     "output_type": "stream",
     "text": [
      "100%|██████████| 300/300 [00:00<00:00, 539.70it/s]\n"
     ]
    },
    {
     "name": "stdout",
     "output_type": "stream",
     "text": [
      "<module 'random' from '/usr/lib/python3.8/random.py'>\n"
     ]
    },
    {
     "name": "stderr",
     "output_type": "stream",
     "text": [
      "100%|██████████| 200/200 [00:00<00:00, 2723.48it/s]\n"
     ]
    },
    {
     "name": "stdout",
     "output_type": "stream",
     "text": [
      "New diverisity:    0.1419844797931438\n"
     ]
    },
    {
     "name": "stderr",
     "output_type": "stream",
     "text": [
      "100%|██████████| 3/3 [00:00<00:00, 1811.01it/s]\n",
      "100%|██████████| 200/200 [00:00<00:00, 318.80it/s]\n"
     ]
    },
    {
     "name": "stdout",
     "output_type": "stream",
     "text": [
      "(200, 2)\n",
      "92\n",
      " Mean Objectives : 28960.463941513328\n",
      " Best Objectives : 28457.95861986554\n",
      " diversity         : 0.17897882487020458\n",
      "Time: 144.3993546962738\n",
      "  start diversifying\n"
     ]
    },
    {
     "name": "stderr",
     "output_type": "stream",
     "text": [
      "100%|██████████| 300/300 [00:00<00:00, 530.66it/s]\n"
     ]
    },
    {
     "name": "stdout",
     "output_type": "stream",
     "text": [
      "<module 'random' from '/usr/lib/python3.8/random.py'>\n"
     ]
    },
    {
     "name": "stderr",
     "output_type": "stream",
     "text": [
      "100%|██████████| 200/200 [00:00<00:00, 2697.17it/s]\n"
     ]
    },
    {
     "name": "stdout",
     "output_type": "stream",
     "text": [
      "New diverisity:    0.14536635332379072\n"
     ]
    },
    {
     "name": "stderr",
     "output_type": "stream",
     "text": [
      "100%|██████████| 300/300 [00:00<00:00, 498.86it/s]\n"
     ]
    },
    {
     "name": "stdout",
     "output_type": "stream",
     "text": [
      "<module 'random' from '/usr/lib/python3.8/random.py'>\n"
     ]
    },
    {
     "name": "stderr",
     "output_type": "stream",
     "text": [
      "100%|██████████| 200/200 [00:00<00:00, 2699.38it/s]\n"
     ]
    },
    {
     "name": "stdout",
     "output_type": "stream",
     "text": [
      "New diverisity:    0.13298117524929648\n"
     ]
    },
    {
     "name": "stderr",
     "output_type": "stream",
     "text": [
      "100%|██████████| 3/3 [00:00<00:00, 2522.13it/s]\n",
      "100%|██████████| 200/200 [00:00<00:00, 350.07it/s]\n"
     ]
    },
    {
     "name": "stdout",
     "output_type": "stream",
     "text": [
      "(200, 2)\n",
      "93\n",
      " Mean Objectives : 28946.644270493798\n",
      " Best Objectives : 28457.95861986554\n",
      " diversity         : 0.17897956042254579\n",
      "Time: 146.35449385643005\n",
      "  start diversifying\n"
     ]
    },
    {
     "name": "stderr",
     "output_type": "stream",
     "text": [
      "100%|██████████| 300/300 [00:00<00:00, 523.54it/s]\n"
     ]
    },
    {
     "name": "stdout",
     "output_type": "stream",
     "text": [
      "<module 'random' from '/usr/lib/python3.8/random.py'>\n"
     ]
    },
    {
     "name": "stderr",
     "output_type": "stream",
     "text": [
      "100%|██████████| 200/200 [00:00<00:00, 2672.49it/s]\n"
     ]
    },
    {
     "name": "stdout",
     "output_type": "stream",
     "text": [
      "New diverisity:    0.14026184540809564\n"
     ]
    },
    {
     "name": "stderr",
     "output_type": "stream",
     "text": [
      "100%|██████████| 3/3 [00:00<00:00, 2452.33it/s]\n",
      "100%|██████████| 200/200 [00:00<00:00, 345.36it/s]\n"
     ]
    },
    {
     "name": "stdout",
     "output_type": "stream",
     "text": [
      "(200, 2)\n",
      "94\n",
      " Mean Objectives : 28810.03234437093\n",
      " Best Objectives : 28457.95861986554\n",
      " diversity         : 0.179851069713498\n",
      "Time: 147.6285526752472\n",
      "  start diversifying\n"
     ]
    },
    {
     "name": "stderr",
     "output_type": "stream",
     "text": [
      "100%|██████████| 300/300 [00:00<00:00, 537.21it/s]\n"
     ]
    },
    {
     "name": "stdout",
     "output_type": "stream",
     "text": [
      "<module 'random' from '/usr/lib/python3.8/random.py'>\n"
     ]
    },
    {
     "name": "stderr",
     "output_type": "stream",
     "text": [
      "100%|██████████| 200/200 [00:00<00:00, 2795.80it/s]\n"
     ]
    },
    {
     "name": "stdout",
     "output_type": "stream",
     "text": [
      "New diverisity:    0.1421503927905924\n"
     ]
    },
    {
     "name": "stderr",
     "output_type": "stream",
     "text": [
      "100%|██████████| 300/300 [00:00<00:00, 676.33it/s]\n"
     ]
    },
    {
     "name": "stdout",
     "output_type": "stream",
     "text": [
      "<module 'random' from '/usr/lib/python3.8/random.py'>\n"
     ]
    },
    {
     "name": "stderr",
     "output_type": "stream",
     "text": [
      "100%|██████████| 200/200 [00:00<00:00, 2723.75it/s]\n"
     ]
    },
    {
     "name": "stdout",
     "output_type": "stream",
     "text": [
      "New diverisity:    0.12556764505620205\n"
     ]
    },
    {
     "name": "stderr",
     "output_type": "stream",
     "text": [
      "100%|██████████| 3/3 [00:00<00:00, 2516.08it/s]\n",
      "100%|██████████| 200/200 [00:00<00:00, 344.38it/s]\n"
     ]
    },
    {
     "name": "stdout",
     "output_type": "stream",
     "text": [
      "(200, 2)\n",
      "95\n",
      " Mean Objectives : 28887.126636496865\n",
      " Best Objectives : 28457.95861986554\n",
      " diversity         : 0.17952769423135018\n",
      "Time: 149.42183804512024\n",
      "  start diversifying\n"
     ]
    },
    {
     "name": "stderr",
     "output_type": "stream",
     "text": [
      "100%|██████████| 300/300 [00:00<00:00, 540.57it/s]\n"
     ]
    },
    {
     "name": "stdout",
     "output_type": "stream",
     "text": [
      "<module 'random' from '/usr/lib/python3.8/random.py'>\n"
     ]
    },
    {
     "name": "stderr",
     "output_type": "stream",
     "text": [
      "100%|██████████| 200/200 [00:00<00:00, 2835.05it/s]\n"
     ]
    },
    {
     "name": "stdout",
     "output_type": "stream",
     "text": [
      "New diverisity:    0.14260349546753617\n"
     ]
    },
    {
     "name": "stderr",
     "output_type": "stream",
     "text": [
      "100%|██████████| 300/300 [00:00<00:00, 672.82it/s]\n"
     ]
    },
    {
     "name": "stdout",
     "output_type": "stream",
     "text": [
      "<module 'random' from '/usr/lib/python3.8/random.py'>\n"
     ]
    },
    {
     "name": "stderr",
     "output_type": "stream",
     "text": [
      "100%|██████████| 200/200 [00:00<00:00, 2785.70it/s]\n"
     ]
    },
    {
     "name": "stdout",
     "output_type": "stream",
     "text": [
      "New diverisity:    0.12629939446478947\n"
     ]
    },
    {
     "name": "stderr",
     "output_type": "stream",
     "text": [
      "100%|██████████| 3/3 [00:00<00:00, 2098.90it/s]\n",
      "100%|██████████| 200/200 [00:00<00:00, 337.16it/s]\n"
     ]
    },
    {
     "name": "stdout",
     "output_type": "stream",
     "text": [
      "(200, 2)\n",
      "96\n",
      " Mean Objectives : 28917.241794081317\n",
      " Best Objectives : 28457.95861986554\n",
      " diversity         : 0.1792367772885442\n",
      "Time: 151.22768712043762\n",
      "  start diversifying\n"
     ]
    },
    {
     "name": "stderr",
     "output_type": "stream",
     "text": [
      "100%|██████████| 300/300 [00:00<00:00, 542.02it/s]\n"
     ]
    },
    {
     "name": "stdout",
     "output_type": "stream",
     "text": [
      "<module 'random' from '/usr/lib/python3.8/random.py'>\n"
     ]
    },
    {
     "name": "stderr",
     "output_type": "stream",
     "text": [
      "100%|██████████| 200/200 [00:00<00:00, 2827.95it/s]\n"
     ]
    },
    {
     "name": "stdout",
     "output_type": "stream",
     "text": [
      "New diverisity:    0.1389169547192439\n"
     ]
    },
    {
     "name": "stderr",
     "output_type": "stream",
     "text": [
      "100%|██████████| 3/3 [00:00<00:00, 2292.39it/s]\n",
      "100%|██████████| 200/200 [00:00<00:00, 317.54it/s]\n"
     ]
    },
    {
     "name": "stdout",
     "output_type": "stream",
     "text": [
      "(200, 2)\n",
      "97\n",
      " Mean Objectives : 28734.31199441953\n",
      " Best Objectives : 28457.95861986554\n",
      " diversity         : 0.1806175311511261\n",
      "Time: 152.52557516098022\n",
      "  start diversifying\n"
     ]
    },
    {
     "name": "stderr",
     "output_type": "stream",
     "text": [
      "100%|██████████| 300/300 [00:00<00:00, 575.76it/s]\n"
     ]
    },
    {
     "name": "stdout",
     "output_type": "stream",
     "text": [
      "<module 'random' from '/usr/lib/python3.8/random.py'>\n"
     ]
    },
    {
     "name": "stderr",
     "output_type": "stream",
     "text": [
      "100%|██████████| 200/200 [00:00<00:00, 2389.56it/s]\n"
     ]
    },
    {
     "name": "stdout",
     "output_type": "stream",
     "text": [
      "New diverisity:    0.14441854202309243\n"
     ]
    },
    {
     "name": "stderr",
     "output_type": "stream",
     "text": [
      "100%|██████████| 300/300 [00:00<00:00, 558.77it/s]\n"
     ]
    },
    {
     "name": "stdout",
     "output_type": "stream",
     "text": [
      "<module 'random' from '/usr/lib/python3.8/random.py'>\n"
     ]
    },
    {
     "name": "stderr",
     "output_type": "stream",
     "text": [
      "100%|██████████| 200/200 [00:00<00:00, 2776.31it/s]\n"
     ]
    },
    {
     "name": "stdout",
     "output_type": "stream",
     "text": [
      "New diverisity:    0.12999013310944246\n"
     ]
    },
    {
     "name": "stderr",
     "output_type": "stream",
     "text": [
      "100%|██████████| 3/3 [00:00<00:00, 2440.44it/s]\n",
      "100%|██████████| 200/200 [00:00<00:00, 291.88it/s]\n"
     ]
    },
    {
     "name": "stdout",
     "output_type": "stream",
     "text": [
      "(200, 2)\n",
      "98\n",
      " Mean Objectives : 29029.78612854699\n",
      " Best Objectives : 28457.95861986554\n",
      " diversity         : 0.17859819898112206\n",
      "Time: 154.49588871002197\n",
      "  start diversifying\n"
     ]
    },
    {
     "name": "stderr",
     "output_type": "stream",
     "text": [
      "100%|██████████| 300/300 [00:00<00:00, 516.24it/s]\n"
     ]
    },
    {
     "name": "stdout",
     "output_type": "stream",
     "text": [
      "<module 'random' from '/usr/lib/python3.8/random.py'>\n"
     ]
    },
    {
     "name": "stderr",
     "output_type": "stream",
     "text": [
      "100%|██████████| 200/200 [00:00<00:00, 2749.51it/s]\n"
     ]
    },
    {
     "name": "stdout",
     "output_type": "stream",
     "text": [
      "New diverisity:    0.13394738527969344\n"
     ]
    },
    {
     "name": "stderr",
     "output_type": "stream",
     "text": [
      "100%|██████████| 3/3 [00:00<00:00, 2423.52it/s]\n",
      "100%|██████████| 200/200 [00:00<00:00, 268.67it/s]\n"
     ]
    },
    {
     "name": "stdout",
     "output_type": "stream",
     "text": [
      "(200, 2)\n",
      "99\n",
      " Mean Objectives : 28828.08827954148\n",
      " Best Objectives : 28457.95861986554\n",
      " diversity         : 0.1798096208124565\n",
      "Time: 155.94024753570557\n",
      "  start diversifying\n"
     ]
    },
    {
     "name": "stderr",
     "output_type": "stream",
     "text": [
      "100%|██████████| 300/300 [00:00<00:00, 557.61it/s]\n"
     ]
    },
    {
     "name": "stdout",
     "output_type": "stream",
     "text": [
      "<module 'random' from '/usr/lib/python3.8/random.py'>\n"
     ]
    },
    {
     "name": "stderr",
     "output_type": "stream",
     "text": [
      "100%|██████████| 200/200 [00:00<00:00, 2800.09it/s]\n"
     ]
    },
    {
     "name": "stdout",
     "output_type": "stream",
     "text": [
      "New diverisity:    0.14212675457810736\n"
     ]
    },
    {
     "name": "stderr",
     "output_type": "stream",
     "text": [
      "100%|██████████| 300/300 [00:00<00:00, 542.66it/s]\n"
     ]
    },
    {
     "name": "stdout",
     "output_type": "stream",
     "text": [
      "<module 'random' from '/usr/lib/python3.8/random.py'>\n"
     ]
    },
    {
     "name": "stderr",
     "output_type": "stream",
     "text": [
      "100%|██████████| 200/200 [00:00<00:00, 2690.94it/s]\n"
     ]
    },
    {
     "name": "stdout",
     "output_type": "stream",
     "text": [
      "New diverisity:    0.1213525360374117\n"
     ]
    },
    {
     "name": "stderr",
     "output_type": "stream",
     "text": [
      "100%|██████████| 3/3 [00:00<00:00, 2300.35it/s]\n",
      "100%|██████████| 200/200 [00:00<00:00, 247.66it/s]\n"
     ]
    },
    {
     "name": "stdout",
     "output_type": "stream",
     "text": [
      "(200, 2)\n",
      "100\n",
      " Mean Objectives : 28701.555396357104\n",
      " Best Objectives : 28457.95861986554\n",
      " diversity         : 0.18110288207892694\n",
      "Time: 158.0517976284027\n",
      "  start diversifying\n"
     ]
    },
    {
     "name": "stderr",
     "output_type": "stream",
     "text": [
      "100%|██████████| 300/300 [00:00<00:00, 542.61it/s]\n"
     ]
    },
    {
     "name": "stdout",
     "output_type": "stream",
     "text": [
      "<module 'random' from '/usr/lib/python3.8/random.py'>\n"
     ]
    },
    {
     "name": "stderr",
     "output_type": "stream",
     "text": [
      "100%|██████████| 200/200 [00:00<00:00, 2761.24it/s]\n"
     ]
    },
    {
     "name": "stdout",
     "output_type": "stream",
     "text": [
      "New diverisity:    0.14575697263661463\n"
     ]
    },
    {
     "name": "stderr",
     "output_type": "stream",
     "text": [
      "100%|██████████| 300/300 [00:00<00:00, 613.62it/s]\n"
     ]
    },
    {
     "name": "stdout",
     "output_type": "stream",
     "text": [
      "<module 'random' from '/usr/lib/python3.8/random.py'>\n"
     ]
    },
    {
     "name": "stderr",
     "output_type": "stream",
     "text": [
      "100%|██████████| 200/200 [00:00<00:00, 2760.65it/s]\n"
     ]
    },
    {
     "name": "stdout",
     "output_type": "stream",
     "text": [
      "New diverisity:    0.1293266892401706\n"
     ]
    },
    {
     "name": "stderr",
     "output_type": "stream",
     "text": [
      "100%|██████████| 3/3 [00:00<00:00, 2442.81it/s]\n",
      "100%|██████████| 200/200 [00:00<00:00, 243.53it/s]\n"
     ]
    },
    {
     "name": "stdout",
     "output_type": "stream",
     "text": [
      "(200, 2)\n",
      "101\n",
      " Mean Objectives : 28519.379066305017\n",
      " Best Objectives : 27985.62632129234\n",
      " diversity         : 0.17848413787287482\n",
      "Time: 160.13156270980835\n",
      "  start diversifying\n"
     ]
    },
    {
     "name": "stderr",
     "output_type": "stream",
     "text": [
      "100%|██████████| 300/300 [00:00<00:00, 560.66it/s]\n"
     ]
    },
    {
     "name": "stdout",
     "output_type": "stream",
     "text": [
      "<module 'random' from '/usr/lib/python3.8/random.py'>\n"
     ]
    },
    {
     "name": "stderr",
     "output_type": "stream",
     "text": [
      "100%|██████████| 200/200 [00:00<00:00, 2773.67it/s]\n"
     ]
    },
    {
     "name": "stdout",
     "output_type": "stream",
     "text": [
      "New diverisity:    0.14289589729831853\n"
     ]
    },
    {
     "name": "stderr",
     "output_type": "stream",
     "text": [
      "100%|██████████| 300/300 [00:00<00:00, 539.04it/s]\n"
     ]
    },
    {
     "name": "stdout",
     "output_type": "stream",
     "text": [
      "<module 'random' from '/usr/lib/python3.8/random.py'>\n"
     ]
    },
    {
     "name": "stderr",
     "output_type": "stream",
     "text": [
      "100%|██████████| 200/200 [00:00<00:00, 2684.79it/s]\n"
     ]
    },
    {
     "name": "stdout",
     "output_type": "stream",
     "text": [
      "New diverisity:    0.12853723336750358\n"
     ]
    },
    {
     "name": "stderr",
     "output_type": "stream",
     "text": [
      "100%|██████████| 3/3 [00:00<00:00, 2239.75it/s]\n",
      "100%|██████████| 200/200 [00:00<00:00, 240.79it/s]\n"
     ]
    },
    {
     "name": "stdout",
     "output_type": "stream",
     "text": [
      "(200, 2)\n",
      "102\n",
      " Mean Objectives : 28228.160599447143\n",
      " Best Objectives : 27985.62632129234\n",
      " diversity         : 0.17893111852114146\n",
      "Time: 162.27300930023193\n",
      "  start diversifying\n"
     ]
    },
    {
     "name": "stderr",
     "output_type": "stream",
     "text": [
      "100%|██████████| 300/300 [00:00<00:00, 463.04it/s]\n"
     ]
    },
    {
     "name": "stdout",
     "output_type": "stream",
     "text": [
      "<module 'random' from '/usr/lib/python3.8/random.py'>\n"
     ]
    },
    {
     "name": "stderr",
     "output_type": "stream",
     "text": [
      "100%|██████████| 200/200 [00:00<00:00, 2679.24it/s]\n"
     ]
    },
    {
     "name": "stdout",
     "output_type": "stream",
     "text": [
      "New diverisity:    0.1482765043189918\n"
     ]
    },
    {
     "name": "stderr",
     "output_type": "stream",
     "text": [
      "100%|██████████| 300/300 [00:00<00:00, 604.36it/s]\n"
     ]
    },
    {
     "name": "stdout",
     "output_type": "stream",
     "text": [
      "<module 'random' from '/usr/lib/python3.8/random.py'>\n"
     ]
    },
    {
     "name": "stderr",
     "output_type": "stream",
     "text": [
      "100%|██████████| 200/200 [00:00<00:00, 2694.70it/s]\n"
     ]
    },
    {
     "name": "stdout",
     "output_type": "stream",
     "text": [
      "New diverisity:    0.1274832723448581\n"
     ]
    },
    {
     "name": "stderr",
     "output_type": "stream",
     "text": [
      "100%|██████████| 3/3 [00:00<00:00, 2352.83it/s]\n",
      "100%|██████████| 200/200 [00:00<00:00, 455.69it/s]\n"
     ]
    },
    {
     "name": "stdout",
     "output_type": "stream",
     "text": [
      "(200, 2)\n",
      "103\n",
      " Mean Objectives : 27986.0726132809\n",
      " Best Objectives : 27985.62632129234\n",
      " diversity         : 0.18236809509807367\n",
      "Time: 164.07697439193726\n",
      "  start diversifying\n"
     ]
    },
    {
     "name": "stderr",
     "output_type": "stream",
     "text": [
      "100%|██████████| 300/300 [00:00<00:00, 519.61it/s]\n"
     ]
    },
    {
     "name": "stdout",
     "output_type": "stream",
     "text": [
      "<module 'random' from '/usr/lib/python3.8/random.py'>\n"
     ]
    },
    {
     "name": "stderr",
     "output_type": "stream",
     "text": [
      "100%|██████████| 200/200 [00:00<00:00, 2587.46it/s]\n"
     ]
    },
    {
     "name": "stdout",
     "output_type": "stream",
     "text": [
      "New diverisity:    0.151877901322359\n"
     ]
    },
    {
     "name": "stderr",
     "output_type": "stream",
     "text": [
      "100%|██████████| 300/300 [00:00<00:00, 668.21it/s]\n"
     ]
    },
    {
     "name": "stdout",
     "output_type": "stream",
     "text": [
      "<module 'random' from '/usr/lib/python3.8/random.py'>\n"
     ]
    },
    {
     "name": "stderr",
     "output_type": "stream",
     "text": [
      "100%|██████████| 200/200 [00:00<00:00, 2741.60it/s]\n"
     ]
    },
    {
     "name": "stdout",
     "output_type": "stream",
     "text": [
      "New diverisity:    0.13268263379703837\n"
     ]
    },
    {
     "name": "stderr",
     "output_type": "stream",
     "text": [
      "100%|██████████| 3/3 [00:00<00:00, 2343.19it/s]\n",
      "100%|██████████| 200/200 [00:00<00:00, 590.31it/s]\n"
     ]
    },
    {
     "name": "stdout",
     "output_type": "stream",
     "text": [
      "(200, 2)\n",
      "104\n",
      " Mean Objectives : 27985.626321292417\n",
      " Best Objectives : 27985.62632129234\n",
      " diversity         : 0.1824656076596269\n",
      "Time: 165.659006357193\n",
      "  start diversifying\n"
     ]
    },
    {
     "name": "stderr",
     "output_type": "stream",
     "text": [
      "100%|██████████| 300/300 [00:00<00:00, 656.60it/s]\n"
     ]
    },
    {
     "name": "stdout",
     "output_type": "stream",
     "text": [
      "<module 'random' from '/usr/lib/python3.8/random.py'>\n"
     ]
    },
    {
     "name": "stderr",
     "output_type": "stream",
     "text": [
      "100%|██████████| 200/200 [00:00<00:00, 2795.00it/s]\n"
     ]
    },
    {
     "name": "stdout",
     "output_type": "stream",
     "text": [
      "New diverisity:    0.14791269076522157\n"
     ]
    },
    {
     "name": "stderr",
     "output_type": "stream",
     "text": [
      "100%|██████████| 300/300 [00:00<00:00, 668.42it/s]\n"
     ]
    },
    {
     "name": "stdout",
     "output_type": "stream",
     "text": [
      "<module 'random' from '/usr/lib/python3.8/random.py'>\n"
     ]
    },
    {
     "name": "stderr",
     "output_type": "stream",
     "text": [
      "100%|██████████| 200/200 [00:00<00:00, 2782.82it/s]\n"
     ]
    },
    {
     "name": "stdout",
     "output_type": "stream",
     "text": [
      "New diverisity:    0.12742592249185372\n"
     ]
    },
    {
     "name": "stderr",
     "output_type": "stream",
     "text": [
      "100%|██████████| 3/3 [00:00<00:00, 1912.88it/s]\n",
      "100%|██████████| 200/200 [00:00<00:00, 514.83it/s]\n"
     ]
    },
    {
     "name": "stdout",
     "output_type": "stream",
     "text": [
      "(200, 2)\n",
      "105\n",
      " Mean Objectives : 27985.626321292417\n",
      " Best Objectives : 27985.62632129234\n",
      " diversity         : 0.1824656076596269\n",
      "Time: 167.16539597511292\n",
      "  start diversifying\n"
     ]
    },
    {
     "name": "stderr",
     "output_type": "stream",
     "text": [
      "100%|██████████| 300/300 [00:00<00:00, 542.55it/s]\n"
     ]
    },
    {
     "name": "stdout",
     "output_type": "stream",
     "text": [
      "<module 'random' from '/usr/lib/python3.8/random.py'>\n"
     ]
    },
    {
     "name": "stderr",
     "output_type": "stream",
     "text": [
      "100%|██████████| 200/200 [00:00<00:00, 2768.65it/s]\n"
     ]
    },
    {
     "name": "stdout",
     "output_type": "stream",
     "text": [
      "New diverisity:    0.1442942109090747\n"
     ]
    },
    {
     "name": "stderr",
     "output_type": "stream",
     "text": [
      "100%|██████████| 300/300 [00:00<00:00, 556.49it/s]\n"
     ]
    },
    {
     "name": "stdout",
     "output_type": "stream",
     "text": [
      "<module 'random' from '/usr/lib/python3.8/random.py'>\n"
     ]
    },
    {
     "name": "stderr",
     "output_type": "stream",
     "text": [
      "100%|██████████| 200/200 [00:00<00:00, 2799.12it/s]\n"
     ]
    },
    {
     "name": "stdout",
     "output_type": "stream",
     "text": [
      "New diverisity:    0.13535684954999871\n"
     ]
    },
    {
     "name": "stderr",
     "output_type": "stream",
     "text": [
      "100%|██████████| 3/3 [00:00<00:00, 2420.72it/s]\n",
      "100%|██████████| 200/200 [00:00<00:00, 464.61it/s]\n"
     ]
    },
    {
     "name": "stdout",
     "output_type": "stream",
     "text": [
      "(200, 2)\n",
      "106\n",
      " Mean Objectives : 27985.626321292417\n",
      " Best Objectives : 27985.62632129234\n",
      " diversity         : 0.1824656076596269\n",
      "Time: 168.902930021286\n",
      "  start diversifying\n"
     ]
    },
    {
     "name": "stderr",
     "output_type": "stream",
     "text": [
      "100%|██████████| 300/300 [00:00<00:00, 547.21it/s]\n"
     ]
    },
    {
     "name": "stdout",
     "output_type": "stream",
     "text": [
      "<module 'random' from '/usr/lib/python3.8/random.py'>\n"
     ]
    },
    {
     "name": "stderr",
     "output_type": "stream",
     "text": [
      "100%|██████████| 200/200 [00:00<00:00, 2760.08it/s]\n"
     ]
    },
    {
     "name": "stdout",
     "output_type": "stream",
     "text": [
      "New diverisity:    0.14697955558275141\n"
     ]
    },
    {
     "name": "stderr",
     "output_type": "stream",
     "text": [
      "100%|██████████| 300/300 [00:00<00:00, 676.18it/s]\n"
     ]
    },
    {
     "name": "stdout",
     "output_type": "stream",
     "text": [
      "<module 'random' from '/usr/lib/python3.8/random.py'>\n"
     ]
    },
    {
     "name": "stderr",
     "output_type": "stream",
     "text": [
      "100%|██████████| 200/200 [00:00<00:00, 2788.27it/s]\n"
     ]
    },
    {
     "name": "stdout",
     "output_type": "stream",
     "text": [
      "New diverisity:    0.13310514862657033\n"
     ]
    },
    {
     "name": "stderr",
     "output_type": "stream",
     "text": [
      "100%|██████████| 3/3 [00:00<00:00, 2480.37it/s]\n",
      "100%|██████████| 200/200 [00:00<00:00, 535.98it/s]\n"
     ]
    },
    {
     "name": "stdout",
     "output_type": "stream",
     "text": [
      "(200, 2)\n",
      "107\n",
      " Mean Objectives : 27985.626321292417\n",
      " Best Objectives : 27985.62632129234\n",
      " diversity         : 0.1824656076596269\n",
      "Time: 170.47776532173157\n",
      "  start diversifying\n"
     ]
    },
    {
     "name": "stderr",
     "output_type": "stream",
     "text": [
      "100%|██████████| 300/300 [00:00<00:00, 666.57it/s]\n"
     ]
    },
    {
     "name": "stdout",
     "output_type": "stream",
     "text": [
      "<module 'random' from '/usr/lib/python3.8/random.py'>\n"
     ]
    },
    {
     "name": "stderr",
     "output_type": "stream",
     "text": [
      "100%|██████████| 200/200 [00:00<00:00, 2812.72it/s]\n"
     ]
    },
    {
     "name": "stdout",
     "output_type": "stream",
     "text": [
      "New diverisity:    0.13856711700938387\n"
     ]
    },
    {
     "name": "stderr",
     "output_type": "stream",
     "text": [
      "100%|██████████| 3/3 [00:00<00:00, 2420.26it/s]\n",
      "100%|██████████| 200/200 [00:00<00:00, 475.06it/s]\n"
     ]
    },
    {
     "name": "stdout",
     "output_type": "stream",
     "text": [
      "(200, 2)\n",
      "108\n",
      " Mean Objectives : 27985.626321292417\n",
      " Best Objectives : 27985.62632129234\n",
      " diversity         : 0.1824656076596269\n",
      "Time: 171.46450757980347\n",
      "  start diversifying\n"
     ]
    },
    {
     "name": "stderr",
     "output_type": "stream",
     "text": [
      "100%|██████████| 300/300 [00:00<00:00, 548.08it/s]\n"
     ]
    },
    {
     "name": "stdout",
     "output_type": "stream",
     "text": [
      "<module 'random' from '/usr/lib/python3.8/random.py'>\n"
     ]
    },
    {
     "name": "stderr",
     "output_type": "stream",
     "text": [
      "100%|██████████| 200/200 [00:00<00:00, 2742.52it/s]\n"
     ]
    },
    {
     "name": "stdout",
     "output_type": "stream",
     "text": [
      "New diverisity:    0.1473162246660334\n"
     ]
    },
    {
     "name": "stderr",
     "output_type": "stream",
     "text": [
      "100%|██████████| 300/300 [00:00<00:00, 521.70it/s]\n"
     ]
    },
    {
     "name": "stdout",
     "output_type": "stream",
     "text": [
      "<module 'random' from '/usr/lib/python3.8/random.py'>\n"
     ]
    },
    {
     "name": "stderr",
     "output_type": "stream",
     "text": [
      "100%|██████████| 200/200 [00:00<00:00, 2701.37it/s]\n"
     ]
    },
    {
     "name": "stdout",
     "output_type": "stream",
     "text": [
      "New diverisity:    0.12841716862761454\n"
     ]
    },
    {
     "name": "stderr",
     "output_type": "stream",
     "text": [
      "100%|██████████| 3/3 [00:00<00:00, 2498.10it/s]\n",
      "100%|██████████| 200/200 [00:00<00:00, 484.01it/s]\n"
     ]
    },
    {
     "name": "stdout",
     "output_type": "stream",
     "text": [
      "(200, 2)\n",
      "109\n",
      " Mean Objectives : 27985.626321292417\n",
      " Best Objectives : 27985.62632129234\n",
      " diversity         : 0.1824656076596269\n",
      "Time: 173.21884536743164\n",
      "  start diversifying\n"
     ]
    },
    {
     "name": "stderr",
     "output_type": "stream",
     "text": [
      "100%|██████████| 300/300 [00:00<00:00, 561.71it/s]\n"
     ]
    },
    {
     "name": "stdout",
     "output_type": "stream",
     "text": [
      "<module 'random' from '/usr/lib/python3.8/random.py'>\n"
     ]
    },
    {
     "name": "stderr",
     "output_type": "stream",
     "text": [
      "100%|██████████| 200/200 [00:00<00:00, 2530.43it/s]\n"
     ]
    },
    {
     "name": "stdout",
     "output_type": "stream",
     "text": [
      "New diverisity:    0.14219406253553407\n"
     ]
    },
    {
     "name": "stderr",
     "output_type": "stream",
     "text": [
      "100%|██████████| 300/300 [00:00<00:00, 665.33it/s]\n"
     ]
    },
    {
     "name": "stdout",
     "output_type": "stream",
     "text": [
      "<module 'random' from '/usr/lib/python3.8/random.py'>\n"
     ]
    },
    {
     "name": "stderr",
     "output_type": "stream",
     "text": [
      "100%|██████████| 200/200 [00:00<00:00, 2779.00it/s]\n"
     ]
    },
    {
     "name": "stdout",
     "output_type": "stream",
     "text": [
      "New diverisity:    0.12729521987571935\n"
     ]
    },
    {
     "name": "stderr",
     "output_type": "stream",
     "text": [
      "100%|██████████| 3/3 [00:00<00:00, 2310.49it/s]\n",
      "100%|██████████| 200/200 [00:00<00:00, 531.88it/s]\n"
     ]
    },
    {
     "name": "stdout",
     "output_type": "stream",
     "text": [
      "(200, 2)\n",
      "110\n",
      " Mean Objectives : 27985.626321292417\n",
      " Best Objectives : 27985.62632129234\n",
      " diversity         : 0.1824656076596269\n",
      "Time: 174.80102443695068\n",
      "  start diversifying\n"
     ]
    },
    {
     "name": "stderr",
     "output_type": "stream",
     "text": [
      "100%|██████████| 300/300 [00:00<00:00, 667.85it/s]\n"
     ]
    },
    {
     "name": "stdout",
     "output_type": "stream",
     "text": [
      "<module 'random' from '/usr/lib/python3.8/random.py'>\n"
     ]
    },
    {
     "name": "stderr",
     "output_type": "stream",
     "text": [
      "100%|██████████| 200/200 [00:00<00:00, 2727.12it/s]\n"
     ]
    },
    {
     "name": "stdout",
     "output_type": "stream",
     "text": [
      "New diverisity:    0.14592044834311052\n"
     ]
    },
    {
     "name": "stderr",
     "output_type": "stream",
     "text": [
      "100%|██████████| 300/300 [00:00<00:00, 677.37it/s]\n"
     ]
    },
    {
     "name": "stdout",
     "output_type": "stream",
     "text": [
      "<module 'random' from '/usr/lib/python3.8/random.py'>\n"
     ]
    },
    {
     "name": "stderr",
     "output_type": "stream",
     "text": [
      "100%|██████████| 200/200 [00:00<00:00, 2788.99it/s]\n"
     ]
    },
    {
     "name": "stdout",
     "output_type": "stream",
     "text": [
      "New diverisity:    0.12443812966000713\n"
     ]
    },
    {
     "name": "stderr",
     "output_type": "stream",
     "text": [
      "100%|██████████| 3/3 [00:00<00:00, 2429.60it/s]\n",
      "100%|██████████| 200/200 [00:00<00:00, 619.00it/s]\n"
     ]
    },
    {
     "name": "stdout",
     "output_type": "stream",
     "text": [
      "(200, 2)\n",
      "111\n",
      " Mean Objectives : 27985.626321292417\n",
      " Best Objectives : 27985.62632129234\n",
      " diversity         : 0.1824656076596269\n",
      "Time: 176.22444915771484\n",
      "  start diversifying\n"
     ]
    },
    {
     "name": "stderr",
     "output_type": "stream",
     "text": [
      "100%|██████████| 300/300 [00:00<00:00, 670.36it/s]\n"
     ]
    },
    {
     "name": "stdout",
     "output_type": "stream",
     "text": [
      "<module 'random' from '/usr/lib/python3.8/random.py'>\n"
     ]
    },
    {
     "name": "stderr",
     "output_type": "stream",
     "text": [
      "100%|██████████| 200/200 [00:00<00:00, 2795.34it/s]\n"
     ]
    },
    {
     "name": "stdout",
     "output_type": "stream",
     "text": [
      "New diverisity:    0.1529757255051942\n"
     ]
    },
    {
     "name": "stderr",
     "output_type": "stream",
     "text": [
      "100%|██████████| 300/300 [00:00<00:00, 677.21it/s]\n"
     ]
    },
    {
     "name": "stdout",
     "output_type": "stream",
     "text": [
      "<module 'random' from '/usr/lib/python3.8/random.py'>\n"
     ]
    },
    {
     "name": "stderr",
     "output_type": "stream",
     "text": [
      "100%|██████████| 200/200 [00:00<00:00, 2786.13it/s]\n"
     ]
    },
    {
     "name": "stdout",
     "output_type": "stream",
     "text": [
      "New diverisity:    0.1287901538373459\n"
     ]
    },
    {
     "name": "stderr",
     "output_type": "stream",
     "text": [
      "100%|██████████| 3/3 [00:00<00:00, 2371.00it/s]\n",
      "100%|██████████| 200/200 [00:00<00:00, 530.84it/s]\n"
     ]
    },
    {
     "name": "stdout",
     "output_type": "stream",
     "text": [
      "(200, 2)\n",
      "112\n",
      " Mean Objectives : 28006.77591780432\n",
      " Best Objectives : 27985.62632129234\n",
      " diversity         : 0.18236809509807367\n",
      "Time: 177.69955205917358\n",
      "  start diversifying\n"
     ]
    },
    {
     "name": "stderr",
     "output_type": "stream",
     "text": [
      "100%|██████████| 300/300 [00:00<00:00, 655.61it/s]\n"
     ]
    },
    {
     "name": "stdout",
     "output_type": "stream",
     "text": [
      "<module 'random' from '/usr/lib/python3.8/random.py'>\n"
     ]
    },
    {
     "name": "stderr",
     "output_type": "stream",
     "text": [
      "100%|██████████| 200/200 [00:00<00:00, 2714.90it/s]\n"
     ]
    },
    {
     "name": "stdout",
     "output_type": "stream",
     "text": [
      "New diverisity:    0.14576804276940913\n"
     ]
    },
    {
     "name": "stderr",
     "output_type": "stream",
     "text": [
      "100%|██████████| 300/300 [00:00<00:00, 649.05it/s]\n"
     ]
    },
    {
     "name": "stdout",
     "output_type": "stream",
     "text": [
      "<module 'random' from '/usr/lib/python3.8/random.py'>\n"
     ]
    },
    {
     "name": "stderr",
     "output_type": "stream",
     "text": [
      "100%|██████████| 200/200 [00:00<00:00, 2732.90it/s]\n"
     ]
    },
    {
     "name": "stdout",
     "output_type": "stream",
     "text": [
      "New diverisity:    0.1278318246615026\n"
     ]
    },
    {
     "name": "stderr",
     "output_type": "stream",
     "text": [
      "100%|██████████| 3/3 [00:00<00:00, 2201.73it/s]\n",
      "100%|██████████| 200/200 [00:00<00:00, 456.07it/s]\n"
     ]
    },
    {
     "name": "stdout",
     "output_type": "stream",
     "text": [
      "(200, 2)\n",
      "113\n",
      " Mean Objectives : 28006.746128451163\n",
      " Best Objectives : 27985.62632129234\n",
      " diversity         : 0.18236809509807367\n",
      "Time: 179.26714777946472\n",
      "  start diversifying\n"
     ]
    },
    {
     "name": "stderr",
     "output_type": "stream",
     "text": [
      "100%|██████████| 300/300 [00:00<00:00, 665.62it/s]\n"
     ]
    },
    {
     "name": "stdout",
     "output_type": "stream",
     "text": [
      "<module 'random' from '/usr/lib/python3.8/random.py'>\n"
     ]
    },
    {
     "name": "stderr",
     "output_type": "stream",
     "text": [
      "100%|██████████| 200/200 [00:00<00:00, 2631.23it/s]\n"
     ]
    },
    {
     "name": "stdout",
     "output_type": "stream",
     "text": [
      "New diverisity:    0.14243490904525943\n"
     ]
    },
    {
     "name": "stderr",
     "output_type": "stream",
     "text": [
      "100%|██████████| 300/300 [00:00<00:00, 646.13it/s]\n"
     ]
    },
    {
     "name": "stdout",
     "output_type": "stream",
     "text": [
      "<module 'random' from '/usr/lib/python3.8/random.py'>\n"
     ]
    },
    {
     "name": "stderr",
     "output_type": "stream",
     "text": [
      "100%|██████████| 200/200 [00:00<00:00, 2656.85it/s]\n"
     ]
    },
    {
     "name": "stdout",
     "output_type": "stream",
     "text": [
      "New diverisity:    0.1284052468567808\n"
     ]
    },
    {
     "name": "stderr",
     "output_type": "stream",
     "text": [
      "100%|██████████| 3/3 [00:00<00:00, 2157.19it/s]\n",
      "100%|██████████| 200/200 [00:00<00:00, 422.84it/s]\n"
     ]
    },
    {
     "name": "stdout",
     "output_type": "stream",
     "text": [
      "(200, 2)\n",
      "114\n",
      " Mean Objectives : 27985.626321292417\n",
      " Best Objectives : 27985.62632129234\n",
      " diversity         : 0.1824656076596269\n",
      "Time: 180.87358713150024\n",
      "  start diversifying\n"
     ]
    },
    {
     "name": "stderr",
     "output_type": "stream",
     "text": [
      "100%|██████████| 300/300 [00:00<00:00, 607.67it/s]\n"
     ]
    },
    {
     "name": "stdout",
     "output_type": "stream",
     "text": [
      "<module 'random' from '/usr/lib/python3.8/random.py'>\n"
     ]
    },
    {
     "name": "stderr",
     "output_type": "stream",
     "text": [
      "100%|██████████| 200/200 [00:00<00:00, 2693.21it/s]\n"
     ]
    },
    {
     "name": "stdout",
     "output_type": "stream",
     "text": [
      "New diverisity:    0.14212754485326007\n"
     ]
    },
    {
     "name": "stderr",
     "output_type": "stream",
     "text": [
      "100%|██████████| 300/300 [00:00<00:00, 499.58it/s]\n"
     ]
    },
    {
     "name": "stdout",
     "output_type": "stream",
     "text": [
      "<module 'random' from '/usr/lib/python3.8/random.py'>\n"
     ]
    },
    {
     "name": "stderr",
     "output_type": "stream",
     "text": [
      "100%|██████████| 200/200 [00:00<00:00, 2669.69it/s]\n"
     ]
    },
    {
     "name": "stdout",
     "output_type": "stream",
     "text": [
      "New diverisity:    0.12588951320609348\n"
     ]
    },
    {
     "name": "stderr",
     "output_type": "stream",
     "text": [
      "100%|██████████| 3/3 [00:00<00:00, 1893.59it/s]\n",
      "100%|██████████| 200/200 [00:00<00:00, 477.31it/s]\n"
     ]
    },
    {
     "name": "stdout",
     "output_type": "stream",
     "text": [
      "(200, 2)\n",
      "115\n",
      " Mean Objectives : 28017.144528852325\n",
      " Best Objectives : 27985.62632129234\n",
      " diversity         : 0.18220557416215158\n",
      "Time: 182.60815453529358\n",
      "  start diversifying\n"
     ]
    },
    {
     "name": "stderr",
     "output_type": "stream",
     "text": [
      "100%|██████████| 300/300 [00:00<00:00, 654.16it/s]\n"
     ]
    },
    {
     "name": "stdout",
     "output_type": "stream",
     "text": [
      "<module 'random' from '/usr/lib/python3.8/random.py'>\n"
     ]
    },
    {
     "name": "stderr",
     "output_type": "stream",
     "text": [
      "100%|██████████| 200/200 [00:00<00:00, 2196.49it/s]\n"
     ]
    },
    {
     "name": "stdout",
     "output_type": "stream",
     "text": [
      "New diverisity:    0.14424209260618623\n"
     ]
    },
    {
     "name": "stderr",
     "output_type": "stream",
     "text": [
      "100%|██████████| 300/300 [00:00<00:00, 471.14it/s]\n"
     ]
    },
    {
     "name": "stdout",
     "output_type": "stream",
     "text": [
      "<module 'random' from '/usr/lib/python3.8/random.py'>\n"
     ]
    },
    {
     "name": "stderr",
     "output_type": "stream",
     "text": [
      "100%|██████████| 200/200 [00:00<00:00, 2728.87it/s]\n"
     ]
    },
    {
     "name": "stdout",
     "output_type": "stream",
     "text": [
      "New diverisity:    0.1291839716665479\n"
     ]
    },
    {
     "name": "stderr",
     "output_type": "stream",
     "text": [
      "100%|██████████| 3/3 [00:00<00:00, 1940.31it/s]\n",
      "100%|██████████| 200/200 [00:00<00:00, 377.52it/s]\n"
     ]
    },
    {
     "name": "stdout",
     "output_type": "stream",
     "text": [
      "(200, 2)\n",
      "116\n",
      " Mean Objectives : 28017.00555075759\n",
      " Best Objectives : 27985.62632129234\n",
      " diversity         : 0.18217322448175396\n",
      "Time: 184.46579384803772\n",
      "  start diversifying\n"
     ]
    },
    {
     "name": "stderr",
     "output_type": "stream",
     "text": [
      "100%|██████████| 300/300 [00:00<00:00, 619.04it/s]\n"
     ]
    },
    {
     "name": "stdout",
     "output_type": "stream",
     "text": [
      "<module 'random' from '/usr/lib/python3.8/random.py'>\n"
     ]
    },
    {
     "name": "stderr",
     "output_type": "stream",
     "text": [
      "100%|██████████| 200/200 [00:00<00:00, 2787.33it/s]\n"
     ]
    },
    {
     "name": "stdout",
     "output_type": "stream",
     "text": [
      "New diverisity:    0.1432641946609796\n"
     ]
    },
    {
     "name": "stderr",
     "output_type": "stream",
     "text": [
      "100%|██████████| 300/300 [00:00<00:00, 575.44it/s]\n"
     ]
    },
    {
     "name": "stdout",
     "output_type": "stream",
     "text": [
      "<module 'random' from '/usr/lib/python3.8/random.py'>\n"
     ]
    },
    {
     "name": "stderr",
     "output_type": "stream",
     "text": [
      "100%|██████████| 200/200 [00:00<00:00, 1879.81it/s]\n"
     ]
    },
    {
     "name": "stdout",
     "output_type": "stream",
     "text": [
      "New diverisity:    0.13076903094477066\n"
     ]
    },
    {
     "name": "stderr",
     "output_type": "stream",
     "text": [
      "100%|██████████| 3/3 [00:00<00:00, 2414.22it/s]\n",
      "100%|██████████| 200/200 [00:00<00:00, 432.91it/s]\n"
     ]
    },
    {
     "name": "stdout",
     "output_type": "stream",
     "text": [
      "(200, 2)\n",
      "117\n",
      " Mean Objectives : 28021.07344355452\n",
      " Best Objectives : 27985.62632129234\n",
      " diversity         : 0.1822705825365204\n",
      "Time: 186.1831932067871\n",
      "  start diversifying\n"
     ]
    },
    {
     "name": "stderr",
     "output_type": "stream",
     "text": [
      "100%|██████████| 300/300 [00:00<00:00, 548.59it/s]\n"
     ]
    },
    {
     "name": "stdout",
     "output_type": "stream",
     "text": [
      "<module 'random' from '/usr/lib/python3.8/random.py'>\n"
     ]
    },
    {
     "name": "stderr",
     "output_type": "stream",
     "text": [
      "100%|██████████| 200/200 [00:00<00:00, 2729.12it/s]\n"
     ]
    },
    {
     "name": "stdout",
     "output_type": "stream",
     "text": [
      "New diverisity:    0.14927240573960252\n"
     ]
    },
    {
     "name": "stderr",
     "output_type": "stream",
     "text": [
      "100%|██████████| 300/300 [00:00<00:00, 673.10it/s]\n"
     ]
    },
    {
     "name": "stdout",
     "output_type": "stream",
     "text": [
      "<module 'random' from '/usr/lib/python3.8/random.py'>\n"
     ]
    },
    {
     "name": "stderr",
     "output_type": "stream",
     "text": [
      "100%|██████████| 200/200 [00:00<00:00, 2795.74it/s]\n"
     ]
    },
    {
     "name": "stdout",
     "output_type": "stream",
     "text": [
      "New diverisity:    0.13934295472772085\n"
     ]
    },
    {
     "name": "stderr",
     "output_type": "stream",
     "text": [
      "100%|██████████| 3/3 [00:00<00:00, 2222.34it/s]\n",
      "100%|██████████| 200/200 [00:00<00:00, 423.99it/s]\n"
     ]
    },
    {
     "name": "stdout",
     "output_type": "stream",
     "text": [
      "(200, 2)\n",
      "118\n",
      " Mean Objectives : 27985.626321292417\n",
      " Best Objectives : 27985.62632129234\n",
      " diversity         : 0.1824656076596269\n",
      "Time: 187.85707569122314\n",
      "  start diversifying\n"
     ]
    },
    {
     "name": "stderr",
     "output_type": "stream",
     "text": [
      "100%|██████████| 300/300 [00:00<00:00, 535.20it/s]\n"
     ]
    },
    {
     "name": "stdout",
     "output_type": "stream",
     "text": [
      "<module 'random' from '/usr/lib/python3.8/random.py'>\n"
     ]
    },
    {
     "name": "stderr",
     "output_type": "stream",
     "text": [
      "100%|██████████| 200/200 [00:00<00:00, 2786.02it/s]\n"
     ]
    },
    {
     "name": "stdout",
     "output_type": "stream",
     "text": [
      "New diverisity:    0.15118218200494532\n"
     ]
    },
    {
     "name": "stderr",
     "output_type": "stream",
     "text": [
      "100%|██████████| 300/300 [00:00<00:00, 602.72it/s]\n"
     ]
    },
    {
     "name": "stdout",
     "output_type": "stream",
     "text": [
      "<module 'random' from '/usr/lib/python3.8/random.py'>\n"
     ]
    },
    {
     "name": "stderr",
     "output_type": "stream",
     "text": [
      "100%|██████████| 200/200 [00:00<00:00, 2764.77it/s]\n"
     ]
    },
    {
     "name": "stdout",
     "output_type": "stream",
     "text": [
      "New diverisity:    0.1407279883792637\n"
     ]
    },
    {
     "name": "stderr",
     "output_type": "stream",
     "text": [
      "100%|██████████| 3/3 [00:00<00:00, 2373.69it/s]\n",
      "100%|██████████| 200/200 [00:00<00:00, 386.73it/s]\n"
     ]
    },
    {
     "name": "stdout",
     "output_type": "stream",
     "text": [
      "(200, 2)\n",
      "119\n",
      " Mean Objectives : 27985.626321292417\n",
      " Best Objectives : 27985.62632129234\n",
      " diversity         : 0.1824656076596269\n",
      "Time: 189.64869379997253\n",
      "  start diversifying\n"
     ]
    },
    {
     "name": "stderr",
     "output_type": "stream",
     "text": [
      "100%|██████████| 300/300 [00:00<00:00, 559.78it/s]\n"
     ]
    },
    {
     "name": "stdout",
     "output_type": "stream",
     "text": [
      "<module 'random' from '/usr/lib/python3.8/random.py'>\n"
     ]
    },
    {
     "name": "stderr",
     "output_type": "stream",
     "text": [
      "100%|██████████| 200/200 [00:00<00:00, 2559.13it/s]\n"
     ]
    },
    {
     "name": "stdout",
     "output_type": "stream",
     "text": [
      "New diverisity:    0.13931977599001\n"
     ]
    },
    {
     "name": "stderr",
     "output_type": "stream",
     "text": [
      "100%|██████████| 3/3 [00:00<00:00, 1473.06it/s]\n",
      "100%|██████████| 200/200 [00:00<00:00, 442.89it/s]\n"
     ]
    },
    {
     "name": "stdout",
     "output_type": "stream",
     "text": [
      "(200, 2)\n",
      "120\n",
      " Mean Objectives : 27996.861748471667\n",
      " Best Objectives : 27985.62632129234\n",
      " diversity         : 0.18227057748266157\n",
      "Time: 190.77243518829346\n",
      "  start diversifying\n"
     ]
    },
    {
     "name": "stderr",
     "output_type": "stream",
     "text": [
      "100%|██████████| 300/300 [00:00<00:00, 533.43it/s]\n"
     ]
    },
    {
     "name": "stdout",
     "output_type": "stream",
     "text": [
      "<module 'random' from '/usr/lib/python3.8/random.py'>\n"
     ]
    },
    {
     "name": "stderr",
     "output_type": "stream",
     "text": [
      "100%|██████████| 200/200 [00:00<00:00, 2767.85it/s]\n"
     ]
    },
    {
     "name": "stdout",
     "output_type": "stream",
     "text": [
      "New diverisity:    0.14273967111707886\n"
     ]
    },
    {
     "name": "stderr",
     "output_type": "stream",
     "text": [
      "100%|██████████| 300/300 [00:00<00:00, 578.37it/s]\n"
     ]
    },
    {
     "name": "stdout",
     "output_type": "stream",
     "text": [
      "<module 'random' from '/usr/lib/python3.8/random.py'>\n"
     ]
    },
    {
     "name": "stderr",
     "output_type": "stream",
     "text": [
      "100%|██████████| 200/200 [00:00<00:00, 2828.16it/s]\n"
     ]
    },
    {
     "name": "stdout",
     "output_type": "stream",
     "text": [
      "New diverisity:    0.12635625957003876\n"
     ]
    },
    {
     "name": "stderr",
     "output_type": "stream",
     "text": [
      "100%|██████████| 3/3 [00:00<00:00, 2277.04it/s]\n",
      "100%|██████████| 200/200 [00:00<00:00, 338.36it/s]\n"
     ]
    },
    {
     "name": "stdout",
     "output_type": "stream",
     "text": [
      "(200, 2)\n",
      "121\n",
      " Mean Objectives : 27985.626321292417\n",
      " Best Objectives : 27985.62632129234\n",
      " diversity         : 0.1824656076596269\n",
      "Time: 192.6559398174286\n",
      "  start diversifying\n"
     ]
    },
    {
     "name": "stderr",
     "output_type": "stream",
     "text": [
      "100%|██████████| 300/300 [00:00<00:00, 548.94it/s]\n"
     ]
    },
    {
     "name": "stdout",
     "output_type": "stream",
     "text": [
      "<module 'random' from '/usr/lib/python3.8/random.py'>\n"
     ]
    },
    {
     "name": "stderr",
     "output_type": "stream",
     "text": [
      "100%|██████████| 200/200 [00:00<00:00, 2683.39it/s]\n"
     ]
    },
    {
     "name": "stdout",
     "output_type": "stream",
     "text": [
      "New diverisity:    0.14389931535256814\n"
     ]
    },
    {
     "name": "stderr",
     "output_type": "stream",
     "text": [
      "100%|██████████| 300/300 [00:00<00:00, 644.59it/s]\n"
     ]
    },
    {
     "name": "stdout",
     "output_type": "stream",
     "text": [
      "<module 'random' from '/usr/lib/python3.8/random.py'>\n"
     ]
    },
    {
     "name": "stderr",
     "output_type": "stream",
     "text": [
      "100%|██████████| 200/200 [00:00<00:00, 2558.03it/s]\n"
     ]
    },
    {
     "name": "stdout",
     "output_type": "stream",
     "text": [
      "New diverisity:    0.129450422681932\n"
     ]
    },
    {
     "name": "stderr",
     "output_type": "stream",
     "text": [
      "100%|██████████| 3/3 [00:00<00:00, 2108.75it/s]\n",
      "100%|██████████| 200/200 [00:00<00:00, 455.47it/s]\n"
     ]
    },
    {
     "name": "stdout",
     "output_type": "stream",
     "text": [
      "(200, 2)\n",
      "122\n",
      " Mean Objectives : 27989.61437932863\n",
      " Best Objectives : 27985.62632129234\n",
      " diversity         : 0.1823680950980736\n",
      "Time: 194.32848119735718\n",
      "  start diversifying\n"
     ]
    },
    {
     "name": "stderr",
     "output_type": "stream",
     "text": [
      "100%|██████████| 300/300 [00:00<00:00, 544.29it/s]\n"
     ]
    },
    {
     "name": "stdout",
     "output_type": "stream",
     "text": [
      "<module 'random' from '/usr/lib/python3.8/random.py'>\n"
     ]
    },
    {
     "name": "stderr",
     "output_type": "stream",
     "text": [
      "100%|██████████| 200/200 [00:00<00:00, 2603.31it/s]\n"
     ]
    },
    {
     "name": "stdout",
     "output_type": "stream",
     "text": [
      "New diverisity:    0.14526364719881824\n"
     ]
    },
    {
     "name": "stderr",
     "output_type": "stream",
     "text": [
      "100%|██████████| 300/300 [00:00<00:00, 642.21it/s]\n"
     ]
    },
    {
     "name": "stdout",
     "output_type": "stream",
     "text": [
      "<module 'random' from '/usr/lib/python3.8/random.py'>\n"
     ]
    },
    {
     "name": "stderr",
     "output_type": "stream",
     "text": [
      "100%|██████████| 200/200 [00:00<00:00, 2738.68it/s]\n"
     ]
    },
    {
     "name": "stdout",
     "output_type": "stream",
     "text": [
      "New diverisity:    0.13012701879052813\n"
     ]
    },
    {
     "name": "stderr",
     "output_type": "stream",
     "text": [
      "100%|██████████| 3/3 [00:00<00:00, 2308.79it/s]\n",
      "100%|██████████| 200/200 [00:00<00:00, 478.48it/s]\n"
     ]
    },
    {
     "name": "stdout",
     "output_type": "stream",
     "text": [
      "(200, 2)\n",
      "123\n",
      " Mean Objectives : 27985.626321292417\n",
      " Best Objectives : 27985.62632129234\n",
      " diversity         : 0.1824656076596269\n",
      "Time: 195.97880005836487\n",
      "  start diversifying\n"
     ]
    },
    {
     "name": "stderr",
     "output_type": "stream",
     "text": [
      "100%|██████████| 300/300 [00:00<00:00, 534.53it/s]\n"
     ]
    },
    {
     "name": "stdout",
     "output_type": "stream",
     "text": [
      "<module 'random' from '/usr/lib/python3.8/random.py'>\n"
     ]
    },
    {
     "name": "stderr",
     "output_type": "stream",
     "text": [
      "100%|██████████| 200/200 [00:00<00:00, 1572.41it/s]\n"
     ]
    },
    {
     "name": "stdout",
     "output_type": "stream",
     "text": [
      "New diverisity:    0.14642177430463366\n"
     ]
    },
    {
     "name": "stderr",
     "output_type": "stream",
     "text": [
      "100%|██████████| 300/300 [00:00<00:00, 525.75it/s]\n"
     ]
    },
    {
     "name": "stdout",
     "output_type": "stream",
     "text": [
      "<module 'random' from '/usr/lib/python3.8/random.py'>\n"
     ]
    },
    {
     "name": "stderr",
     "output_type": "stream",
     "text": [
      "100%|██████████| 200/200 [00:00<00:00, 2465.59it/s]\n"
     ]
    },
    {
     "name": "stdout",
     "output_type": "stream",
     "text": [
      "New diverisity:    0.12599031056629872\n"
     ]
    },
    {
     "name": "stderr",
     "output_type": "stream",
     "text": [
      "100%|██████████| 3/3 [00:00<00:00, 1569.72it/s]\n",
      "100%|██████████| 200/200 [00:00<00:00, 389.50it/s]\n"
     ]
    },
    {
     "name": "stdout",
     "output_type": "stream",
     "text": [
      "(200, 2)\n",
      "124\n",
      " Mean Objectives : 27985.626321292417\n",
      " Best Objectives : 27985.62632129234\n",
      " diversity         : 0.1824656076596269\n",
      "Time: 197.9119155406952\n",
      "  start diversifying\n"
     ]
    },
    {
     "name": "stderr",
     "output_type": "stream",
     "text": [
      "100%|██████████| 300/300 [00:00<00:00, 527.83it/s]\n"
     ]
    },
    {
     "name": "stdout",
     "output_type": "stream",
     "text": [
      "<module 'random' from '/usr/lib/python3.8/random.py'>\n"
     ]
    },
    {
     "name": "stderr",
     "output_type": "stream",
     "text": [
      "100%|██████████| 200/200 [00:00<00:00, 2693.89it/s]\n"
     ]
    },
    {
     "name": "stdout",
     "output_type": "stream",
     "text": [
      "New diverisity:    0.1471192204715193\n"
     ]
    },
    {
     "name": "stderr",
     "output_type": "stream",
     "text": [
      "100%|██████████| 300/300 [00:00<00:00, 598.15it/s]\n"
     ]
    },
    {
     "name": "stdout",
     "output_type": "stream",
     "text": [
      "<module 'random' from '/usr/lib/python3.8/random.py'>\n"
     ]
    },
    {
     "name": "stderr",
     "output_type": "stream",
     "text": [
      "100%|██████████| 200/200 [00:00<00:00, 2226.42it/s]\n"
     ]
    },
    {
     "name": "stdout",
     "output_type": "stream",
     "text": [
      "New diverisity:    0.1314967852437561\n"
     ]
    },
    {
     "name": "stderr",
     "output_type": "stream",
     "text": [
      "100%|██████████| 3/3 [00:00<00:00, 2206.75it/s]\n",
      "100%|██████████| 200/200 [00:00<00:00, 406.37it/s]\n"
     ]
    },
    {
     "name": "stdout",
     "output_type": "stream",
     "text": [
      "(200, 2)\n",
      "125\n",
      " Mean Objectives : 27985.626321292417\n",
      " Best Objectives : 27985.62632129234\n",
      " diversity         : 0.1824656076596269\n",
      "Time: 199.70918440818787\n",
      "  start diversifying\n"
     ]
    },
    {
     "name": "stderr",
     "output_type": "stream",
     "text": [
      "100%|██████████| 300/300 [00:00<00:00, 545.60it/s]\n"
     ]
    },
    {
     "name": "stdout",
     "output_type": "stream",
     "text": [
      "<module 'random' from '/usr/lib/python3.8/random.py'>\n"
     ]
    },
    {
     "name": "stderr",
     "output_type": "stream",
     "text": [
      "100%|██████████| 200/200 [00:00<00:00, 2727.73it/s]\n"
     ]
    },
    {
     "name": "stdout",
     "output_type": "stream",
     "text": [
      "New diverisity:    0.14856917344479884\n"
     ]
    },
    {
     "name": "stderr",
     "output_type": "stream",
     "text": [
      "100%|██████████| 300/300 [00:00<00:00, 660.55it/s]\n"
     ]
    },
    {
     "name": "stdout",
     "output_type": "stream",
     "text": [
      "<module 'random' from '/usr/lib/python3.8/random.py'>\n"
     ]
    },
    {
     "name": "stderr",
     "output_type": "stream",
     "text": [
      "100%|██████████| 200/200 [00:00<00:00, 2807.85it/s]\n"
     ]
    },
    {
     "name": "stdout",
     "output_type": "stream",
     "text": [
      "New diverisity:    0.13218813060354406\n"
     ]
    },
    {
     "name": "stderr",
     "output_type": "stream",
     "text": [
      "100%|██████████| 3/3 [00:00<00:00, 2234.98it/s]\n",
      "100%|██████████| 200/200 [00:00<00:00, 395.24it/s]\n"
     ]
    },
    {
     "name": "stdout",
     "output_type": "stream",
     "text": [
      "(200, 2)\n",
      "126\n",
      " Mean Objectives : 28016.95744418064\n",
      " Best Objectives : 27985.62632129234\n",
      " diversity         : 0.18217305986724952\n",
      "Time: 201.4304165840149\n",
      "  start diversifying\n"
     ]
    },
    {
     "name": "stderr",
     "output_type": "stream",
     "text": [
      "100%|██████████| 300/300 [00:00<00:00, 600.16it/s]\n"
     ]
    },
    {
     "name": "stdout",
     "output_type": "stream",
     "text": [
      "<module 'random' from '/usr/lib/python3.8/random.py'>\n"
     ]
    },
    {
     "name": "stderr",
     "output_type": "stream",
     "text": [
      "100%|██████████| 200/200 [00:00<00:00, 2748.89it/s]\n"
     ]
    },
    {
     "name": "stdout",
     "output_type": "stream",
     "text": [
      "New diverisity:    0.14734519134490892\n"
     ]
    },
    {
     "name": "stderr",
     "output_type": "stream",
     "text": [
      "100%|██████████| 300/300 [00:00<00:00, 538.12it/s]\n"
     ]
    },
    {
     "name": "stdout",
     "output_type": "stream",
     "text": [
      "<module 'random' from '/usr/lib/python3.8/random.py'>\n"
     ]
    },
    {
     "name": "stderr",
     "output_type": "stream",
     "text": [
      "100%|██████████| 200/200 [00:00<00:00, 2651.07it/s]\n"
     ]
    },
    {
     "name": "stdout",
     "output_type": "stream",
     "text": [
      "New diverisity:    0.1308938292283339\n"
     ]
    },
    {
     "name": "stderr",
     "output_type": "stream",
     "text": [
      "100%|██████████| 3/3 [00:00<00:00, 2286.14it/s]\n",
      "100%|██████████| 200/200 [00:00<00:00, 389.79it/s]\n"
     ]
    },
    {
     "name": "stdout",
     "output_type": "stream",
     "text": [
      "(200, 2)\n",
      "127\n",
      " Mean Objectives : 27994.566755913253\n",
      " Best Objectives : 27985.62632129234\n",
      " diversity         : 0.18227057748266162\n",
      "Time: 203.21444010734558\n",
      "  start diversifying\n"
     ]
    },
    {
     "name": "stderr",
     "output_type": "stream",
     "text": [
      "100%|██████████| 300/300 [00:00<00:00, 668.81it/s]\n"
     ]
    },
    {
     "name": "stdout",
     "output_type": "stream",
     "text": [
      "<module 'random' from '/usr/lib/python3.8/random.py'>\n"
     ]
    },
    {
     "name": "stderr",
     "output_type": "stream",
     "text": [
      "100%|██████████| 200/200 [00:00<00:00, 2645.84it/s]\n"
     ]
    },
    {
     "name": "stdout",
     "output_type": "stream",
     "text": [
      "New diverisity:    0.14484709678737118\n"
     ]
    },
    {
     "name": "stderr",
     "output_type": "stream",
     "text": [
      "100%|██████████| 300/300 [00:00<00:00, 611.43it/s]\n"
     ]
    },
    {
     "name": "stdout",
     "output_type": "stream",
     "text": [
      "<module 'random' from '/usr/lib/python3.8/random.py'>\n"
     ]
    },
    {
     "name": "stderr",
     "output_type": "stream",
     "text": [
      "100%|██████████| 200/200 [00:00<00:00, 2626.86it/s]\n"
     ]
    },
    {
     "name": "stdout",
     "output_type": "stream",
     "text": [
      "New diverisity:    0.12636147495988642\n"
     ]
    },
    {
     "name": "stderr",
     "output_type": "stream",
     "text": [
      "100%|██████████| 3/3 [00:00<00:00, 2187.57it/s]\n",
      "100%|██████████| 200/200 [00:00<00:00, 482.57it/s]\n"
     ]
    },
    {
     "name": "stdout",
     "output_type": "stream",
     "text": [
      "(200, 2)\n",
      "128\n",
      " Mean Objectives : 27990.628591376335\n",
      " Best Objectives : 27985.62632129234\n",
      " diversity         : 0.18236809509807367\n",
      "Time: 204.78487133979797\n",
      "  start diversifying\n"
     ]
    },
    {
     "name": "stderr",
     "output_type": "stream",
     "text": [
      "100%|██████████| 300/300 [00:00<00:00, 539.21it/s]\n"
     ]
    },
    {
     "name": "stdout",
     "output_type": "stream",
     "text": [
      "<module 'random' from '/usr/lib/python3.8/random.py'>\n"
     ]
    },
    {
     "name": "stderr",
     "output_type": "stream",
     "text": [
      "100%|██████████| 200/200 [00:00<00:00, 2757.62it/s]\n"
     ]
    },
    {
     "name": "stdout",
     "output_type": "stream",
     "text": [
      "New diverisity:    0.1427368740844705\n"
     ]
    },
    {
     "name": "stderr",
     "output_type": "stream",
     "text": [
      "100%|██████████| 300/300 [00:00<00:00, 666.01it/s]\n"
     ]
    },
    {
     "name": "stdout",
     "output_type": "stream",
     "text": [
      "<module 'random' from '/usr/lib/python3.8/random.py'>\n"
     ]
    },
    {
     "name": "stderr",
     "output_type": "stream",
     "text": [
      "100%|██████████| 200/200 [00:00<00:00, 2803.20it/s]\n"
     ]
    },
    {
     "name": "stdout",
     "output_type": "stream",
     "text": [
      "New diverisity:    0.12101180560422685\n"
     ]
    },
    {
     "name": "stderr",
     "output_type": "stream",
     "text": [
      "100%|██████████| 3/3 [00:00<00:00, 2427.26it/s]\n",
      "100%|██████████| 200/200 [00:00<00:00, 446.88it/s]\n"
     ]
    },
    {
     "name": "stdout",
     "output_type": "stream",
     "text": [
      "(200, 2)\n",
      "129\n",
      " Mean Objectives : 27994.537191272528\n",
      " Best Objectives : 27985.62632129234\n",
      " diversity         : 0.18236809509807367\n",
      "Time: 206.44965171813965\n",
      "  start diversifying\n"
     ]
    },
    {
     "name": "stderr",
     "output_type": "stream",
     "text": [
      "100%|██████████| 300/300 [00:00<00:00, 534.66it/s]\n"
     ]
    },
    {
     "name": "stdout",
     "output_type": "stream",
     "text": [
      "<module 'random' from '/usr/lib/python3.8/random.py'>\n"
     ]
    },
    {
     "name": "stderr",
     "output_type": "stream",
     "text": [
      "100%|██████████| 200/200 [00:00<00:00, 2728.03it/s]\n"
     ]
    },
    {
     "name": "stdout",
     "output_type": "stream",
     "text": [
      "New diverisity:    0.13961319627580482\n"
     ]
    },
    {
     "name": "stderr",
     "output_type": "stream",
     "text": [
      "100%|██████████| 3/3 [00:00<00:00, 2369.22it/s]\n",
      "100%|██████████| 200/200 [00:00<00:00, 390.98it/s]\n"
     ]
    },
    {
     "name": "stdout",
     "output_type": "stream",
     "text": [
      "(200, 2)\n",
      "130\n",
      " Mean Objectives : 27985.626321292417\n",
      " Best Objectives : 27985.62632129234\n",
      " diversity         : 0.1824656076596269\n",
      "Time: 207.64284348487854\n",
      "  start diversifying\n"
     ]
    },
    {
     "name": "stderr",
     "output_type": "stream",
     "text": [
      "100%|██████████| 300/300 [00:00<00:00, 521.92it/s]\n"
     ]
    },
    {
     "name": "stdout",
     "output_type": "stream",
     "text": [
      "<module 'random' from '/usr/lib/python3.8/random.py'>\n"
     ]
    },
    {
     "name": "stderr",
     "output_type": "stream",
     "text": [
      "100%|██████████| 200/200 [00:00<00:00, 2724.16it/s]\n"
     ]
    },
    {
     "name": "stdout",
     "output_type": "stream",
     "text": [
      "New diverisity:    0.14330657667981422\n"
     ]
    },
    {
     "name": "stderr",
     "output_type": "stream",
     "text": [
      "100%|██████████| 300/300 [00:00<00:00, 537.37it/s]\n"
     ]
    },
    {
     "name": "stdout",
     "output_type": "stream",
     "text": [
      "<module 'random' from '/usr/lib/python3.8/random.py'>\n"
     ]
    },
    {
     "name": "stderr",
     "output_type": "stream",
     "text": [
      "100%|██████████| 200/200 [00:00<00:00, 2749.89it/s]\n"
     ]
    },
    {
     "name": "stdout",
     "output_type": "stream",
     "text": [
      "New diverisity:    0.1288150382792231\n"
     ]
    },
    {
     "name": "stderr",
     "output_type": "stream",
     "text": [
      "100%|██████████| 3/3 [00:00<00:00, 2476.95it/s]\n",
      "100%|██████████| 200/200 [00:00<00:00, 469.78it/s]\n"
     ]
    },
    {
     "name": "stdout",
     "output_type": "stream",
     "text": [
      "(200, 2)\n",
      "131\n",
      " Mean Objectives : 28003.275432585102\n",
      " Best Objectives : 27985.62632129234\n",
      " diversity         : 0.18227058253652037\n",
      "Time: 209.43190169334412\n",
      "  start diversifying\n"
     ]
    },
    {
     "name": "stderr",
     "output_type": "stream",
     "text": [
      "100%|██████████| 300/300 [00:00<00:00, 519.88it/s]\n"
     ]
    },
    {
     "name": "stdout",
     "output_type": "stream",
     "text": [
      "<module 'random' from '/usr/lib/python3.8/random.py'>\n"
     ]
    },
    {
     "name": "stderr",
     "output_type": "stream",
     "text": [
      "100%|██████████| 200/200 [00:00<00:00, 2795.30it/s]\n"
     ]
    },
    {
     "name": "stdout",
     "output_type": "stream",
     "text": [
      "New diverisity:    0.14509312648460573\n"
     ]
    },
    {
     "name": "stderr",
     "output_type": "stream",
     "text": [
      "100%|██████████| 300/300 [00:00<00:00, 654.16it/s]\n"
     ]
    },
    {
     "name": "stdout",
     "output_type": "stream",
     "text": [
      "<module 'random' from '/usr/lib/python3.8/random.py'>\n"
     ]
    },
    {
     "name": "stderr",
     "output_type": "stream",
     "text": [
      "100%|██████████| 200/200 [00:00<00:00, 2731.01it/s]\n"
     ]
    },
    {
     "name": "stdout",
     "output_type": "stream",
     "text": [
      "New diverisity:    0.13172765957448632\n"
     ]
    },
    {
     "name": "stderr",
     "output_type": "stream",
     "text": [
      "100%|██████████| 3/3 [00:00<00:00, 2275.39it/s]\n",
      "100%|██████████| 200/200 [00:00<00:00, 505.88it/s]\n"
     ]
    },
    {
     "name": "stdout",
     "output_type": "stream",
     "text": [
      "(200, 2)\n",
      "132\n",
      " Mean Objectives : 27985.626321292417\n",
      " Best Objectives : 27985.62632129234\n",
      " diversity         : 0.1824656076596269\n",
      "Time: 211.07438445091248\n",
      "  start diversifying\n"
     ]
    },
    {
     "name": "stderr",
     "output_type": "stream",
     "text": [
      "100%|██████████| 300/300 [00:00<00:00, 546.97it/s]\n"
     ]
    },
    {
     "name": "stdout",
     "output_type": "stream",
     "text": [
      "<module 'random' from '/usr/lib/python3.8/random.py'>\n"
     ]
    },
    {
     "name": "stderr",
     "output_type": "stream",
     "text": [
      "100%|██████████| 200/200 [00:00<00:00, 2762.07it/s]\n"
     ]
    },
    {
     "name": "stdout",
     "output_type": "stream",
     "text": [
      "New diverisity:    0.14431243775356514\n"
     ]
    },
    {
     "name": "stderr",
     "output_type": "stream",
     "text": [
      "100%|██████████| 300/300 [00:00<00:00, 589.91it/s]\n"
     ]
    },
    {
     "name": "stdout",
     "output_type": "stream",
     "text": [
      "<module 'random' from '/usr/lib/python3.8/random.py'>\n"
     ]
    },
    {
     "name": "stderr",
     "output_type": "stream",
     "text": [
      "100%|██████████| 200/200 [00:00<00:00, 2749.67it/s]\n"
     ]
    },
    {
     "name": "stdout",
     "output_type": "stream",
     "text": [
      "New diverisity:    0.129718865616468\n"
     ]
    },
    {
     "name": "stderr",
     "output_type": "stream",
     "text": [
      "100%|██████████| 3/3 [00:00<00:00, 2127.65it/s]\n",
      "100%|██████████| 200/200 [00:00<00:00, 530.97it/s]\n"
     ]
    },
    {
     "name": "stdout",
     "output_type": "stream",
     "text": [
      "(200, 2)\n",
      "133\n",
      " Mean Objectives : 27985.626321292417\n",
      " Best Objectives : 27985.62632129234\n",
      " diversity         : 0.1824656076596269\n",
      "Time: 212.72265148162842\n",
      "  start diversifying\n"
     ]
    },
    {
     "name": "stderr",
     "output_type": "stream",
     "text": [
      "100%|██████████| 300/300 [00:00<00:00, 546.52it/s]\n"
     ]
    },
    {
     "name": "stdout",
     "output_type": "stream",
     "text": [
      "<module 'random' from '/usr/lib/python3.8/random.py'>\n"
     ]
    },
    {
     "name": "stderr",
     "output_type": "stream",
     "text": [
      "100%|██████████| 200/200 [00:00<00:00, 2594.75it/s]\n"
     ]
    },
    {
     "name": "stdout",
     "output_type": "stream",
     "text": [
      "New diverisity:    0.143244907835976\n"
     ]
    },
    {
     "name": "stderr",
     "output_type": "stream",
     "text": [
      "100%|██████████| 300/300 [00:00<00:00, 527.76it/s]\n"
     ]
    },
    {
     "name": "stdout",
     "output_type": "stream",
     "text": [
      "<module 'random' from '/usr/lib/python3.8/random.py'>\n"
     ]
    },
    {
     "name": "stderr",
     "output_type": "stream",
     "text": [
      "100%|██████████| 200/200 [00:00<00:00, 2728.12it/s]\n"
     ]
    },
    {
     "name": "stdout",
     "output_type": "stream",
     "text": [
      "New diverisity:    0.13121166899570355\n"
     ]
    },
    {
     "name": "stderr",
     "output_type": "stream",
     "text": [
      "100%|██████████| 3/3 [00:00<00:00, 1897.59it/s]\n",
      "100%|██████████| 200/200 [00:00<00:00, 447.71it/s]\n"
     ]
    },
    {
     "name": "stdout",
     "output_type": "stream",
     "text": [
      "(200, 2)\n",
      "134\n",
      " Mean Objectives : 27985.626321292417\n",
      " Best Objectives : 27985.62632129234\n",
      " diversity         : 0.1824656076596269\n",
      "Time: 214.50728058815002\n",
      "  start diversifying\n"
     ]
    },
    {
     "name": "stderr",
     "output_type": "stream",
     "text": [
      "100%|██████████| 300/300 [00:00<00:00, 533.02it/s]\n"
     ]
    },
    {
     "name": "stdout",
     "output_type": "stream",
     "text": [
      "<module 'random' from '/usr/lib/python3.8/random.py'>\n"
     ]
    },
    {
     "name": "stderr",
     "output_type": "stream",
     "text": [
      "100%|██████████| 200/200 [00:00<00:00, 2756.16it/s]\n"
     ]
    },
    {
     "name": "stdout",
     "output_type": "stream",
     "text": [
      "New diverisity:    0.1448482563771739\n"
     ]
    },
    {
     "name": "stderr",
     "output_type": "stream",
     "text": [
      "100%|██████████| 300/300 [00:00<00:00, 651.95it/s]\n"
     ]
    },
    {
     "name": "stdout",
     "output_type": "stream",
     "text": [
      "<module 'random' from '/usr/lib/python3.8/random.py'>\n"
     ]
    },
    {
     "name": "stderr",
     "output_type": "stream",
     "text": [
      "100%|██████████| 200/200 [00:00<00:00, 2689.40it/s]\n"
     ]
    },
    {
     "name": "stdout",
     "output_type": "stream",
     "text": [
      "New diverisity:    0.13033746593093776\n"
     ]
    },
    {
     "name": "stderr",
     "output_type": "stream",
     "text": [
      "100%|██████████| 3/3 [00:00<00:00, 2232.99it/s]\n",
      "100%|██████████| 200/200 [00:00<00:00, 475.74it/s]\n"
     ]
    },
    {
     "name": "stdout",
     "output_type": "stream",
     "text": [
      "(200, 2)\n",
      "135\n",
      " Mean Objectives : 27985.626321292417\n",
      " Best Objectives : 27985.62632129234\n",
      " diversity         : 0.1824656076596269\n",
      "Time: 216.1694631576538\n",
      "  start diversifying\n"
     ]
    },
    {
     "name": "stderr",
     "output_type": "stream",
     "text": [
      "100%|██████████| 300/300 [00:00<00:00, 662.53it/s]\n"
     ]
    },
    {
     "name": "stdout",
     "output_type": "stream",
     "text": [
      "<module 'random' from '/usr/lib/python3.8/random.py'>\n"
     ]
    },
    {
     "name": "stderr",
     "output_type": "stream",
     "text": [
      "100%|██████████| 200/200 [00:00<00:00, 2425.06it/s]\n"
     ]
    },
    {
     "name": "stdout",
     "output_type": "stream",
     "text": [
      "New diverisity:    0.14200188591703225\n"
     ]
    },
    {
     "name": "stderr",
     "output_type": "stream",
     "text": [
      "100%|██████████| 3/3 [00:00<00:00, 2372.79it/s]\n",
      "100%|██████████| 200/200 [00:00<00:00, 488.46it/s]\n"
     ]
    },
    {
     "name": "stdout",
     "output_type": "stream",
     "text": [
      "(200, 2)\n",
      "136\n",
      " Mean Objectives : 27985.626321292417\n",
      " Best Objectives : 27985.62632129234\n",
      " diversity         : 0.1824656076596269\n",
      "Time: 217.16400504112244\n",
      "  start diversifying\n"
     ]
    },
    {
     "name": "stderr",
     "output_type": "stream",
     "text": [
      "100%|██████████| 300/300 [00:00<00:00, 536.26it/s]\n"
     ]
    },
    {
     "name": "stdout",
     "output_type": "stream",
     "text": [
      "<module 'random' from '/usr/lib/python3.8/random.py'>\n"
     ]
    },
    {
     "name": "stderr",
     "output_type": "stream",
     "text": [
      "100%|██████████| 200/200 [00:00<00:00, 2724.97it/s]\n"
     ]
    },
    {
     "name": "stdout",
     "output_type": "stream",
     "text": [
      "New diverisity:    0.14488534686786592\n"
     ]
    },
    {
     "name": "stderr",
     "output_type": "stream",
     "text": [
      "100%|██████████| 300/300 [00:00<00:00, 511.74it/s]\n"
     ]
    },
    {
     "name": "stdout",
     "output_type": "stream",
     "text": [
      "<module 'random' from '/usr/lib/python3.8/random.py'>\n"
     ]
    },
    {
     "name": "stderr",
     "output_type": "stream",
     "text": [
      "100%|██████████| 200/200 [00:00<00:00, 2768.19it/s]\n"
     ]
    },
    {
     "name": "stdout",
     "output_type": "stream",
     "text": [
      "New diverisity:    0.13276539755782898\n"
     ]
    },
    {
     "name": "stderr",
     "output_type": "stream",
     "text": [
      "100%|██████████| 3/3 [00:00<00:00, 2370.56it/s]\n",
      "100%|██████████| 200/200 [00:00<00:00, 468.41it/s]\n"
     ]
    },
    {
     "name": "stdout",
     "output_type": "stream",
     "text": [
      "(200, 2)\n",
      "137\n",
      " Mean Objectives : 28010.42179809066\n",
      " Best Objectives : 27985.62632129234\n",
      " diversity         : 0.1822705825365204\n",
      "Time: 218.95187854766846\n",
      "  start diversifying\n"
     ]
    },
    {
     "name": "stderr",
     "output_type": "stream",
     "text": [
      "100%|██████████| 300/300 [00:00<00:00, 660.06it/s]\n"
     ]
    },
    {
     "name": "stdout",
     "output_type": "stream",
     "text": [
      "<module 'random' from '/usr/lib/python3.8/random.py'>\n"
     ]
    },
    {
     "name": "stderr",
     "output_type": "stream",
     "text": [
      "100%|██████████| 200/200 [00:00<00:00, 2750.75it/s]\n"
     ]
    },
    {
     "name": "stdout",
     "output_type": "stream",
     "text": [
      "New diverisity:    0.14318047776220677\n"
     ]
    },
    {
     "name": "stderr",
     "output_type": "stream",
     "text": [
      "100%|██████████| 300/300 [00:00<00:00, 497.91it/s]\n"
     ]
    },
    {
     "name": "stdout",
     "output_type": "stream",
     "text": [
      "<module 'random' from '/usr/lib/python3.8/random.py'>\n"
     ]
    },
    {
     "name": "stderr",
     "output_type": "stream",
     "text": [
      "100%|██████████| 200/200 [00:00<00:00, 2755.30it/s]\n"
     ]
    },
    {
     "name": "stdout",
     "output_type": "stream",
     "text": [
      "New diverisity:    0.12564082344960087\n"
     ]
    },
    {
     "name": "stderr",
     "output_type": "stream",
     "text": [
      "100%|██████████| 3/3 [00:00<00:00, 2458.56it/s]\n",
      "100%|██████████| 200/200 [00:00<00:00, 441.13it/s]\n"
     ]
    },
    {
     "name": "stdout",
     "output_type": "stream",
     "text": [
      "(200, 2)\n",
      "138\n",
      " Mean Objectives : 27985.626321292417\n",
      " Best Objectives : 27985.62632129234\n",
      " diversity         : 0.1824656076596269\n",
      "Time: 220.6730318069458\n",
      "  start diversifying\n"
     ]
    },
    {
     "name": "stderr",
     "output_type": "stream",
     "text": [
      "100%|██████████| 300/300 [00:00<00:00, 650.14it/s]\n"
     ]
    },
    {
     "name": "stdout",
     "output_type": "stream",
     "text": [
      "<module 'random' from '/usr/lib/python3.8/random.py'>\n"
     ]
    },
    {
     "name": "stderr",
     "output_type": "stream",
     "text": [
      "100%|██████████| 200/200 [00:00<00:00, 2749.86it/s]\n"
     ]
    },
    {
     "name": "stdout",
     "output_type": "stream",
     "text": [
      "New diverisity:    0.1478707818179116\n"
     ]
    },
    {
     "name": "stderr",
     "output_type": "stream",
     "text": [
      "100%|██████████| 300/300 [00:00<00:00, 660.55it/s]\n"
     ]
    },
    {
     "name": "stdout",
     "output_type": "stream",
     "text": [
      "<module 'random' from '/usr/lib/python3.8/random.py'>\n"
     ]
    },
    {
     "name": "stderr",
     "output_type": "stream",
     "text": [
      "100%|██████████| 200/200 [00:00<00:00, 2743.08it/s]\n"
     ]
    },
    {
     "name": "stdout",
     "output_type": "stream",
     "text": [
      "New diverisity:    0.12532403948216636\n"
     ]
    },
    {
     "name": "stderr",
     "output_type": "stream",
     "text": [
      "100%|██████████| 3/3 [00:00<00:00, 2200.96it/s]\n",
      "100%|██████████| 200/200 [00:00<00:00, 417.94it/s]\n"
     ]
    },
    {
     "name": "stdout",
     "output_type": "stream",
     "text": [
      "(200, 2)\n",
      "139\n",
      " Mean Objectives : 27989.61437932863\n",
      " Best Objectives : 27985.62632129234\n",
      " diversity         : 0.1823680950980736\n",
      "Time: 222.28045105934143\n",
      "  start diversifying\n"
     ]
    },
    {
     "name": "stderr",
     "output_type": "stream",
     "text": [
      "100%|██████████| 300/300 [00:00<00:00, 666.87it/s]\n"
     ]
    },
    {
     "name": "stdout",
     "output_type": "stream",
     "text": [
      "<module 'random' from '/usr/lib/python3.8/random.py'>\n"
     ]
    },
    {
     "name": "stderr",
     "output_type": "stream",
     "text": [
      "100%|██████████| 200/200 [00:00<00:00, 2537.25it/s]\n"
     ]
    },
    {
     "name": "stdout",
     "output_type": "stream",
     "text": [
      "New diverisity:    0.1513248496205224\n"
     ]
    },
    {
     "name": "stderr",
     "output_type": "stream",
     "text": [
      "100%|██████████| 300/300 [00:00<00:00, 676.01it/s]\n"
     ]
    },
    {
     "name": "stdout",
     "output_type": "stream",
     "text": [
      "<module 'random' from '/usr/lib/python3.8/random.py'>\n"
     ]
    },
    {
     "name": "stderr",
     "output_type": "stream",
     "text": [
      "100%|██████████| 200/200 [00:00<00:00, 2278.06it/s]\n"
     ]
    },
    {
     "name": "stdout",
     "output_type": "stream",
     "text": [
      "New diverisity:    0.1287515960515\n"
     ]
    },
    {
     "name": "stderr",
     "output_type": "stream",
     "text": [
      "100%|██████████| 3/3 [00:00<00:00, 2447.56it/s]\n",
      "100%|██████████| 200/200 [00:00<00:00, 435.77it/s]\n"
     ]
    },
    {
     "name": "stdout",
     "output_type": "stream",
     "text": [
      "(200, 2)\n",
      "140\n",
      " Mean Objectives : 28034.47090164545\n",
      " Best Objectives : 27985.62632129234\n",
      " diversity         : 0.1819783394883263\n",
      "Time: 223.867351770401\n",
      "  start diversifying\n"
     ]
    },
    {
     "name": "stderr",
     "output_type": "stream",
     "text": [
      "100%|██████████| 300/300 [00:00<00:00, 560.64it/s]\n"
     ]
    },
    {
     "name": "stdout",
     "output_type": "stream",
     "text": [
      "<module 'random' from '/usr/lib/python3.8/random.py'>\n"
     ]
    },
    {
     "name": "stderr",
     "output_type": "stream",
     "text": [
      "100%|██████████| 200/200 [00:00<00:00, 2709.08it/s]\n"
     ]
    },
    {
     "name": "stdout",
     "output_type": "stream",
     "text": [
      "New diverisity:    0.14565072677203075\n"
     ]
    },
    {
     "name": "stderr",
     "output_type": "stream",
     "text": [
      "100%|██████████| 300/300 [00:00<00:00, 629.75it/s]\n"
     ]
    },
    {
     "name": "stdout",
     "output_type": "stream",
     "text": [
      "<module 'random' from '/usr/lib/python3.8/random.py'>\n"
     ]
    },
    {
     "name": "stderr",
     "output_type": "stream",
     "text": [
      "100%|██████████| 200/200 [00:00<00:00, 2752.76it/s]\n"
     ]
    },
    {
     "name": "stdout",
     "output_type": "stream",
     "text": [
      "New diverisity:    0.12721696463080373\n"
     ]
    },
    {
     "name": "stderr",
     "output_type": "stream",
     "text": [
      "100%|██████████| 3/3 [00:00<00:00, 2349.31it/s]\n",
      "100%|██████████| 200/200 [00:00<00:00, 416.46it/s]\n"
     ]
    },
    {
     "name": "stdout",
     "output_type": "stream",
     "text": [
      "(200, 2)\n",
      "141\n",
      " Mean Objectives : 27985.626321292417\n",
      " Best Objectives : 27985.62632129234\n",
      " diversity         : 0.1824656076596269\n",
      "Time: 225.5780749320984\n",
      "  start diversifying\n"
     ]
    },
    {
     "name": "stderr",
     "output_type": "stream",
     "text": [
      "100%|██████████| 300/300 [00:00<00:00, 638.36it/s]\n"
     ]
    },
    {
     "name": "stdout",
     "output_type": "stream",
     "text": [
      "<module 'random' from '/usr/lib/python3.8/random.py'>\n"
     ]
    },
    {
     "name": "stderr",
     "output_type": "stream",
     "text": [
      "100%|██████████| 200/200 [00:00<00:00, 2760.53it/s]\n"
     ]
    },
    {
     "name": "stdout",
     "output_type": "stream",
     "text": [
      "New diverisity:    0.14682711205424864\n"
     ]
    },
    {
     "name": "stderr",
     "output_type": "stream",
     "text": [
      "100%|██████████| 300/300 [00:00<00:00, 539.74it/s]\n"
     ]
    },
    {
     "name": "stdout",
     "output_type": "stream",
     "text": [
      "<module 'random' from '/usr/lib/python3.8/random.py'>\n"
     ]
    },
    {
     "name": "stderr",
     "output_type": "stream",
     "text": [
      "100%|██████████| 200/200 [00:00<00:00, 2754.81it/s]\n"
     ]
    },
    {
     "name": "stdout",
     "output_type": "stream",
     "text": [
      "New diverisity:    0.12835272431278294\n"
     ]
    },
    {
     "name": "stderr",
     "output_type": "stream",
     "text": [
      "100%|██████████| 3/3 [00:00<00:00, 2247.35it/s]\n",
      "100%|██████████| 200/200 [00:00<00:00, 468.40it/s]\n"
     ]
    },
    {
     "name": "stdout",
     "output_type": "stream",
     "text": [
      "(200, 2)\n",
      "142\n",
      " Mean Objectives : 27997.464463266548\n",
      " Best Objectives : 27985.62632129234\n",
      " diversity         : 0.18233559091088922\n",
      "Time: 227.24285769462585\n",
      "  start diversifying\n"
     ]
    },
    {
     "name": "stderr",
     "output_type": "stream",
     "text": [
      "100%|██████████| 300/300 [00:00<00:00, 535.62it/s]\n"
     ]
    },
    {
     "name": "stdout",
     "output_type": "stream",
     "text": [
      "<module 'random' from '/usr/lib/python3.8/random.py'>\n"
     ]
    },
    {
     "name": "stderr",
     "output_type": "stream",
     "text": [
      "100%|██████████| 200/200 [00:00<00:00, 2775.30it/s]\n"
     ]
    },
    {
     "name": "stdout",
     "output_type": "stream",
     "text": [
      "New diverisity:    0.14538270991897057\n"
     ]
    },
    {
     "name": "stderr",
     "output_type": "stream",
     "text": [
      "100%|██████████| 300/300 [00:00<00:00, 543.96it/s]\n"
     ]
    },
    {
     "name": "stdout",
     "output_type": "stream",
     "text": [
      "<module 'random' from '/usr/lib/python3.8/random.py'>\n"
     ]
    },
    {
     "name": "stderr",
     "output_type": "stream",
     "text": [
      "100%|██████████| 200/200 [00:00<00:00, 2457.88it/s]\n"
     ]
    },
    {
     "name": "stdout",
     "output_type": "stream",
     "text": [
      "New diverisity:    0.12878665897164043\n"
     ]
    },
    {
     "name": "stderr",
     "output_type": "stream",
     "text": [
      "100%|██████████| 3/3 [00:00<00:00, 2036.07it/s]\n",
      "100%|██████████| 200/200 [00:00<00:00, 459.91it/s]\n"
     ]
    },
    {
     "name": "stdout",
     "output_type": "stream",
     "text": [
      "(200, 2)\n",
      "143\n",
      " Mean Objectives : 27991.17924066521\n",
      " Best Objectives : 27985.62632129234\n",
      " diversity         : 0.18236809509807367\n",
      "Time: 229.01149034500122\n",
      "  start diversifying\n"
     ]
    },
    {
     "name": "stderr",
     "output_type": "stream",
     "text": [
      "100%|██████████| 300/300 [00:00<00:00, 508.49it/s]\n"
     ]
    },
    {
     "name": "stdout",
     "output_type": "stream",
     "text": [
      "<module 'random' from '/usr/lib/python3.8/random.py'>\n"
     ]
    },
    {
     "name": "stderr",
     "output_type": "stream",
     "text": [
      "100%|██████████| 200/200 [00:00<00:00, 2745.06it/s]\n"
     ]
    },
    {
     "name": "stdout",
     "output_type": "stream",
     "text": [
      "New diverisity:    0.14674245836456293\n"
     ]
    },
    {
     "name": "stderr",
     "output_type": "stream",
     "text": [
      "100%|██████████| 300/300 [00:00<00:00, 615.81it/s]\n"
     ]
    },
    {
     "name": "stdout",
     "output_type": "stream",
     "text": [
      "<module 'random' from '/usr/lib/python3.8/random.py'>\n"
     ]
    },
    {
     "name": "stderr",
     "output_type": "stream",
     "text": [
      "100%|██████████| 200/200 [00:00<00:00, 2765.86it/s]\n"
     ]
    },
    {
     "name": "stdout",
     "output_type": "stream",
     "text": [
      "New diverisity:    0.1252456632513699\n"
     ]
    },
    {
     "name": "stderr",
     "output_type": "stream",
     "text": [
      "100%|██████████| 3/3 [00:00<00:00, 2179.24it/s]\n",
      "100%|██████████| 200/200 [00:00<00:00, 394.37it/s]\n"
     ]
    },
    {
     "name": "stdout",
     "output_type": "stream",
     "text": [
      "(200, 2)\n",
      "144\n",
      " Mean Objectives : 27985.626321292417\n",
      " Best Objectives : 27985.62632129234\n",
      " diversity         : 0.1824656076596269\n",
      "Time: 230.8119146823883\n",
      "  start diversifying\n"
     ]
    },
    {
     "name": "stderr",
     "output_type": "stream",
     "text": [
      "100%|██████████| 300/300 [00:00<00:00, 636.66it/s]\n"
     ]
    },
    {
     "name": "stdout",
     "output_type": "stream",
     "text": [
      "<module 'random' from '/usr/lib/python3.8/random.py'>\n"
     ]
    },
    {
     "name": "stderr",
     "output_type": "stream",
     "text": [
      "100%|██████████| 200/200 [00:00<00:00, 2651.79it/s]\n"
     ]
    },
    {
     "name": "stdout",
     "output_type": "stream",
     "text": [
      "New diverisity:    0.14571143490756341\n"
     ]
    },
    {
     "name": "stderr",
     "output_type": "stream",
     "text": [
      "100%|██████████| 300/300 [00:00<00:00, 533.91it/s]\n"
     ]
    },
    {
     "name": "stdout",
     "output_type": "stream",
     "text": [
      "<module 'random' from '/usr/lib/python3.8/random.py'>\n"
     ]
    },
    {
     "name": "stderr",
     "output_type": "stream",
     "text": [
      "100%|██████████| 200/200 [00:00<00:00, 2759.42it/s]\n"
     ]
    },
    {
     "name": "stdout",
     "output_type": "stream",
     "text": [
      "New diverisity:    0.13167586348466295\n"
     ]
    },
    {
     "name": "stderr",
     "output_type": "stream",
     "text": [
      "100%|██████████| 3/3 [00:00<00:00, 2338.83it/s]\n",
      "100%|██████████| 200/200 [00:00<00:00, 409.15it/s]\n"
     ]
    },
    {
     "name": "stdout",
     "output_type": "stream",
     "text": [
      "(200, 2)\n",
      "145\n",
      " Mean Objectives : 27985.626321292417\n",
      " Best Objectives : 27985.62632129234\n",
      " diversity         : 0.1824656076596269\n",
      "Time: 232.54931163787842\n",
      "  start diversifying\n"
     ]
    },
    {
     "name": "stderr",
     "output_type": "stream",
     "text": [
      "100%|██████████| 300/300 [00:00<00:00, 658.58it/s]\n"
     ]
    },
    {
     "name": "stdout",
     "output_type": "stream",
     "text": [
      "<module 'random' from '/usr/lib/python3.8/random.py'>\n"
     ]
    },
    {
     "name": "stderr",
     "output_type": "stream",
     "text": [
      "100%|██████████| 200/200 [00:00<00:00, 2780.64it/s]\n"
     ]
    },
    {
     "name": "stdout",
     "output_type": "stream",
     "text": [
      "New diverisity:    0.14342097047841623\n"
     ]
    },
    {
     "name": "stderr",
     "output_type": "stream",
     "text": [
      "100%|██████████| 300/300 [00:00<00:00, 593.65it/s]\n"
     ]
    },
    {
     "name": "stdout",
     "output_type": "stream",
     "text": [
      "<module 'random' from '/usr/lib/python3.8/random.py'>\n"
     ]
    },
    {
     "name": "stderr",
     "output_type": "stream",
     "text": [
      "100%|██████████| 200/200 [00:00<00:00, 2788.11it/s]\n"
     ]
    },
    {
     "name": "stdout",
     "output_type": "stream",
     "text": [
      "New diverisity:    0.1238296418591485\n"
     ]
    },
    {
     "name": "stderr",
     "output_type": "stream",
     "text": [
      "100%|██████████| 3/3 [00:00<00:00, 2445.66it/s]\n",
      "100%|██████████| 200/200 [00:00<00:00, 433.66it/s]\n"
     ]
    },
    {
     "name": "stdout",
     "output_type": "stream",
     "text": [
      "(200, 2)\n",
      "146\n",
      " Mean Objectives : 27985.626321292417\n",
      " Best Objectives : 27985.62632129234\n",
      " diversity         : 0.1824656076596269\n",
      "Time: 234.18388652801514\n",
      "  start diversifying\n"
     ]
    },
    {
     "name": "stderr",
     "output_type": "stream",
     "text": [
      "100%|██████████| 300/300 [00:00<00:00, 530.50it/s]\n"
     ]
    },
    {
     "name": "stdout",
     "output_type": "stream",
     "text": [
      "<module 'random' from '/usr/lib/python3.8/random.py'>\n"
     ]
    },
    {
     "name": "stderr",
     "output_type": "stream",
     "text": [
      "100%|██████████| 200/200 [00:00<00:00, 2680.99it/s]\n"
     ]
    },
    {
     "name": "stdout",
     "output_type": "stream",
     "text": [
      "New diverisity:    0.14653413246482105\n"
     ]
    },
    {
     "name": "stderr",
     "output_type": "stream",
     "text": [
      "100%|██████████| 300/300 [00:00<00:00, 641.50it/s]\n"
     ]
    },
    {
     "name": "stdout",
     "output_type": "stream",
     "text": [
      "<module 'random' from '/usr/lib/python3.8/random.py'>\n"
     ]
    },
    {
     "name": "stderr",
     "output_type": "stream",
     "text": [
      "100%|██████████| 200/200 [00:00<00:00, 2568.33it/s]\n"
     ]
    },
    {
     "name": "stdout",
     "output_type": "stream",
     "text": [
      "New diverisity:    0.13121875128800992\n"
     ]
    },
    {
     "name": "stderr",
     "output_type": "stream",
     "text": [
      "100%|██████████| 3/3 [00:00<00:00, 1844.19it/s]\n",
      "100%|██████████| 200/200 [00:00<00:00, 432.18it/s]\n"
     ]
    },
    {
     "name": "stdout",
     "output_type": "stream",
     "text": [
      "(200, 2)\n",
      "147\n",
      " Mean Objectives : 27987.549709832027\n",
      " Best Objectives : 27985.62632129234\n",
      " diversity         : 0.18236809509807367\n",
      "Time: 235.90639543533325\n",
      "  start diversifying\n"
     ]
    },
    {
     "name": "stderr",
     "output_type": "stream",
     "text": [
      "100%|██████████| 300/300 [00:00<00:00, 526.33it/s]\n"
     ]
    },
    {
     "name": "stdout",
     "output_type": "stream",
     "text": [
      "<module 'random' from '/usr/lib/python3.8/random.py'>\n"
     ]
    },
    {
     "name": "stderr",
     "output_type": "stream",
     "text": [
      "100%|██████████| 200/200 [00:00<00:00, 2686.87it/s]\n"
     ]
    },
    {
     "name": "stdout",
     "output_type": "stream",
     "text": [
      "New diverisity:    0.1438052278846307\n"
     ]
    },
    {
     "name": "stderr",
     "output_type": "stream",
     "text": [
      "100%|██████████| 300/300 [00:00<00:00, 577.80it/s]\n"
     ]
    },
    {
     "name": "stdout",
     "output_type": "stream",
     "text": [
      "<module 'random' from '/usr/lib/python3.8/random.py'>\n"
     ]
    },
    {
     "name": "stderr",
     "output_type": "stream",
     "text": [
      "100%|██████████| 200/200 [00:00<00:00, 2650.29it/s]\n"
     ]
    },
    {
     "name": "stdout",
     "output_type": "stream",
     "text": [
      "New diverisity:    0.1255287196468137\n"
     ]
    },
    {
     "name": "stderr",
     "output_type": "stream",
     "text": [
      "100%|██████████| 3/3 [00:00<00:00, 2194.06it/s]\n",
      "100%|██████████| 200/200 [00:00<00:00, 497.27it/s]\n"
     ]
    },
    {
     "name": "stdout",
     "output_type": "stream",
     "text": [
      "(200, 2)\n",
      "148\n",
      " Mean Objectives : 27985.626321292417\n",
      " Best Objectives : 27985.62632129234\n",
      " diversity         : 0.1824656076596269\n",
      "Time: 237.61528873443604\n",
      "  start diversifying\n"
     ]
    },
    {
     "name": "stderr",
     "output_type": "stream",
     "text": [
      "100%|██████████| 300/300 [00:00<00:00, 538.23it/s]\n"
     ]
    },
    {
     "name": "stdout",
     "output_type": "stream",
     "text": [
      "<module 'random' from '/usr/lib/python3.8/random.py'>\n"
     ]
    },
    {
     "name": "stderr",
     "output_type": "stream",
     "text": [
      "100%|██████████| 200/200 [00:00<00:00, 2492.87it/s]\n"
     ]
    },
    {
     "name": "stdout",
     "output_type": "stream",
     "text": [
      "New diverisity:    0.15022593453051694\n"
     ]
    },
    {
     "name": "stderr",
     "output_type": "stream",
     "text": [
      "100%|██████████| 300/300 [00:00<00:00, 578.88it/s]\n"
     ]
    },
    {
     "name": "stdout",
     "output_type": "stream",
     "text": [
      "<module 'random' from '/usr/lib/python3.8/random.py'>\n"
     ]
    },
    {
     "name": "stderr",
     "output_type": "stream",
     "text": [
      "100%|██████████| 200/200 [00:00<00:00, 2753.66it/s]\n"
     ]
    },
    {
     "name": "stdout",
     "output_type": "stream",
     "text": [
      "New diverisity:    0.12876388447587842\n"
     ]
    },
    {
     "name": "stderr",
     "output_type": "stream",
     "text": [
      "100%|██████████| 3/3 [00:00<00:00, 2212.96it/s]\n",
      "100%|██████████| 200/200 [00:00<00:00, 430.39it/s]\n"
     ]
    },
    {
     "name": "stdout",
     "output_type": "stream",
     "text": [
      "(200, 2)\n",
      "149\n",
      " Mean Objectives : 28011.382022768576\n",
      " Best Objectives : 27985.62632129234\n",
      " diversity         : 0.18227057748266157\n",
      "Time: 239.38120031356812\n",
      "  start diversifying\n"
     ]
    },
    {
     "name": "stderr",
     "output_type": "stream",
     "text": [
      "100%|██████████| 300/300 [00:00<00:00, 536.33it/s]\n"
     ]
    },
    {
     "name": "stdout",
     "output_type": "stream",
     "text": [
      "<module 'random' from '/usr/lib/python3.8/random.py'>\n"
     ]
    },
    {
     "name": "stderr",
     "output_type": "stream",
     "text": [
      "100%|██████████| 200/200 [00:00<00:00, 2711.10it/s]\n"
     ]
    },
    {
     "name": "stdout",
     "output_type": "stream",
     "text": [
      "New diverisity:    0.14736492376465546\n"
     ]
    },
    {
     "name": "stderr",
     "output_type": "stream",
     "text": [
      "100%|██████████| 300/300 [00:00<00:00, 535.62it/s]\n"
     ]
    },
    {
     "name": "stdout",
     "output_type": "stream",
     "text": [
      "<module 'random' from '/usr/lib/python3.8/random.py'>\n"
     ]
    },
    {
     "name": "stderr",
     "output_type": "stream",
     "text": [
      "100%|██████████| 200/200 [00:00<00:00, 2639.19it/s]\n"
     ]
    },
    {
     "name": "stdout",
     "output_type": "stream",
     "text": [
      "New diverisity:    0.13297367180752648\n"
     ]
    },
    {
     "name": "stderr",
     "output_type": "stream",
     "text": [
      "100%|██████████| 3/3 [00:00<00:00, 2404.53it/s]\n",
      "100%|██████████| 200/200 [00:00<00:00, 480.63it/s]\n"
     ]
    },
    {
     "name": "stdout",
     "output_type": "stream",
     "text": [
      "(200, 2)\n",
      "150\n",
      " Mean Objectives : 27985.626321292417\n",
      " Best Objectives : 27985.62632129234\n",
      " diversity         : 0.1824656076596269\n",
      "Time: 241.13696885108948\n",
      "  start diversifying\n"
     ]
    },
    {
     "name": "stderr",
     "output_type": "stream",
     "text": [
      "100%|██████████| 300/300 [00:00<00:00, 538.04it/s]\n"
     ]
    },
    {
     "name": "stdout",
     "output_type": "stream",
     "text": [
      "<module 'random' from '/usr/lib/python3.8/random.py'>\n"
     ]
    },
    {
     "name": "stderr",
     "output_type": "stream",
     "text": [
      "100%|██████████| 200/200 [00:00<00:00, 2719.90it/s]\n"
     ]
    },
    {
     "name": "stdout",
     "output_type": "stream",
     "text": [
      "New diverisity:    0.14347968357222016\n"
     ]
    },
    {
     "name": "stderr",
     "output_type": "stream",
     "text": [
      "100%|██████████| 300/300 [00:00<00:00, 527.51it/s]\n"
     ]
    },
    {
     "name": "stdout",
     "output_type": "stream",
     "text": [
      "<module 'random' from '/usr/lib/python3.8/random.py'>\n"
     ]
    },
    {
     "name": "stderr",
     "output_type": "stream",
     "text": [
      "100%|██████████| 200/200 [00:00<00:00, 2070.00it/s]\n"
     ]
    },
    {
     "name": "stdout",
     "output_type": "stream",
     "text": [
      "New diverisity:    0.12840619444978651\n"
     ]
    },
    {
     "name": "stderr",
     "output_type": "stream",
     "text": [
      "100%|██████████| 3/3 [00:00<00:00, 1751.28it/s]\n",
      "100%|██████████| 200/200 [00:00<00:00, 438.79it/s]\n"
     ]
    },
    {
     "name": "stdout",
     "output_type": "stream",
     "text": [
      "(200, 2)\n",
      "151\n",
      " Mean Objectives : 27985.626321292417\n",
      " Best Objectives : 27985.62632129234\n",
      " diversity         : 0.1824656076596269\n",
      "Time: 242.96242594718933\n",
      "  start diversifying\n"
     ]
    },
    {
     "name": "stderr",
     "output_type": "stream",
     "text": [
      "100%|██████████| 300/300 [00:00<00:00, 514.59it/s]\n"
     ]
    },
    {
     "name": "stdout",
     "output_type": "stream",
     "text": [
      "<module 'random' from '/usr/lib/python3.8/random.py'>\n"
     ]
    },
    {
     "name": "stderr",
     "output_type": "stream",
     "text": [
      "100%|██████████| 200/200 [00:00<00:00, 2768.12it/s]\n"
     ]
    },
    {
     "name": "stdout",
     "output_type": "stream",
     "text": [
      "New diverisity:    0.14563105126826753\n"
     ]
    },
    {
     "name": "stderr",
     "output_type": "stream",
     "text": [
      "100%|██████████| 300/300 [00:00<00:00, 554.12it/s]\n"
     ]
    },
    {
     "name": "stdout",
     "output_type": "stream",
     "text": [
      "<module 'random' from '/usr/lib/python3.8/random.py'>\n"
     ]
    },
    {
     "name": "stderr",
     "output_type": "stream",
     "text": [
      "100%|██████████| 200/200 [00:00<00:00, 2799.05it/s]\n"
     ]
    },
    {
     "name": "stdout",
     "output_type": "stream",
     "text": [
      "New diverisity:    0.12736365031886152\n"
     ]
    },
    {
     "name": "stderr",
     "output_type": "stream",
     "text": [
      "100%|██████████| 3/3 [00:00<00:00, 2438.55it/s]\n",
      "100%|██████████| 200/200 [00:00<00:00, 462.15it/s]\n"
     ]
    },
    {
     "name": "stdout",
     "output_type": "stream",
     "text": [
      "(200, 2)\n",
      "152\n",
      " Mean Objectives : 28003.62113516526\n",
      " Best Objectives : 27985.62632129234\n",
      " diversity         : 0.18236809509807367\n",
      "Time: 244.73056721687317\n",
      "  start diversifying\n"
     ]
    },
    {
     "name": "stderr",
     "output_type": "stream",
     "text": [
      "100%|██████████| 300/300 [00:00<00:00, 655.83it/s]\n"
     ]
    },
    {
     "name": "stdout",
     "output_type": "stream",
     "text": [
      "<module 'random' from '/usr/lib/python3.8/random.py'>\n"
     ]
    },
    {
     "name": "stderr",
     "output_type": "stream",
     "text": [
      "100%|██████████| 200/200 [00:00<00:00, 2705.80it/s]\n"
     ]
    },
    {
     "name": "stdout",
     "output_type": "stream",
     "text": [
      "New diverisity:    0.14266723957440477\n"
     ]
    },
    {
     "name": "stderr",
     "output_type": "stream",
     "text": [
      "100%|██████████| 300/300 [00:00<00:00, 637.05it/s]\n"
     ]
    },
    {
     "name": "stdout",
     "output_type": "stream",
     "text": [
      "<module 'random' from '/usr/lib/python3.8/random.py'>\n"
     ]
    },
    {
     "name": "stderr",
     "output_type": "stream",
     "text": [
      "100%|██████████| 200/200 [00:00<00:00, 2235.76it/s]\n"
     ]
    },
    {
     "name": "stdout",
     "output_type": "stream",
     "text": [
      "New diverisity:    0.13076662635514352\n"
     ]
    },
    {
     "name": "stderr",
     "output_type": "stream",
     "text": [
      "100%|██████████| 3/3 [00:00<00:00, 2447.09it/s]\n",
      "100%|██████████| 200/200 [00:00<00:00, 496.87it/s]\n"
     ]
    },
    {
     "name": "stdout",
     "output_type": "stream",
     "text": [
      "(200, 2)\n",
      "153\n",
      " Mean Objectives : 27985.626321292417\n",
      " Best Objectives : 27985.62632129234\n",
      " diversity         : 0.1824656076596269\n",
      "Time: 246.30065774917603\n",
      "  start diversifying\n"
     ]
    },
    {
     "name": "stderr",
     "output_type": "stream",
     "text": [
      "100%|██████████| 300/300 [00:00<00:00, 549.46it/s]\n"
     ]
    },
    {
     "name": "stdout",
     "output_type": "stream",
     "text": [
      "<module 'random' from '/usr/lib/python3.8/random.py'>\n"
     ]
    },
    {
     "name": "stderr",
     "output_type": "stream",
     "text": [
      "100%|██████████| 200/200 [00:00<00:00, 2699.03it/s]\n"
     ]
    },
    {
     "name": "stdout",
     "output_type": "stream",
     "text": [
      "New diverisity:    0.14468154372208522\n"
     ]
    },
    {
     "name": "stderr",
     "output_type": "stream",
     "text": [
      "100%|██████████| 300/300 [00:00<00:00, 662.60it/s]\n"
     ]
    },
    {
     "name": "stdout",
     "output_type": "stream",
     "text": [
      "<module 'random' from '/usr/lib/python3.8/random.py'>\n"
     ]
    },
    {
     "name": "stderr",
     "output_type": "stream",
     "text": [
      "100%|██████████| 200/200 [00:00<00:00, 2626.59it/s]\n"
     ]
    },
    {
     "name": "stdout",
     "output_type": "stream",
     "text": [
      "New diverisity:    0.13490654586420534\n"
     ]
    },
    {
     "name": "stderr",
     "output_type": "stream",
     "text": [
      "100%|██████████| 3/3 [00:00<00:00, 2431.01it/s]\n",
      "100%|██████████| 200/200 [00:00<00:00, 356.50it/s]\n"
     ]
    },
    {
     "name": "stdout",
     "output_type": "stream",
     "text": [
      "(200, 2)\n",
      "154\n",
      " Mean Objectives : 27985.626321292417\n",
      " Best Objectives : 27985.62632129234\n",
      " diversity         : 0.1824656076596269\n",
      "Time: 248.07869386672974\n",
      "  start diversifying\n"
     ]
    },
    {
     "name": "stderr",
     "output_type": "stream",
     "text": [
      "100%|██████████| 300/300 [00:00<00:00, 651.25it/s]\n"
     ]
    },
    {
     "name": "stdout",
     "output_type": "stream",
     "text": [
      "<module 'random' from '/usr/lib/python3.8/random.py'>\n"
     ]
    },
    {
     "name": "stderr",
     "output_type": "stream",
     "text": [
      "100%|██████████| 200/200 [00:00<00:00, 2793.00it/s]\n"
     ]
    },
    {
     "name": "stdout",
     "output_type": "stream",
     "text": [
      "New diverisity:    0.1457148737862347\n"
     ]
    },
    {
     "name": "stderr",
     "output_type": "stream",
     "text": [
      "100%|██████████| 300/300 [00:00<00:00, 668.52it/s]\n"
     ]
    },
    {
     "name": "stdout",
     "output_type": "stream",
     "text": [
      "<module 'random' from '/usr/lib/python3.8/random.py'>\n"
     ]
    },
    {
     "name": "stderr",
     "output_type": "stream",
     "text": [
      "100%|██████████| 200/200 [00:00<00:00, 2769.37it/s]\n"
     ]
    },
    {
     "name": "stdout",
     "output_type": "stream",
     "text": [
      "New diverisity:    0.13066132495760274\n"
     ]
    },
    {
     "name": "stderr",
     "output_type": "stream",
     "text": [
      "100%|██████████| 3/3 [00:00<00:00, 2452.33it/s]\n",
      "100%|██████████| 200/200 [00:00<00:00, 426.29it/s]\n"
     ]
    },
    {
     "name": "stdout",
     "output_type": "stream",
     "text": [
      "(200, 2)\n",
      "155\n",
      " Mean Objectives : 27985.626321292417\n",
      " Best Objectives : 27985.62632129234\n",
      " diversity         : 0.1824656076596269\n",
      "Time: 249.67113828659058\n",
      "  start diversifying\n"
     ]
    },
    {
     "name": "stderr",
     "output_type": "stream",
     "text": [
      "100%|██████████| 300/300 [00:00<00:00, 547.55it/s]\n"
     ]
    },
    {
     "name": "stdout",
     "output_type": "stream",
     "text": [
      "<module 'random' from '/usr/lib/python3.8/random.py'>\n"
     ]
    },
    {
     "name": "stderr",
     "output_type": "stream",
     "text": [
      "100%|██████████| 200/200 [00:00<00:00, 2643.12it/s]\n"
     ]
    },
    {
     "name": "stdout",
     "output_type": "stream",
     "text": [
      "New diverisity:    0.1480274163875007\n"
     ]
    },
    {
     "name": "stderr",
     "output_type": "stream",
     "text": [
      "100%|██████████| 300/300 [00:00<00:00, 672.13it/s]\n"
     ]
    },
    {
     "name": "stdout",
     "output_type": "stream",
     "text": [
      "<module 'random' from '/usr/lib/python3.8/random.py'>\n"
     ]
    },
    {
     "name": "stderr",
     "output_type": "stream",
     "text": [
      "100%|██████████| 200/200 [00:00<00:00, 2746.85it/s]\n"
     ]
    },
    {
     "name": "stdout",
     "output_type": "stream",
     "text": [
      "New diverisity:    0.1324369651862691\n"
     ]
    },
    {
     "name": "stderr",
     "output_type": "stream",
     "text": [
      "100%|██████████| 3/3 [00:00<00:00, 2329.74it/s]\n",
      "100%|██████████| 200/200 [00:00<00:00, 516.16it/s]\n"
     ]
    },
    {
     "name": "stdout",
     "output_type": "stream",
     "text": [
      "(200, 2)\n",
      "156\n",
      " Mean Objectives : 27997.41156595179\n",
      " Best Objectives : 27985.62632129234\n",
      " diversity         : 0.18236809509807367\n",
      "Time: 251.26989603042603\n",
      "  start diversifying\n"
     ]
    },
    {
     "name": "stderr",
     "output_type": "stream",
     "text": [
      "100%|██████████| 300/300 [00:00<00:00, 642.27it/s]\n"
     ]
    },
    {
     "name": "stdout",
     "output_type": "stream",
     "text": [
      "<module 'random' from '/usr/lib/python3.8/random.py'>\n"
     ]
    },
    {
     "name": "stderr",
     "output_type": "stream",
     "text": [
      "100%|██████████| 200/200 [00:00<00:00, 2672.73it/s]\n"
     ]
    },
    {
     "name": "stdout",
     "output_type": "stream",
     "text": [
      "New diverisity:    0.14278929883314131\n"
     ]
    },
    {
     "name": "stderr",
     "output_type": "stream",
     "text": [
      "100%|██████████| 300/300 [00:00<00:00, 615.20it/s]\n"
     ]
    },
    {
     "name": "stdout",
     "output_type": "stream",
     "text": [
      "<module 'random' from '/usr/lib/python3.8/random.py'>\n"
     ]
    },
    {
     "name": "stderr",
     "output_type": "stream",
     "text": [
      "100%|██████████| 200/200 [00:00<00:00, 2770.28it/s]\n"
     ]
    },
    {
     "name": "stdout",
     "output_type": "stream",
     "text": [
      "New diverisity:    0.12855589517369823\n"
     ]
    },
    {
     "name": "stderr",
     "output_type": "stream",
     "text": [
      "100%|██████████| 3/3 [00:00<00:00, 2296.15it/s]\n",
      "100%|██████████| 200/200 [00:00<00:00, 407.33it/s]\n"
     ]
    },
    {
     "name": "stdout",
     "output_type": "stream",
     "text": [
      "(200, 2)\n",
      "157\n",
      " Mean Objectives : 27999.52448465147\n",
      " Best Objectives : 27985.62632129234\n",
      " diversity         : 0.1822705825365204\n",
      "Time: 252.94560766220093\n",
      "  start diversifying\n"
     ]
    },
    {
     "name": "stderr",
     "output_type": "stream",
     "text": [
      "100%|██████████| 300/300 [00:00<00:00, 543.02it/s]\n"
     ]
    },
    {
     "name": "stdout",
     "output_type": "stream",
     "text": [
      "<module 'random' from '/usr/lib/python3.8/random.py'>\n"
     ]
    },
    {
     "name": "stderr",
     "output_type": "stream",
     "text": [
      "100%|██████████| 200/200 [00:00<00:00, 2773.96it/s]\n"
     ]
    },
    {
     "name": "stdout",
     "output_type": "stream",
     "text": [
      "New diverisity:    0.14711321440476274\n"
     ]
    },
    {
     "name": "stderr",
     "output_type": "stream",
     "text": [
      "100%|██████████| 300/300 [00:00<00:00, 660.86it/s]\n"
     ]
    },
    {
     "name": "stdout",
     "output_type": "stream",
     "text": [
      "<module 'random' from '/usr/lib/python3.8/random.py'>\n"
     ]
    },
    {
     "name": "stderr",
     "output_type": "stream",
     "text": [
      "100%|██████████| 200/200 [00:00<00:00, 2782.78it/s]\n"
     ]
    },
    {
     "name": "stdout",
     "output_type": "stream",
     "text": [
      "New diverisity:    0.133617060521437\n"
     ]
    },
    {
     "name": "stderr",
     "output_type": "stream",
     "text": [
      "100%|██████████| 3/3 [00:00<00:00, 2192.53it/s]\n",
      "100%|██████████| 200/200 [00:00<00:00, 411.26it/s]\n"
     ]
    },
    {
     "name": "stdout",
     "output_type": "stream",
     "text": [
      "(200, 2)\n",
      "158\n",
      " Mean Objectives : 28002.60853319069\n",
      " Best Objectives : 27985.62632129234\n",
      " diversity         : 0.18236809509807367\n",
      "Time: 254.64993596076965\n",
      "  start diversifying\n"
     ]
    },
    {
     "name": "stderr",
     "output_type": "stream",
     "text": [
      "100%|██████████| 300/300 [00:00<00:00, 515.19it/s]\n"
     ]
    },
    {
     "name": "stdout",
     "output_type": "stream",
     "text": [
      "<module 'random' from '/usr/lib/python3.8/random.py'>\n"
     ]
    },
    {
     "name": "stderr",
     "output_type": "stream",
     "text": [
      "100%|██████████| 200/200 [00:00<00:00, 2614.88it/s]\n"
     ]
    },
    {
     "name": "stdout",
     "output_type": "stream",
     "text": [
      "New diverisity:    0.14357268965614736\n"
     ]
    },
    {
     "name": "stderr",
     "output_type": "stream",
     "text": [
      "100%|██████████| 300/300 [00:00<00:00, 517.02it/s]\n"
     ]
    },
    {
     "name": "stdout",
     "output_type": "stream",
     "text": [
      "<module 'random' from '/usr/lib/python3.8/random.py'>\n"
     ]
    },
    {
     "name": "stderr",
     "output_type": "stream",
     "text": [
      "100%|██████████| 200/200 [00:00<00:00, 2645.02it/s]\n"
     ]
    },
    {
     "name": "stdout",
     "output_type": "stream",
     "text": [
      "New diverisity:    0.13288899681312327\n"
     ]
    },
    {
     "name": "stderr",
     "output_type": "stream",
     "text": [
      "100%|██████████| 3/3 [00:00<00:00, 2070.24it/s]\n",
      "100%|██████████| 200/200 [00:00<00:00, 369.15it/s]\n"
     ]
    },
    {
     "name": "stdout",
     "output_type": "stream",
     "text": [
      "(200, 2)\n",
      "159\n",
      " Mean Objectives : 27985.626321292417\n",
      " Best Objectives : 27985.62632129234\n",
      " diversity         : 0.1824656076596269\n",
      "Time: 256.57517433166504\n",
      "  start diversifying\n"
     ]
    },
    {
     "name": "stderr",
     "output_type": "stream",
     "text": [
      "100%|██████████| 300/300 [00:00<00:00, 536.87it/s]\n"
     ]
    },
    {
     "name": "stdout",
     "output_type": "stream",
     "text": [
      "<module 'random' from '/usr/lib/python3.8/random.py'>\n"
     ]
    },
    {
     "name": "stderr",
     "output_type": "stream",
     "text": [
      "100%|██████████| 200/200 [00:00<00:00, 2745.21it/s]\n"
     ]
    },
    {
     "name": "stdout",
     "output_type": "stream",
     "text": [
      "New diverisity:    0.14341827130567564\n"
     ]
    },
    {
     "name": "stderr",
     "output_type": "stream",
     "text": [
      "100%|██████████| 300/300 [00:00<00:00, 507.60it/s]\n"
     ]
    },
    {
     "name": "stdout",
     "output_type": "stream",
     "text": [
      "<module 'random' from '/usr/lib/python3.8/random.py'>\n"
     ]
    },
    {
     "name": "stderr",
     "output_type": "stream",
     "text": [
      "100%|██████████| 200/200 [00:00<00:00, 1852.73it/s]\n"
     ]
    },
    {
     "name": "stdout",
     "output_type": "stream",
     "text": [
      "New diverisity:    0.1312314274322885\n"
     ]
    },
    {
     "name": "stderr",
     "output_type": "stream",
     "text": [
      "100%|██████████| 3/3 [00:00<00:00, 2179.24it/s]\n",
      "100%|██████████| 200/200 [00:00<00:00, 513.36it/s]\n"
     ]
    },
    {
     "name": "stdout",
     "output_type": "stream",
     "text": [
      "(200, 2)\n",
      "160\n",
      " Mean Objectives : 27985.626321292417\n",
      " Best Objectives : 27985.62632129234\n",
      " diversity         : 0.1824656076596269\n",
      "Time: 258.36991596221924\n",
      "  start diversifying\n"
     ]
    },
    {
     "name": "stderr",
     "output_type": "stream",
     "text": [
      "100%|██████████| 300/300 [00:00<00:00, 542.93it/s]\n"
     ]
    },
    {
     "name": "stdout",
     "output_type": "stream",
     "text": [
      "<module 'random' from '/usr/lib/python3.8/random.py'>\n"
     ]
    },
    {
     "name": "stderr",
     "output_type": "stream",
     "text": [
      "100%|██████████| 200/200 [00:00<00:00, 2756.61it/s]\n"
     ]
    },
    {
     "name": "stdout",
     "output_type": "stream",
     "text": [
      "New diverisity:    0.14011560282092628\n"
     ]
    },
    {
     "name": "stderr",
     "output_type": "stream",
     "text": [
      "100%|██████████| 3/3 [00:00<00:00, 2078.45it/s]\n",
      "100%|██████████| 200/200 [00:00<00:00, 537.15it/s]\n"
     ]
    },
    {
     "name": "stdout",
     "output_type": "stream",
     "text": [
      "(200, 2)\n",
      "161\n",
      " Mean Objectives : 27985.626321292417\n",
      " Best Objectives : 27985.62632129234\n",
      " diversity         : 0.1824656076596269\n",
      "Time: 259.40915751457214\n",
      "  start diversifying\n"
     ]
    },
    {
     "name": "stderr",
     "output_type": "stream",
     "text": [
      "100%|██████████| 300/300 [00:00<00:00, 554.55it/s]\n"
     ]
    },
    {
     "name": "stdout",
     "output_type": "stream",
     "text": [
      "<module 'random' from '/usr/lib/python3.8/random.py'>\n"
     ]
    },
    {
     "name": "stderr",
     "output_type": "stream",
     "text": [
      "100%|██████████| 200/200 [00:00<00:00, 2750.33it/s]\n"
     ]
    },
    {
     "name": "stdout",
     "output_type": "stream",
     "text": [
      "New diverisity:    0.1409821025979397\n"
     ]
    },
    {
     "name": "stderr",
     "output_type": "stream",
     "text": [
      "100%|██████████| 3/3 [00:00<00:00, 2407.29it/s]\n",
      "100%|██████████| 200/200 [00:00<00:00, 424.23it/s]\n"
     ]
    },
    {
     "name": "stdout",
     "output_type": "stream",
     "text": [
      "(200, 2)\n",
      "162\n",
      " Mean Objectives : 27954.979686563955\n",
      " Best Objectives : 27799.889141119853\n",
      " diversity         : 0.17760023928384738\n",
      "Time: 260.53880882263184\n",
      "  start diversifying\n"
     ]
    },
    {
     "name": "stderr",
     "output_type": "stream",
     "text": [
      "100%|██████████| 300/300 [00:00<00:00, 668.97it/s]\n"
     ]
    },
    {
     "name": "stdout",
     "output_type": "stream",
     "text": [
      "<module 'random' from '/usr/lib/python3.8/random.py'>\n"
     ]
    },
    {
     "name": "stderr",
     "output_type": "stream",
     "text": [
      "100%|██████████| 200/200 [00:00<00:00, 2574.93it/s]\n"
     ]
    },
    {
     "name": "stdout",
     "output_type": "stream",
     "text": [
      "New diverisity:    0.14389311402368848\n"
     ]
    },
    {
     "name": "stderr",
     "output_type": "stream",
     "text": [
      "100%|██████████| 300/300 [00:00<00:00, 631.84it/s]\n"
     ]
    },
    {
     "name": "stdout",
     "output_type": "stream",
     "text": [
      "<module 'random' from '/usr/lib/python3.8/random.py'>\n"
     ]
    },
    {
     "name": "stderr",
     "output_type": "stream",
     "text": [
      "100%|██████████| 200/200 [00:00<00:00, 2643.07it/s]\n"
     ]
    },
    {
     "name": "stdout",
     "output_type": "stream",
     "text": [
      "New diverisity:    0.12387474827648098\n"
     ]
    },
    {
     "name": "stderr",
     "output_type": "stream",
     "text": [
      "100%|██████████| 3/3 [00:00<00:00, 2205.21it/s]\n",
      "100%|██████████| 200/200 [00:00<00:00, 256.03it/s]\n"
     ]
    },
    {
     "name": "stdout",
     "output_type": "stream",
     "text": [
      "(200, 2)\n",
      "163\n",
      " Mean Objectives : 27874.477779347253\n",
      " Best Objectives : 27799.889141119853\n",
      " diversity         : 0.17825085964173604\n",
      "Time: 262.47075939178467\n",
      "  start diversifying\n"
     ]
    },
    {
     "name": "stderr",
     "output_type": "stream",
     "text": [
      "100%|██████████| 300/300 [00:00<00:00, 552.71it/s]\n"
     ]
    },
    {
     "name": "stdout",
     "output_type": "stream",
     "text": [
      "<module 'random' from '/usr/lib/python3.8/random.py'>\n"
     ]
    },
    {
     "name": "stderr",
     "output_type": "stream",
     "text": [
      "100%|██████████| 200/200 [00:00<00:00, 2731.18it/s]\n"
     ]
    },
    {
     "name": "stdout",
     "output_type": "stream",
     "text": [
      "New diverisity:    0.1447178402052494\n"
     ]
    },
    {
     "name": "stderr",
     "output_type": "stream",
     "text": [
      "100%|██████████| 300/300 [00:00<00:00, 611.48it/s]\n"
     ]
    },
    {
     "name": "stdout",
     "output_type": "stream",
     "text": [
      "<module 'random' from '/usr/lib/python3.8/random.py'>\n"
     ]
    },
    {
     "name": "stderr",
     "output_type": "stream",
     "text": [
      "100%|██████████| 200/200 [00:00<00:00, 2739.13it/s]\n"
     ]
    },
    {
     "name": "stdout",
     "output_type": "stream",
     "text": [
      "New diverisity:    0.12093374911809363\n"
     ]
    },
    {
     "name": "stderr",
     "output_type": "stream",
     "text": [
      "100%|██████████| 3/3 [00:00<00:00, 2405.91it/s]\n",
      "100%|██████████| 200/200 [00:00<00:00, 266.63it/s]\n"
     ]
    },
    {
     "name": "stdout",
     "output_type": "stream",
     "text": [
      "(200, 2)\n",
      "164\n",
      " Mean Objectives : 28196.888659882105\n",
      " Best Objectives : 27799.889141119853\n",
      " diversity         : 0.1798068867390712\n",
      "Time: 264.4981210231781\n",
      "  start diversifying\n"
     ]
    },
    {
     "name": "stderr",
     "output_type": "stream",
     "text": [
      "100%|██████████| 300/300 [00:00<00:00, 543.16it/s]\n"
     ]
    },
    {
     "name": "stdout",
     "output_type": "stream",
     "text": [
      "<module 'random' from '/usr/lib/python3.8/random.py'>\n"
     ]
    },
    {
     "name": "stderr",
     "output_type": "stream",
     "text": [
      "100%|██████████| 200/200 [00:00<00:00, 2767.04it/s]\n"
     ]
    },
    {
     "name": "stdout",
     "output_type": "stream",
     "text": [
      "New diverisity:    0.139228232292354\n"
     ]
    },
    {
     "name": "stderr",
     "output_type": "stream",
     "text": [
      "100%|██████████| 3/3 [00:00<00:00, 2334.93it/s]\n",
      "100%|██████████| 200/200 [00:00<00:00, 238.27it/s]\n"
     ]
    },
    {
     "name": "stdout",
     "output_type": "stream",
     "text": [
      "(200, 2)\n",
      "165\n",
      " Mean Objectives : 28377.175420023486\n",
      " Best Objectives : 27799.889141119853\n",
      " diversity         : 0.17941960902147128\n",
      "Time: 266.0142879486084\n",
      "  start diversifying\n"
     ]
    },
    {
     "name": "stderr",
     "output_type": "stream",
     "text": [
      "100%|██████████| 300/300 [00:00<00:00, 538.88it/s]\n"
     ]
    },
    {
     "name": "stdout",
     "output_type": "stream",
     "text": [
      "<module 'random' from '/usr/lib/python3.8/random.py'>\n"
     ]
    },
    {
     "name": "stderr",
     "output_type": "stream",
     "text": [
      "100%|██████████| 200/200 [00:00<00:00, 2524.58it/s]\n"
     ]
    },
    {
     "name": "stdout",
     "output_type": "stream",
     "text": [
      "New diverisity:    0.14390698528962764\n"
     ]
    },
    {
     "name": "stderr",
     "output_type": "stream",
     "text": [
      "100%|██████████| 300/300 [00:00<00:00, 590.23it/s]\n"
     ]
    },
    {
     "name": "stdout",
     "output_type": "stream",
     "text": [
      "<module 'random' from '/usr/lib/python3.8/random.py'>\n"
     ]
    },
    {
     "name": "stderr",
     "output_type": "stream",
     "text": [
      "100%|██████████| 200/200 [00:00<00:00, 2787.76it/s]\n"
     ]
    },
    {
     "name": "stdout",
     "output_type": "stream",
     "text": [
      "New diverisity:    0.12748999251804063\n"
     ]
    },
    {
     "name": "stderr",
     "output_type": "stream",
     "text": [
      "100%|██████████| 3/3 [00:00<00:00, 2386.74it/s]\n",
      "100%|██████████| 200/200 [00:00<00:00, 302.89it/s]\n"
     ]
    },
    {
     "name": "stdout",
     "output_type": "stream",
     "text": [
      "(200, 2)\n",
      "166\n",
      " Mean Objectives : 27888.852042416744\n",
      " Best Objectives : 27441.53106393432\n",
      " diversity         : 0.1763955823664816\n",
      "Time: 267.9588804244995\n",
      "  start diversifying\n"
     ]
    },
    {
     "name": "stderr",
     "output_type": "stream",
     "text": [
      "100%|██████████| 300/300 [00:00<00:00, 666.49it/s]\n"
     ]
    },
    {
     "name": "stdout",
     "output_type": "stream",
     "text": [
      "<module 'random' from '/usr/lib/python3.8/random.py'>\n"
     ]
    },
    {
     "name": "stderr",
     "output_type": "stream",
     "text": [
      "100%|██████████| 200/200 [00:00<00:00, 2803.27it/s]\n"
     ]
    },
    {
     "name": "stdout",
     "output_type": "stream",
     "text": [
      "New diverisity:    0.14374270694942082\n"
     ]
    },
    {
     "name": "stderr",
     "output_type": "stream",
     "text": [
      "100%|██████████| 300/300 [00:00<00:00, 673.39it/s]\n"
     ]
    },
    {
     "name": "stdout",
     "output_type": "stream",
     "text": [
      "<module 'random' from '/usr/lib/python3.8/random.py'>\n"
     ]
    },
    {
     "name": "stderr",
     "output_type": "stream",
     "text": [
      "100%|██████████| 200/200 [00:00<00:00, 2765.61it/s]\n"
     ]
    },
    {
     "name": "stdout",
     "output_type": "stream",
     "text": [
      "New diverisity:    0.1300278023595764\n"
     ]
    },
    {
     "name": "stderr",
     "output_type": "stream",
     "text": [
      "100%|██████████| 3/3 [00:00<00:00, 2120.48it/s]\n",
      "100%|██████████| 200/200 [00:00<00:00, 352.30it/s]\n"
     ]
    },
    {
     "name": "stdout",
     "output_type": "stream",
     "text": [
      "(200, 2)\n",
      "167\n",
      " Mean Objectives : 27679.389185474574\n",
      " Best Objectives : 27154.48839924464\n",
      " diversity         : 0.18014184894281038\n",
      "Time: 269.6309359073639\n",
      "  start diversifying\n"
     ]
    },
    {
     "name": "stderr",
     "output_type": "stream",
     "text": [
      "100%|██████████| 300/300 [00:00<00:00, 635.82it/s]\n"
     ]
    },
    {
     "name": "stdout",
     "output_type": "stream",
     "text": [
      "<module 'random' from '/usr/lib/python3.8/random.py'>\n"
     ]
    },
    {
     "name": "stderr",
     "output_type": "stream",
     "text": [
      "100%|██████████| 200/200 [00:00<00:00, 2391.01it/s]\n"
     ]
    },
    {
     "name": "stdout",
     "output_type": "stream",
     "text": [
      "New diverisity:    0.13882999964773948\n"
     ]
    },
    {
     "name": "stderr",
     "output_type": "stream",
     "text": [
      "100%|██████████| 3/3 [00:00<00:00, 745.12it/s]\n",
      "100%|██████████| 200/200 [00:00<00:00, 276.58it/s]\n"
     ]
    },
    {
     "name": "stdout",
     "output_type": "stream",
     "text": [
      "(200, 2)\n",
      "168\n",
      " Mean Objectives : 27441.53106393421\n",
      " Best Objectives : 27441.53106393431\n",
      " diversity         : 0.1824656076596269\n",
      "Time: 270.95671033859253\n",
      "  start diversifying\n"
     ]
    },
    {
     "name": "stderr",
     "output_type": "stream",
     "text": [
      "100%|██████████| 300/300 [00:00<00:00, 544.78it/s]\n"
     ]
    },
    {
     "name": "stdout",
     "output_type": "stream",
     "text": [
      "<module 'random' from '/usr/lib/python3.8/random.py'>\n"
     ]
    },
    {
     "name": "stderr",
     "output_type": "stream",
     "text": [
      "100%|██████████| 200/200 [00:00<00:00, 2765.54it/s]\n"
     ]
    },
    {
     "name": "stdout",
     "output_type": "stream",
     "text": [
      "New diverisity:    0.1448094246102577\n"
     ]
    },
    {
     "name": "stderr",
     "output_type": "stream",
     "text": [
      "100%|██████████| 300/300 [00:00<00:00, 669.81it/s]\n"
     ]
    },
    {
     "name": "stdout",
     "output_type": "stream",
     "text": [
      "<module 'random' from '/usr/lib/python3.8/random.py'>\n"
     ]
    },
    {
     "name": "stderr",
     "output_type": "stream",
     "text": [
      "100%|██████████| 200/200 [00:00<00:00, 2787.73it/s]\n"
     ]
    },
    {
     "name": "stdout",
     "output_type": "stream",
     "text": [
      "New diverisity:    0.12607425394105493\n"
     ]
    },
    {
     "name": "stderr",
     "output_type": "stream",
     "text": [
      "100%|██████████| 3/3 [00:00<00:00, 1821.23it/s]\n",
      "100%|██████████| 200/200 [00:00<00:00, 266.74it/s]\n"
     ]
    },
    {
     "name": "stdout",
     "output_type": "stream",
     "text": [
      "(200, 2)\n",
      "169\n",
      " Mean Objectives : 27759.778026895867\n",
      " Best Objectives : 27441.53106393431\n",
      " diversity         : 0.17935645747130072\n",
      "Time: 272.91483902931213\n",
      "  start diversifying\n"
     ]
    },
    {
     "name": "stderr",
     "output_type": "stream",
     "text": [
      "100%|██████████| 300/300 [00:00<00:00, 647.12it/s]\n"
     ]
    },
    {
     "name": "stdout",
     "output_type": "stream",
     "text": [
      "<module 'random' from '/usr/lib/python3.8/random.py'>\n"
     ]
    },
    {
     "name": "stderr",
     "output_type": "stream",
     "text": [
      "100%|██████████| 200/200 [00:00<00:00, 2453.30it/s]\n"
     ]
    },
    {
     "name": "stdout",
     "output_type": "stream",
     "text": [
      "New diverisity:    0.14385571868170963\n"
     ]
    },
    {
     "name": "stderr",
     "output_type": "stream",
     "text": [
      "100%|██████████| 300/300 [00:00<00:00, 529.39it/s]\n"
     ]
    },
    {
     "name": "stdout",
     "output_type": "stream",
     "text": [
      "<module 'random' from '/usr/lib/python3.8/random.py'>\n"
     ]
    },
    {
     "name": "stderr",
     "output_type": "stream",
     "text": [
      "100%|██████████| 200/200 [00:00<00:00, 2676.38it/s]\n"
     ]
    },
    {
     "name": "stdout",
     "output_type": "stream",
     "text": [
      "New diverisity:    0.13319547433465306\n"
     ]
    },
    {
     "name": "stderr",
     "output_type": "stream",
     "text": [
      "100%|██████████| 3/3 [00:00<00:00, 1669.71it/s]\n",
      "100%|██████████| 200/200 [00:01<00:00, 199.70it/s]\n"
     ]
    },
    {
     "name": "stdout",
     "output_type": "stream",
     "text": [
      "(200, 2)\n",
      "170\n",
      " Mean Objectives : 27746.720650462656\n",
      " Best Objectives : 27441.53106393431\n",
      " diversity         : 0.1790387649122956\n",
      "Time: 275.189572095871\n",
      "  start diversifying\n"
     ]
    },
    {
     "name": "stderr",
     "output_type": "stream",
     "text": [
      "100%|██████████| 300/300 [00:00<00:00, 543.47it/s]\n"
     ]
    },
    {
     "name": "stdout",
     "output_type": "stream",
     "text": [
      "<module 'random' from '/usr/lib/python3.8/random.py'>\n"
     ]
    },
    {
     "name": "stderr",
     "output_type": "stream",
     "text": [
      "100%|██████████| 200/200 [00:00<00:00, 2750.07it/s]\n"
     ]
    },
    {
     "name": "stdout",
     "output_type": "stream",
     "text": [
      "New diverisity:    0.13461454098757755\n"
     ]
    },
    {
     "name": "stderr",
     "output_type": "stream",
     "text": [
      "100%|██████████| 3/3 [00:00<00:00, 2383.58it/s]\n",
      "100%|██████████| 200/200 [00:00<00:00, 273.56it/s]\n"
     ]
    },
    {
     "name": "stdout",
     "output_type": "stream",
     "text": [
      "(200, 2)\n",
      "171\n",
      " Mean Objectives : 27609.89987462002\n",
      " Best Objectives : 27441.53106393431\n",
      " diversity         : 0.1801342022995057\n",
      "Time: 276.59099674224854\n",
      "  start diversifying\n"
     ]
    },
    {
     "name": "stderr",
     "output_type": "stream",
     "text": [
      "100%|██████████| 300/300 [00:00<00:00, 586.14it/s]\n"
     ]
    },
    {
     "name": "stdout",
     "output_type": "stream",
     "text": [
      "<module 'random' from '/usr/lib/python3.8/random.py'>\n"
     ]
    },
    {
     "name": "stderr",
     "output_type": "stream",
     "text": [
      "100%|██████████| 200/200 [00:00<00:00, 2493.54it/s]\n"
     ]
    },
    {
     "name": "stdout",
     "output_type": "stream",
     "text": [
      "New diverisity:    0.14394419770830483\n"
     ]
    },
    {
     "name": "stderr",
     "output_type": "stream",
     "text": [
      "100%|██████████| 300/300 [00:00<00:00, 498.11it/s]\n"
     ]
    },
    {
     "name": "stdout",
     "output_type": "stream",
     "text": [
      "<module 'random' from '/usr/lib/python3.8/random.py'>\n"
     ]
    },
    {
     "name": "stderr",
     "output_type": "stream",
     "text": [
      "100%|██████████| 200/200 [00:00<00:00, 2660.16it/s]\n"
     ]
    },
    {
     "name": "stdout",
     "output_type": "stream",
     "text": [
      "New diverisity:    0.1288557638149364\n"
     ]
    },
    {
     "name": "stderr",
     "output_type": "stream",
     "text": [
      "100%|██████████| 3/3 [00:00<00:00, 2181.13it/s]\n",
      "100%|██████████| 200/200 [00:00<00:00, 290.37it/s]\n"
     ]
    },
    {
     "name": "stdout",
     "output_type": "stream",
     "text": [
      "(200, 2)\n",
      "172\n",
      " Mean Objectives : 27662.6450531342\n",
      " Best Objectives : 27441.53106393431\n",
      " diversity         : 0.1798132720001568\n",
      "Time: 278.62393856048584\n",
      "  start diversifying\n"
     ]
    },
    {
     "name": "stderr",
     "output_type": "stream",
     "text": [
      "100%|██████████| 300/300 [00:00<00:00, 554.04it/s]\n"
     ]
    },
    {
     "name": "stdout",
     "output_type": "stream",
     "text": [
      "<module 'random' from '/usr/lib/python3.8/random.py'>\n"
     ]
    },
    {
     "name": "stderr",
     "output_type": "stream",
     "text": [
      "100%|██████████| 200/200 [00:00<00:00, 2621.61it/s]\n"
     ]
    },
    {
     "name": "stdout",
     "output_type": "stream",
     "text": [
      "New diverisity:    0.14853863581698443\n"
     ]
    },
    {
     "name": "stderr",
     "output_type": "stream",
     "text": [
      "100%|██████████| 300/300 [00:00<00:00, 583.04it/s]\n"
     ]
    },
    {
     "name": "stdout",
     "output_type": "stream",
     "text": [
      "<module 'random' from '/usr/lib/python3.8/random.py'>\n"
     ]
    },
    {
     "name": "stderr",
     "output_type": "stream",
     "text": [
      "100%|██████████| 200/200 [00:00<00:00, 2576.30it/s]\n"
     ]
    },
    {
     "name": "stdout",
     "output_type": "stream",
     "text": [
      "New diverisity:    0.12592291810928066\n"
     ]
    },
    {
     "name": "stderr",
     "output_type": "stream",
     "text": [
      "100%|██████████| 3/3 [00:00<00:00, 1929.01it/s]\n",
      "100%|██████████| 200/200 [00:00<00:00, 265.19it/s]\n"
     ]
    },
    {
     "name": "stdout",
     "output_type": "stream",
     "text": [
      "(200, 2)\n",
      "173\n",
      " Mean Objectives : 27684.604415623824\n",
      " Best Objectives : 27441.53106393431\n",
      " diversity         : 0.17936206931981344\n",
      "Time: 280.6556189060211\n",
      "  start diversifying\n"
     ]
    },
    {
     "name": "stderr",
     "output_type": "stream",
     "text": [
      "100%|██████████| 300/300 [00:00<00:00, 480.60it/s]\n"
     ]
    },
    {
     "name": "stdout",
     "output_type": "stream",
     "text": [
      "<module 'random' from '/usr/lib/python3.8/random.py'>\n"
     ]
    },
    {
     "name": "stderr",
     "output_type": "stream",
     "text": [
      "100%|██████████| 200/200 [00:00<00:00, 2680.22it/s]\n"
     ]
    },
    {
     "name": "stdout",
     "output_type": "stream",
     "text": [
      "New diverisity:    0.1479729509391579\n"
     ]
    },
    {
     "name": "stderr",
     "output_type": "stream",
     "text": [
      "100%|██████████| 300/300 [00:00<00:00, 530.05it/s]\n"
     ]
    },
    {
     "name": "stdout",
     "output_type": "stream",
     "text": [
      "<module 'random' from '/usr/lib/python3.8/random.py'>\n"
     ]
    },
    {
     "name": "stderr",
     "output_type": "stream",
     "text": [
      "100%|██████████| 200/200 [00:00<00:00, 2347.72it/s]\n"
     ]
    },
    {
     "name": "stdout",
     "output_type": "stream",
     "text": [
      "New diverisity:    0.13231234835474778\n"
     ]
    },
    {
     "name": "stderr",
     "output_type": "stream",
     "text": [
      "100%|██████████| 3/3 [00:00<00:00, 2361.21it/s]\n",
      "100%|██████████| 200/200 [00:00<00:00, 248.28it/s]\n"
     ]
    },
    {
     "name": "stdout",
     "output_type": "stream",
     "text": [
      "(200, 2)\n",
      "174\n",
      " Mean Objectives : 27691.713856886923\n",
      " Best Objectives : 27441.53106393431\n",
      " diversity         : 0.17975112091368572\n",
      "Time: 282.8872525691986\n",
      "  start diversifying\n"
     ]
    },
    {
     "name": "stderr",
     "output_type": "stream",
     "text": [
      "100%|██████████| 300/300 [00:00<00:00, 539.06it/s]\n"
     ]
    },
    {
     "name": "stdout",
     "output_type": "stream",
     "text": [
      "<module 'random' from '/usr/lib/python3.8/random.py'>\n"
     ]
    },
    {
     "name": "stderr",
     "output_type": "stream",
     "text": [
      "100%|██████████| 200/200 [00:00<00:00, 2793.83it/s]\n"
     ]
    },
    {
     "name": "stdout",
     "output_type": "stream",
     "text": [
      "New diverisity:    0.1442787650769616\n"
     ]
    },
    {
     "name": "stderr",
     "output_type": "stream",
     "text": [
      "100%|██████████| 300/300 [00:00<00:00, 580.90it/s]\n"
     ]
    },
    {
     "name": "stdout",
     "output_type": "stream",
     "text": [
      "<module 'random' from '/usr/lib/python3.8/random.py'>\n"
     ]
    },
    {
     "name": "stderr",
     "output_type": "stream",
     "text": [
      "100%|██████████| 200/200 [00:00<00:00, 2493.81it/s]\n"
     ]
    },
    {
     "name": "stdout",
     "output_type": "stream",
     "text": [
      "New diverisity:    0.13142255344793125\n"
     ]
    },
    {
     "name": "stderr",
     "output_type": "stream",
     "text": [
      "100%|██████████| 3/3 [00:00<00:00, 1905.92it/s]\n",
      "100%|██████████| 200/200 [00:00<00:00, 290.21it/s]\n"
     ]
    },
    {
     "name": "stdout",
     "output_type": "stream",
     "text": [
      "(200, 2)\n",
      "175\n",
      " Mean Objectives : 27621.95521486472\n",
      " Best Objectives : 27441.53106393431\n",
      " diversity         : 0.18032579866356968\n",
      "Time: 284.88055896759033\n",
      "  start diversifying\n"
     ]
    },
    {
     "name": "stderr",
     "output_type": "stream",
     "text": [
      "100%|██████████| 300/300 [00:00<00:00, 529.49it/s]\n"
     ]
    },
    {
     "name": "stdout",
     "output_type": "stream",
     "text": [
      "<module 'random' from '/usr/lib/python3.8/random.py'>\n"
     ]
    },
    {
     "name": "stderr",
     "output_type": "stream",
     "text": [
      "100%|██████████| 200/200 [00:00<00:00, 2676.76it/s]\n"
     ]
    },
    {
     "name": "stdout",
     "output_type": "stream",
     "text": [
      "New diverisity:    0.14170773827584374\n"
     ]
    },
    {
     "name": "stderr",
     "output_type": "stream",
     "text": [
      "100%|██████████| 3/3 [00:00<00:00, 867.79it/s]\n",
      "100%|██████████| 200/200 [00:00<00:00, 246.77it/s]\n"
     ]
    },
    {
     "name": "stdout",
     "output_type": "stream",
     "text": [
      "(200, 2)\n",
      "176\n",
      " Mean Objectives : 27687.844330382937\n",
      " Best Objectives : 27441.53106393431\n",
      " diversity         : 0.17974511678426175\n",
      "Time: 286.37954354286194\n",
      "  start diversifying\n"
     ]
    },
    {
     "name": "stderr",
     "output_type": "stream",
     "text": [
      "100%|██████████| 300/300 [00:00<00:00, 583.36it/s]\n"
     ]
    },
    {
     "name": "stdout",
     "output_type": "stream",
     "text": [
      "<module 'random' from '/usr/lib/python3.8/random.py'>\n"
     ]
    },
    {
     "name": "stderr",
     "output_type": "stream",
     "text": [
      "100%|██████████| 200/200 [00:00<00:00, 2752.50it/s]\n"
     ]
    },
    {
     "name": "stdout",
     "output_type": "stream",
     "text": [
      "New diverisity:    0.14705916112497586\n"
     ]
    },
    {
     "name": "stderr",
     "output_type": "stream",
     "text": [
      "100%|██████████| 300/300 [00:00<00:00, 564.42it/s]\n"
     ]
    },
    {
     "name": "stdout",
     "output_type": "stream",
     "text": [
      "<module 'random' from '/usr/lib/python3.8/random.py'>\n"
     ]
    },
    {
     "name": "stderr",
     "output_type": "stream",
     "text": [
      "100%|██████████| 200/200 [00:00<00:00, 2551.50it/s]\n"
     ]
    },
    {
     "name": "stdout",
     "output_type": "stream",
     "text": [
      "New diverisity:    0.13307162010984833\n"
     ]
    },
    {
     "name": "stderr",
     "output_type": "stream",
     "text": [
      "100%|██████████| 3/3 [00:00<00:00, 2417.00it/s]\n",
      "100%|██████████| 200/200 [00:00<00:00, 252.98it/s]\n"
     ]
    },
    {
     "name": "stdout",
     "output_type": "stream",
     "text": [
      "(200, 2)\n",
      "177\n",
      " Mean Objectives : 27659.623436831185\n",
      " Best Objectives : 27441.53106393431\n",
      " diversity         : 0.18003886919024248\n",
      "Time: 288.4334363937378\n",
      "  start diversifying\n"
     ]
    },
    {
     "name": "stderr",
     "output_type": "stream",
     "text": [
      "100%|██████████| 300/300 [00:00<00:00, 500.78it/s]\n"
     ]
    },
    {
     "name": "stdout",
     "output_type": "stream",
     "text": [
      "<module 'random' from '/usr/lib/python3.8/random.py'>\n"
     ]
    },
    {
     "name": "stderr",
     "output_type": "stream",
     "text": [
      "100%|██████████| 200/200 [00:00<00:00, 2763.35it/s]\n"
     ]
    },
    {
     "name": "stdout",
     "output_type": "stream",
     "text": [
      "New diverisity:    0.14288939831519176\n"
     ]
    },
    {
     "name": "stderr",
     "output_type": "stream",
     "text": [
      "100%|██████████| 300/300 [00:00<00:00, 673.82it/s]\n"
     ]
    },
    {
     "name": "stdout",
     "output_type": "stream",
     "text": [
      "<module 'random' from '/usr/lib/python3.8/random.py'>\n"
     ]
    },
    {
     "name": "stderr",
     "output_type": "stream",
     "text": [
      "100%|██████████| 200/200 [00:00<00:00, 2706.86it/s]\n"
     ]
    },
    {
     "name": "stdout",
     "output_type": "stream",
     "text": [
      "New diverisity:    0.1285633822455621\n"
     ]
    },
    {
     "name": "stderr",
     "output_type": "stream",
     "text": [
      "100%|██████████| 3/3 [00:00<00:00, 2096.10it/s]\n",
      "100%|██████████| 200/200 [00:00<00:00, 285.70it/s]\n"
     ]
    },
    {
     "name": "stdout",
     "output_type": "stream",
     "text": [
      "(200, 2)\n",
      "178\n",
      " Mean Objectives : 27721.990739644607\n",
      " Best Objectives : 27441.53106393431\n",
      " diversity         : 0.17939323456936002\n",
      "Time: 290.3911576271057\n",
      "  start diversifying\n"
     ]
    },
    {
     "name": "stderr",
     "output_type": "stream",
     "text": [
      "100%|██████████| 300/300 [00:00<00:00, 673.96it/s]\n"
     ]
    },
    {
     "name": "stdout",
     "output_type": "stream",
     "text": [
      "<module 'random' from '/usr/lib/python3.8/random.py'>\n"
     ]
    },
    {
     "name": "stderr",
     "output_type": "stream",
     "text": [
      "100%|██████████| 200/200 [00:00<00:00, 2680.59it/s]\n"
     ]
    },
    {
     "name": "stdout",
     "output_type": "stream",
     "text": [
      "New diverisity:    0.14698963529682532\n"
     ]
    },
    {
     "name": "stderr",
     "output_type": "stream",
     "text": [
      "100%|██████████| 300/300 [00:00<00:00, 667.47it/s]\n"
     ]
    },
    {
     "name": "stdout",
     "output_type": "stream",
     "text": [
      "<module 'random' from '/usr/lib/python3.8/random.py'>\n"
     ]
    },
    {
     "name": "stderr",
     "output_type": "stream",
     "text": [
      "100%|██████████| 200/200 [00:00<00:00, 2752.46it/s]\n"
     ]
    },
    {
     "name": "stdout",
     "output_type": "stream",
     "text": [
      "New diverisity:    0.124337185537374\n"
     ]
    },
    {
     "name": "stderr",
     "output_type": "stream",
     "text": [
      "100%|██████████| 3/3 [00:00<00:00, 2410.98it/s]\n",
      "100%|██████████| 200/200 [00:00<00:00, 246.35it/s]\n"
     ]
    },
    {
     "name": "stdout",
     "output_type": "stream",
     "text": [
      "(200, 2)\n",
      "179\n",
      " Mean Objectives : 27745.43684000014\n",
      " Best Objectives : 27154.488399244645\n",
      " diversity         : 0.17913768845987013\n",
      "Time: 292.3163285255432\n",
      "  start diversifying\n"
     ]
    },
    {
     "name": "stderr",
     "output_type": "stream",
     "text": [
      "100%|██████████| 300/300 [00:00<00:00, 530.35it/s]\n"
     ]
    },
    {
     "name": "stdout",
     "output_type": "stream",
     "text": [
      "<module 'random' from '/usr/lib/python3.8/random.py'>\n"
     ]
    },
    {
     "name": "stderr",
     "output_type": "stream",
     "text": [
      "100%|██████████| 200/200 [00:00<00:00, 2700.80it/s]\n"
     ]
    },
    {
     "name": "stdout",
     "output_type": "stream",
     "text": [
      "New diverisity:    0.14302602438003476\n"
     ]
    },
    {
     "name": "stderr",
     "output_type": "stream",
     "text": [
      "100%|██████████| 300/300 [00:00<00:00, 533.05it/s]\n"
     ]
    },
    {
     "name": "stdout",
     "output_type": "stream",
     "text": [
      "<module 'random' from '/usr/lib/python3.8/random.py'>\n"
     ]
    },
    {
     "name": "stderr",
     "output_type": "stream",
     "text": [
      "100%|██████████| 200/200 [00:00<00:00, 2258.69it/s]\n"
     ]
    },
    {
     "name": "stdout",
     "output_type": "stream",
     "text": [
      "New diverisity:    0.13459894288131274\n"
     ]
    },
    {
     "name": "stderr",
     "output_type": "stream",
     "text": [
      "100%|██████████| 3/3 [00:00<00:00, 2072.28it/s]\n",
      "100%|██████████| 200/200 [00:00<00:00, 273.63it/s]\n"
     ]
    },
    {
     "name": "stdout",
     "output_type": "stream",
     "text": [
      "(200, 2)\n",
      "180\n",
      " Mean Objectives : 27751.687602932383\n",
      " Best Objectives : 27441.53106393431\n",
      " diversity         : 0.17926181435295924\n",
      "Time: 294.4122679233551\n",
      "  start diversifying\n"
     ]
    },
    {
     "name": "stderr",
     "output_type": "stream",
     "text": [
      "100%|██████████| 300/300 [00:00<00:00, 538.67it/s]\n"
     ]
    },
    {
     "name": "stdout",
     "output_type": "stream",
     "text": [
      "<module 'random' from '/usr/lib/python3.8/random.py'>\n"
     ]
    },
    {
     "name": "stderr",
     "output_type": "stream",
     "text": [
      "100%|██████████| 200/200 [00:00<00:00, 2789.02it/s]\n"
     ]
    },
    {
     "name": "stdout",
     "output_type": "stream",
     "text": [
      "New diverisity:    0.1427870387993865\n"
     ]
    },
    {
     "name": "stderr",
     "output_type": "stream",
     "text": [
      "100%|██████████| 300/300 [00:00<00:00, 661.91it/s]\n"
     ]
    },
    {
     "name": "stdout",
     "output_type": "stream",
     "text": [
      "<module 'random' from '/usr/lib/python3.8/random.py'>\n"
     ]
    },
    {
     "name": "stderr",
     "output_type": "stream",
     "text": [
      "100%|██████████| 200/200 [00:00<00:00, 2741.39it/s]\n"
     ]
    },
    {
     "name": "stdout",
     "output_type": "stream",
     "text": [
      "New diverisity:    0.12478364416798013\n"
     ]
    },
    {
     "name": "stderr",
     "output_type": "stream",
     "text": [
      "100%|██████████| 3/3 [00:00<00:00, 2240.15it/s]\n",
      "100%|██████████| 200/200 [00:00<00:00, 265.50it/s]\n"
     ]
    },
    {
     "name": "stdout",
     "output_type": "stream",
     "text": [
      "(200, 2)\n",
      "181\n",
      " Mean Objectives : 27746.247541461955\n",
      " Best Objectives : 27441.53106393431\n",
      " diversity         : 0.1788088968840762\n",
      "Time: 296.3871965408325\n",
      "  start diversifying\n"
     ]
    },
    {
     "name": "stderr",
     "output_type": "stream",
     "text": [
      "100%|██████████| 300/300 [00:00<00:00, 547.49it/s]\n"
     ]
    },
    {
     "name": "stdout",
     "output_type": "stream",
     "text": [
      "<module 'random' from '/usr/lib/python3.8/random.py'>\n"
     ]
    },
    {
     "name": "stderr",
     "output_type": "stream",
     "text": [
      "100%|██████████| 200/200 [00:00<00:00, 2671.76it/s]\n"
     ]
    },
    {
     "name": "stdout",
     "output_type": "stream",
     "text": [
      "New diverisity:    0.14092432654226442\n"
     ]
    },
    {
     "name": "stderr",
     "output_type": "stream",
     "text": [
      "100%|██████████| 3/3 [00:00<00:00, 2456.16it/s]\n",
      "100%|██████████| 200/200 [00:00<00:00, 253.34it/s]\n"
     ]
    },
    {
     "name": "stdout",
     "output_type": "stream",
     "text": [
      "(200, 2)\n",
      "182\n",
      " Mean Objectives : 27517.07187090314\n",
      " Best Objectives : 27154.48839924464\n",
      " diversity         : 0.17696636270659646\n",
      "Time: 297.8446452617645\n",
      "  start diversifying\n"
     ]
    },
    {
     "name": "stderr",
     "output_type": "stream",
     "text": [
      "100%|██████████| 300/300 [00:00<00:00, 675.99it/s]\n"
     ]
    },
    {
     "name": "stdout",
     "output_type": "stream",
     "text": [
      "<module 'random' from '/usr/lib/python3.8/random.py'>\n"
     ]
    },
    {
     "name": "stderr",
     "output_type": "stream",
     "text": [
      "100%|██████████| 200/200 [00:00<00:00, 2732.06it/s]\n"
     ]
    },
    {
     "name": "stdout",
     "output_type": "stream",
     "text": [
      "New diverisity:    0.1473443723116543\n"
     ]
    },
    {
     "name": "stderr",
     "output_type": "stream",
     "text": [
      "100%|██████████| 300/300 [00:00<00:00, 585.61it/s]\n"
     ]
    },
    {
     "name": "stdout",
     "output_type": "stream",
     "text": [
      "<module 'random' from '/usr/lib/python3.8/random.py'>\n"
     ]
    },
    {
     "name": "stderr",
     "output_type": "stream",
     "text": [
      "100%|██████████| 200/200 [00:00<00:00, 2118.17it/s]\n"
     ]
    },
    {
     "name": "stdout",
     "output_type": "stream",
     "text": [
      "New diverisity:    0.12389984124327409\n"
     ]
    },
    {
     "name": "stderr",
     "output_type": "stream",
     "text": [
      "100%|██████████| 3/3 [00:00<00:00, 1206.18it/s]\n",
      "100%|██████████| 200/200 [00:00<00:00, 247.51it/s]\n"
     ]
    },
    {
     "name": "stdout",
     "output_type": "stream",
     "text": [
      "(200, 2)\n",
      "183\n",
      " Mean Objectives : 27595.40738647085\n",
      " Best Objectives : 27154.48839924464\n",
      " diversity         : 0.17484210989094048\n",
      "Time: 299.8469853401184\n",
      "  start diversifying\n"
     ]
    },
    {
     "name": "stderr",
     "output_type": "stream",
     "text": [
      "100%|██████████| 300/300 [00:00<00:00, 532.69it/s]\n"
     ]
    },
    {
     "name": "stdout",
     "output_type": "stream",
     "text": [
      "<module 'random' from '/usr/lib/python3.8/random.py'>\n"
     ]
    },
    {
     "name": "stderr",
     "output_type": "stream",
     "text": [
      "100%|██████████| 200/200 [00:00<00:00, 2660.55it/s]\n"
     ]
    },
    {
     "name": "stdout",
     "output_type": "stream",
     "text": [
      "New diverisity:    0.14383057947360697\n"
     ]
    },
    {
     "name": "stderr",
     "output_type": "stream",
     "text": [
      "100%|██████████| 300/300 [00:00<00:00, 540.29it/s]\n"
     ]
    },
    {
     "name": "stdout",
     "output_type": "stream",
     "text": [
      "<module 'random' from '/usr/lib/python3.8/random.py'>\n"
     ]
    },
    {
     "name": "stderr",
     "output_type": "stream",
     "text": [
      "100%|██████████| 200/200 [00:00<00:00, 2436.20it/s]\n"
     ]
    },
    {
     "name": "stdout",
     "output_type": "stream",
     "text": [
      "New diverisity:    0.1260977749484378\n"
     ]
    },
    {
     "data": {
      "image/png": "[encoded data removed]",
      "text/plain": [
       "<Figure size 432x288 with 1 Axes>"
      ]
     },
     "metadata": {
      "needs_background": "light"
     },
     "output_type": "display_data"
    }
   ],
   "source": [
    "algo = r0733300()\n",
    "\n",
    "algo.LAMBDA = 200  # Lambda represents the size of population\n",
    "algo.MU = 200 # Mu represents the size of offsprings\n",
    "algo.distanceMatrix = []  # distanceMatrix saves the cost between each two places\n",
    "algo.K_TOURNAMENT_SIZE = 20  # this is the size of selection\n",
    "algo.K_TOURNAMENT_SIZE_elimination = 20  # this is the size of selection\n",
    "algo.alpha = 0.05  # alpha is the mutation rate\n",
    "algo.iteration = 0  # iteration number\n",
    "algo.converge = 0.018  # difference between mean and best evalue. If (mean- best)/best < converge, it converges.\n",
    "algo.rank = 50\n",
    "algo.rank_list = []\n",
    "algo.s = 0.99999\n",
    "algo.lsp_size = 1\n",
    "algo.selectiveIni = 10\n",
    "\n",
    "algo.selective_Diversify = 10\n",
    "algo.alphaDiversity = 0.2\n",
    "algo.K_TOURNAMENT_Size_Diversify = 5\n",
    "algo.K_TOURNAMENT_SIZE_elimination_Diversify = 2\n",
    "algo.LAMBDA_Diversify = 300\n",
    "\n",
    "algo.optimizeElitism(\"tour29.csv\", initializaMethod=1)\n",
    "\n"
   ]
  },
  {
   "cell_type": "markdown",
   "metadata": {},
   "source": [
    "## Diversity Main Loop"
   ]
  },
  {
   "cell_type": "code",
   "execution_count": 48,
   "metadata": {},
   "outputs": [],
   "source": [
    "class r0733300(r0733300):\n",
    "    def optimizeDiverisify(self, filename, initializaMethod):\n",
    "        # Read distance matrix from file.\n",
    "        file = open(filename)\n",
    "        distanceMatrix = np.loadtxt(file, delimiter=\",\")\n",
    "        self.distanceMatrix = distanceMatrix\n",
    "        file.close()\n",
    "        if(initializaMethod == 0):\n",
    "            population = self.initialize(self.distanceMatrix, self.LAMBDA)\n",
    "        elif(initializaMethod == 1):\n",
    "            population  = self.selectiveInializationBatch(self.selectiveIni, self.LAMBDA) \n",
    "        elif (initializaMethod ==2):\n",
    "            population = self.greedyInializationBatch(self.distanceMatrix, self.LAMBDA)\n",
    "\n",
    "        population += self.greedyInializationBatch(self.distanceMatrix, 10)\n",
    "\n",
    "        meanFitnesses = []\n",
    "        bestFitnesses = []\n",
    "\n",
    "        meanObjective = np.mean(np.asarray(population)[:,1])\n",
    "        bestObjective = np.min(population,axis=0)[1]\n",
    "        initialDiversity = self.calculateDiveristy(population)\n",
    "\n",
    "        meanFitnesses.append((meanObjective))\n",
    "        bestFitnesses.append(bestObjective)\n",
    "\n",
    "        print(\" Inital Mean Objectives : \" + str(meanObjective))\n",
    "        print(\" Inital Best Objectives : \" + str(bestObjective))\n",
    "        print(\" diversity         : \" + str(self.calculateDiveristy(population)))\n",
    "        \n",
    "        start = time.time()\n",
    "        while (time.time()-start <= 300):\n",
    "            self.iteration += 1\n",
    "\n",
    "            newOffsprings = []\n",
    "\n",
    "\n",
    "            \n",
    "            for i in tqdm(range(self.MU)):\n",
    "            # for i in range(self.MU):\n",
    "                p1 = self.k_tournament_selection(population,self.K_TOURNAMENT_SIZE)\n",
    "                p2 = self.k_tournament_selection(population, self.K_TOURNAMENT_SIZE)\n",
    "                # p1 = population[0]\n",
    "                # p2 = population[1]\n",
    "                while(True ): \n",
    "                    offspring1 = self.orderCrossover(p1, p2)\n",
    "                    offspring2 = self.orderCrossover(p2, p1)\n",
    "                    # offspring1 = self.recominbation_crossover(p1,p2)\n",
    "                    # offspring2 = self.recominbation_crossover(p2, p1)\n",
    "\n",
    "                    offspring1 = self.mutation_swap(offspring1, self.alpha)\n",
    "                    offspring2 = self.mutation_swap(offspring2, self.alpha)\n",
    "\n",
    "                    offspring1 = self.mutation_insert(offspring1, self.alpha)\n",
    "                    offspring2 = self.mutation_insert(offspring2, self.alpha)\n",
    "\n",
    "                    newOffsprings.append(offspring1)\n",
    "                    newOffsprings.append(offspring2)\n",
    "                    \n",
    "                    if(offspring1[1] < min(p1[1], p2[1]) or offspring2[1] <= min(p1[1], p2[1]) or random.random() < self.alpha):\n",
    "                        break\n",
    "\n",
    "            \n",
    "            # for i in population:\n",
    "            #     i = self.mutation_swap(i, self.alpha)\n",
    "            #     i = self.mutation_insert(i, self.alpha)\n",
    "\n",
    "\n",
    "            population += newOffsprings\n",
    "            population= self.eliminate_k_turnament(population,self.K_TOURNAMENT_SIZE_elimination)\n",
    "        \n",
    "            meanObjective = np.mean(np.asarray(population)[:,1])\n",
    "            bestObjective = np.min(population,axis=0)[1]\n",
    "            # bestSolution = population[np.argmin(objectives)]\n",
    "\n",
    "            meanFitnesses.append((meanObjective))\n",
    "            bestFitnesses.append(bestObjective)\n",
    "            diversify = self.calculateDiveristy(population)\n",
    "            \n",
    "            print(self.iteration)\n",
    "            print(\" Mean Objectives : \" + str(meanObjective))\n",
    "            print(\" Best Objectives : \" + str(bestObjective))\n",
    "            print(\" diversity         : \" + str(self.calculateDiveristy(population)))\n",
    "            print(\"Time: \" + str(time.time()-start))\n",
    "            \n",
    "            if(diversify >= 3* initialDiversity):\n",
    "                print(\"  start diversifying\")\n",
    "            while(diversify >= 3 * initialDiversity):\n",
    "                newPopulation = self.selectiveInializationBatch(self.selective_Diversify, self.LAMBDA_Diversify)\n",
    "                newPopulation += self.initialize(self.distanceMatrix,self.LAMBDA_Diversify)\n",
    "                # print(\"new Population\" + str(self.calculateDiveristy(newPopulation)))\n",
    "                \n",
    "                # population += newPopulation\n",
    "                newOffsprings = []\n",
    "                \n",
    "                for i in tqdm(range(self.MU)):\n",
    "                    p1 = self.k_tournament_selection(population,self.K_TOURNAMENT_Size_Diversify)\n",
    "                    p2 = self.k_tournament_selection(newPopulation, self.K_TOURNAMENT_Size_Diversify)\n",
    "                    offspring1 = self.orderCrossover(p1, p2)\n",
    "                    offspring2 = self.orderCrossover(p2, p1)\n",
    "\n",
    "                    offspring1 = self.mutation_swap(offspring1, self.alphaDiversity)\n",
    "                    offspring2 = self.mutation_swap(offspring2, self.alphaDiversity)\n",
    "\n",
    "                    offspring1 = self.mutation_insert(offspring1, self.alphaDiversity)\n",
    "                    offspring2 = self.mutation_insert(offspring2, self.alphaDiversity)\n",
    "\n",
    "                    newOffsprings.append(offspring1)\n",
    "                    newOffsprings.append(offspring2)\n",
    "                \n",
    "                population += newOffsprings\n",
    "                # print(\"population size \" + str(len(population)))\n",
    "                population= self.eliminate_k_turnament(population,self.K_TOURNAMENT_SIZE_elimination_Diversify)\n",
    "                # print(\"population size \" + str(len(population)))\n",
    "                diversify = self.calculateDiveristy(population)\n",
    "                print(\"New diverisity:    \" + str(diversify))\n",
    "\n",
    "\n",
    "        self.plotFitness(meanFitnesses, bestFitnesses)"
   ]
  },
  {
   "cell_type": "markdown",
   "metadata": {},
   "source": [
    "### Diversify Process"
   ]
  },
  {
   "cell_type": "code",
   "execution_count": 50,
   "metadata": {},
   "outputs": [
    {
     "name": "stderr",
     "output_type": "stream",
     "text": [
      "100%|██████████| 200/200 [00:00<00:00, 284.10it/s]\n",
      "100%|██████████| 10/10 [00:00<00:00, 1591.40it/s]\n"
     ]
    },
    {
     "name": "stdout",
     "output_type": "stream",
     "text": [
      " Inital Mean Objectives : 94923.2102559987\n",
      " Inital Best Objectives : 30786.287230082078\n",
      " diversity         : 0.019494986780592014\n"
     ]
    },
    {
     "name": "stderr",
     "output_type": "stream",
     "text": [
      "100%|██████████| 200/200 [00:00<00:00, 213.20it/s]\n"
     ]
    },
    {
     "name": "stdout",
     "output_type": "stream",
     "text": [
      "1\n",
      " Mean Objectives : 33214.8417886739\n",
      " Best Objectives : 29187.38891784588\n",
      " diversity         : 0.1403015364349921\n",
      "Time: 0.954620361328125\n",
      "  start diversifying\n"
     ]
    },
    {
     "name": "stderr",
     "output_type": "stream",
     "text": [
      "100%|██████████| 300/300 [00:01<00:00, 272.98it/s]\n"
     ]
    },
    {
     "name": "stdout",
     "output_type": "stream",
     "text": [
      "<module 'random' from '/usr/lib/python3.8/random.py'>\n"
     ]
    },
    {
     "name": "stderr",
     "output_type": "stream",
     "text": [
      "100%|██████████| 200/200 [00:00<00:00, 2942.70it/s]\n"
     ]
    },
    {
     "name": "stdout",
     "output_type": "stream",
     "text": [
      "New diverisity:    0.11591973305384357\n"
     ]
    },
    {
     "name": "stderr",
     "output_type": "stream",
     "text": [
      "100%|██████████| 300/300 [00:01<00:00, 281.43it/s]\n"
     ]
    },
    {
     "name": "stdout",
     "output_type": "stream",
     "text": [
      "<module 'random' from '/usr/lib/python3.8/random.py'>\n"
     ]
    },
    {
     "name": "stderr",
     "output_type": "stream",
     "text": [
      "100%|██████████| 200/200 [00:00<00:00, 2940.53it/s]\n"
     ]
    },
    {
     "name": "stdout",
     "output_type": "stream",
     "text": [
      "New diverisity:    0.10523623517475661\n"
     ]
    },
    {
     "name": "stderr",
     "output_type": "stream",
     "text": [
      "100%|██████████| 300/300 [00:00<00:00, 318.45it/s]\n"
     ]
    },
    {
     "name": "stdout",
     "output_type": "stream",
     "text": [
      "<module 'random' from '/usr/lib/python3.8/random.py'>\n"
     ]
    },
    {
     "name": "stderr",
     "output_type": "stream",
     "text": [
      "100%|██████████| 200/200 [00:00<00:00, 2810.29it/s]\n"
     ]
    },
    {
     "name": "stdout",
     "output_type": "stream",
     "text": [
      "New diverisity:    0.09572237232666968\n"
     ]
    },
    {
     "name": "stderr",
     "output_type": "stream",
     "text": [
      "100%|██████████| 300/300 [00:01<00:00, 263.03it/s]\n"
     ]
    },
    {
     "name": "stdout",
     "output_type": "stream",
     "text": [
      "<module 'random' from '/usr/lib/python3.8/random.py'>\n"
     ]
    },
    {
     "name": "stderr",
     "output_type": "stream",
     "text": [
      "100%|██████████| 200/200 [00:00<00:00, 2889.14it/s]\n"
     ]
    },
    {
     "name": "stdout",
     "output_type": "stream",
     "text": [
      "New diverisity:    0.08829906417492213\n"
     ]
    },
    {
     "name": "stderr",
     "output_type": "stream",
     "text": [
      "100%|██████████| 300/300 [00:00<00:00, 316.37it/s]\n"
     ]
    },
    {
     "name": "stdout",
     "output_type": "stream",
     "text": [
      "<module 'random' from '/usr/lib/python3.8/random.py'>\n"
     ]
    },
    {
     "name": "stderr",
     "output_type": "stream",
     "text": [
      "100%|██████████| 200/200 [00:00<00:00, 2925.64it/s]\n"
     ]
    },
    {
     "name": "stdout",
     "output_type": "stream",
     "text": [
      "New diverisity:    0.08056330909792965\n"
     ]
    },
    {
     "name": "stderr",
     "output_type": "stream",
     "text": [
      "100%|██████████| 300/300 [00:00<00:00, 319.52it/s]\n"
     ]
    },
    {
     "name": "stdout",
     "output_type": "stream",
     "text": [
      "<module 'random' from '/usr/lib/python3.8/random.py'>\n"
     ]
    },
    {
     "name": "stderr",
     "output_type": "stream",
     "text": [
      "100%|██████████| 200/200 [00:00<00:00, 2905.98it/s]\n"
     ]
    },
    {
     "name": "stdout",
     "output_type": "stream",
     "text": [
      "New diverisity:    0.08300136258861199\n"
     ]
    },
    {
     "name": "stderr",
     "output_type": "stream",
     "text": [
      "100%|██████████| 300/300 [00:01<00:00, 260.42it/s]\n"
     ]
    },
    {
     "name": "stdout",
     "output_type": "stream",
     "text": [
      "<module 'random' from '/usr/lib/python3.8/random.py'>\n"
     ]
    },
    {
     "name": "stderr",
     "output_type": "stream",
     "text": [
      "100%|██████████| 200/200 [00:00<00:00, 2847.61it/s]\n"
     ]
    },
    {
     "name": "stdout",
     "output_type": "stream",
     "text": [
      "New diverisity:    0.07993229501464974\n"
     ]
    },
    {
     "name": "stderr",
     "output_type": "stream",
     "text": [
      "100%|██████████| 300/300 [00:00<00:00, 302.45it/s]\n"
     ]
    },
    {
     "name": "stdout",
     "output_type": "stream",
     "text": [
      "<module 'random' from '/usr/lib/python3.8/random.py'>\n"
     ]
    },
    {
     "name": "stderr",
     "output_type": "stream",
     "text": [
      "100%|██████████| 200/200 [00:00<00:00, 2897.44it/s]\n"
     ]
    },
    {
     "name": "stdout",
     "output_type": "stream",
     "text": [
      "New diverisity:    0.07673894096531048\n"
     ]
    },
    {
     "name": "stderr",
     "output_type": "stream",
     "text": [
      "100%|██████████| 300/300 [00:00<00:00, 311.92it/s]\n"
     ]
    },
    {
     "name": "stdout",
     "output_type": "stream",
     "text": [
      "<module 'random' from '/usr/lib/python3.8/random.py'>\n"
     ]
    },
    {
     "name": "stderr",
     "output_type": "stream",
     "text": [
      "100%|██████████| 200/200 [00:00<00:00, 2893.86it/s]\n"
     ]
    },
    {
     "name": "stdout",
     "output_type": "stream",
     "text": [
      "New diverisity:    0.07622871948033204\n"
     ]
    },
    {
     "name": "stderr",
     "output_type": "stream",
     "text": [
      "100%|██████████| 300/300 [00:00<00:00, 319.28it/s]\n"
     ]
    },
    {
     "name": "stdout",
     "output_type": "stream",
     "text": [
      "<module 'random' from '/usr/lib/python3.8/random.py'>\n"
     ]
    },
    {
     "name": "stderr",
     "output_type": "stream",
     "text": [
      "100%|██████████| 200/200 [00:00<00:00, 2842.60it/s]\n"
     ]
    },
    {
     "name": "stdout",
     "output_type": "stream",
     "text": [
      "New diverisity:    0.07241268585105805\n"
     ]
    },
    {
     "name": "stderr",
     "output_type": "stream",
     "text": [
      "100%|██████████| 300/300 [00:01<00:00, 291.55it/s]\n"
     ]
    },
    {
     "name": "stdout",
     "output_type": "stream",
     "text": [
      "<module 'random' from '/usr/lib/python3.8/random.py'>\n"
     ]
    },
    {
     "name": "stderr",
     "output_type": "stream",
     "text": [
      "100%|██████████| 200/200 [00:00<00:00, 2820.54it/s]\n"
     ]
    },
    {
     "name": "stdout",
     "output_type": "stream",
     "text": [
      "New diverisity:    0.07105695348987122\n"
     ]
    },
    {
     "name": "stderr",
     "output_type": "stream",
     "text": [
      "100%|██████████| 300/300 [00:00<00:00, 315.70it/s]\n"
     ]
    },
    {
     "name": "stdout",
     "output_type": "stream",
     "text": [
      "<module 'random' from '/usr/lib/python3.8/random.py'>\n"
     ]
    },
    {
     "name": "stderr",
     "output_type": "stream",
     "text": [
      "100%|██████████| 200/200 [00:00<00:00, 2835.76it/s]\n"
     ]
    },
    {
     "name": "stdout",
     "output_type": "stream",
     "text": [
      "New diverisity:    0.0716188288212047\n"
     ]
    },
    {
     "name": "stderr",
     "output_type": "stream",
     "text": [
      "100%|██████████| 300/300 [00:00<00:00, 303.12it/s]\n"
     ]
    },
    {
     "name": "stdout",
     "output_type": "stream",
     "text": [
      "<module 'random' from '/usr/lib/python3.8/random.py'>\n"
     ]
    },
    {
     "name": "stderr",
     "output_type": "stream",
     "text": [
      "100%|██████████| 200/200 [00:00<00:00, 2840.86it/s]\n"
     ]
    },
    {
     "name": "stdout",
     "output_type": "stream",
     "text": [
      "New diverisity:    0.06853738377442188\n"
     ]
    },
    {
     "name": "stderr",
     "output_type": "stream",
     "text": [
      "100%|██████████| 300/300 [00:00<00:00, 313.40it/s]\n"
     ]
    },
    {
     "name": "stdout",
     "output_type": "stream",
     "text": [
      "<module 'random' from '/usr/lib/python3.8/random.py'>\n"
     ]
    },
    {
     "name": "stderr",
     "output_type": "stream",
     "text": [
      "100%|██████████| 200/200 [00:00<00:00, 2796.15it/s]\n"
     ]
    },
    {
     "name": "stdout",
     "output_type": "stream",
     "text": [
      "New diverisity:    0.06750309306464058\n"
     ]
    },
    {
     "name": "stderr",
     "output_type": "stream",
     "text": [
      "100%|██████████| 300/300 [00:01<00:00, 264.52it/s]\n"
     ]
    },
    {
     "name": "stdout",
     "output_type": "stream",
     "text": [
      "<module 'random' from '/usr/lib/python3.8/random.py'>\n"
     ]
    },
    {
     "name": "stderr",
     "output_type": "stream",
     "text": [
      "100%|██████████| 200/200 [00:00<00:00, 2862.93it/s]\n"
     ]
    },
    {
     "name": "stdout",
     "output_type": "stream",
     "text": [
      "New diverisity:    0.071019981663518\n"
     ]
    },
    {
     "name": "stderr",
     "output_type": "stream",
     "text": [
      "100%|██████████| 300/300 [00:01<00:00, 255.67it/s]\n"
     ]
    },
    {
     "name": "stdout",
     "output_type": "stream",
     "text": [
      "<module 'random' from '/usr/lib/python3.8/random.py'>\n"
     ]
    },
    {
     "name": "stderr",
     "output_type": "stream",
     "text": [
      "100%|██████████| 200/200 [00:00<00:00, 2303.29it/s]\n"
     ]
    },
    {
     "name": "stdout",
     "output_type": "stream",
     "text": [
      "New diverisity:    0.06786177718686612\n"
     ]
    },
    {
     "name": "stderr",
     "output_type": "stream",
     "text": [
      "100%|██████████| 300/300 [00:01<00:00, 229.98it/s]\n"
     ]
    },
    {
     "name": "stdout",
     "output_type": "stream",
     "text": [
      "<module 'random' from '/usr/lib/python3.8/random.py'>\n"
     ]
    },
    {
     "name": "stderr",
     "output_type": "stream",
     "text": [
      "100%|██████████| 200/200 [00:00<00:00, 2871.77it/s]\n"
     ]
    },
    {
     "name": "stdout",
     "output_type": "stream",
     "text": [
      "New diverisity:    0.06836481167856273\n"
     ]
    },
    {
     "name": "stderr",
     "output_type": "stream",
     "text": [
      "100%|██████████| 300/300 [00:01<00:00, 280.21it/s]\n"
     ]
    },
    {
     "name": "stdout",
     "output_type": "stream",
     "text": [
      "<module 'random' from '/usr/lib/python3.8/random.py'>\n"
     ]
    },
    {
     "name": "stderr",
     "output_type": "stream",
     "text": [
      "100%|██████████| 200/200 [00:00<00:00, 2861.73it/s]\n"
     ]
    },
    {
     "name": "stdout",
     "output_type": "stream",
     "text": [
      "New diverisity:    0.06640914663609845\n"
     ]
    },
    {
     "name": "stderr",
     "output_type": "stream",
     "text": [
      "100%|██████████| 300/300 [00:00<00:00, 319.63it/s]\n"
     ]
    },
    {
     "name": "stdout",
     "output_type": "stream",
     "text": [
      "<module 'random' from '/usr/lib/python3.8/random.py'>\n"
     ]
    },
    {
     "name": "stderr",
     "output_type": "stream",
     "text": [
      "100%|██████████| 200/200 [00:00<00:00, 2605.02it/s]\n"
     ]
    },
    {
     "name": "stdout",
     "output_type": "stream",
     "text": [
      "New diverisity:    0.061667601486533045\n"
     ]
    },
    {
     "name": "stderr",
     "output_type": "stream",
     "text": [
      "100%|██████████| 300/300 [00:01<00:00, 254.54it/s]\n"
     ]
    },
    {
     "name": "stdout",
     "output_type": "stream",
     "text": [
      "<module 'random' from '/usr/lib/python3.8/random.py'>\n"
     ]
    },
    {
     "name": "stderr",
     "output_type": "stream",
     "text": [
      "100%|██████████| 200/200 [00:00<00:00, 2896.11it/s]\n"
     ]
    },
    {
     "name": "stdout",
     "output_type": "stream",
     "text": [
      "New diverisity:    0.0575394839958228\n"
     ]
    },
    {
     "name": "stderr",
     "output_type": "stream",
     "text": [
      "100%|██████████| 200/200 [00:00<00:00, 699.38it/s]\n"
     ]
    },
    {
     "name": "stdout",
     "output_type": "stream",
     "text": [
      "2\n",
      " Mean Objectives : 45213.088453984354\n",
      " Best Objectives : 38162.6496013273\n",
      " diversity         : 0.10612246161719015\n",
      "Time: 24.060543537139893\n",
      "  start diversifying\n"
     ]
    },
    {
     "name": "stderr",
     "output_type": "stream",
     "text": [
      "100%|██████████| 300/300 [00:01<00:00, 286.96it/s]\n"
     ]
    },
    {
     "name": "stdout",
     "output_type": "stream",
     "text": [
      "<module 'random' from '/usr/lib/python3.8/random.py'>\n"
     ]
    },
    {
     "name": "stderr",
     "output_type": "stream",
     "text": [
      "100%|██████████| 200/200 [00:00<00:00, 2857.73it/s]\n"
     ]
    },
    {
     "name": "stdout",
     "output_type": "stream",
     "text": [
      "New diverisity:    0.08402847863216878\n"
     ]
    },
    {
     "name": "stderr",
     "output_type": "stream",
     "text": [
      "100%|██████████| 300/300 [00:00<00:00, 306.35it/s]\n"
     ]
    },
    {
     "name": "stdout",
     "output_type": "stream",
     "text": [
      "<module 'random' from '/usr/lib/python3.8/random.py'>\n"
     ]
    },
    {
     "name": "stderr",
     "output_type": "stream",
     "text": [
      "100%|██████████| 200/200 [00:00<00:00, 2701.88it/s]\n"
     ]
    },
    {
     "name": "stdout",
     "output_type": "stream",
     "text": [
      "New diverisity:    0.08133000083071922\n"
     ]
    },
    {
     "name": "stderr",
     "output_type": "stream",
     "text": [
      "100%|██████████| 300/300 [00:01<00:00, 285.83it/s]\n"
     ]
    },
    {
     "name": "stdout",
     "output_type": "stream",
     "text": [
      "<module 'random' from '/usr/lib/python3.8/random.py'>\n"
     ]
    },
    {
     "name": "stderr",
     "output_type": "stream",
     "text": [
      "100%|██████████| 200/200 [00:00<00:00, 2839.63it/s]\n"
     ]
    },
    {
     "name": "stdout",
     "output_type": "stream",
     "text": [
      "New diverisity:    0.07968251452340987\n"
     ]
    },
    {
     "name": "stderr",
     "output_type": "stream",
     "text": [
      "100%|██████████| 300/300 [00:00<00:00, 312.04it/s]\n"
     ]
    },
    {
     "name": "stdout",
     "output_type": "stream",
     "text": [
      "<module 'random' from '/usr/lib/python3.8/random.py'>\n"
     ]
    },
    {
     "name": "stderr",
     "output_type": "stream",
     "text": [
      "100%|██████████| 200/200 [00:00<00:00, 2833.06it/s]\n"
     ]
    },
    {
     "name": "stdout",
     "output_type": "stream",
     "text": [
      "New diverisity:    0.08132317664518535\n"
     ]
    },
    {
     "name": "stderr",
     "output_type": "stream",
     "text": [
      "100%|██████████| 300/300 [00:00<00:00, 313.30it/s]\n"
     ]
    },
    {
     "name": "stdout",
     "output_type": "stream",
     "text": [
      "<module 'random' from '/usr/lib/python3.8/random.py'>\n"
     ]
    },
    {
     "name": "stderr",
     "output_type": "stream",
     "text": [
      "100%|██████████| 200/200 [00:00<00:00, 2734.49it/s]\n"
     ]
    },
    {
     "name": "stdout",
     "output_type": "stream",
     "text": [
      "New diverisity:    0.07653175902043834\n"
     ]
    },
    {
     "name": "stderr",
     "output_type": "stream",
     "text": [
      "100%|██████████| 300/300 [00:01<00:00, 250.20it/s]\n"
     ]
    },
    {
     "name": "stdout",
     "output_type": "stream",
     "text": [
      "<module 'random' from '/usr/lib/python3.8/random.py'>\n"
     ]
    },
    {
     "name": "stderr",
     "output_type": "stream",
     "text": [
      "100%|██████████| 200/200 [00:00<00:00, 2775.83it/s]\n"
     ]
    },
    {
     "name": "stdout",
     "output_type": "stream",
     "text": [
      "New diverisity:    0.07147635220307164\n"
     ]
    },
    {
     "name": "stderr",
     "output_type": "stream",
     "text": [
      "100%|██████████| 300/300 [00:00<00:00, 308.85it/s]\n"
     ]
    },
    {
     "name": "stdout",
     "output_type": "stream",
     "text": [
      "<module 'random' from '/usr/lib/python3.8/random.py'>\n"
     ]
    },
    {
     "name": "stderr",
     "output_type": "stream",
     "text": [
      "100%|██████████| 200/200 [00:00<00:00, 2735.45it/s]\n"
     ]
    },
    {
     "name": "stdout",
     "output_type": "stream",
     "text": [
      "New diverisity:    0.06822232370040901\n"
     ]
    },
    {
     "name": "stderr",
     "output_type": "stream",
     "text": [
      "100%|██████████| 300/300 [00:00<00:00, 308.01it/s]\n"
     ]
    },
    {
     "name": "stdout",
     "output_type": "stream",
     "text": [
      "<module 'random' from '/usr/lib/python3.8/random.py'>\n"
     ]
    },
    {
     "name": "stderr",
     "output_type": "stream",
     "text": [
      "100%|██████████| 200/200 [00:00<00:00, 2851.97it/s]\n"
     ]
    },
    {
     "name": "stdout",
     "output_type": "stream",
     "text": [
      "New diverisity:    0.06844004783357308\n"
     ]
    },
    {
     "name": "stderr",
     "output_type": "stream",
     "text": [
      "100%|██████████| 300/300 [00:00<00:00, 317.24it/s]\n"
     ]
    },
    {
     "name": "stdout",
     "output_type": "stream",
     "text": [
      "<module 'random' from '/usr/lib/python3.8/random.py'>\n"
     ]
    },
    {
     "name": "stderr",
     "output_type": "stream",
     "text": [
      "100%|██████████| 200/200 [00:00<00:00, 2862.11it/s]\n"
     ]
    },
    {
     "name": "stdout",
     "output_type": "stream",
     "text": [
      "New diverisity:    0.07130999641063686\n"
     ]
    },
    {
     "name": "stderr",
     "output_type": "stream",
     "text": [
      "100%|██████████| 300/300 [00:01<00:00, 281.52it/s]\n"
     ]
    },
    {
     "name": "stdout",
     "output_type": "stream",
     "text": [
      "<module 'random' from '/usr/lib/python3.8/random.py'>\n"
     ]
    },
    {
     "name": "stderr",
     "output_type": "stream",
     "text": [
      "100%|██████████| 200/200 [00:00<00:00, 2623.83it/s]\n"
     ]
    },
    {
     "name": "stdout",
     "output_type": "stream",
     "text": [
      "New diverisity:    0.07117998457003694\n"
     ]
    },
    {
     "name": "stderr",
     "output_type": "stream",
     "text": [
      "100%|██████████| 300/300 [00:00<00:00, 316.01it/s]\n"
     ]
    },
    {
     "name": "stdout",
     "output_type": "stream",
     "text": [
      "<module 'random' from '/usr/lib/python3.8/random.py'>\n"
     ]
    },
    {
     "name": "stderr",
     "output_type": "stream",
     "text": [
      "100%|██████████| 200/200 [00:00<00:00, 2847.32it/s]\n"
     ]
    },
    {
     "name": "stdout",
     "output_type": "stream",
     "text": [
      "New diverisity:    0.06417001651927852\n"
     ]
    },
    {
     "name": "stderr",
     "output_type": "stream",
     "text": [
      "100%|██████████| 300/300 [00:01<00:00, 274.55it/s]\n"
     ]
    },
    {
     "name": "stdout",
     "output_type": "stream",
     "text": [
      "<module 'random' from '/usr/lib/python3.8/random.py'>\n"
     ]
    },
    {
     "name": "stderr",
     "output_type": "stream",
     "text": [
      "100%|██████████| 200/200 [00:00<00:00, 2565.61it/s]\n"
     ]
    },
    {
     "name": "stdout",
     "output_type": "stream",
     "text": [
      "New diverisity:    0.06513956906176409\n"
     ]
    },
    {
     "name": "stderr",
     "output_type": "stream",
     "text": [
      "100%|██████████| 300/300 [00:01<00:00, 293.31it/s]\n"
     ]
    },
    {
     "name": "stdout",
     "output_type": "stream",
     "text": [
      "<module 'random' from '/usr/lib/python3.8/random.py'>\n"
     ]
    },
    {
     "name": "stderr",
     "output_type": "stream",
     "text": [
      "100%|██████████| 200/200 [00:00<00:00, 2868.92it/s]\n"
     ]
    },
    {
     "name": "stdout",
     "output_type": "stream",
     "text": [
      "New diverisity:    0.06624963238154932\n"
     ]
    },
    {
     "name": "stderr",
     "output_type": "stream",
     "text": [
      "100%|██████████| 300/300 [00:00<00:00, 317.38it/s]\n"
     ]
    },
    {
     "name": "stdout",
     "output_type": "stream",
     "text": [
      "<module 'random' from '/usr/lib/python3.8/random.py'>\n"
     ]
    },
    {
     "name": "stderr",
     "output_type": "stream",
     "text": [
      "100%|██████████| 200/200 [00:00<00:00, 2650.31it/s]\n"
     ]
    },
    {
     "name": "stdout",
     "output_type": "stream",
     "text": [
      "New diverisity:    0.06850843207554698\n"
     ]
    },
    {
     "name": "stderr",
     "output_type": "stream",
     "text": [
      "100%|██████████| 300/300 [00:01<00:00, 262.80it/s]\n"
     ]
    },
    {
     "name": "stdout",
     "output_type": "stream",
     "text": [
      "<module 'random' from '/usr/lib/python3.8/random.py'>\n"
     ]
    },
    {
     "name": "stderr",
     "output_type": "stream",
     "text": [
      "100%|██████████| 200/200 [00:00<00:00, 2021.50it/s]\n"
     ]
    },
    {
     "name": "stdout",
     "output_type": "stream",
     "text": [
      "New diverisity:    0.06570847523494423\n"
     ]
    },
    {
     "name": "stderr",
     "output_type": "stream",
     "text": [
      "100%|██████████| 300/300 [00:01<00:00, 244.89it/s]\n"
     ]
    },
    {
     "name": "stdout",
     "output_type": "stream",
     "text": [
      "<module 'random' from '/usr/lib/python3.8/random.py'>\n"
     ]
    },
    {
     "name": "stderr",
     "output_type": "stream",
     "text": [
      "100%|██████████| 200/200 [00:00<00:00, 2798.02it/s]\n"
     ]
    },
    {
     "name": "stdout",
     "output_type": "stream",
     "text": [
      "New diverisity:    0.06465932230277907\n"
     ]
    },
    {
     "name": "stderr",
     "output_type": "stream",
     "text": [
      "100%|██████████| 300/300 [00:01<00:00, 263.58it/s]\n"
     ]
    },
    {
     "name": "stdout",
     "output_type": "stream",
     "text": [
      "<module 'random' from '/usr/lib/python3.8/random.py'>\n"
     ]
    },
    {
     "name": "stderr",
     "output_type": "stream",
     "text": [
      "100%|██████████| 200/200 [00:00<00:00, 2799.97it/s]\n"
     ]
    },
    {
     "name": "stdout",
     "output_type": "stream",
     "text": [
      "New diverisity:    0.06081041827844117\n"
     ]
    },
    {
     "name": "stderr",
     "output_type": "stream",
     "text": [
      "100%|██████████| 300/300 [00:01<00:00, 260.20it/s]\n"
     ]
    },
    {
     "name": "stdout",
     "output_type": "stream",
     "text": [
      "<module 'random' from '/usr/lib/python3.8/random.py'>\n"
     ]
    },
    {
     "name": "stderr",
     "output_type": "stream",
     "text": [
      "100%|██████████| 200/200 [00:00<00:00, 1459.22it/s]\n"
     ]
    },
    {
     "name": "stdout",
     "output_type": "stream",
     "text": [
      "New diverisity:    0.058974300981821645\n"
     ]
    },
    {
     "name": "stderr",
     "output_type": "stream",
     "text": [
      "100%|██████████| 300/300 [00:00<00:00, 313.50it/s]\n"
     ]
    },
    {
     "name": "stdout",
     "output_type": "stream",
     "text": [
      "<module 'random' from '/usr/lib/python3.8/random.py'>\n"
     ]
    },
    {
     "name": "stderr",
     "output_type": "stream",
     "text": [
      "100%|██████████| 200/200 [00:00<00:00, 2823.61it/s]\n"
     ]
    },
    {
     "name": "stdout",
     "output_type": "stream",
     "text": [
      "New diverisity:    0.056879155862919445\n"
     ]
    },
    {
     "name": "stderr",
     "output_type": "stream",
     "text": [
      "100%|██████████| 200/200 [00:00<00:00, 633.21it/s]\n"
     ]
    },
    {
     "name": "stdout",
     "output_type": "stream",
     "text": [
      "3\n",
      " Mean Objectives : 47445.11063791551\n",
      " Best Objectives : 39800.7514832806\n",
      " diversity         : 0.10893544591685986\n",
      "Time: 46.09575533866882\n",
      "  start diversifying\n"
     ]
    },
    {
     "name": "stderr",
     "output_type": "stream",
     "text": [
      "100%|██████████| 300/300 [00:01<00:00, 265.57it/s]\n"
     ]
    },
    {
     "name": "stdout",
     "output_type": "stream",
     "text": [
      "<module 'random' from '/usr/lib/python3.8/random.py'>\n"
     ]
    },
    {
     "name": "stderr",
     "output_type": "stream",
     "text": [
      "100%|██████████| 200/200 [00:00<00:00, 2740.28it/s]\n"
     ]
    },
    {
     "name": "stdout",
     "output_type": "stream",
     "text": [
      "New diverisity:    0.0961015100672686\n"
     ]
    },
    {
     "name": "stderr",
     "output_type": "stream",
     "text": [
      "100%|██████████| 300/300 [00:00<00:00, 301.52it/s]\n"
     ]
    },
    {
     "name": "stdout",
     "output_type": "stream",
     "text": [
      "<module 'random' from '/usr/lib/python3.8/random.py'>\n"
     ]
    },
    {
     "name": "stderr",
     "output_type": "stream",
     "text": [
      "100%|██████████| 200/200 [00:00<00:00, 2171.64it/s]\n"
     ]
    },
    {
     "name": "stdout",
     "output_type": "stream",
     "text": [
      "New diverisity:    0.08985449909943782\n"
     ]
    },
    {
     "name": "stderr",
     "output_type": "stream",
     "text": [
      "100%|██████████| 300/300 [00:01<00:00, 238.79it/s]\n"
     ]
    },
    {
     "name": "stdout",
     "output_type": "stream",
     "text": [
      "<module 'random' from '/usr/lib/python3.8/random.py'>\n"
     ]
    },
    {
     "name": "stderr",
     "output_type": "stream",
     "text": [
      "100%|██████████| 200/200 [00:00<00:00, 2781.96it/s]\n"
     ]
    },
    {
     "name": "stdout",
     "output_type": "stream",
     "text": [
      "New diverisity:    0.08518347027901459\n"
     ]
    },
    {
     "name": "stderr",
     "output_type": "stream",
     "text": [
      "100%|██████████| 300/300 [00:01<00:00, 259.86it/s]\n"
     ]
    },
    {
     "name": "stdout",
     "output_type": "stream",
     "text": [
      "<module 'random' from '/usr/lib/python3.8/random.py'>\n"
     ]
    },
    {
     "name": "stderr",
     "output_type": "stream",
     "text": [
      "100%|██████████| 200/200 [00:00<00:00, 2782.84it/s]\n"
     ]
    },
    {
     "name": "stdout",
     "output_type": "stream",
     "text": [
      "New diverisity:    0.08510222993221411\n"
     ]
    },
    {
     "name": "stderr",
     "output_type": "stream",
     "text": [
      "100%|██████████| 300/300 [00:00<00:00, 311.07it/s]\n"
     ]
    },
    {
     "name": "stdout",
     "output_type": "stream",
     "text": [
      "<module 'random' from '/usr/lib/python3.8/random.py'>\n"
     ]
    },
    {
     "name": "stderr",
     "output_type": "stream",
     "text": [
      "100%|██████████| 200/200 [00:00<00:00, 2787.50it/s]\n"
     ]
    },
    {
     "name": "stdout",
     "output_type": "stream",
     "text": [
      "New diverisity:    0.07993491278862747\n"
     ]
    },
    {
     "name": "stderr",
     "output_type": "stream",
     "text": [
      "100%|██████████| 300/300 [00:01<00:00, 280.72it/s]\n"
     ]
    },
    {
     "name": "stdout",
     "output_type": "stream",
     "text": [
      "<module 'random' from '/usr/lib/python3.8/random.py'>\n"
     ]
    },
    {
     "name": "stderr",
     "output_type": "stream",
     "text": [
      "100%|██████████| 200/200 [00:00<00:00, 2822.76it/s]\n"
     ]
    },
    {
     "name": "stdout",
     "output_type": "stream",
     "text": [
      "New diverisity:    0.07883763501890258\n"
     ]
    },
    {
     "name": "stderr",
     "output_type": "stream",
     "text": [
      "100%|██████████| 300/300 [00:01<00:00, 285.30it/s]\n"
     ]
    },
    {
     "name": "stdout",
     "output_type": "stream",
     "text": [
      "<module 'random' from '/usr/lib/python3.8/random.py'>\n"
     ]
    },
    {
     "name": "stderr",
     "output_type": "stream",
     "text": [
      "100%|██████████| 200/200 [00:00<00:00, 2803.36it/s]\n"
     ]
    },
    {
     "name": "stdout",
     "output_type": "stream",
     "text": [
      "New diverisity:    0.08202051552986432\n"
     ]
    },
    {
     "name": "stderr",
     "output_type": "stream",
     "text": [
      "100%|██████████| 300/300 [00:01<00:00, 246.84it/s]\n"
     ]
    },
    {
     "name": "stdout",
     "output_type": "stream",
     "text": [
      "<module 'random' from '/usr/lib/python3.8/random.py'>\n"
     ]
    },
    {
     "name": "stderr",
     "output_type": "stream",
     "text": [
      "100%|██████████| 200/200 [00:00<00:00, 2783.85it/s]\n"
     ]
    },
    {
     "name": "stdout",
     "output_type": "stream",
     "text": [
      "New diverisity:    0.07782245827432996\n"
     ]
    },
    {
     "name": "stderr",
     "output_type": "stream",
     "text": [
      "100%|██████████| 300/300 [00:01<00:00, 275.05it/s]\n"
     ]
    },
    {
     "name": "stdout",
     "output_type": "stream",
     "text": [
      "<module 'random' from '/usr/lib/python3.8/random.py'>\n"
     ]
    },
    {
     "name": "stderr",
     "output_type": "stream",
     "text": [
      "100%|██████████| 200/200 [00:00<00:00, 1933.88it/s]\n"
     ]
    },
    {
     "name": "stdout",
     "output_type": "stream",
     "text": [
      "New diverisity:    0.07253421280738144\n"
     ]
    },
    {
     "name": "stderr",
     "output_type": "stream",
     "text": [
      "100%|██████████| 300/300 [00:01<00:00, 242.55it/s]\n"
     ]
    },
    {
     "name": "stdout",
     "output_type": "stream",
     "text": [
      "<module 'random' from '/usr/lib/python3.8/random.py'>\n"
     ]
    },
    {
     "name": "stderr",
     "output_type": "stream",
     "text": [
      "100%|██████████| 200/200 [00:00<00:00, 2812.66it/s]\n"
     ]
    },
    {
     "name": "stdout",
     "output_type": "stream",
     "text": [
      "New diverisity:    0.07275465870248107\n"
     ]
    },
    {
     "name": "stderr",
     "output_type": "stream",
     "text": [
      "100%|██████████| 300/300 [00:00<00:00, 309.49it/s]\n"
     ]
    },
    {
     "name": "stdout",
     "output_type": "stream",
     "text": [
      "<module 'random' from '/usr/lib/python3.8/random.py'>\n"
     ]
    },
    {
     "name": "stderr",
     "output_type": "stream",
     "text": [
      "100%|██████████| 200/200 [00:00<00:00, 2820.52it/s]\n"
     ]
    },
    {
     "name": "stdout",
     "output_type": "stream",
     "text": [
      "New diverisity:    0.06874971094322438\n"
     ]
    },
    {
     "name": "stderr",
     "output_type": "stream",
     "text": [
      "100%|██████████| 300/300 [00:01<00:00, 288.57it/s]\n"
     ]
    },
    {
     "name": "stdout",
     "output_type": "stream",
     "text": [
      "<module 'random' from '/usr/lib/python3.8/random.py'>\n"
     ]
    },
    {
     "name": "stderr",
     "output_type": "stream",
     "text": [
      "100%|██████████| 200/200 [00:00<00:00, 2444.02it/s]\n"
     ]
    },
    {
     "name": "stdout",
     "output_type": "stream",
     "text": [
      "New diverisity:    0.06866457822297553\n"
     ]
    },
    {
     "name": "stderr",
     "output_type": "stream",
     "text": [
      "100%|██████████| 300/300 [00:01<00:00, 251.84it/s]\n"
     ]
    },
    {
     "name": "stdout",
     "output_type": "stream",
     "text": [
      "<module 'random' from '/usr/lib/python3.8/random.py'>\n"
     ]
    },
    {
     "name": "stderr",
     "output_type": "stream",
     "text": [
      "100%|██████████| 200/200 [00:00<00:00, 2794.04it/s]\n"
     ]
    },
    {
     "name": "stdout",
     "output_type": "stream",
     "text": [
      "New diverisity:    0.06908444725891215\n"
     ]
    },
    {
     "name": "stderr",
     "output_type": "stream",
     "text": [
      "100%|██████████| 300/300 [00:01<00:00, 290.07it/s]\n"
     ]
    },
    {
     "name": "stdout",
     "output_type": "stream",
     "text": [
      "<module 'random' from '/usr/lib/python3.8/random.py'>\n"
     ]
    },
    {
     "name": "stderr",
     "output_type": "stream",
     "text": [
      "100%|██████████| 200/200 [00:00<00:00, 2203.43it/s]\n"
     ]
    },
    {
     "name": "stdout",
     "output_type": "stream",
     "text": [
      "New diverisity:    0.0660436048370721\n"
     ]
    },
    {
     "name": "stderr",
     "output_type": "stream",
     "text": [
      "100%|██████████| 300/300 [00:01<00:00, 236.98it/s]\n"
     ]
    },
    {
     "name": "stdout",
     "output_type": "stream",
     "text": [
      "<module 'random' from '/usr/lib/python3.8/random.py'>\n"
     ]
    },
    {
     "name": "stderr",
     "output_type": "stream",
     "text": [
      "100%|██████████| 200/200 [00:00<00:00, 2736.28it/s]\n"
     ]
    },
    {
     "name": "stdout",
     "output_type": "stream",
     "text": [
      "New diverisity:    0.06264513793478757\n"
     ]
    },
    {
     "name": "stderr",
     "output_type": "stream",
     "text": [
      "100%|██████████| 300/300 [00:01<00:00, 251.08it/s]\n"
     ]
    },
    {
     "name": "stdout",
     "output_type": "stream",
     "text": [
      "<module 'random' from '/usr/lib/python3.8/random.py'>\n"
     ]
    },
    {
     "name": "stderr",
     "output_type": "stream",
     "text": [
      "100%|██████████| 200/200 [00:00<00:00, 2804.83it/s]\n"
     ]
    },
    {
     "name": "stdout",
     "output_type": "stream",
     "text": [
      "New diverisity:    0.06741789116941882\n"
     ]
    },
    {
     "name": "stderr",
     "output_type": "stream",
     "text": [
      "100%|██████████| 300/300 [00:01<00:00, 285.01it/s]\n"
     ]
    },
    {
     "name": "stdout",
     "output_type": "stream",
     "text": [
      "<module 'random' from '/usr/lib/python3.8/random.py'>\n"
     ]
    },
    {
     "name": "stderr",
     "output_type": "stream",
     "text": [
      "100%|██████████| 200/200 [00:00<00:00, 2778.08it/s]\n"
     ]
    },
    {
     "name": "stdout",
     "output_type": "stream",
     "text": [
      "New diverisity:    0.06864832876359053\n"
     ]
    },
    {
     "name": "stderr",
     "output_type": "stream",
     "text": [
      "100%|██████████| 300/300 [00:01<00:00, 237.59it/s]\n"
     ]
    },
    {
     "name": "stdout",
     "output_type": "stream",
     "text": [
      "<module 'random' from '/usr/lib/python3.8/random.py'>\n"
     ]
    },
    {
     "name": "stderr",
     "output_type": "stream",
     "text": [
      "100%|██████████| 200/200 [00:00<00:00, 2757.91it/s]\n"
     ]
    },
    {
     "name": "stdout",
     "output_type": "stream",
     "text": [
      "New diverisity:    0.06829465528271064\n"
     ]
    },
    {
     "name": "stderr",
     "output_type": "stream",
     "text": [
      "100%|██████████| 300/300 [00:01<00:00, 294.95it/s]\n"
     ]
    },
    {
     "name": "stdout",
     "output_type": "stream",
     "text": [
      "<module 'random' from '/usr/lib/python3.8/random.py'>\n"
     ]
    },
    {
     "name": "stderr",
     "output_type": "stream",
     "text": [
      "100%|██████████| 200/200 [00:00<00:00, 2523.50it/s]\n"
     ]
    },
    {
     "name": "stdout",
     "output_type": "stream",
     "text": [
      "New diverisity:    0.06989430442421803\n"
     ]
    },
    {
     "name": "stderr",
     "output_type": "stream",
     "text": [
      "100%|██████████| 300/300 [00:01<00:00, 245.62it/s]\n"
     ]
    },
    {
     "name": "stdout",
     "output_type": "stream",
     "text": [
      "<module 'random' from '/usr/lib/python3.8/random.py'>\n"
     ]
    },
    {
     "name": "stderr",
     "output_type": "stream",
     "text": [
      "100%|██████████| 200/200 [00:00<00:00, 2825.92it/s]\n"
     ]
    },
    {
     "name": "stdout",
     "output_type": "stream",
     "text": [
      "New diverisity:    0.06967700785635057\n"
     ]
    },
    {
     "name": "stderr",
     "output_type": "stream",
     "text": [
      "100%|██████████| 300/300 [00:00<00:00, 310.77it/s]\n"
     ]
    },
    {
     "name": "stdout",
     "output_type": "stream",
     "text": [
      "<module 'random' from '/usr/lib/python3.8/random.py'>\n"
     ]
    },
    {
     "name": "stderr",
     "output_type": "stream",
     "text": [
      "100%|██████████| 200/200 [00:00<00:00, 2570.94it/s]\n"
     ]
    },
    {
     "name": "stdout",
     "output_type": "stream",
     "text": [
      "New diverisity:    0.0670172150916245\n"
     ]
    },
    {
     "name": "stderr",
     "output_type": "stream",
     "text": [
      "100%|██████████| 300/300 [00:01<00:00, 244.61it/s]\n"
     ]
    },
    {
     "name": "stdout",
     "output_type": "stream",
     "text": [
      "<module 'random' from '/usr/lib/python3.8/random.py'>\n"
     ]
    },
    {
     "name": "stderr",
     "output_type": "stream",
     "text": [
      "100%|██████████| 200/200 [00:00<00:00, 2727.58it/s]\n"
     ]
    },
    {
     "name": "stdout",
     "output_type": "stream",
     "text": [
      "New diverisity:    0.0691420351080509\n"
     ]
    },
    {
     "name": "stderr",
     "output_type": "stream",
     "text": [
      "100%|██████████| 300/300 [00:00<00:00, 301.24it/s]\n"
     ]
    },
    {
     "name": "stdout",
     "output_type": "stream",
     "text": [
      "<module 'random' from '/usr/lib/python3.8/random.py'>\n"
     ]
    },
    {
     "name": "stderr",
     "output_type": "stream",
     "text": [
      "100%|██████████| 200/200 [00:00<00:00, 2784.42it/s]\n"
     ]
    },
    {
     "name": "stdout",
     "output_type": "stream",
     "text": [
      "New diverisity:    0.06930462135686821\n"
     ]
    },
    {
     "name": "stderr",
     "output_type": "stream",
     "text": [
      "100%|██████████| 300/300 [00:01<00:00, 248.84it/s]\n"
     ]
    },
    {
     "name": "stdout",
     "output_type": "stream",
     "text": [
      "<module 'random' from '/usr/lib/python3.8/random.py'>\n"
     ]
    },
    {
     "name": "stderr",
     "output_type": "stream",
     "text": [
      "100%|██████████| 200/200 [00:00<00:00, 2556.96it/s]\n"
     ]
    },
    {
     "name": "stdout",
     "output_type": "stream",
     "text": [
      "New diverisity:    0.06549757317555703\n"
     ]
    },
    {
     "name": "stderr",
     "output_type": "stream",
     "text": [
      "100%|██████████| 300/300 [00:01<00:00, 247.60it/s]\n"
     ]
    },
    {
     "name": "stdout",
     "output_type": "stream",
     "text": [
      "<module 'random' from '/usr/lib/python3.8/random.py'>\n"
     ]
    },
    {
     "name": "stderr",
     "output_type": "stream",
     "text": [
      "100%|██████████| 200/200 [00:00<00:00, 2697.64it/s]\n"
     ]
    },
    {
     "name": "stdout",
     "output_type": "stream",
     "text": [
      "New diverisity:    0.06502119904067025\n"
     ]
    },
    {
     "name": "stderr",
     "output_type": "stream",
     "text": [
      "100%|██████████| 300/300 [00:01<00:00, 290.00it/s]\n"
     ]
    },
    {
     "name": "stdout",
     "output_type": "stream",
     "text": [
      "<module 'random' from '/usr/lib/python3.8/random.py'>\n"
     ]
    },
    {
     "name": "stderr",
     "output_type": "stream",
     "text": [
      "100%|██████████| 200/200 [00:00<00:00, 2639.06it/s]\n"
     ]
    },
    {
     "name": "stdout",
     "output_type": "stream",
     "text": [
      "New diverisity:    0.05995935865620205\n"
     ]
    },
    {
     "name": "stderr",
     "output_type": "stream",
     "text": [
      "100%|██████████| 300/300 [00:01<00:00, 244.34it/s]\n"
     ]
    },
    {
     "name": "stdout",
     "output_type": "stream",
     "text": [
      "<module 'random' from '/usr/lib/python3.8/random.py'>\n"
     ]
    },
    {
     "name": "stderr",
     "output_type": "stream",
     "text": [
      "100%|██████████| 200/200 [00:00<00:00, 1792.80it/s]\n"
     ]
    },
    {
     "name": "stdout",
     "output_type": "stream",
     "text": [
      "New diverisity:    0.06320714850686868\n"
     ]
    },
    {
     "name": "stderr",
     "output_type": "stream",
     "text": [
      "100%|██████████| 300/300 [00:01<00:00, 268.84it/s]\n"
     ]
    },
    {
     "name": "stdout",
     "output_type": "stream",
     "text": [
      "<module 'random' from '/usr/lib/python3.8/random.py'>\n"
     ]
    },
    {
     "name": "stderr",
     "output_type": "stream",
     "text": [
      "100%|██████████| 200/200 [00:00<00:00, 2564.14it/s]\n"
     ]
    },
    {
     "name": "stdout",
     "output_type": "stream",
     "text": [
      "New diverisity:    0.06441893700785949\n"
     ]
    },
    {
     "name": "stderr",
     "output_type": "stream",
     "text": [
      "100%|██████████| 300/300 [00:01<00:00, 263.73it/s]\n"
     ]
    },
    {
     "name": "stdout",
     "output_type": "stream",
     "text": [
      "<module 'random' from '/usr/lib/python3.8/random.py'>\n"
     ]
    },
    {
     "name": "stderr",
     "output_type": "stream",
     "text": [
      "100%|██████████| 200/200 [00:00<00:00, 2826.64it/s]\n"
     ]
    },
    {
     "name": "stdout",
     "output_type": "stream",
     "text": [
      "New diverisity:    0.060979465513610706\n"
     ]
    },
    {
     "name": "stderr",
     "output_type": "stream",
     "text": [
      "100%|██████████| 300/300 [00:01<00:00, 293.17it/s]\n"
     ]
    },
    {
     "name": "stdout",
     "output_type": "stream",
     "text": [
      "<module 'random' from '/usr/lib/python3.8/random.py'>\n"
     ]
    },
    {
     "name": "stderr",
     "output_type": "stream",
     "text": [
      "100%|██████████| 200/200 [00:00<00:00, 2511.67it/s]\n"
     ]
    },
    {
     "name": "stdout",
     "output_type": "stream",
     "text": [
      "New diverisity:    0.06118803947524378\n"
     ]
    },
    {
     "name": "stderr",
     "output_type": "stream",
     "text": [
      "  2%|▏         | 5/300 [00:00<00:01, 259.37it/s]\n"
     ]
    },
    {
     "ename": "KeyboardInterrupt",
     "evalue": "",
     "output_type": "error",
     "traceback": [
      "\u001b[0;31m---------------------------------------------------------------------------\u001b[0m",
      "\u001b[0;31mKeyboardInterrupt\u001b[0m                         Traceback (most recent call last)",
      "\u001b[1;32m/root/study/ga/code_original.ipynb Cell 44\u001b[0m in \u001b[0;36m<cell line: 23>\u001b[0;34m()\u001b[0m\n\u001b[1;32m     <a href='vscode-notebook-cell://ssh-remote%2B119.13.78.144/root/study/ga/code_original.ipynb#ch0000043vscode-remote?line=19'>20</a>\u001b[0m algo\u001b[39m.\u001b[39mK_TOURNAMENT_SIZE_elimination_Diversify \u001b[39m=\u001b[39m \u001b[39m2\u001b[39m\n\u001b[1;32m     <a href='vscode-notebook-cell://ssh-remote%2B119.13.78.144/root/study/ga/code_original.ipynb#ch0000043vscode-remote?line=20'>21</a>\u001b[0m algo\u001b[39m.\u001b[39mLAMBDA_Diversify \u001b[39m=\u001b[39m \u001b[39m300\u001b[39m\n\u001b[0;32m---> <a href='vscode-notebook-cell://ssh-remote%2B119.13.78.144/root/study/ga/code_original.ipynb#ch0000043vscode-remote?line=22'>23</a>\u001b[0m algo\u001b[39m.\u001b[39;49moptimizeDiverisify(\u001b[39m\"\u001b[39;49m\u001b[39mtour29.csv\u001b[39;49m\u001b[39m\"\u001b[39;49m, initializaMethod\u001b[39m=\u001b[39;49m\u001b[39m1\u001b[39;49m)\n",
      "\u001b[1;32m/root/study/ga/code_original.ipynb Cell 44\u001b[0m in \u001b[0;36mr0733300.optimizeDiverisify\u001b[0;34m(self, filename, initializaMethod)\u001b[0m\n\u001b[1;32m     <a href='vscode-notebook-cell://ssh-remote%2B119.13.78.144/root/study/ga/code_original.ipynb#ch0000043vscode-remote?line=86'>87</a>\u001b[0m     \u001b[39mprint\u001b[39m(\u001b[39m\"\u001b[39m\u001b[39m  start diversifying\u001b[39m\u001b[39m\"\u001b[39m)\n\u001b[1;32m     <a href='vscode-notebook-cell://ssh-remote%2B119.13.78.144/root/study/ga/code_original.ipynb#ch0000043vscode-remote?line=87'>88</a>\u001b[0m \u001b[39mwhile\u001b[39;00m(diversify \u001b[39m>\u001b[39m\u001b[39m=\u001b[39m \u001b[39m3\u001b[39m \u001b[39m*\u001b[39m initialDiversity):\n\u001b[0;32m---> <a href='vscode-notebook-cell://ssh-remote%2B119.13.78.144/root/study/ga/code_original.ipynb#ch0000043vscode-remote?line=88'>89</a>\u001b[0m     newPopulation \u001b[39m=\u001b[39m \u001b[39mself\u001b[39;49m\u001b[39m.\u001b[39;49mselectiveInializationBatch(\u001b[39mself\u001b[39;49m\u001b[39m.\u001b[39;49mselective_Diversify, \u001b[39mself\u001b[39;49m\u001b[39m.\u001b[39;49mLAMBDA_Diversify)\n\u001b[1;32m     <a href='vscode-notebook-cell://ssh-remote%2B119.13.78.144/root/study/ga/code_original.ipynb#ch0000043vscode-remote?line=89'>90</a>\u001b[0m     newPopulation \u001b[39m+\u001b[39m\u001b[39m=\u001b[39m \u001b[39mself\u001b[39m\u001b[39m.\u001b[39minitialize(\u001b[39mself\u001b[39m\u001b[39m.\u001b[39mdistanceMatrix,\u001b[39mself\u001b[39m\u001b[39m.\u001b[39mLAMBDA_Diversify)\n\u001b[1;32m     <a href='vscode-notebook-cell://ssh-remote%2B119.13.78.144/root/study/ga/code_original.ipynb#ch0000043vscode-remote?line=90'>91</a>\u001b[0m     \u001b[39m# print(\"new Population\" + str(self.calculateDiveristy(newPopulation)))\u001b[39;00m\n\u001b[1;32m     <a href='vscode-notebook-cell://ssh-remote%2B119.13.78.144/root/study/ga/code_original.ipynb#ch0000043vscode-remote?line=91'>92</a>\u001b[0m     \n\u001b[1;32m     <a href='vscode-notebook-cell://ssh-remote%2B119.13.78.144/root/study/ga/code_original.ipynb#ch0000043vscode-remote?line=92'>93</a>\u001b[0m     \u001b[39m# population += newPopulation\u001b[39;00m\n",
      "\u001b[1;32m/root/study/ga/code_original.ipynb Cell 44\u001b[0m in \u001b[0;36mr0733300.selectiveInializationBatch\u001b[0;34m(self, k, lamda)\u001b[0m\n\u001b[1;32m     <a href='vscode-notebook-cell://ssh-remote%2B119.13.78.144/root/study/ga/code_original.ipynb#ch0000043vscode-remote?line=50'>51</a>\u001b[0m parents \u001b[39m=\u001b[39m []\n\u001b[1;32m     <a href='vscode-notebook-cell://ssh-remote%2B119.13.78.144/root/study/ga/code_original.ipynb#ch0000043vscode-remote?line=51'>52</a>\u001b[0m \u001b[39mfor\u001b[39;00m i \u001b[39min\u001b[39;00m tqdm(\u001b[39mrange\u001b[39m(\u001b[39m0\u001b[39m, lamda)):\n\u001b[1;32m     <a href='vscode-notebook-cell://ssh-remote%2B119.13.78.144/root/study/ga/code_original.ipynb#ch0000043vscode-remote?line=52'>53</a>\u001b[0m \u001b[39m# for i in range(0, self.LAMBDA):\u001b[39;00m\n\u001b[1;32m     <a href='vscode-notebook-cell://ssh-remote%2B119.13.78.144/root/study/ga/code_original.ipynb#ch0000043vscode-remote?line=53'>54</a>\u001b[0m     \u001b[39m# print(i) \u001b[39;00m\n\u001b[0;32m---> <a href='vscode-notebook-cell://ssh-remote%2B119.13.78.144/root/study/ga/code_original.ipynb#ch0000043vscode-remote?line=54'>55</a>\u001b[0m     parents\u001b[39m.\u001b[39mappend(\u001b[39mself\u001b[39;49m\u001b[39m.\u001b[39;49mselectiveInialization(k))\n\u001b[1;32m     <a href='vscode-notebook-cell://ssh-remote%2B119.13.78.144/root/study/ga/code_original.ipynb#ch0000043vscode-remote?line=56'>57</a>\u001b[0m \u001b[39mreturn\u001b[39;00m parents\n",
      "\u001b[1;32m/root/study/ga/code_original.ipynb Cell 44\u001b[0m in \u001b[0;36mr0733300.selectiveInialization\u001b[0;34m(self, k)\u001b[0m\n\u001b[1;32m     <a href='vscode-notebook-cell://ssh-remote%2B119.13.78.144/root/study/ga/code_original.ipynb#ch0000043vscode-remote?line=17'>18</a>\u001b[0m candidates \u001b[39m=\u001b[39m distance[\u001b[39m1\u001b[39m:\u001b[39m1\u001b[39m\u001b[39m+\u001b[39mk]\n\u001b[1;32m     <a href='vscode-notebook-cell://ssh-remote%2B119.13.78.144/root/study/ga/code_original.ipynb#ch0000043vscode-remote?line=19'>20</a>\u001b[0m candidates_unvisited \u001b[39m=\u001b[39m []\n\u001b[0;32m---> <a href='vscode-notebook-cell://ssh-remote%2B119.13.78.144/root/study/ga/code_original.ipynb#ch0000043vscode-remote?line=20'>21</a>\u001b[0m \u001b[39mfor\u001b[39;00m i \u001b[39min\u001b[39;00m candidates:\n\u001b[1;32m     <a href='vscode-notebook-cell://ssh-remote%2B119.13.78.144/root/study/ga/code_original.ipynb#ch0000043vscode-remote?line=21'>22</a>\u001b[0m     \u001b[39mif\u001b[39;00m i \u001b[39min\u001b[39;00m unvisited:\n\u001b[1;32m     <a href='vscode-notebook-cell://ssh-remote%2B119.13.78.144/root/study/ga/code_original.ipynb#ch0000043vscode-remote?line=22'>23</a>\u001b[0m         candidates_unvisited\u001b[39m.\u001b[39mappend(i)\n",
      "\u001b[0;31mKeyboardInterrupt\u001b[0m: "
     ]
    }
   ],
   "source": [
    "algo = r0733300()\n",
    "\n",
    "algo.LAMBDA = 200  # Lambda represents the size of population\n",
    "algo.MU = 200 # Mu represents the size of offsprings\n",
    "algo.distanceMatrix = []  # distanceMatrix saves the cost between each two places\n",
    "algo.K_TOURNAMENT_SIZE = 20  # this is the size of selection\n",
    "algo.K_TOURNAMENT_SIZE_elimination = 20  # this is the size of selection\n",
    "algo.alpha = 0.05  # alpha is the mutation rate\n",
    "algo.iteration = 0  # iteration number\n",
    "algo.converge = 0.018  # difference between mean and best evalue. If (mean- best)/best < converge, it converges.\n",
    "algo.rank = 50\n",
    "algo.rank_list = []\n",
    "algo.s = 0.99999\n",
    "algo.lsp_size = 1\n",
    "algo.selectiveIni = 20\n",
    "\n",
    "algo.selective_Diversify = 29\n",
    "algo.alphaDiversity = 0.2\n",
    "algo.K_TOURNAMENT_Size_Diversify = 5\n",
    "algo.K_TOURNAMENT_SIZE_elimination_Diversify = 2\n",
    "algo.LAMBDA_Diversify = 300\n",
    "\n",
    "algo.optimizeDiverisify(\"tour29.csv\", initializaMethod=1)\n",
    "\n"
   ]
  },
  {
   "cell_type": "markdown",
   "metadata": {},
   "source": [
    "## Original"
   ]
  },
  {
   "cell_type": "markdown",
   "metadata": {},
   "source": [
    "### Oringal Main Loop"
   ]
  },
  {
   "cell_type": "code",
   "execution_count": 25,
   "metadata": {},
   "outputs": [],
   "source": [
    "class r0733300(r0733300):\n",
    "    def optimize(self, filename, initializaMethod):\n",
    "        # Read distance matrix from file.\n",
    "        file = open(filename)\n",
    "        distanceMatrix = np.loadtxt(file, delimiter=\",\")\n",
    "        self.distanceMatrix = distanceMatrix\n",
    "        file.close()\n",
    "        if(initializaMethod == 0):\n",
    "            population = self.initialize(self.distanceMatrix, self.LAMBDA)\n",
    "        elif(initializaMethod == 1):\n",
    "            population  = self.selectiveInializationBatch(self.selectiveIni, self.LAMBDA) \n",
    "        elif (initializaMethod ==2):\n",
    "            population = self.greedyInializationBatch(distanceMatrix, self.LAMBDA)\n",
    "        \n",
    "        # population += self.greedyInializationBatch(distanceMatrix)\n",
    "        # elif (initializaMethod ==3) :\n",
    "            # print(np.shape(population))\n",
    "\n",
    "        # objectives = []\n",
    "\n",
    "        # for individual in population:\n",
    "        #     objectives.append(self.calculate_distance(individual))\n",
    "\n",
    "        meanFitnesses = []\n",
    "        bestFitnesses = []\n",
    "\n",
    "        # meanObjective = np.mean(population,axis=0)[1]\n",
    "        meanObjective = np.mean(np.asarray(population)[:,1])\n",
    "        bestObjective = np.min(population,axis=0)[1]\n",
    "        initialDiversity = self.calculateDiveristy(population)\n",
    "\n",
    "        meanFitnesses.append((meanObjective))\n",
    "        bestFitnesses.append(bestObjective)\n",
    "\n",
    "        print(\" Inital Mean Objectives : \" + str(meanObjective))\n",
    "        print(\" Inital Best Objectives : \" + str(bestObjective))\n",
    "        print(\" diversity         : \" + str(initialDiversity))\n",
    "        # print(\" Initial Best Solution : \" + str(bestSolution))\n",
    "        \n",
    "        start = time.time()\n",
    "        while (time.time()-start <= 300):\n",
    "            self.iteration += 1\n",
    "            newOffsprings = []\n",
    "            for i in tqdm(range(self.MU)):\n",
    "                p1 = self.k_tournament_selection(population,self.K_TOURNAMENT_SIZE)\n",
    "                p2 = self.k_tournament_selection(population, self.K_TOURNAMENT_SIZE)\n",
    "                while(True ): \n",
    "                    offspring1 = self.orderCrossover(p1, p2)\n",
    "                    offspring2 = self.orderCrossover(p2, p1)\n",
    "\n",
    "                    offspring1 = self.mutation_swap(offspring1, self.alpha)\n",
    "                    offspring2 = self.mutation_swap(offspring2, self.alpha)\n",
    "\n",
    "                    offspring1 = self.mutation_insert(offspring1, self.alpha)\n",
    "                    offspring2 = self.mutation_insert(offspring2, self.alpha)\n",
    "\n",
    "                    newOffsprings.append(offspring1)\n",
    "                    newOffsprings.append(offspring2)\n",
    "                    \n",
    "                    if(offspring1[1] < min(p1[1], p2[1]) or offspring2[1] <= min(p1[1], p2[1]) or random.random() < self.alpha):\n",
    "                        break\n",
    "\n",
    "            \n",
    "            for i in population:\n",
    "                i = self.mutation_swap(i, self.alpha)\n",
    "                i = self.mutation_insert(i, self.alpha)\n",
    "\n",
    "\n",
    "            population += newOffsprings\n",
    "            population= self.eliminate_k_turnament(population,self.K_TOURNAMENT_SIZE_elimination)\n",
    "        \n",
    "            meanObjective = np.mean(np.asarray(population)[:,1])\n",
    "            bestObjective = np.min(population,axis=0)[1]\n",
    "            diversity = self.calculateDiveristy(population)\n",
    "            # bestSolution = population[np.argmin(objectives)]\n",
    "\n",
    "            meanFitnesses.append((meanObjective))\n",
    "            bestFitnesses.append(bestObjective)\n",
    "            \n",
    "            \n",
    "            print(self.iteration)\n",
    "            print(\" Mean Objectives : \" + str(meanObjective))\n",
    "            print(\" Best Objectives : \" + str(bestObjective))\n",
    "            print(\" diversity         : \" + str(diversity))\n",
    "            print(\"Time: \" + str(time.time()-start))\n",
    "\n",
    "\n",
    "\n",
    "        self.plotFitness(meanObjective, bestObjective)"
   ]
  },
  {
   "cell_type": "code",
   "execution_count": 122,
   "metadata": {},
   "outputs": [],
   "source": [
    "# algo = r0733300();\n",
    "# file = open(\"tour500(1).csv\")\n",
    "# distanceMatrix = np.loadtxt(file, delimiter=\",\")\n",
    "# algo.distanceMatrix = distanceMatrix\n",
    "# # pop = algo.selectiveInializationBatch(5)\n",
    "# pop2 = algo.initialize(distanceMatrix)\n",
    "# algo.orderCrossover(pop2[0], pop2[1])"
   ]
  },
  {
   "cell_type": "markdown",
   "metadata": {},
   "source": [
    "### Original Process"
   ]
  },
  {
   "cell_type": "code",
   "execution_count": 23,
   "metadata": {},
   "outputs": [],
   "source": [
    "np.warnings.filterwarnings('ignore', category=np.VisibleDeprecationWarning)        "
   ]
  },
  {
   "cell_type": "code",
   "execution_count": 47,
   "metadata": {},
   "outputs": [
    {
     "name": "stderr",
     "output_type": "stream",
     "text": [
      "100%|██████████| 200/200 [00:07<00:00, 25.32it/s]\n"
     ]
    },
    {
     "name": "stdout",
     "output_type": "stream",
     "text": [
      " Inital Mean Objectives : inf\n",
      " Inital Best Objectives : 263981.2789999999\n",
      " diversity         : 0.01379848575135023\n"
     ]
    },
    {
     "name": "stderr",
     "output_type": "stream",
     "text": [
      "100%|██████████| 200/200 [00:05<00:00, 33.56it/s]\n"
     ]
    },
    {
     "name": "stdout",
     "output_type": "stream",
     "text": [
      "1\n",
      " Mean Objectives : 1235266835.2118123\n",
      " Best Objectives : 243596.3169999999\n",
      " diversity         : 0.03490295157317172\n",
      "Time: 6.279402017593384\n"
     ]
    },
    {
     "name": "stderr",
     "output_type": "stream",
     "text": [
      "100%|██████████| 200/200 [00:21<00:00,  9.34it/s]\n"
     ]
    },
    {
     "name": "stdout",
     "output_type": "stream",
     "text": [
      "2\n",
      " Mean Objectives : 249638.20473499986\n",
      " Best Objectives : 238056.1519999999\n",
      " diversity         : 0.041785978857320036\n",
      "Time: 27.99173402786255\n"
     ]
    },
    {
     "name": "stderr",
     "output_type": "stream",
     "text": [
      "100%|██████████| 200/200 [00:16<00:00, 12.20it/s]\n"
     ]
    },
    {
     "name": "stdout",
     "output_type": "stream",
     "text": [
      "3\n",
      " Mean Objectives : 240628.51277499995\n",
      " Best Objectives : 233627.96899999992\n",
      " diversity         : 0.04249565917543176\n",
      "Time: 44.66198921203613\n"
     ]
    },
    {
     "name": "stderr",
     "output_type": "stream",
     "text": [
      "100%|██████████| 200/200 [00:23<00:00,  8.43it/s]\n"
     ]
    },
    {
     "name": "stdout",
     "output_type": "stream",
     "text": [
      "4\n",
      " Mean Objectives : 235297.1174\n",
      " Best Objectives : 227736.28199999977\n",
      " diversity         : 0.04360059919961916\n",
      "Time: 68.7079610824585\n"
     ]
    },
    {
     "name": "stderr",
     "output_type": "stream",
     "text": [
      "100%|██████████| 200/200 [00:16<00:00, 11.89it/s]\n"
     ]
    },
    {
     "name": "stdout",
     "output_type": "stream",
     "text": [
      "5\n",
      " Mean Objectives : 230832.8511799998\n",
      " Best Objectives : 224494.1219999999\n",
      " diversity         : 0.04359239821041055\n",
      "Time: 85.81514596939087\n"
     ]
    },
    {
     "name": "stderr",
     "output_type": "stream",
     "text": [
      "100%|██████████| 200/200 [00:20<00:00,  9.83it/s]\n"
     ]
    },
    {
     "name": "stdout",
     "output_type": "stream",
     "text": [
      "6\n",
      " Mean Objectives : 227000.36192999984\n",
      " Best Objectives : 222654.40199999994\n",
      " diversity         : 0.0436816673094646\n",
      "Time: 106.45884013175964\n"
     ]
    },
    {
     "name": "stderr",
     "output_type": "stream",
     "text": [
      "100%|██████████| 200/200 [00:19<00:00, 10.25it/s]\n"
     ]
    },
    {
     "name": "stdout",
     "output_type": "stream",
     "text": [
      "7\n",
      " Mean Objectives : 224229.47229999982\n",
      " Best Objectives : 215964.92199999993\n",
      " diversity         : 0.04394610327283761\n",
      "Time: 126.25204420089722\n"
     ]
    },
    {
     "name": "stderr",
     "output_type": "stream",
     "text": [
      "100%|██████████| 200/200 [00:21<00:00,  9.45it/s]\n"
     ]
    },
    {
     "name": "stdout",
     "output_type": "stream",
     "text": [
      "8\n",
      " Mean Objectives : 219302.48535499992\n",
      " Best Objectives : 214269.44199999992\n",
      " diversity         : 0.04409008793298677\n",
      "Time: 147.69816613197327\n"
     ]
    },
    {
     "name": "stderr",
     "output_type": "stream",
     "text": [
      "100%|██████████| 200/200 [00:21<00:00,  9.40it/s]\n"
     ]
    },
    {
     "name": "stdout",
     "output_type": "stream",
     "text": [
      "9\n",
      " Mean Objectives : 215965.18912\n",
      " Best Objectives : 212784.40699999992\n",
      " diversity         : 0.044206572137853416\n",
      "Time: 169.28549027442932\n"
     ]
    },
    {
     "name": "stderr",
     "output_type": "stream",
     "text": [
      "100%|██████████| 200/200 [00:18<00:00, 10.61it/s]\n"
     ]
    },
    {
     "name": "stdout",
     "output_type": "stream",
     "text": [
      "10\n",
      " Mean Objectives : 214244.84426499993\n",
      " Best Objectives : 210429.4719999999\n",
      " diversity         : 0.044173072528785294\n",
      "Time: 188.4154770374298\n"
     ]
    },
    {
     "name": "stderr",
     "output_type": "stream",
     "text": [
      "100%|██████████| 200/200 [00:20<00:00,  9.55it/s]\n"
     ]
    },
    {
     "name": "stdout",
     "output_type": "stream",
     "text": [
      "11\n",
      " Mean Objectives : 212153.7103400001\n",
      " Best Objectives : 208073.36200000002\n",
      " diversity         : 0.044215463684024105\n",
      "Time: 209.65127825737\n"
     ]
    },
    {
     "name": "stderr",
     "output_type": "stream",
     "text": [
      "100%|██████████| 200/200 [00:21<00:00,  9.23it/s]\n"
     ]
    },
    {
     "name": "stdout",
     "output_type": "stream",
     "text": [
      "12\n",
      " Mean Objectives : 209590.53237000006\n",
      " Best Objectives : 205796.592\n",
      " diversity         : 0.044231569843321085\n",
      "Time: 231.6218192577362\n"
     ]
    },
    {
     "name": "stderr",
     "output_type": "stream",
     "text": [
      "100%|██████████| 200/200 [00:28<00:00,  7.10it/s]\n"
     ]
    },
    {
     "name": "stdout",
     "output_type": "stream",
     "text": [
      "13\n",
      " Mean Objectives : 207663.03921999998\n",
      " Best Objectives : 205506.602\n",
      " diversity         : 0.04429758542918923\n",
      "Time: 260.06076312065125\n"
     ]
    },
    {
     "name": "stderr",
     "output_type": "stream",
     "text": [
      "100%|██████████| 200/200 [00:28<00:00,  7.07it/s]\n"
     ]
    },
    {
     "name": "stdout",
     "output_type": "stream",
     "text": [
      "14\n",
      " Mean Objectives : 207180.74673000007\n",
      " Best Objectives : 205096.066\n",
      " diversity         : 0.04436492963785442\n",
      "Time: 288.6556873321533\n"
     ]
    },
    {
     "name": "stderr",
     "output_type": "stream",
     "text": [
      "100%|██████████| 200/200 [00:25<00:00,  7.81it/s]\n"
     ]
    },
    {
     "name": "stdout",
     "output_type": "stream",
     "text": [
      "15\n",
      " Mean Objectives : 206542.24215000003\n",
      " Best Objectives : 204806.076\n",
      " diversity         : 0.044311587144067244\n",
      "Time: 314.54817628860474\n"
     ]
    },
    {
     "ename": "TypeError",
     "evalue": "object of type 'numpy.float64' has no len()",
     "output_type": "error",
     "traceback": [
      "\u001b[0;31m---------------------------------------------------------------------------\u001b[0m",
      "\u001b[0;31mTypeError\u001b[0m                                 Traceback (most recent call last)",
      "\u001b[1;32m/Users/yifan_li/Documents/CS/Course/GeneticAlgorithm/code_original.ipynb Cell 40\u001b[0m in \u001b[0;36m<module>\u001b[0;34m\u001b[0m\n\u001b[1;32m     <a href='vscode-notebook-cell:/Users/yifan_li/Documents/CS/Course/GeneticAlgorithm/code_original.ipynb#ch0000035?line=13'>14</a>\u001b[0m algo\u001b[39m.\u001b[39mlsp_size \u001b[39m=\u001b[39m \u001b[39m1\u001b[39m\n\u001b[1;32m     <a href='vscode-notebook-cell:/Users/yifan_li/Documents/CS/Course/GeneticAlgorithm/code_original.ipynb#ch0000035?line=14'>15</a>\u001b[0m algo\u001b[39m.\u001b[39mselectiveIni \u001b[39m=\u001b[39m \u001b[39m10\u001b[39m\n\u001b[0;32m---> <a href='vscode-notebook-cell:/Users/yifan_li/Documents/CS/Course/GeneticAlgorithm/code_original.ipynb#ch0000035?line=16'>17</a>\u001b[0m algo\u001b[39m.\u001b[39;49moptimize(\u001b[39m\"\u001b[39;49m\u001b[39mtour500(1).csv\u001b[39;49m\u001b[39m\"\u001b[39;49m, initializaMethod\u001b[39m=\u001b[39;49m\u001b[39m1\u001b[39;49m)\n",
      "\u001b[1;32m/Users/yifan_li/Documents/CS/Course/GeneticAlgorithm/code_original.ipynb Cell 40\u001b[0m in \u001b[0;36mr0733300.optimize\u001b[0;34m(self, filename, initializaMethod)\u001b[0m\n\u001b[1;32m     <a href='vscode-notebook-cell:/Users/yifan_li/Documents/CS/Course/GeneticAlgorithm/code_original.ipynb#ch0000035?line=83'>84</a>\u001b[0m     \u001b[39mprint\u001b[39m(\u001b[39m\"\u001b[39m\u001b[39m diversity         : \u001b[39m\u001b[39m\"\u001b[39m \u001b[39m+\u001b[39m \u001b[39mstr\u001b[39m(diversity))\n\u001b[1;32m     <a href='vscode-notebook-cell:/Users/yifan_li/Documents/CS/Course/GeneticAlgorithm/code_original.ipynb#ch0000035?line=84'>85</a>\u001b[0m     \u001b[39mprint\u001b[39m(\u001b[39m\"\u001b[39m\u001b[39mTime: \u001b[39m\u001b[39m\"\u001b[39m \u001b[39m+\u001b[39m \u001b[39mstr\u001b[39m(time\u001b[39m.\u001b[39mtime()\u001b[39m-\u001b[39mstart))\n\u001b[0;32m---> <a href='vscode-notebook-cell:/Users/yifan_li/Documents/CS/Course/GeneticAlgorithm/code_original.ipynb#ch0000035?line=88'>89</a>\u001b[0m \u001b[39mself\u001b[39;49m\u001b[39m.\u001b[39;49mplotFitness(meanObjective, bestObjective)\n",
      "\u001b[1;32m/Users/yifan_li/Documents/CS/Course/GeneticAlgorithm/code_original.ipynb Cell 40\u001b[0m in \u001b[0;36mr0733300.plotFitness\u001b[0;34m(self, meanfitnesses, bestfitnesses)\u001b[0m\n\u001b[1;32m      <a href='vscode-notebook-cell:/Users/yifan_li/Documents/CS/Course/GeneticAlgorithm/code_original.ipynb#ch0000035?line=1'>2</a>\u001b[0m \u001b[39mdef\u001b[39;00m \u001b[39mplotFitness\u001b[39m(\u001b[39mself\u001b[39m, meanfitnesses, bestfitnesses):\n\u001b[1;32m      <a href='vscode-notebook-cell:/Users/yifan_li/Documents/CS/Course/GeneticAlgorithm/code_original.ipynb#ch0000035?line=2'>3</a>\u001b[0m     plt\u001b[39m.\u001b[39mfigure()\n\u001b[0;32m----> <a href='vscode-notebook-cell:/Users/yifan_li/Documents/CS/Course/GeneticAlgorithm/code_original.ipynb#ch0000035?line=3'>4</a>\u001b[0m     plt\u001b[39m.\u001b[39mplot(\u001b[39mrange\u001b[39m(\u001b[39mlen\u001b[39;49m(meanfitnesses)), meanfitnesses)\n\u001b[1;32m      <a href='vscode-notebook-cell:/Users/yifan_li/Documents/CS/Course/GeneticAlgorithm/code_original.ipynb#ch0000035?line=4'>5</a>\u001b[0m     plt\u001b[39m.\u001b[39mplot(\u001b[39mrange\u001b[39m(\u001b[39mlen\u001b[39m(meanfitnesses)), bestfitnesses)\n\u001b[1;32m      <a href='vscode-notebook-cell:/Users/yifan_li/Documents/CS/Course/GeneticAlgorithm/code_original.ipynb#ch0000035?line=5'>6</a>\u001b[0m     plt\u001b[39m.\u001b[39mlegend([\u001b[39m'\u001b[39m\u001b[39mMean Fitness\u001b[39m\u001b[39m'\u001b[39m,\u001b[39m'\u001b[39m\u001b[39mBest Fitness\u001b[39m\u001b[39m'\u001b[39m],loc \u001b[39m=\u001b[39m \u001b[39m'\u001b[39m\u001b[39mupper left\u001b[39m\u001b[39m'\u001b[39m)\n",
      "\u001b[0;31mTypeError\u001b[0m: object of type 'numpy.float64' has no len()"
     ]
    },
    {
     "data": {
      "text/plain": [
       "<Figure size 432x288 with 0 Axes>"
      ]
     },
     "metadata": {},
     "output_type": "display_data"
    }
   ],
   "source": [
    "algo = r0733300()\n",
    "\n",
    "algo.LAMBDA = 200  # Lambda represents the size of population\n",
    "algo.MU = 200 # Mu represents the size of offsprings\n",
    "algo.distanceMatrix = []  # distanceMatrix saves the cost between each two places\n",
    "algo.K_TOURNAMENT_SIZE = 20  # this is the size of selection\n",
    "algo.K_TOURNAMENT_SIZE_elimination = 20  # this is the size of selection\n",
    "algo.alpha = 0.05  # alpha is the mutation rate\n",
    "algo.iteration = 0  # iteration number\n",
    "algo.converge = 0.018  # difference between mean and best evalue. If (mean- best)/best < converge, it converges.\n",
    "algo.rank = 50\n",
    "algo.rank_list = []\n",
    "algo.s = 0.99999\n",
    "algo.lsp_size = 1\n",
    "algo.selectiveIni = 10\n",
    "\n",
    "algo.optimize(\"tour500(1).csv\", initializaMethod=1)"
   ]
  },
  {
   "cell_type": "markdown",
   "metadata": {},
   "source": [
    "## Greedy Search"
   ]
  },
  {
   "cell_type": "code",
   "execution_count": 804,
   "metadata": {},
   "outputs": [
    {
     "name": "stdout",
     "output_type": "stream",
     "text": [
      "Minimum Cost is : inf\n",
      "[9, 4, 18, 48, 72, 42, 71, 54, 6, 97, 40, 34, 64, 24, 80, 91, 2, 53, 87, 13, 50, 3, 68, 16, 62, 63, 83, 96, 21, 26, 98, 39, 79, 0, 81, 29, 19, 22, 95, 37, 51, 92, 43, 59, 78, 93, 89, 41, 75, 90, 7, 76, 23, 35, 88, 45, 44, 57, 99, 65, 14, 5, 61, 74, 1, 70, 30, 60, 55, 85, 12, 94, 17, 69, 73, 58, 38, 10, 15, 28, 56, 82, 36, 20, 66, 31, 46, 33, 25, 52, 8, 32, 49, 11, 27, 86, 67, 77, 47, 84]\n",
      "[ 0  1  2  3  4  5  6  7  8  9 10 11 12 13 14 15 16 17 18 19 20 21 22 23\n",
      " 24 25 26 27 28 29 30 31 32 33 34 35 36 37 38 39 40 41 42 43 44 45 46 47\n",
      " 48 49 50 51 52 53 54 55 56 57 58 59 60 61 62 63 64 65 66 67 68 69 70 71\n",
      " 72 73 74 75 76 77 78 79 80 81 82 83 84 85 86 87 88 89 90 91 92 93 94 95\n",
      " 96 97 98 99]\n"
     ]
    }
   ],
   "source": [
    "# Python3 program for the above approach\n",
    "\n",
    "from typing import DefaultDict\n",
    "\n",
    "\n",
    "INT_MAX = float(\"inf\")\t\n",
    "\n",
    "\n",
    "# Function to find the minimum\n",
    "# cost path for all the paths\n",
    "def findMinRoute(tsp,k):\n",
    "\tlength = len(tsp)\n",
    "\t# sum = 0\n",
    "\tcounter = 0\n",
    "\tj = 0\n",
    "\ti = random.randrange(length)\n",
    "\t# i = random.randrange(length)\n",
    "\tmin = INT_MAX\n",
    "\tmin_city = 0\n",
    "\tvisitedRouteList = DefaultDict(int)\n",
    "\n",
    "\t# Starting from the 0th indexed\n",
    "\t# city i.e., the first city\n",
    "\tvisitedRouteList[i] = 1\n",
    "\troute = [0] * len(tsp)\n",
    "\troute[0] = i\n",
    "\tcounter += 1\n",
    "\n",
    "\t# Traverse the adjacency\n",
    "\t# matrix tsp[][]\n",
    "\t# while i < len(tsp) and j < len(tsp[i]):\n",
    "\twhile(counter <= length):\n",
    "\n",
    "\t\t# Corner of the Matrix\n",
    "\t\tif counter >= len(tsp[i])  :\n",
    "\t\t\tbreak\n",
    "\n",
    "\t\t# If this path is unvisited then\n",
    "\t\t# and if the cost is less then\n",
    "\t\t# update the cost\n",
    "\t\tif j != i and (visitedRouteList[j] == 0):\n",
    "\t\t\t# if tsp[i][j] < min and tsp[i][j] != float(\"inf\"):\n",
    "\t\t\tif tsp[i][j] <= min:\t\n",
    "\t\t\t\t# print(min)\n",
    "\t\t\t\tmin = tsp[i][j]\n",
    "\t\t\t\tmin_city = j\n",
    "\t\t\t\t# route[counter] = j\n",
    "\n",
    "\t\tj += 1\n",
    "\n",
    "\t\t# Check all paths from the\n",
    "\t\t# ith indexed city\n",
    "\t\tif j == len(tsp[i]):\n",
    "\t\t\t# sum += min\n",
    "\t\t\tmin = INT_MAX\n",
    "\t\t\tvisitedRouteList[min_city] = 1\n",
    "\t\t\troute[counter] = min_city\n",
    "\t\t\tj = 0\n",
    "\t\t\ti = route[counter]\n",
    "\t\t\tcounter += 1\n",
    "\t\t\tmin_city=0\n",
    "\n",
    "\t# Update the ending city in array\n",
    "\t# from city which was last visited\n",
    "\t# i = route[counter - 1]\n",
    "\n",
    "\t# for j in range(len(tsp)):\n",
    "\n",
    "\t# \tif (i != j) and tsp[i][j] < min:\n",
    "\t# \t\tmin = tsp[i][j]\n",
    "\t# \t\troute[counter] = j\n",
    "\n",
    "\t# sum += tsp[route[0]][route[counter-1]]\n",
    "\tsum =0\n",
    "\tfor i in range(len(route)-1):\n",
    "\t\tsum += tsp[route[i]][route[i+1]]\n",
    "\tsum += tsp[route[len(route)-1]][route[0]]\n",
    "\n",
    "\t# Started from the node where\n",
    "\t# we finished as well.\n",
    "\tprint(\"Minimum Cost is :\", sum)\n",
    "\tprint(route)\n",
    "\tprint(np.sort(route))\n",
    "\n",
    "\n",
    "# Driver Code\n",
    "file = open(\"tour100(1).csv\")\n",
    "tsp = np.loadtxt(file, delimiter=\",\")\n",
    "findMinRoute(tsp,len(tsp))\n"
   ]
  },
  {
   "cell_type": "code",
   "execution_count": null,
   "metadata": {},
   "outputs": [],
   "source": []
  },
  {
   "cell_type": "code",
   "execution_count": null,
   "metadata": {},
   "outputs": [],
   "source": [
    "file = open(\"tour29(1).csv\")\n",
    "tsp = np.loadtxt(file, delimiter=\",\")\n",
    "route = [2, 24, 15, 16, 9, 5, 8, 4, 0, 7, 27, 19, 3, 13, 14, 18, 12, 1, 23, 6, 10, 25, 28, 11, 20, 17, 21, 22, 26]\n",
    "cost = 0\n",
    "\n",
    "for i in range(0,len(route)-1):\n",
    "    cost += tsp[route[i]][route[i+1]]\n",
    "\n",
    "cost +=tsp[route[0]][route[-1]]\n",
    "print(cost)"
   ]
  },
  {
   "cell_type": "code",
   "execution_count": null,
   "metadata": {},
   "outputs": [],
   "source": [
    "file = open(\"tour1000(1).csv\")\n",
    "cost = 0\n",
    "distanceMatrix = np.loadtxt(file, delimiter=\",\")\n",
    "algo = r0733300()\n",
    "random = algo.selectiveInialization(distanceMatrix, 20)\n",
    "for i in range(len(random)-1):\n",
    "    cost += distanceMatrix[random[i]][random[i+1]]\n",
    "cost += distanceMatrix[random[0]][random[-1]]\n",
    "print(cost)"
   ]
  }
 ],
 "metadata": {
  "kernelspec": {
   "display_name": "TravelSalesman",
   "language": "python",
   "name": "tsp"
  },
  "language_info": {
   "codemirror_mode": {
    "name": "ipython",
    "version": 3
   },
   "file_extension": ".py",
   "mimetype": "text/x-python",
   "name": "python",
   "nbconvert_exporter": "python",
   "pygments_lexer": "ipython3",
   "version": "3.8.10"
  },
  "orig_nbformat": 4,
  "vscode": {
   "interpreter": {
    "hash": "31f2aee4e71d21fbe5cf8b01ff0e069b9275f58929596ceb00d14d90e3e16cd6"
   }
  }
 },
 "nbformat": 4,
 "nbformat_minor": 2
}
